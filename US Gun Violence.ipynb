{
 "cells": [
  {
   "cell_type": "markdown",
   "id": "4aeae0ed",
   "metadata": {},
   "source": [
    "### Gun Violence In America\n",
    "Import the gun law by state metrics into python and build radar charts by state"
   ]
  },
  {
   "cell_type": "markdown",
   "id": "58f5ad24",
   "metadata": {},
   "source": [
    "Import packages and data"
   ]
  },
  {
   "cell_type": "code",
   "execution_count": 65,
   "id": "870f854b",
   "metadata": {},
   "outputs": [],
   "source": [
    "import numpy as np\n",
    "import pandas as pd\n",
    "import matplotlib as mpl\n",
    "import matplotlib.pyplot as plt\n",
    "import seaborn as sns\n",
    "import plotly.express as px\n",
    "import plotly.graph_objs as go"
   ]
  },
  {
   "cell_type": "markdown",
   "id": "1e95a51a",
   "metadata": {},
   "source": [
    "Check data"
   ]
  },
  {
   "cell_type": "code",
   "execution_count": 22,
   "id": "2e6b051e",
   "metadata": {},
   "outputs": [
    {
     "data": {
      "text/html": [
       "<div>\n",
       "<style scoped>\n",
       "    .dataframe tbody tr th:only-of-type {\n",
       "        vertical-align: middle;\n",
       "    }\n",
       "\n",
       "    .dataframe tbody tr th {\n",
       "        vertical-align: top;\n",
       "    }\n",
       "\n",
       "    .dataframe thead th {\n",
       "        text-align: right;\n",
       "    }\n",
       "</style>\n",
       "<table border=\"1\" class=\"dataframe\">\n",
       "  <thead>\n",
       "    <tr style=\"text-align: right;\">\n",
       "      <th></th>\n",
       "      <th>Safety Score</th>\n",
       "    </tr>\n",
       "  </thead>\n",
       "  <tbody>\n",
       "    <tr>\n",
       "      <th>count</th>\n",
       "      <td>459.000000</td>\n",
       "    </tr>\n",
       "    <tr>\n",
       "      <th>mean</th>\n",
       "      <td>0.274510</td>\n",
       "    </tr>\n",
       "    <tr>\n",
       "      <th>std</th>\n",
       "      <td>0.444303</td>\n",
       "    </tr>\n",
       "    <tr>\n",
       "      <th>min</th>\n",
       "      <td>0.000000</td>\n",
       "    </tr>\n",
       "    <tr>\n",
       "      <th>25%</th>\n",
       "      <td>0.000000</td>\n",
       "    </tr>\n",
       "    <tr>\n",
       "      <th>50%</th>\n",
       "      <td>0.000000</td>\n",
       "    </tr>\n",
       "    <tr>\n",
       "      <th>75%</th>\n",
       "      <td>1.000000</td>\n",
       "    </tr>\n",
       "    <tr>\n",
       "      <th>max</th>\n",
       "      <td>1.000000</td>\n",
       "    </tr>\n",
       "  </tbody>\n",
       "</table>\n",
       "</div>"
      ],
      "text/plain": [
       "       Safety Score\n",
       "count    459.000000\n",
       "mean       0.274510\n",
       "std        0.444303\n",
       "min        0.000000\n",
       "25%        0.000000\n",
       "50%        0.000000\n",
       "75%        1.000000\n",
       "max        1.000000"
      ]
     },
     "execution_count": 22,
     "metadata": {},
     "output_type": "execute_result"
    }
   ],
   "source": [
    "df = pd.read_csv('State_Laws_Metrics.csv')\n",
    "df.describe()"
   ]
  },
  {
   "cell_type": "code",
   "execution_count": 23,
   "id": "800d6a3f",
   "metadata": {},
   "outputs": [
    {
     "data": {
      "text/html": [
       "<div>\n",
       "<style scoped>\n",
       "    .dataframe tbody tr th:only-of-type {\n",
       "        vertical-align: middle;\n",
       "    }\n",
       "\n",
       "    .dataframe tbody tr th {\n",
       "        vertical-align: top;\n",
       "    }\n",
       "\n",
       "    .dataframe thead th {\n",
       "        text-align: right;\n",
       "    }\n",
       "</style>\n",
       "<table border=\"1\" class=\"dataframe\">\n",
       "  <thead>\n",
       "    <tr style=\"text-align: right;\">\n",
       "      <th></th>\n",
       "      <th>State</th>\n",
       "      <th>Subject/Law</th>\n",
       "      <th>Long Guns</th>\n",
       "      <th>Hand Guns</th>\n",
       "      <th>Safety Score</th>\n",
       "    </tr>\n",
       "  </thead>\n",
       "  <tbody>\n",
       "    <tr>\n",
       "      <th>0</th>\n",
       "      <td>Alabama</td>\n",
       "      <td>Permit required to purchase?</td>\n",
       "      <td>No</td>\n",
       "      <td>No</td>\n",
       "      <td>0.0</td>\n",
       "    </tr>\n",
       "    <tr>\n",
       "      <th>1</th>\n",
       "      <td>Alabama</td>\n",
       "      <td>Firearm registration?</td>\n",
       "      <td>No</td>\n",
       "      <td>No</td>\n",
       "      <td>0.0</td>\n",
       "    </tr>\n",
       "    <tr>\n",
       "      <th>2</th>\n",
       "      <td>Alabama</td>\n",
       "      <td>Assault weapon law?</td>\n",
       "      <td>No</td>\n",
       "      <td>No</td>\n",
       "      <td>0.0</td>\n",
       "    </tr>\n",
       "    <tr>\n",
       "      <th>3</th>\n",
       "      <td>Alabama</td>\n",
       "      <td>Magazine capacity restriction?</td>\n",
       "      <td>No</td>\n",
       "      <td>No</td>\n",
       "      <td>0.0</td>\n",
       "    </tr>\n",
       "    <tr>\n",
       "      <th>4</th>\n",
       "      <td>Alabama</td>\n",
       "      <td>Owner license required?</td>\n",
       "      <td>No</td>\n",
       "      <td>No</td>\n",
       "      <td>0.0</td>\n",
       "    </tr>\n",
       "  </tbody>\n",
       "</table>\n",
       "</div>"
      ],
      "text/plain": [
       "     State                     Subject/Law Long Guns Hand Guns  Safety Score\n",
       "0  Alabama    Permit required to purchase?        No        No           0.0\n",
       "1  Alabama           Firearm registration?        No        No           0.0\n",
       "2  Alabama             Assault weapon law?        No        No           0.0\n",
       "3  Alabama  Magazine capacity restriction?        No        No           0.0\n",
       "4  Alabama         Owner license required?        No        No           0.0"
      ]
     },
     "execution_count": 23,
     "metadata": {},
     "output_type": "execute_result"
    }
   ],
   "source": [
    "df.head()"
   ]
  },
  {
   "cell_type": "markdown",
   "id": "568cf8a5",
   "metadata": {},
   "source": [
    "Pivot the data?"
   ]
  },
  {
   "cell_type": "code",
   "execution_count": 135,
   "id": "36c102ca",
   "metadata": {},
   "outputs": [
    {
     "data": {
      "text/html": [
       "<div>\n",
       "<style scoped>\n",
       "    .dataframe tbody tr th:only-of-type {\n",
       "        vertical-align: middle;\n",
       "    }\n",
       "\n",
       "    .dataframe tbody tr th {\n",
       "        vertical-align: top;\n",
       "    }\n",
       "\n",
       "    .dataframe thead th {\n",
       "        text-align: right;\n",
       "    }\n",
       "</style>\n",
       "<table border=\"1\" class=\"dataframe\">\n",
       "  <thead>\n",
       "    <tr style=\"text-align: right;\">\n",
       "      <th>Subject/Law</th>\n",
       "      <th>Assault weapon law?</th>\n",
       "      <th>Background checks required for private sales?</th>\n",
       "      <th>Firearm registration?</th>\n",
       "      <th>Magazine capacity restriction?</th>\n",
       "      <th>NFA weapons restricted?</th>\n",
       "      <th>Open carry allowed?</th>\n",
       "      <th>Owner license required?</th>\n",
       "      <th>Permit required for concealed carry?</th>\n",
       "      <th>Permit required for open carry?</th>\n",
       "      <th>Permit required to purchase?</th>\n",
       "      <th>Gun safety ranking</th>\n",
       "    </tr>\n",
       "    <tr>\n",
       "      <th>State</th>\n",
       "      <th></th>\n",
       "      <th></th>\n",
       "      <th></th>\n",
       "      <th></th>\n",
       "      <th></th>\n",
       "      <th></th>\n",
       "      <th></th>\n",
       "      <th></th>\n",
       "      <th></th>\n",
       "      <th></th>\n",
       "      <th></th>\n",
       "    </tr>\n",
       "  </thead>\n",
       "  <tbody>\n",
       "    <tr>\n",
       "      <th>Alabama</th>\n",
       "      <td>0.0</td>\n",
       "      <td>0.0</td>\n",
       "      <td>0.0</td>\n",
       "      <td>0.0</td>\n",
       "      <td>0.0</td>\n",
       "      <td>NaN</td>\n",
       "      <td>0.0</td>\n",
       "      <td>0.0</td>\n",
       "      <td>0.0</td>\n",
       "      <td>0.0</td>\n",
       "      <td>0.0</td>\n",
       "    </tr>\n",
       "    <tr>\n",
       "      <th>Alaska</th>\n",
       "      <td>0.0</td>\n",
       "      <td>0.0</td>\n",
       "      <td>0.0</td>\n",
       "      <td>0.0</td>\n",
       "      <td>0.0</td>\n",
       "      <td>NaN</td>\n",
       "      <td>0.0</td>\n",
       "      <td>0.0</td>\n",
       "      <td>0.0</td>\n",
       "      <td>0.0</td>\n",
       "      <td>0.0</td>\n",
       "    </tr>\n",
       "    <tr>\n",
       "      <th>Arizona</th>\n",
       "      <td>0.0</td>\n",
       "      <td>0.0</td>\n",
       "      <td>0.0</td>\n",
       "      <td>0.0</td>\n",
       "      <td>0.0</td>\n",
       "      <td>NaN</td>\n",
       "      <td>0.0</td>\n",
       "      <td>0.0</td>\n",
       "      <td>0.0</td>\n",
       "      <td>0.0</td>\n",
       "      <td>0.0</td>\n",
       "    </tr>\n",
       "    <tr>\n",
       "      <th>Arkansas</th>\n",
       "      <td>0.0</td>\n",
       "      <td>0.0</td>\n",
       "      <td>0.0</td>\n",
       "      <td>0.0</td>\n",
       "      <td>0.0</td>\n",
       "      <td>NaN</td>\n",
       "      <td>0.0</td>\n",
       "      <td>0.0</td>\n",
       "      <td>0.0</td>\n",
       "      <td>0.0</td>\n",
       "      <td>0.0</td>\n",
       "    </tr>\n",
       "    <tr>\n",
       "      <th>California</th>\n",
       "      <td>1.0</td>\n",
       "      <td>1.0</td>\n",
       "      <td>1.0</td>\n",
       "      <td>1.0</td>\n",
       "      <td>1.0</td>\n",
       "      <td>1.0</td>\n",
       "      <td>0.0</td>\n",
       "      <td>1.0</td>\n",
       "      <td>NaN</td>\n",
       "      <td>0.5</td>\n",
       "      <td>7.5</td>\n",
       "    </tr>\n",
       "  </tbody>\n",
       "</table>\n",
       "</div>"
      ],
      "text/plain": [
       "Subject/Law  Assault weapon law?  \\\n",
       "State                              \n",
       "Alabama                      0.0   \n",
       "Alaska                       0.0   \n",
       "Arizona                      0.0   \n",
       "Arkansas                     0.0   \n",
       "California                   1.0   \n",
       "\n",
       "Subject/Law  Background checks required for private sales?  \\\n",
       "State                                                        \n",
       "Alabama                                                0.0   \n",
       "Alaska                                                 0.0   \n",
       "Arizona                                                0.0   \n",
       "Arkansas                                               0.0   \n",
       "California                                             1.0   \n",
       "\n",
       "Subject/Law  Firearm registration?  Magazine capacity restriction?  \\\n",
       "State                                                                \n",
       "Alabama                        0.0                             0.0   \n",
       "Alaska                         0.0                             0.0   \n",
       "Arizona                        0.0                             0.0   \n",
       "Arkansas                       0.0                             0.0   \n",
       "California                     1.0                             1.0   \n",
       "\n",
       "Subject/Law  NFA weapons restricted?  Open carry allowed?  \\\n",
       "State                                                       \n",
       "Alabama                          0.0                  NaN   \n",
       "Alaska                           0.0                  NaN   \n",
       "Arizona                          0.0                  NaN   \n",
       "Arkansas                         0.0                  NaN   \n",
       "California                       1.0                  1.0   \n",
       "\n",
       "Subject/Law  Owner license required?  Permit required for concealed carry?  \\\n",
       "State                                                                        \n",
       "Alabama                          0.0                                   0.0   \n",
       "Alaska                           0.0                                   0.0   \n",
       "Arizona                          0.0                                   0.0   \n",
       "Arkansas                         0.0                                   0.0   \n",
       "California                       0.0                                   1.0   \n",
       "\n",
       "Subject/Law  Permit required for open carry?  Permit required to purchase?  \\\n",
       "State                                                                        \n",
       "Alabama                                  0.0                           0.0   \n",
       "Alaska                                   0.0                           0.0   \n",
       "Arizona                                  0.0                           0.0   \n",
       "Arkansas                                 0.0                           0.0   \n",
       "California                               NaN                           0.5   \n",
       "\n",
       "Subject/Law  Gun safety ranking  \n",
       "State                            \n",
       "Alabama                     0.0  \n",
       "Alaska                      0.0  \n",
       "Arizona                     0.0  \n",
       "Arkansas                    0.0  \n",
       "California                  7.5  "
      ]
     },
     "execution_count": 135,
     "metadata": {},
     "output_type": "execute_result"
    }
   ],
   "source": [
    "df_pivot = df.pivot_table(values='Safety Score', index='State', columns='Subject/Law', aggfunc= 'sum',\n",
    "                     margins = True, margins_name='Gun safety ranking')\n",
    "df_pivot.head()"
   ]
  },
  {
   "cell_type": "code",
   "execution_count": 154,
   "id": "c1b6a63d",
   "metadata": {},
   "outputs": [
    {
     "data": {
      "text/html": [
       "<div>\n",
       "<style scoped>\n",
       "    .dataframe tbody tr th:only-of-type {\n",
       "        vertical-align: middle;\n",
       "    }\n",
       "\n",
       "    .dataframe tbody tr th {\n",
       "        vertical-align: top;\n",
       "    }\n",
       "\n",
       "    .dataframe thead th {\n",
       "        text-align: right;\n",
       "    }\n",
       "</style>\n",
       "<table border=\"1\" class=\"dataframe\">\n",
       "  <thead>\n",
       "    <tr style=\"text-align: right;\">\n",
       "      <th>Subject/Law</th>\n",
       "      <th>A W L?</th>\n",
       "      <th>B C?</th>\n",
       "      <th>F R?</th>\n",
       "      <th>M C R?</th>\n",
       "      <th>NFA?</th>\n",
       "      <th>O C?</th>\n",
       "      <th>O L?</th>\n",
       "      <th>C C P?</th>\n",
       "      <th>O C P?</th>\n",
       "      <th>P P?</th>\n",
       "      <th>Gun safety ranking</th>\n",
       "    </tr>\n",
       "    <tr>\n",
       "      <th>State</th>\n",
       "      <th></th>\n",
       "      <th></th>\n",
       "      <th></th>\n",
       "      <th></th>\n",
       "      <th></th>\n",
       "      <th></th>\n",
       "      <th></th>\n",
       "      <th></th>\n",
       "      <th></th>\n",
       "      <th></th>\n",
       "      <th></th>\n",
       "    </tr>\n",
       "  </thead>\n",
       "  <tbody>\n",
       "    <tr>\n",
       "      <th>Alabama</th>\n",
       "      <td>0.0</td>\n",
       "      <td>0.0</td>\n",
       "      <td>0.0</td>\n",
       "      <td>0.0</td>\n",
       "      <td>0.0</td>\n",
       "      <td>NaN</td>\n",
       "      <td>0.0</td>\n",
       "      <td>0.0</td>\n",
       "      <td>0.0</td>\n",
       "      <td>0.0</td>\n",
       "      <td>0.0</td>\n",
       "    </tr>\n",
       "    <tr>\n",
       "      <th>Alaska</th>\n",
       "      <td>0.0</td>\n",
       "      <td>0.0</td>\n",
       "      <td>0.0</td>\n",
       "      <td>0.0</td>\n",
       "      <td>0.0</td>\n",
       "      <td>NaN</td>\n",
       "      <td>0.0</td>\n",
       "      <td>0.0</td>\n",
       "      <td>0.0</td>\n",
       "      <td>0.0</td>\n",
       "      <td>0.0</td>\n",
       "    </tr>\n",
       "    <tr>\n",
       "      <th>Arizona</th>\n",
       "      <td>0.0</td>\n",
       "      <td>0.0</td>\n",
       "      <td>0.0</td>\n",
       "      <td>0.0</td>\n",
       "      <td>0.0</td>\n",
       "      <td>NaN</td>\n",
       "      <td>0.0</td>\n",
       "      <td>0.0</td>\n",
       "      <td>0.0</td>\n",
       "      <td>0.0</td>\n",
       "      <td>0.0</td>\n",
       "    </tr>\n",
       "    <tr>\n",
       "      <th>Arkansas</th>\n",
       "      <td>0.0</td>\n",
       "      <td>0.0</td>\n",
       "      <td>0.0</td>\n",
       "      <td>0.0</td>\n",
       "      <td>0.0</td>\n",
       "      <td>NaN</td>\n",
       "      <td>0.0</td>\n",
       "      <td>0.0</td>\n",
       "      <td>0.0</td>\n",
       "      <td>0.0</td>\n",
       "      <td>0.0</td>\n",
       "    </tr>\n",
       "    <tr>\n",
       "      <th>California</th>\n",
       "      <td>1.0</td>\n",
       "      <td>1.0</td>\n",
       "      <td>1.0</td>\n",
       "      <td>1.0</td>\n",
       "      <td>1.0</td>\n",
       "      <td>1.0</td>\n",
       "      <td>0.0</td>\n",
       "      <td>1.0</td>\n",
       "      <td>NaN</td>\n",
       "      <td>0.5</td>\n",
       "      <td>7.5</td>\n",
       "    </tr>\n",
       "  </tbody>\n",
       "</table>\n",
       "</div>"
      ],
      "text/plain": [
       "Subject/Law  A W L?  B C?  F R?  M C R?  NFA?  O C?  O L?  C C P?  O C P?  \\\n",
       "State                                                                       \n",
       "Alabama         0.0   0.0   0.0     0.0   0.0   NaN   0.0     0.0     0.0   \n",
       "Alaska          0.0   0.0   0.0     0.0   0.0   NaN   0.0     0.0     0.0   \n",
       "Arizona         0.0   0.0   0.0     0.0   0.0   NaN   0.0     0.0     0.0   \n",
       "Arkansas        0.0   0.0   0.0     0.0   0.0   NaN   0.0     0.0     0.0   \n",
       "California      1.0   1.0   1.0     1.0   1.0   1.0   0.0     1.0     NaN   \n",
       "\n",
       "Subject/Law  P P?  Gun safety ranking  \n",
       "State                                  \n",
       "Alabama       0.0                 0.0  \n",
       "Alaska        0.0                 0.0  \n",
       "Arizona       0.0                 0.0  \n",
       "Arkansas      0.0                 0.0  \n",
       "California    0.5                 7.5  "
      ]
     },
     "execution_count": 154,
     "metadata": {},
     "output_type": "execute_result"
    }
   ],
   "source": [
    "# Rename the existing DataFrame\n",
    "df_pivot.rename(columns={'Assault weapon law?': 'A W L?', \n",
    "                   'Background checks required for private sales?': 'B C?',\n",
    "                  'Firearm registration?': 'F R?',\n",
    "                  'Magazine capacity restriction?': 'M C R?',\n",
    "                  'NFA weapons restricted?': 'NFA?',\n",
    "                  'Open carry allowed?': 'O C?',\n",
    "                  'Owner license required?': 'O L?',\n",
    "                  'Permit required for concealed carry?': 'C C P?',\n",
    "                  'Permit required for open carry?': 'O C P?',\n",
    "                  'Permit required to purchase?': 'P P?',\n",
    "                  }, inplace=True)\n",
    "\n",
    "df_pivot.head()"
   ]
  },
  {
   "cell_type": "code",
   "execution_count": 168,
   "id": "1c0b5814",
   "metadata": {},
   "outputs": [
    {
     "data": {
      "text/html": [
       "<div>\n",
       "<style scoped>\n",
       "    .dataframe tbody tr th:only-of-type {\n",
       "        vertical-align: middle;\n",
       "    }\n",
       "\n",
       "    .dataframe tbody tr th {\n",
       "        vertical-align: top;\n",
       "    }\n",
       "\n",
       "    .dataframe thead th {\n",
       "        text-align: right;\n",
       "    }\n",
       "</style>\n",
       "<table border=\"1\" class=\"dataframe\">\n",
       "  <thead>\n",
       "    <tr style=\"text-align: right;\">\n",
       "      <th></th>\n",
       "      <th>State</th>\n",
       "      <th>Subject/Law</th>\n",
       "      <th>value</th>\n",
       "    </tr>\n",
       "  </thead>\n",
       "  <tbody>\n",
       "    <tr>\n",
       "      <th>0</th>\n",
       "      <td>Alabama</td>\n",
       "      <td>A W L?</td>\n",
       "      <td>0.0</td>\n",
       "    </tr>\n",
       "    <tr>\n",
       "      <th>1</th>\n",
       "      <td>Alaska</td>\n",
       "      <td>A W L?</td>\n",
       "      <td>0.0</td>\n",
       "    </tr>\n",
       "    <tr>\n",
       "      <th>2</th>\n",
       "      <td>Arizona</td>\n",
       "      <td>A W L?</td>\n",
       "      <td>0.0</td>\n",
       "    </tr>\n",
       "    <tr>\n",
       "      <th>3</th>\n",
       "      <td>Arkansas</td>\n",
       "      <td>A W L?</td>\n",
       "      <td>0.0</td>\n",
       "    </tr>\n",
       "    <tr>\n",
       "      <th>4</th>\n",
       "      <td>California</td>\n",
       "      <td>A W L?</td>\n",
       "      <td>1.0</td>\n",
       "    </tr>\n",
       "    <tr>\n",
       "      <th>...</th>\n",
       "      <td>...</td>\n",
       "      <td>...</td>\n",
       "      <td>...</td>\n",
       "    </tr>\n",
       "    <tr>\n",
       "      <th>515</th>\n",
       "      <td>Washington</td>\n",
       "      <td>P P?</td>\n",
       "      <td>0.0</td>\n",
       "    </tr>\n",
       "    <tr>\n",
       "      <th>516</th>\n",
       "      <td>West Virginia</td>\n",
       "      <td>P P?</td>\n",
       "      <td>0.0</td>\n",
       "    </tr>\n",
       "    <tr>\n",
       "      <th>517</th>\n",
       "      <td>Wisconsin</td>\n",
       "      <td>P P?</td>\n",
       "      <td>1.0</td>\n",
       "    </tr>\n",
       "    <tr>\n",
       "      <th>518</th>\n",
       "      <td>Wyoming</td>\n",
       "      <td>P P?</td>\n",
       "      <td>0.0</td>\n",
       "    </tr>\n",
       "    <tr>\n",
       "      <th>519</th>\n",
       "      <td>Gun safety ranking</td>\n",
       "      <td>P P?</td>\n",
       "      <td>14.5</td>\n",
       "    </tr>\n",
       "  </tbody>\n",
       "</table>\n",
       "<p>520 rows × 3 columns</p>\n",
       "</div>"
      ],
      "text/plain": [
       "                  State Subject/Law  value\n",
       "0               Alabama      A W L?    0.0\n",
       "1                Alaska      A W L?    0.0\n",
       "2               Arizona      A W L?    0.0\n",
       "3              Arkansas      A W L?    0.0\n",
       "4            California      A W L?    1.0\n",
       "..                  ...         ...    ...\n",
       "515          Washington        P P?    0.0\n",
       "516       West Virginia        P P?    0.0\n",
       "517           Wisconsin        P P?    1.0\n",
       "518             Wyoming        P P?    0.0\n",
       "519  Gun safety ranking        P P?   14.5\n",
       "\n",
       "[520 rows x 3 columns]"
      ]
     },
     "execution_count": 168,
     "metadata": {},
     "output_type": "execute_result"
    }
   ],
   "source": [
    "df_index = df_pivot.reset_index(level=0)\n",
    "df_unpivot = pd.melt(df_index, id_vars='State', value_vars=['A W L?','B C?','F R?','M C R?','NFA?',\n",
    "                                                            'O C?','O L?','C C P?','O C P?','P P?'])\n",
    "df_unpivot"
   ]
  },
  {
   "cell_type": "code",
   "execution_count": 173,
   "id": "54a7c5a4",
   "metadata": {},
   "outputs": [
    {
     "data": {
      "application/vnd.plotly.v1+json": {
       "config": {
        "plotlyServerURL": "https://plot.ly"
       },
       "data": [
        {
         "fill": "toself",
         "name": "Alabama",
         "r": [
          0,
          0,
          0,
          0,
          0,
          null,
          0,
          0,
          0,
          0
         ],
         "subplot": "polar",
         "theta": [
          "A W L?",
          "B C?",
          "F R?",
          "M C R?",
          "NFA?",
          "O C?",
          "O L?",
          "C C P?",
          "O C P?",
          "P P?"
         ],
         "type": "scatterpolar"
        },
        {
         "fill": "toself",
         "name": "Alaska",
         "r": [
          0,
          0,
          0,
          0,
          0,
          null,
          0,
          0,
          0,
          0
         ],
         "subplot": "polar2",
         "theta": [
          "A W L?",
          "B C?",
          "F R?",
          "M C R?",
          "NFA?",
          "O C?",
          "O L?",
          "C C P?",
          "O C P?",
          "P P?"
         ],
         "type": "scatterpolar"
        },
        {
         "fill": "toself",
         "name": "Arizona",
         "r": [
          0,
          0,
          0,
          0,
          0,
          null,
          0,
          0,
          0,
          0
         ],
         "subplot": "polar3",
         "theta": [
          "A W L?",
          "B C?",
          "F R?",
          "M C R?",
          "NFA?",
          "O C?",
          "O L?",
          "C C P?",
          "O C P?",
          "P P?"
         ],
         "type": "scatterpolar"
        },
        {
         "fill": "toself",
         "name": "Arkansas",
         "r": [
          0,
          0,
          0,
          0,
          0,
          null,
          0,
          0,
          0,
          0
         ],
         "subplot": "polar4",
         "theta": [
          "A W L?",
          "B C?",
          "F R?",
          "M C R?",
          "NFA?",
          "O C?",
          "O L?",
          "C C P?",
          "O C P?",
          "P P?"
         ],
         "type": "scatterpolar"
        },
        {
         "fill": "toself",
         "name": "California",
         "r": [
          1,
          1,
          1,
          1,
          1,
          1,
          0,
          1,
          null,
          0.5
         ],
         "subplot": "polar5",
         "theta": [
          "A W L?",
          "B C?",
          "F R?",
          "M C R?",
          "NFA?",
          "O C?",
          "O L?",
          "C C P?",
          "O C P?",
          "P P?"
         ],
         "type": "scatterpolar"
        },
        {
         "fill": "toself",
         "name": "Colorado",
         "r": [
          0,
          1,
          0,
          1,
          0,
          null,
          0,
          1,
          0,
          0
         ],
         "subplot": "polar6",
         "theta": [
          "A W L?",
          "B C?",
          "F R?",
          "M C R?",
          "NFA?",
          "O C?",
          "O L?",
          "C C P?",
          "O C P?",
          "P P?"
         ],
         "type": "scatterpolar"
        },
        {
         "fill": "toself",
         "name": "Connecticut",
         "r": [
          1,
          1,
          0.5,
          1,
          0,
          null,
          1,
          1,
          1,
          1
         ],
         "subplot": "polar7",
         "theta": [
          "A W L?",
          "B C?",
          "F R?",
          "M C R?",
          "NFA?",
          "O C?",
          "O L?",
          "C C P?",
          "O C P?",
          "P P?"
         ],
         "type": "scatterpolar"
        },
        {
         "fill": "toself",
         "name": "Delaware",
         "r": [
          1,
          1,
          0,
          1,
          1,
          null,
          0,
          1,
          0,
          0
         ],
         "subplot": "polar8",
         "theta": [
          "A W L?",
          "B C?",
          "F R?",
          "M C R?",
          "NFA?",
          "O C?",
          "O L?",
          "C C P?",
          "O C P?",
          "P P?"
         ],
         "type": "scatterpolar"
        }
       ],
       "layout": {
        "annotations": [
         {
          "font": {
           "size": 16
          },
          "showarrow": false,
          "text": "Alabama",
          "x": 0.10625,
          "xanchor": "center",
          "xref": "paper",
          "y": 1,
          "yanchor": "bottom",
          "yref": "paper"
         },
         {
          "font": {
           "size": 16
          },
          "showarrow": false,
          "text": "Alaska",
          "x": 0.36875,
          "xanchor": "center",
          "xref": "paper",
          "y": 1,
          "yanchor": "bottom",
          "yref": "paper"
         },
         {
          "font": {
           "size": 16
          },
          "showarrow": false,
          "text": "Arizona",
          "x": 0.6312500000000001,
          "xanchor": "center",
          "xref": "paper",
          "y": 1,
          "yanchor": "bottom",
          "yref": "paper"
         },
         {
          "font": {
           "size": 16
          },
          "showarrow": false,
          "text": "Arkansas",
          "x": 0.89375,
          "xanchor": "center",
          "xref": "paper",
          "y": 1,
          "yanchor": "bottom",
          "yref": "paper"
         },
         {
          "font": {
           "size": 16
          },
          "showarrow": false,
          "text": "California",
          "x": 0.10625,
          "xanchor": "center",
          "xref": "paper",
          "y": 0.375,
          "yanchor": "bottom",
          "yref": "paper"
         },
         {
          "font": {
           "size": 16
          },
          "showarrow": false,
          "text": "Colorado",
          "x": 0.36875,
          "xanchor": "center",
          "xref": "paper",
          "y": 0.375,
          "yanchor": "bottom",
          "yref": "paper"
         },
         {
          "font": {
           "size": 16
          },
          "showarrow": false,
          "text": "Connecticut",
          "x": 0.6312500000000001,
          "xanchor": "center",
          "xref": "paper",
          "y": 0.375,
          "yanchor": "bottom",
          "yref": "paper"
         },
         {
          "font": {
           "size": 16
          },
          "showarrow": false,
          "text": "Delaware",
          "x": 0.89375,
          "xanchor": "center",
          "xref": "paper",
          "y": 0.375,
          "yanchor": "bottom",
          "yref": "paper"
         }
        ],
        "polar": {
         "domain": {
          "x": [
           0,
           0.2125
          ],
          "y": [
           0.625,
           1
          ]
         }
        },
        "polar2": {
         "domain": {
          "x": [
           0.2625,
           0.475
          ],
          "y": [
           0.625,
           1
          ]
         }
        },
        "polar3": {
         "domain": {
          "x": [
           0.525,
           0.7375
          ],
          "y": [
           0.625,
           1
          ]
         }
        },
        "polar4": {
         "domain": {
          "x": [
           0.7875,
           1
          ],
          "y": [
           0.625,
           1
          ]
         }
        },
        "polar5": {
         "domain": {
          "x": [
           0,
           0.2125
          ],
          "y": [
           0,
           0.375
          ]
         }
        },
        "polar6": {
         "domain": {
          "x": [
           0.2625,
           0.475
          ],
          "y": [
           0,
           0.375
          ]
         }
        },
        "polar7": {
         "domain": {
          "x": [
           0.525,
           0.7375
          ],
          "y": [
           0,
           0.375
          ]
         }
        },
        "polar8": {
         "domain": {
          "x": [
           0.7875,
           1
          ],
          "y": [
           0,
           0.375
          ]
         }
        },
        "template": {
         "data": {
          "bar": [
           {
            "error_x": {
             "color": "#2a3f5f"
            },
            "error_y": {
             "color": "#2a3f5f"
            },
            "marker": {
             "line": {
              "color": "#E5ECF6",
              "width": 0.5
             },
             "pattern": {
              "fillmode": "overlay",
              "size": 10,
              "solidity": 0.2
             }
            },
            "type": "bar"
           }
          ],
          "barpolar": [
           {
            "marker": {
             "line": {
              "color": "#E5ECF6",
              "width": 0.5
             },
             "pattern": {
              "fillmode": "overlay",
              "size": 10,
              "solidity": 0.2
             }
            },
            "type": "barpolar"
           }
          ],
          "carpet": [
           {
            "aaxis": {
             "endlinecolor": "#2a3f5f",
             "gridcolor": "white",
             "linecolor": "white",
             "minorgridcolor": "white",
             "startlinecolor": "#2a3f5f"
            },
            "baxis": {
             "endlinecolor": "#2a3f5f",
             "gridcolor": "white",
             "linecolor": "white",
             "minorgridcolor": "white",
             "startlinecolor": "#2a3f5f"
            },
            "type": "carpet"
           }
          ],
          "choropleth": [
           {
            "colorbar": {
             "outlinewidth": 0,
             "ticks": ""
            },
            "type": "choropleth"
           }
          ],
          "contour": [
           {
            "colorbar": {
             "outlinewidth": 0,
             "ticks": ""
            },
            "colorscale": [
             [
              0,
              "#0d0887"
             ],
             [
              0.1111111111111111,
              "#46039f"
             ],
             [
              0.2222222222222222,
              "#7201a8"
             ],
             [
              0.3333333333333333,
              "#9c179e"
             ],
             [
              0.4444444444444444,
              "#bd3786"
             ],
             [
              0.5555555555555556,
              "#d8576b"
             ],
             [
              0.6666666666666666,
              "#ed7953"
             ],
             [
              0.7777777777777778,
              "#fb9f3a"
             ],
             [
              0.8888888888888888,
              "#fdca26"
             ],
             [
              1,
              "#f0f921"
             ]
            ],
            "type": "contour"
           }
          ],
          "contourcarpet": [
           {
            "colorbar": {
             "outlinewidth": 0,
             "ticks": ""
            },
            "type": "contourcarpet"
           }
          ],
          "heatmap": [
           {
            "colorbar": {
             "outlinewidth": 0,
             "ticks": ""
            },
            "colorscale": [
             [
              0,
              "#0d0887"
             ],
             [
              0.1111111111111111,
              "#46039f"
             ],
             [
              0.2222222222222222,
              "#7201a8"
             ],
             [
              0.3333333333333333,
              "#9c179e"
             ],
             [
              0.4444444444444444,
              "#bd3786"
             ],
             [
              0.5555555555555556,
              "#d8576b"
             ],
             [
              0.6666666666666666,
              "#ed7953"
             ],
             [
              0.7777777777777778,
              "#fb9f3a"
             ],
             [
              0.8888888888888888,
              "#fdca26"
             ],
             [
              1,
              "#f0f921"
             ]
            ],
            "type": "heatmap"
           }
          ],
          "heatmapgl": [
           {
            "colorbar": {
             "outlinewidth": 0,
             "ticks": ""
            },
            "colorscale": [
             [
              0,
              "#0d0887"
             ],
             [
              0.1111111111111111,
              "#46039f"
             ],
             [
              0.2222222222222222,
              "#7201a8"
             ],
             [
              0.3333333333333333,
              "#9c179e"
             ],
             [
              0.4444444444444444,
              "#bd3786"
             ],
             [
              0.5555555555555556,
              "#d8576b"
             ],
             [
              0.6666666666666666,
              "#ed7953"
             ],
             [
              0.7777777777777778,
              "#fb9f3a"
             ],
             [
              0.8888888888888888,
              "#fdca26"
             ],
             [
              1,
              "#f0f921"
             ]
            ],
            "type": "heatmapgl"
           }
          ],
          "histogram": [
           {
            "marker": {
             "pattern": {
              "fillmode": "overlay",
              "size": 10,
              "solidity": 0.2
             }
            },
            "type": "histogram"
           }
          ],
          "histogram2d": [
           {
            "colorbar": {
             "outlinewidth": 0,
             "ticks": ""
            },
            "colorscale": [
             [
              0,
              "#0d0887"
             ],
             [
              0.1111111111111111,
              "#46039f"
             ],
             [
              0.2222222222222222,
              "#7201a8"
             ],
             [
              0.3333333333333333,
              "#9c179e"
             ],
             [
              0.4444444444444444,
              "#bd3786"
             ],
             [
              0.5555555555555556,
              "#d8576b"
             ],
             [
              0.6666666666666666,
              "#ed7953"
             ],
             [
              0.7777777777777778,
              "#fb9f3a"
             ],
             [
              0.8888888888888888,
              "#fdca26"
             ],
             [
              1,
              "#f0f921"
             ]
            ],
            "type": "histogram2d"
           }
          ],
          "histogram2dcontour": [
           {
            "colorbar": {
             "outlinewidth": 0,
             "ticks": ""
            },
            "colorscale": [
             [
              0,
              "#0d0887"
             ],
             [
              0.1111111111111111,
              "#46039f"
             ],
             [
              0.2222222222222222,
              "#7201a8"
             ],
             [
              0.3333333333333333,
              "#9c179e"
             ],
             [
              0.4444444444444444,
              "#bd3786"
             ],
             [
              0.5555555555555556,
              "#d8576b"
             ],
             [
              0.6666666666666666,
              "#ed7953"
             ],
             [
              0.7777777777777778,
              "#fb9f3a"
             ],
             [
              0.8888888888888888,
              "#fdca26"
             ],
             [
              1,
              "#f0f921"
             ]
            ],
            "type": "histogram2dcontour"
           }
          ],
          "mesh3d": [
           {
            "colorbar": {
             "outlinewidth": 0,
             "ticks": ""
            },
            "type": "mesh3d"
           }
          ],
          "parcoords": [
           {
            "line": {
             "colorbar": {
              "outlinewidth": 0,
              "ticks": ""
             }
            },
            "type": "parcoords"
           }
          ],
          "pie": [
           {
            "automargin": true,
            "type": "pie"
           }
          ],
          "scatter": [
           {
            "fillpattern": {
             "fillmode": "overlay",
             "size": 10,
             "solidity": 0.2
            },
            "type": "scatter"
           }
          ],
          "scatter3d": [
           {
            "line": {
             "colorbar": {
              "outlinewidth": 0,
              "ticks": ""
             }
            },
            "marker": {
             "colorbar": {
              "outlinewidth": 0,
              "ticks": ""
             }
            },
            "type": "scatter3d"
           }
          ],
          "scattercarpet": [
           {
            "marker": {
             "colorbar": {
              "outlinewidth": 0,
              "ticks": ""
             }
            },
            "type": "scattercarpet"
           }
          ],
          "scattergeo": [
           {
            "marker": {
             "colorbar": {
              "outlinewidth": 0,
              "ticks": ""
             }
            },
            "type": "scattergeo"
           }
          ],
          "scattergl": [
           {
            "marker": {
             "colorbar": {
              "outlinewidth": 0,
              "ticks": ""
             }
            },
            "type": "scattergl"
           }
          ],
          "scattermapbox": [
           {
            "marker": {
             "colorbar": {
              "outlinewidth": 0,
              "ticks": ""
             }
            },
            "type": "scattermapbox"
           }
          ],
          "scatterpolar": [
           {
            "marker": {
             "colorbar": {
              "outlinewidth": 0,
              "ticks": ""
             }
            },
            "type": "scatterpolar"
           }
          ],
          "scatterpolargl": [
           {
            "marker": {
             "colorbar": {
              "outlinewidth": 0,
              "ticks": ""
             }
            },
            "type": "scatterpolargl"
           }
          ],
          "scatterternary": [
           {
            "marker": {
             "colorbar": {
              "outlinewidth": 0,
              "ticks": ""
             }
            },
            "type": "scatterternary"
           }
          ],
          "surface": [
           {
            "colorbar": {
             "outlinewidth": 0,
             "ticks": ""
            },
            "colorscale": [
             [
              0,
              "#0d0887"
             ],
             [
              0.1111111111111111,
              "#46039f"
             ],
             [
              0.2222222222222222,
              "#7201a8"
             ],
             [
              0.3333333333333333,
              "#9c179e"
             ],
             [
              0.4444444444444444,
              "#bd3786"
             ],
             [
              0.5555555555555556,
              "#d8576b"
             ],
             [
              0.6666666666666666,
              "#ed7953"
             ],
             [
              0.7777777777777778,
              "#fb9f3a"
             ],
             [
              0.8888888888888888,
              "#fdca26"
             ],
             [
              1,
              "#f0f921"
             ]
            ],
            "type": "surface"
           }
          ],
          "table": [
           {
            "cells": {
             "fill": {
              "color": "#EBF0F8"
             },
             "line": {
              "color": "white"
             }
            },
            "header": {
             "fill": {
              "color": "#C8D4E3"
             },
             "line": {
              "color": "white"
             }
            },
            "type": "table"
           }
          ]
         },
         "layout": {
          "annotationdefaults": {
           "arrowcolor": "#2a3f5f",
           "arrowhead": 0,
           "arrowwidth": 1
          },
          "autotypenumbers": "strict",
          "coloraxis": {
           "colorbar": {
            "outlinewidth": 0,
            "ticks": ""
           }
          },
          "colorscale": {
           "diverging": [
            [
             0,
             "#8e0152"
            ],
            [
             0.1,
             "#c51b7d"
            ],
            [
             0.2,
             "#de77ae"
            ],
            [
             0.3,
             "#f1b6da"
            ],
            [
             0.4,
             "#fde0ef"
            ],
            [
             0.5,
             "#f7f7f7"
            ],
            [
             0.6,
             "#e6f5d0"
            ],
            [
             0.7,
             "#b8e186"
            ],
            [
             0.8,
             "#7fbc41"
            ],
            [
             0.9,
             "#4d9221"
            ],
            [
             1,
             "#276419"
            ]
           ],
           "sequential": [
            [
             0,
             "#0d0887"
            ],
            [
             0.1111111111111111,
             "#46039f"
            ],
            [
             0.2222222222222222,
             "#7201a8"
            ],
            [
             0.3333333333333333,
             "#9c179e"
            ],
            [
             0.4444444444444444,
             "#bd3786"
            ],
            [
             0.5555555555555556,
             "#d8576b"
            ],
            [
             0.6666666666666666,
             "#ed7953"
            ],
            [
             0.7777777777777778,
             "#fb9f3a"
            ],
            [
             0.8888888888888888,
             "#fdca26"
            ],
            [
             1,
             "#f0f921"
            ]
           ],
           "sequentialminus": [
            [
             0,
             "#0d0887"
            ],
            [
             0.1111111111111111,
             "#46039f"
            ],
            [
             0.2222222222222222,
             "#7201a8"
            ],
            [
             0.3333333333333333,
             "#9c179e"
            ],
            [
             0.4444444444444444,
             "#bd3786"
            ],
            [
             0.5555555555555556,
             "#d8576b"
            ],
            [
             0.6666666666666666,
             "#ed7953"
            ],
            [
             0.7777777777777778,
             "#fb9f3a"
            ],
            [
             0.8888888888888888,
             "#fdca26"
            ],
            [
             1,
             "#f0f921"
            ]
           ]
          },
          "colorway": [
           "#636efa",
           "#EF553B",
           "#00cc96",
           "#ab63fa",
           "#FFA15A",
           "#19d3f3",
           "#FF6692",
           "#B6E880",
           "#FF97FF",
           "#FECB52"
          ],
          "font": {
           "color": "#2a3f5f"
          },
          "geo": {
           "bgcolor": "white",
           "lakecolor": "white",
           "landcolor": "#E5ECF6",
           "showlakes": true,
           "showland": true,
           "subunitcolor": "white"
          },
          "hoverlabel": {
           "align": "left"
          },
          "hovermode": "closest",
          "mapbox": {
           "style": "light"
          },
          "paper_bgcolor": "white",
          "plot_bgcolor": "#E5ECF6",
          "polar": {
           "angularaxis": {
            "gridcolor": "white",
            "linecolor": "white",
            "ticks": ""
           },
           "bgcolor": "#E5ECF6",
           "radialaxis": {
            "gridcolor": "white",
            "linecolor": "white",
            "ticks": ""
           }
          },
          "scene": {
           "xaxis": {
            "backgroundcolor": "#E5ECF6",
            "gridcolor": "white",
            "gridwidth": 2,
            "linecolor": "white",
            "showbackground": true,
            "ticks": "",
            "zerolinecolor": "white"
           },
           "yaxis": {
            "backgroundcolor": "#E5ECF6",
            "gridcolor": "white",
            "gridwidth": 2,
            "linecolor": "white",
            "showbackground": true,
            "ticks": "",
            "zerolinecolor": "white"
           },
           "zaxis": {
            "backgroundcolor": "#E5ECF6",
            "gridcolor": "white",
            "gridwidth": 2,
            "linecolor": "white",
            "showbackground": true,
            "ticks": "",
            "zerolinecolor": "white"
           }
          },
          "shapedefaults": {
           "line": {
            "color": "#2a3f5f"
           }
          },
          "ternary": {
           "aaxis": {
            "gridcolor": "white",
            "linecolor": "white",
            "ticks": ""
           },
           "baxis": {
            "gridcolor": "white",
            "linecolor": "white",
            "ticks": ""
           },
           "bgcolor": "#E5ECF6",
           "caxis": {
            "gridcolor": "white",
            "linecolor": "white",
            "ticks": ""
           }
          },
          "title": {
           "x": 0.05
          },
          "xaxis": {
           "automargin": true,
           "gridcolor": "white",
           "linecolor": "white",
           "ticks": "",
           "title": {
            "standoff": 15
           },
           "zerolinecolor": "white",
           "zerolinewidth": 2
          },
          "yaxis": {
           "automargin": true,
           "gridcolor": "white",
           "linecolor": "white",
           "ticks": "",
           "title": {
            "standoff": 15
           },
           "zerolinecolor": "white",
           "zerolinewidth": 2
          }
         }
        },
        "title": {
         "text": "Gun Laws By State"
        }
       }
      },
      "text/html": [
       "<div>                            <div id=\"9dabd221-01db-4904-b641-aff8bc709697\" class=\"plotly-graph-div\" style=\"height:525px; width:100%;\"></div>            <script type=\"text/javascript\">                require([\"plotly\"], function(Plotly) {                    window.PLOTLYENV=window.PLOTLYENV || {};                                    if (document.getElementById(\"9dabd221-01db-4904-b641-aff8bc709697\")) {                    Plotly.newPlot(                        \"9dabd221-01db-4904-b641-aff8bc709697\",                        [{\"name\":\"Alabama\",\"r\":[0.0,0.0,0.0,0.0,0.0,null,0.0,0.0,0.0,0.0],\"theta\":[\"A W L?\",\"B C?\",\"F R?\",\"M C R?\",\"NFA?\",\"O C?\",\"O L?\",\"C C P?\",\"O C P?\",\"P P?\"],\"type\":\"scatterpolar\",\"subplot\":\"polar\",\"fill\":\"toself\"},{\"name\":\"Alaska\",\"r\":[0.0,0.0,0.0,0.0,0.0,null,0.0,0.0,0.0,0.0],\"theta\":[\"A W L?\",\"B C?\",\"F R?\",\"M C R?\",\"NFA?\",\"O C?\",\"O L?\",\"C C P?\",\"O C P?\",\"P P?\"],\"type\":\"scatterpolar\",\"subplot\":\"polar2\",\"fill\":\"toself\"},{\"name\":\"Arizona\",\"r\":[0.0,0.0,0.0,0.0,0.0,null,0.0,0.0,0.0,0.0],\"theta\":[\"A W L?\",\"B C?\",\"F R?\",\"M C R?\",\"NFA?\",\"O C?\",\"O L?\",\"C C P?\",\"O C P?\",\"P P?\"],\"type\":\"scatterpolar\",\"subplot\":\"polar3\",\"fill\":\"toself\"},{\"name\":\"Arkansas\",\"r\":[0.0,0.0,0.0,0.0,0.0,null,0.0,0.0,0.0,0.0],\"theta\":[\"A W L?\",\"B C?\",\"F R?\",\"M C R?\",\"NFA?\",\"O C?\",\"O L?\",\"C C P?\",\"O C P?\",\"P P?\"],\"type\":\"scatterpolar\",\"subplot\":\"polar4\",\"fill\":\"toself\"},{\"name\":\"California\",\"r\":[1.0,1.0,1.0,1.0,1.0,1.0,0.0,1.0,null,0.5],\"theta\":[\"A W L?\",\"B C?\",\"F R?\",\"M C R?\",\"NFA?\",\"O C?\",\"O L?\",\"C C P?\",\"O C P?\",\"P P?\"],\"type\":\"scatterpolar\",\"subplot\":\"polar5\",\"fill\":\"toself\"},{\"name\":\"Colorado\",\"r\":[0.0,1.0,0.0,1.0,0.0,null,0.0,1.0,0.0,0.0],\"theta\":[\"A W L?\",\"B C?\",\"F R?\",\"M C R?\",\"NFA?\",\"O C?\",\"O L?\",\"C C P?\",\"O C P?\",\"P P?\"],\"type\":\"scatterpolar\",\"subplot\":\"polar6\",\"fill\":\"toself\"},{\"name\":\"Connecticut\",\"r\":[1.0,1.0,0.5,1.0,0.0,null,1.0,1.0,1.0,1.0],\"theta\":[\"A W L?\",\"B C?\",\"F R?\",\"M C R?\",\"NFA?\",\"O C?\",\"O L?\",\"C C P?\",\"O C P?\",\"P P?\"],\"type\":\"scatterpolar\",\"subplot\":\"polar7\",\"fill\":\"toself\"},{\"name\":\"Delaware\",\"r\":[1.0,1.0,0.0,1.0,1.0,null,0.0,1.0,0.0,0.0],\"theta\":[\"A W L?\",\"B C?\",\"F R?\",\"M C R?\",\"NFA?\",\"O C?\",\"O L?\",\"C C P?\",\"O C P?\",\"P P?\"],\"type\":\"scatterpolar\",\"subplot\":\"polar8\",\"fill\":\"toself\"}],                        {\"template\":{\"data\":{\"histogram2dcontour\":[{\"type\":\"histogram2dcontour\",\"colorbar\":{\"outlinewidth\":0,\"ticks\":\"\"},\"colorscale\":[[0.0,\"#0d0887\"],[0.1111111111111111,\"#46039f\"],[0.2222222222222222,\"#7201a8\"],[0.3333333333333333,\"#9c179e\"],[0.4444444444444444,\"#bd3786\"],[0.5555555555555556,\"#d8576b\"],[0.6666666666666666,\"#ed7953\"],[0.7777777777777778,\"#fb9f3a\"],[0.8888888888888888,\"#fdca26\"],[1.0,\"#f0f921\"]]}],\"choropleth\":[{\"type\":\"choropleth\",\"colorbar\":{\"outlinewidth\":0,\"ticks\":\"\"}}],\"histogram2d\":[{\"type\":\"histogram2d\",\"colorbar\":{\"outlinewidth\":0,\"ticks\":\"\"},\"colorscale\":[[0.0,\"#0d0887\"],[0.1111111111111111,\"#46039f\"],[0.2222222222222222,\"#7201a8\"],[0.3333333333333333,\"#9c179e\"],[0.4444444444444444,\"#bd3786\"],[0.5555555555555556,\"#d8576b\"],[0.6666666666666666,\"#ed7953\"],[0.7777777777777778,\"#fb9f3a\"],[0.8888888888888888,\"#fdca26\"],[1.0,\"#f0f921\"]]}],\"heatmap\":[{\"type\":\"heatmap\",\"colorbar\":{\"outlinewidth\":0,\"ticks\":\"\"},\"colorscale\":[[0.0,\"#0d0887\"],[0.1111111111111111,\"#46039f\"],[0.2222222222222222,\"#7201a8\"],[0.3333333333333333,\"#9c179e\"],[0.4444444444444444,\"#bd3786\"],[0.5555555555555556,\"#d8576b\"],[0.6666666666666666,\"#ed7953\"],[0.7777777777777778,\"#fb9f3a\"],[0.8888888888888888,\"#fdca26\"],[1.0,\"#f0f921\"]]}],\"heatmapgl\":[{\"type\":\"heatmapgl\",\"colorbar\":{\"outlinewidth\":0,\"ticks\":\"\"},\"colorscale\":[[0.0,\"#0d0887\"],[0.1111111111111111,\"#46039f\"],[0.2222222222222222,\"#7201a8\"],[0.3333333333333333,\"#9c179e\"],[0.4444444444444444,\"#bd3786\"],[0.5555555555555556,\"#d8576b\"],[0.6666666666666666,\"#ed7953\"],[0.7777777777777778,\"#fb9f3a\"],[0.8888888888888888,\"#fdca26\"],[1.0,\"#f0f921\"]]}],\"contourcarpet\":[{\"type\":\"contourcarpet\",\"colorbar\":{\"outlinewidth\":0,\"ticks\":\"\"}}],\"contour\":[{\"type\":\"contour\",\"colorbar\":{\"outlinewidth\":0,\"ticks\":\"\"},\"colorscale\":[[0.0,\"#0d0887\"],[0.1111111111111111,\"#46039f\"],[0.2222222222222222,\"#7201a8\"],[0.3333333333333333,\"#9c179e\"],[0.4444444444444444,\"#bd3786\"],[0.5555555555555556,\"#d8576b\"],[0.6666666666666666,\"#ed7953\"],[0.7777777777777778,\"#fb9f3a\"],[0.8888888888888888,\"#fdca26\"],[1.0,\"#f0f921\"]]}],\"surface\":[{\"type\":\"surface\",\"colorbar\":{\"outlinewidth\":0,\"ticks\":\"\"},\"colorscale\":[[0.0,\"#0d0887\"],[0.1111111111111111,\"#46039f\"],[0.2222222222222222,\"#7201a8\"],[0.3333333333333333,\"#9c179e\"],[0.4444444444444444,\"#bd3786\"],[0.5555555555555556,\"#d8576b\"],[0.6666666666666666,\"#ed7953\"],[0.7777777777777778,\"#fb9f3a\"],[0.8888888888888888,\"#fdca26\"],[1.0,\"#f0f921\"]]}],\"mesh3d\":[{\"type\":\"mesh3d\",\"colorbar\":{\"outlinewidth\":0,\"ticks\":\"\"}}],\"scatter\":[{\"fillpattern\":{\"fillmode\":\"overlay\",\"size\":10,\"solidity\":0.2},\"type\":\"scatter\"}],\"parcoords\":[{\"type\":\"parcoords\",\"line\":{\"colorbar\":{\"outlinewidth\":0,\"ticks\":\"\"}}}],\"scatterpolargl\":[{\"type\":\"scatterpolargl\",\"marker\":{\"colorbar\":{\"outlinewidth\":0,\"ticks\":\"\"}}}],\"bar\":[{\"error_x\":{\"color\":\"#2a3f5f\"},\"error_y\":{\"color\":\"#2a3f5f\"},\"marker\":{\"line\":{\"color\":\"#E5ECF6\",\"width\":0.5},\"pattern\":{\"fillmode\":\"overlay\",\"size\":10,\"solidity\":0.2}},\"type\":\"bar\"}],\"scattergeo\":[{\"type\":\"scattergeo\",\"marker\":{\"colorbar\":{\"outlinewidth\":0,\"ticks\":\"\"}}}],\"scatterpolar\":[{\"type\":\"scatterpolar\",\"marker\":{\"colorbar\":{\"outlinewidth\":0,\"ticks\":\"\"}}}],\"histogram\":[{\"marker\":{\"pattern\":{\"fillmode\":\"overlay\",\"size\":10,\"solidity\":0.2}},\"type\":\"histogram\"}],\"scattergl\":[{\"type\":\"scattergl\",\"marker\":{\"colorbar\":{\"outlinewidth\":0,\"ticks\":\"\"}}}],\"scatter3d\":[{\"type\":\"scatter3d\",\"line\":{\"colorbar\":{\"outlinewidth\":0,\"ticks\":\"\"}},\"marker\":{\"colorbar\":{\"outlinewidth\":0,\"ticks\":\"\"}}}],\"scattermapbox\":[{\"type\":\"scattermapbox\",\"marker\":{\"colorbar\":{\"outlinewidth\":0,\"ticks\":\"\"}}}],\"scatterternary\":[{\"type\":\"scatterternary\",\"marker\":{\"colorbar\":{\"outlinewidth\":0,\"ticks\":\"\"}}}],\"scattercarpet\":[{\"type\":\"scattercarpet\",\"marker\":{\"colorbar\":{\"outlinewidth\":0,\"ticks\":\"\"}}}],\"carpet\":[{\"aaxis\":{\"endlinecolor\":\"#2a3f5f\",\"gridcolor\":\"white\",\"linecolor\":\"white\",\"minorgridcolor\":\"white\",\"startlinecolor\":\"#2a3f5f\"},\"baxis\":{\"endlinecolor\":\"#2a3f5f\",\"gridcolor\":\"white\",\"linecolor\":\"white\",\"minorgridcolor\":\"white\",\"startlinecolor\":\"#2a3f5f\"},\"type\":\"carpet\"}],\"table\":[{\"cells\":{\"fill\":{\"color\":\"#EBF0F8\"},\"line\":{\"color\":\"white\"}},\"header\":{\"fill\":{\"color\":\"#C8D4E3\"},\"line\":{\"color\":\"white\"}},\"type\":\"table\"}],\"barpolar\":[{\"marker\":{\"line\":{\"color\":\"#E5ECF6\",\"width\":0.5},\"pattern\":{\"fillmode\":\"overlay\",\"size\":10,\"solidity\":0.2}},\"type\":\"barpolar\"}],\"pie\":[{\"automargin\":true,\"type\":\"pie\"}]},\"layout\":{\"autotypenumbers\":\"strict\",\"colorway\":[\"#636efa\",\"#EF553B\",\"#00cc96\",\"#ab63fa\",\"#FFA15A\",\"#19d3f3\",\"#FF6692\",\"#B6E880\",\"#FF97FF\",\"#FECB52\"],\"font\":{\"color\":\"#2a3f5f\"},\"hovermode\":\"closest\",\"hoverlabel\":{\"align\":\"left\"},\"paper_bgcolor\":\"white\",\"plot_bgcolor\":\"#E5ECF6\",\"polar\":{\"bgcolor\":\"#E5ECF6\",\"angularaxis\":{\"gridcolor\":\"white\",\"linecolor\":\"white\",\"ticks\":\"\"},\"radialaxis\":{\"gridcolor\":\"white\",\"linecolor\":\"white\",\"ticks\":\"\"}},\"ternary\":{\"bgcolor\":\"#E5ECF6\",\"aaxis\":{\"gridcolor\":\"white\",\"linecolor\":\"white\",\"ticks\":\"\"},\"baxis\":{\"gridcolor\":\"white\",\"linecolor\":\"white\",\"ticks\":\"\"},\"caxis\":{\"gridcolor\":\"white\",\"linecolor\":\"white\",\"ticks\":\"\"}},\"coloraxis\":{\"colorbar\":{\"outlinewidth\":0,\"ticks\":\"\"}},\"colorscale\":{\"sequential\":[[0.0,\"#0d0887\"],[0.1111111111111111,\"#46039f\"],[0.2222222222222222,\"#7201a8\"],[0.3333333333333333,\"#9c179e\"],[0.4444444444444444,\"#bd3786\"],[0.5555555555555556,\"#d8576b\"],[0.6666666666666666,\"#ed7953\"],[0.7777777777777778,\"#fb9f3a\"],[0.8888888888888888,\"#fdca26\"],[1.0,\"#f0f921\"]],\"sequentialminus\":[[0.0,\"#0d0887\"],[0.1111111111111111,\"#46039f\"],[0.2222222222222222,\"#7201a8\"],[0.3333333333333333,\"#9c179e\"],[0.4444444444444444,\"#bd3786\"],[0.5555555555555556,\"#d8576b\"],[0.6666666666666666,\"#ed7953\"],[0.7777777777777778,\"#fb9f3a\"],[0.8888888888888888,\"#fdca26\"],[1.0,\"#f0f921\"]],\"diverging\":[[0,\"#8e0152\"],[0.1,\"#c51b7d\"],[0.2,\"#de77ae\"],[0.3,\"#f1b6da\"],[0.4,\"#fde0ef\"],[0.5,\"#f7f7f7\"],[0.6,\"#e6f5d0\"],[0.7,\"#b8e186\"],[0.8,\"#7fbc41\"],[0.9,\"#4d9221\"],[1,\"#276419\"]]},\"xaxis\":{\"gridcolor\":\"white\",\"linecolor\":\"white\",\"ticks\":\"\",\"title\":{\"standoff\":15},\"zerolinecolor\":\"white\",\"automargin\":true,\"zerolinewidth\":2},\"yaxis\":{\"gridcolor\":\"white\",\"linecolor\":\"white\",\"ticks\":\"\",\"title\":{\"standoff\":15},\"zerolinecolor\":\"white\",\"automargin\":true,\"zerolinewidth\":2},\"scene\":{\"xaxis\":{\"backgroundcolor\":\"#E5ECF6\",\"gridcolor\":\"white\",\"linecolor\":\"white\",\"showbackground\":true,\"ticks\":\"\",\"zerolinecolor\":\"white\",\"gridwidth\":2},\"yaxis\":{\"backgroundcolor\":\"#E5ECF6\",\"gridcolor\":\"white\",\"linecolor\":\"white\",\"showbackground\":true,\"ticks\":\"\",\"zerolinecolor\":\"white\",\"gridwidth\":2},\"zaxis\":{\"backgroundcolor\":\"#E5ECF6\",\"gridcolor\":\"white\",\"linecolor\":\"white\",\"showbackground\":true,\"ticks\":\"\",\"zerolinecolor\":\"white\",\"gridwidth\":2}},\"shapedefaults\":{\"line\":{\"color\":\"#2a3f5f\"}},\"annotationdefaults\":{\"arrowcolor\":\"#2a3f5f\",\"arrowhead\":0,\"arrowwidth\":1},\"geo\":{\"bgcolor\":\"white\",\"landcolor\":\"#E5ECF6\",\"subunitcolor\":\"white\",\"showland\":true,\"showlakes\":true,\"lakecolor\":\"white\"},\"title\":{\"x\":0.05},\"mapbox\":{\"style\":\"light\"}}},\"polar\":{\"domain\":{\"x\":[0.0,0.2125],\"y\":[0.625,1.0]}},\"polar2\":{\"domain\":{\"x\":[0.2625,0.475],\"y\":[0.625,1.0]}},\"polar3\":{\"domain\":{\"x\":[0.525,0.7375],\"y\":[0.625,1.0]}},\"polar4\":{\"domain\":{\"x\":[0.7875,1.0],\"y\":[0.625,1.0]}},\"polar5\":{\"domain\":{\"x\":[0.0,0.2125],\"y\":[0.0,0.375]}},\"polar6\":{\"domain\":{\"x\":[0.2625,0.475],\"y\":[0.0,0.375]}},\"polar7\":{\"domain\":{\"x\":[0.525,0.7375],\"y\":[0.0,0.375]}},\"polar8\":{\"domain\":{\"x\":[0.7875,1.0],\"y\":[0.0,0.375]}},\"annotations\":[{\"font\":{\"size\":16},\"showarrow\":false,\"text\":\"Alabama\",\"x\":0.10625,\"xanchor\":\"center\",\"xref\":\"paper\",\"y\":1.0,\"yanchor\":\"bottom\",\"yref\":\"paper\"},{\"font\":{\"size\":16},\"showarrow\":false,\"text\":\"Alaska\",\"x\":0.36875,\"xanchor\":\"center\",\"xref\":\"paper\",\"y\":1.0,\"yanchor\":\"bottom\",\"yref\":\"paper\"},{\"font\":{\"size\":16},\"showarrow\":false,\"text\":\"Arizona\",\"x\":0.6312500000000001,\"xanchor\":\"center\",\"xref\":\"paper\",\"y\":1.0,\"yanchor\":\"bottom\",\"yref\":\"paper\"},{\"font\":{\"size\":16},\"showarrow\":false,\"text\":\"Arkansas\",\"x\":0.89375,\"xanchor\":\"center\",\"xref\":\"paper\",\"y\":1.0,\"yanchor\":\"bottom\",\"yref\":\"paper\"},{\"font\":{\"size\":16},\"showarrow\":false,\"text\":\"California\",\"x\":0.10625,\"xanchor\":\"center\",\"xref\":\"paper\",\"y\":0.375,\"yanchor\":\"bottom\",\"yref\":\"paper\"},{\"font\":{\"size\":16},\"showarrow\":false,\"text\":\"Colorado\",\"x\":0.36875,\"xanchor\":\"center\",\"xref\":\"paper\",\"y\":0.375,\"yanchor\":\"bottom\",\"yref\":\"paper\"},{\"font\":{\"size\":16},\"showarrow\":false,\"text\":\"Connecticut\",\"x\":0.6312500000000001,\"xanchor\":\"center\",\"xref\":\"paper\",\"y\":0.375,\"yanchor\":\"bottom\",\"yref\":\"paper\"},{\"font\":{\"size\":16},\"showarrow\":false,\"text\":\"Delaware\",\"x\":0.89375,\"xanchor\":\"center\",\"xref\":\"paper\",\"y\":0.375,\"yanchor\":\"bottom\",\"yref\":\"paper\"}],\"title\":{\"text\":\"Gun Laws By State\"}},                        {\"responsive\": true}                    ).then(function(){\n",
       "                            \n",
       "var gd = document.getElementById('9dabd221-01db-4904-b641-aff8bc709697');\n",
       "var x = new MutationObserver(function (mutations, observer) {{\n",
       "        var display = window.getComputedStyle(gd).display;\n",
       "        if (!display || display === 'none') {{\n",
       "            console.log([gd, 'removed!']);\n",
       "            Plotly.purge(gd);\n",
       "            observer.disconnect();\n",
       "        }}\n",
       "}});\n",
       "\n",
       "// Listen for the removal of the full notebook cells\n",
       "var notebookContainer = gd.closest('#notebook-container');\n",
       "if (notebookContainer) {{\n",
       "    x.observe(notebookContainer, {childList: true});\n",
       "}}\n",
       "\n",
       "// Listen for the clearing of the current output cell\n",
       "var outputEl = gd.closest('.output');\n",
       "if (outputEl) {{\n",
       "    x.observe(outputEl, {childList: true});\n",
       "}}\n",
       "\n",
       "                        })                };                });            </script>        </div>"
      ]
     },
     "metadata": {},
     "output_type": "display_data"
    }
   ],
   "source": [
    "import plotly.graph_objects as go\n",
    "from plotly.subplots import make_subplots\n",
    "\n",
    "df_AL = df_unpivot.loc[df_unpivot['State'] == 'Alabama']\n",
    "df_AK = df_unpivot.loc[df_unpivot['State'] == 'Alaska']\n",
    "df_AZ = df_unpivot.loc[df_unpivot['State'] == 'Arizona']\n",
    "df_AR = df_unpivot.loc[df_unpivot['State'] == 'Arkansas']\n",
    "df_CA = df_unpivot.loc[df_unpivot['State'] == 'California']\n",
    "df_CO = df_unpivot.loc[df_unpivot['State'] == 'Colorado']\n",
    "df_CT = df_unpivot.loc[df_unpivot['State'] == 'Connecticut']\n",
    "df_DE = df_unpivot.loc[df_unpivot['State'] == 'Delaware']\n",
    "df_FL = df_unpivot.loc[df_unpivot['State'] == 'Florida']\n",
    "df_GA = df_unpivot.loc[df_unpivot['State'] == 'Georgia']\n",
    "df_HI = df_unpivot.loc[df_unpivot['State'] == 'Hawaii']\n",
    "df_ID = df_unpivot.loc[df_unpivot['State'] == 'Idaho']\n",
    "df_IL = df_unpivot.loc[df_unpivot['State'] == 'Illinois']\n",
    "df_IN = df_unpivot.loc[df_unpivot['State'] == 'Indiana']\n",
    "df_IA = df_unpivot.loc[df_unpivot['State'] == 'Iowa']\n",
    "df_KS = df_unpivot.loc[df_unpivot['State'] == 'Kansas']\n",
    "df_KY = df_unpivot.loc[df_unpivot['State'] == 'Kentucky']\n",
    "df_LA = df_unpivot.loc[df_unpivot['State'] == 'Louisiana']\n",
    "df_ME = df_unpivot.loc[df_unpivot['State'] == 'Maine']\n",
    "df_MD = df_unpivot.loc[df_unpivot['State'] == 'Maryland']\n",
    "df_MA = df_unpivot.loc[df_unpivot['State'] == 'Massachusetts']\n",
    "df_MI = df_unpivot.loc[df_unpivot['State'] == 'Michigan']\n",
    "df_MN = df_unpivot.loc[df_unpivot['State'] == 'Minnesota']\n",
    "df_MS = df_unpivot.loc[df_unpivot['State'] == 'Mississippi']\n",
    "df_MO = df_unpivot.loc[df_unpivot['State'] == 'Missouri']\n",
    "df_MT = df_unpivot.loc[df_unpivot['State'] == 'Montana']\n",
    "df_NE = df_unpivot.loc[df_unpivot['State'] == 'Nebraska']\n",
    "df_NV = df_unpivot.loc[df_unpivot['State'] == 'Nevada']\n",
    "df_NH = df_unpivot.loc[df_unpivot['State'] == 'New Hampshire']\n",
    "df_NJ = df_unpivot.loc[df_unpivot['State'] == 'New Jersey']\n",
    "df_NM = df_unpivot.loc[df_unpivot['State'] == 'New Mexico']\n",
    "df_NY = df_unpivot.loc[df_unpivot['State'] == 'New York']\n",
    "df_NC = df_unpivot.loc[df_unpivot['State'] == 'North Carolina']\n",
    "df_ND = df_unpivot.loc[df_unpivot['State'] == 'North Dakota']\n",
    "df_OH = df_unpivot.loc[df_unpivot['State'] == 'Ohio']\n",
    "df_OK = df_unpivot.loc[df_unpivot['State'] == 'Oklahoma']\n",
    "df_OR = df_unpivot.loc[df_unpivot['State'] == 'Oregon']\n",
    "df_PA = df_unpivot.loc[df_unpivot['State'] == 'Pennsylvania']\n",
    "df_RI = df_unpivot.loc[df_unpivot['State'] == 'Rhode Island']\n",
    "df_SC = df_unpivot.loc[df_unpivot['State'] == 'South Carolina']\n",
    "df_SD = df_unpivot.loc[df_unpivot['State'] == 'South Dakota']\n",
    "df_TN = df_unpivot.loc[df_unpivot['State'] == 'Tennessee']\n",
    "df_TX = df_unpivot.loc[df_unpivot['State'] == 'Texas']\n",
    "df_UT = df_unpivot.loc[df_unpivot['State'] == 'Utah']\n",
    "df_VT = df_unpivot.loc[df_unpivot['State'] == 'Vermont']\n",
    "df_VA = df_unpivot.loc[df_unpivot['State'] == 'Virginia']\n",
    "df_WA = df_unpivot.loc[df_unpivot['State'] == 'Washington']\n",
    "df_WV = df_unpivot.loc[df_unpivot['State'] == 'West Virginia']\n",
    "df_WI = df_unpivot.loc[df_unpivot['State'] == 'Wisconsin']\n",
    "df_WY = df_unpivot.loc[df_unpivot['State'] == 'Wyoming']\n",
    "\n",
    "fig = make_subplots(rows=2, cols=4, subplot_titles=('Alabama', 'Alaska', 'Arizona', 'Arkansas', 'California', \n",
    "                                                     'Colorado', 'Connecticut', 'Delaware',)\n",
    "                    , specs=[[{'type': 'polar'}]*4]*2)\n",
    "            \n",
    "\n",
    "fig.add_trace(go.Scatterpolar(\n",
    "        name = \"Alabama\",\n",
    "        theta=df_AL['Subject/Law'],\n",
    "        r=df_AL['value']\n",
    "        ), 1, 1)\n",
    "fig.add_trace(go.Scatterpolar(\n",
    "        name = \"Alaska\",\n",
    "        theta=df_AK['Subject/Law'],\n",
    "        r=df_AK['value']\n",
    "        ), 1, 2)\n",
    "fig.add_trace(go.Scatterpolar(\n",
    "        name = \"Arizona\",\n",
    "        theta=df_AZ['Subject/Law'],\n",
    "        r=df_AZ['value']\n",
    "        ), 1, 3)\n",
    "fig.add_trace(go.Scatterpolar(\n",
    "        name = \"Arkansas\",\n",
    "        theta=df_AR['Subject/Law'],\n",
    "        r=df_AR['value']\n",
    "        ), 1, 4)\n",
    "fig.add_trace(go.Scatterpolar(\n",
    "        name = \"California\",\n",
    "        theta=df_CA['Subject/Law'],\n",
    "        r=df_CA['value']\n",
    "        ), 2, 1)\n",
    "fig.add_trace(go.Scatterpolar(\n",
    "        name = \"Colorado\",\n",
    "        theta=df_CO['Subject/Law'],\n",
    "        r=df_CO['value']\n",
    "        ), 2, 2)\n",
    "fig.add_trace(go.Scatterpolar(\n",
    "        name = \"Connecticut\",\n",
    "        theta=df_CT['Subject/Law'],\n",
    "        r=df_CT['value']\n",
    "        ), 2, 3)\n",
    "fig.add_trace(go.Scatterpolar(\n",
    "        name = \"Delaware\",\n",
    "        theta=df_DE['Subject/Law'],\n",
    "        r=df_DE['value']\n",
    "        ), 2, 4)\n",
    "\n",
    "fig.update_traces(fill='toself')\n",
    "\n",
    "fig.update_layout(title_text=\"Gun Laws By State\")\n",
    "\n",
    "fig.show()"
   ]
  },
  {
   "cell_type": "code",
   "execution_count": 171,
   "id": "455671ef",
   "metadata": {},
   "outputs": [
    {
     "data": {
      "application/vnd.plotly.v1+json": {
       "config": {
        "plotlyServerURL": "https://plot.ly"
       },
       "data": [
        {
         "fill": "toself",
         "name": "Alabama",
         "r": [
          0,
          0,
          0,
          0,
          0,
          null,
          0,
          0,
          0,
          0
         ],
         "subplot": "polar",
         "theta": [
          "A W L?",
          "B C?",
          "F R?",
          "M C R?",
          "NFA?",
          "O C?",
          "O L?",
          "C C P?",
          "O C P?",
          "P P?"
         ],
         "type": "scatterpolar"
        },
        {
         "fill": "toself",
         "name": "Alaska",
         "r": [
          0,
          0,
          0,
          0,
          0,
          null,
          0,
          0,
          0,
          0
         ],
         "subplot": "polar2",
         "theta": [
          "A W L?",
          "B C?",
          "F R?",
          "M C R?",
          "NFA?",
          "O C?",
          "O L?",
          "C C P?",
          "O C P?",
          "P P?"
         ],
         "type": "scatterpolar"
        },
        {
         "fill": "toself",
         "name": "Arizona",
         "r": [
          0,
          0,
          0,
          0,
          0,
          null,
          0,
          0,
          0,
          0
         ],
         "subplot": "polar3",
         "theta": [
          "A W L?",
          "B C?",
          "F R?",
          "M C R?",
          "NFA?",
          "O C?",
          "O L?",
          "C C P?",
          "O C P?",
          "P P?"
         ],
         "type": "scatterpolar"
        },
        {
         "fill": "toself",
         "name": "Arkansas",
         "r": [
          0,
          0,
          0,
          0,
          0,
          null,
          0,
          0,
          0,
          0
         ],
         "subplot": "polar4",
         "theta": [
          "A W L?",
          "B C?",
          "F R?",
          "M C R?",
          "NFA?",
          "O C?",
          "O L?",
          "C C P?",
          "O C P?",
          "P P?"
         ],
         "type": "scatterpolar"
        },
        {
         "fill": "toself",
         "name": "California",
         "r": [
          1,
          1,
          1,
          1,
          1,
          1,
          0,
          1,
          null,
          0.5
         ],
         "subplot": "polar5",
         "theta": [
          "A W L?",
          "B C?",
          "F R?",
          "M C R?",
          "NFA?",
          "O C?",
          "O L?",
          "C C P?",
          "O C P?",
          "P P?"
         ],
         "type": "scatterpolar"
        },
        {
         "fill": "toself",
         "name": "Colorado",
         "r": [
          0,
          1,
          0,
          1,
          0,
          null,
          0,
          1,
          0,
          0
         ],
         "subplot": "polar6",
         "theta": [
          "A W L?",
          "B C?",
          "F R?",
          "M C R?",
          "NFA?",
          "O C?",
          "O L?",
          "C C P?",
          "O C P?",
          "P P?"
         ],
         "type": "scatterpolar"
        },
        {
         "fill": "toself",
         "name": "Connecticut",
         "r": [
          1,
          1,
          0.5,
          1,
          0,
          null,
          1,
          1,
          1,
          1
         ],
         "subplot": "polar7",
         "theta": [
          "A W L?",
          "B C?",
          "F R?",
          "M C R?",
          "NFA?",
          "O C?",
          "O L?",
          "C C P?",
          "O C P?",
          "P P?"
         ],
         "type": "scatterpolar"
        },
        {
         "fill": "toself",
         "name": "Delaware",
         "r": [
          1,
          1,
          0,
          1,
          1,
          null,
          0,
          1,
          0,
          0
         ],
         "subplot": "polar8",
         "theta": [
          "A W L?",
          "B C?",
          "F R?",
          "M C R?",
          "NFA?",
          "O C?",
          "O L?",
          "C C P?",
          "O C P?",
          "P P?"
         ],
         "type": "scatterpolar"
        },
        {
         "fill": "toself",
         "name": "Florida",
         "r": [
          0,
          0,
          0,
          0,
          0,
          null,
          0,
          1,
          0,
          0
         ],
         "subplot": "polar9",
         "theta": [
          "A W L?",
          "B C?",
          "F R?",
          "M C R?",
          "NFA?",
          "O C?",
          "O L?",
          "C C P?",
          "O C P?",
          "P P?"
         ],
         "type": "scatterpolar"
        },
        {
         "fill": "toself",
         "name": "Georgia",
         "r": [
          0,
          0,
          0,
          0,
          0,
          null,
          0,
          0,
          0,
          0
         ],
         "subplot": "polar10",
         "theta": [
          "A W L?",
          "B C?",
          "F R?",
          "M C R?",
          "NFA?",
          "O C?",
          "O L?",
          "C C P?",
          "O C P?",
          "P P?"
         ],
         "type": "scatterpolar"
        },
        {
         "fill": "toself",
         "name": "Hawaii",
         "r": [
          1,
          1,
          1,
          1,
          1,
          null,
          0,
          1,
          1,
          1
         ],
         "subplot": "polar11",
         "theta": [
          "A W L?",
          "B C?",
          "F R?",
          "M C R?",
          "NFA?",
          "O C?",
          "O L?",
          "C C P?",
          "O C P?",
          "P P?"
         ],
         "type": "scatterpolar"
        },
        {
         "fill": "toself",
         "name": "Idaho",
         "r": [
          0,
          0,
          0,
          0,
          0,
          null,
          0,
          0,
          0,
          0
         ],
         "subplot": "polar12",
         "theta": [
          "A W L?",
          "B C?",
          "F R?",
          "M C R?",
          "NFA?",
          "O C?",
          "O L?",
          "C C P?",
          "O C P?",
          "P P?"
         ],
         "type": "scatterpolar"
        },
        {
         "fill": "toself",
         "name": "Illinois",
         "r": [
          1,
          1,
          0,
          1,
          1,
          1,
          1,
          1,
          null,
          1
         ],
         "subplot": "polar13",
         "theta": [
          "A W L?",
          "B C?",
          "F R?",
          "M C R?",
          "NFA?",
          "O C?",
          "O L?",
          "C C P?",
          "O C P?",
          "P P?"
         ],
         "type": "scatterpolar"
        },
        {
         "fill": "toself",
         "name": "Indiana",
         "r": [
          0,
          0,
          0,
          0,
          0,
          null,
          0,
          0,
          0,
          0
         ],
         "subplot": "polar14",
         "theta": [
          "A W L?",
          "B C?",
          "F R?",
          "M C R?",
          "NFA?",
          "O C?",
          "O L?",
          "C C P?",
          "O C P?",
          "P P?"
         ],
         "type": "scatterpolar"
        },
        {
         "fill": "toself",
         "name": "Iowa",
         "r": [
          0,
          0,
          0,
          0,
          1,
          null,
          0,
          0,
          0,
          0
         ],
         "subplot": "polar15",
         "theta": [
          "A W L?",
          "B C?",
          "F R?",
          "M C R?",
          "NFA?",
          "O C?",
          "O L?",
          "C C P?",
          "O C P?",
          "P P?"
         ],
         "type": "scatterpolar"
        },
        {
         "fill": "toself",
         "name": "Alabama",
         "r": [
          0,
          0,
          0,
          0,
          1,
          null,
          0,
          0,
          0,
          0
         ],
         "subplot": "polar16",
         "theta": [
          "A W L?",
          "B C?",
          "F R?",
          "M C R?",
          "NFA?",
          "O C?",
          "O L?",
          "C C P?",
          "O C P?",
          "P P?"
         ],
         "type": "scatterpolar"
        },
        {
         "fill": "toself",
         "name": "Alaska",
         "r": [
          0,
          0,
          0,
          0,
          1,
          null,
          0,
          0,
          0,
          0
         ],
         "subplot": "polar17",
         "theta": [
          "A W L?",
          "B C?",
          "F R?",
          "M C R?",
          "NFA?",
          "O C?",
          "O L?",
          "C C P?",
          "O C P?",
          "P P?"
         ],
         "type": "scatterpolar"
        },
        {
         "fill": "toself",
         "name": "Arizona",
         "r": [
          0,
          0,
          0,
          0,
          1,
          null,
          0,
          0,
          0,
          0
         ],
         "subplot": "polar18",
         "theta": [
          "A W L?",
          "B C?",
          "F R?",
          "M C R?",
          "NFA?",
          "O C?",
          "O L?",
          "C C P?",
          "O C P?",
          "P P?"
         ],
         "type": "scatterpolar"
        },
        {
         "fill": "toself",
         "name": "Arkansas",
         "r": [
          0,
          0,
          0,
          0,
          1,
          null,
          0,
          0,
          0,
          0
         ],
         "subplot": "polar19",
         "theta": [
          "A W L?",
          "B C?",
          "F R?",
          "M C R?",
          "NFA?",
          "O C?",
          "O L?",
          "C C P?",
          "O C P?",
          "P P?"
         ],
         "type": "scatterpolar"
        },
        {
         "fill": "toself",
         "name": "Arkansas",
         "r": [
          0,
          0,
          0,
          0,
          1,
          null,
          0,
          0,
          0,
          0
         ],
         "subplot": "polar20",
         "theta": [
          "A W L?",
          "B C?",
          "F R?",
          "M C R?",
          "NFA?",
          "O C?",
          "O L?",
          "C C P?",
          "O C P?",
          "P P?"
         ],
         "type": "scatterpolar"
        },
        {
         "fill": "toself",
         "name": "Alabama",
         "r": [
          0,
          0,
          0,
          0,
          1,
          null,
          0,
          0,
          0,
          0
         ],
         "subplot": "polar21",
         "theta": [
          "A W L?",
          "B C?",
          "F R?",
          "M C R?",
          "NFA?",
          "O C?",
          "O L?",
          "C C P?",
          "O C P?",
          "P P?"
         ],
         "type": "scatterpolar"
        },
        {
         "fill": "toself",
         "name": "Alaska",
         "r": [
          0,
          0,
          0,
          0,
          1,
          null,
          0,
          0,
          0,
          0
         ],
         "subplot": "polar22",
         "theta": [
          "A W L?",
          "B C?",
          "F R?",
          "M C R?",
          "NFA?",
          "O C?",
          "O L?",
          "C C P?",
          "O C P?",
          "P P?"
         ],
         "type": "scatterpolar"
        },
        {
         "fill": "toself",
         "name": "Arizona",
         "r": [
          0,
          0,
          0,
          0,
          1,
          null,
          0,
          0,
          0,
          0
         ],
         "subplot": "polar23",
         "theta": [
          "A W L?",
          "B C?",
          "F R?",
          "M C R?",
          "NFA?",
          "O C?",
          "O L?",
          "C C P?",
          "O C P?",
          "P P?"
         ],
         "type": "scatterpolar"
        },
        {
         "fill": "toself",
         "name": "Arkansas",
         "r": [
          0,
          0,
          0,
          0,
          1,
          null,
          0,
          0,
          0,
          0
         ],
         "subplot": "polar24",
         "theta": [
          "A W L?",
          "B C?",
          "F R?",
          "M C R?",
          "NFA?",
          "O C?",
          "O L?",
          "C C P?",
          "O C P?",
          "P P?"
         ],
         "type": "scatterpolar"
        },
        {
         "fill": "toself",
         "name": "Arkansas",
         "r": [
          0,
          0,
          0,
          0,
          1,
          null,
          0,
          0,
          0,
          0
         ],
         "subplot": "polar25",
         "theta": [
          "A W L?",
          "B C?",
          "F R?",
          "M C R?",
          "NFA?",
          "O C?",
          "O L?",
          "C C P?",
          "O C P?",
          "P P?"
         ],
         "type": "scatterpolar"
        },
        {
         "fill": "toself",
         "name": "Alabama",
         "r": [
          0,
          0,
          0,
          0,
          1,
          null,
          0,
          0,
          0,
          0
         ],
         "subplot": "polar26",
         "theta": [
          "A W L?",
          "B C?",
          "F R?",
          "M C R?",
          "NFA?",
          "O C?",
          "O L?",
          "C C P?",
          "O C P?",
          "P P?"
         ],
         "type": "scatterpolar"
        },
        {
         "fill": "toself",
         "name": "Alaska",
         "r": [
          0,
          0,
          0,
          0,
          1,
          null,
          0,
          0,
          0,
          0
         ],
         "subplot": "polar27",
         "theta": [
          "A W L?",
          "B C?",
          "F R?",
          "M C R?",
          "NFA?",
          "O C?",
          "O L?",
          "C C P?",
          "O C P?",
          "P P?"
         ],
         "type": "scatterpolar"
        },
        {
         "fill": "toself",
         "name": "Arizona",
         "r": [
          0,
          0,
          0,
          0,
          1,
          null,
          0,
          0,
          0,
          0
         ],
         "subplot": "polar28",
         "theta": [
          "A W L?",
          "B C?",
          "F R?",
          "M C R?",
          "NFA?",
          "O C?",
          "O L?",
          "C C P?",
          "O C P?",
          "P P?"
         ],
         "type": "scatterpolar"
        },
        {
         "fill": "toself",
         "name": "Arkansas",
         "r": [
          0,
          0,
          0,
          0,
          1,
          null,
          0,
          0,
          0,
          0
         ],
         "subplot": "polar29",
         "theta": [
          "A W L?",
          "B C?",
          "F R?",
          "M C R?",
          "NFA?",
          "O C?",
          "O L?",
          "C C P?",
          "O C P?",
          "P P?"
         ],
         "type": "scatterpolar"
        },
        {
         "fill": "toself",
         "name": "Arkansas",
         "r": [
          0,
          0,
          0,
          0,
          1,
          null,
          0,
          0,
          0,
          0
         ],
         "subplot": "polar30",
         "theta": [
          "A W L?",
          "B C?",
          "F R?",
          "M C R?",
          "NFA?",
          "O C?",
          "O L?",
          "C C P?",
          "O C P?",
          "P P?"
         ],
         "type": "scatterpolar"
        },
        {
         "fill": "toself",
         "name": "Alabama",
         "r": [
          0,
          0,
          0,
          0,
          1,
          null,
          0,
          0,
          0,
          0
         ],
         "subplot": "polar31",
         "theta": [
          "A W L?",
          "B C?",
          "F R?",
          "M C R?",
          "NFA?",
          "O C?",
          "O L?",
          "C C P?",
          "O C P?",
          "P P?"
         ],
         "type": "scatterpolar"
        },
        {
         "fill": "toself",
         "name": "Alaska",
         "r": [
          0,
          0,
          0,
          0,
          1,
          null,
          0,
          0,
          0,
          0
         ],
         "subplot": "polar32",
         "theta": [
          "A W L?",
          "B C?",
          "F R?",
          "M C R?",
          "NFA?",
          "O C?",
          "O L?",
          "C C P?",
          "O C P?",
          "P P?"
         ],
         "type": "scatterpolar"
        },
        {
         "fill": "toself",
         "name": "Arizona",
         "r": [
          0,
          0,
          0,
          0,
          1,
          null,
          0,
          0,
          0,
          0
         ],
         "subplot": "polar33",
         "theta": [
          "A W L?",
          "B C?",
          "F R?",
          "M C R?",
          "NFA?",
          "O C?",
          "O L?",
          "C C P?",
          "O C P?",
          "P P?"
         ],
         "type": "scatterpolar"
        },
        {
         "fill": "toself",
         "name": "Arkansas",
         "r": [
          0,
          0,
          0,
          0,
          1,
          null,
          0,
          0,
          0,
          0
         ],
         "subplot": "polar34",
         "theta": [
          "A W L?",
          "B C?",
          "F R?",
          "M C R?",
          "NFA?",
          "O C?",
          "O L?",
          "C C P?",
          "O C P?",
          "P P?"
         ],
         "type": "scatterpolar"
        },
        {
         "fill": "toself",
         "name": "Arkansas",
         "r": [
          0,
          0,
          0,
          0,
          1,
          null,
          0,
          0,
          0,
          0
         ],
         "subplot": "polar35",
         "theta": [
          "A W L?",
          "B C?",
          "F R?",
          "M C R?",
          "NFA?",
          "O C?",
          "O L?",
          "C C P?",
          "O C P?",
          "P P?"
         ],
         "type": "scatterpolar"
        },
        {
         "fill": "toself",
         "name": "Alabama",
         "r": [
          0,
          0,
          0,
          0,
          1,
          null,
          0,
          0,
          0,
          0
         ],
         "subplot": "polar36",
         "theta": [
          "A W L?",
          "B C?",
          "F R?",
          "M C R?",
          "NFA?",
          "O C?",
          "O L?",
          "C C P?",
          "O C P?",
          "P P?"
         ],
         "type": "scatterpolar"
        },
        {
         "fill": "toself",
         "name": "Alaska",
         "r": [
          0,
          0,
          0,
          0,
          1,
          null,
          0,
          0,
          0,
          0
         ],
         "subplot": "polar37",
         "theta": [
          "A W L?",
          "B C?",
          "F R?",
          "M C R?",
          "NFA?",
          "O C?",
          "O L?",
          "C C P?",
          "O C P?",
          "P P?"
         ],
         "type": "scatterpolar"
        },
        {
         "fill": "toself",
         "name": "Arizona",
         "r": [
          0,
          0,
          0,
          0,
          1,
          null,
          0,
          0,
          0,
          0
         ],
         "subplot": "polar38",
         "theta": [
          "A W L?",
          "B C?",
          "F R?",
          "M C R?",
          "NFA?",
          "O C?",
          "O L?",
          "C C P?",
          "O C P?",
          "P P?"
         ],
         "type": "scatterpolar"
        },
        {
         "fill": "toself",
         "name": "Arkansas",
         "r": [
          0,
          0,
          0,
          0,
          1,
          null,
          0,
          0,
          0,
          0
         ],
         "subplot": "polar39",
         "theta": [
          "A W L?",
          "B C?",
          "F R?",
          "M C R?",
          "NFA?",
          "O C?",
          "O L?",
          "C C P?",
          "O C P?",
          "P P?"
         ],
         "type": "scatterpolar"
        },
        {
         "fill": "toself",
         "name": "Arkansas",
         "r": [
          0,
          0,
          0,
          0,
          1,
          null,
          0,
          0,
          0,
          0
         ],
         "subplot": "polar40",
         "theta": [
          "A W L?",
          "B C?",
          "F R?",
          "M C R?",
          "NFA?",
          "O C?",
          "O L?",
          "C C P?",
          "O C P?",
          "P P?"
         ],
         "type": "scatterpolar"
        },
        {
         "fill": "toself",
         "name": "Alabama",
         "r": [
          0,
          0,
          0,
          0,
          1,
          null,
          0,
          0,
          0,
          0
         ],
         "subplot": "polar41",
         "theta": [
          "A W L?",
          "B C?",
          "F R?",
          "M C R?",
          "NFA?",
          "O C?",
          "O L?",
          "C C P?",
          "O C P?",
          "P P?"
         ],
         "type": "scatterpolar"
        },
        {
         "fill": "toself",
         "name": "Alaska",
         "r": [
          0,
          0,
          0,
          0,
          1,
          null,
          0,
          0,
          0,
          0
         ],
         "subplot": "polar42",
         "theta": [
          "A W L?",
          "B C?",
          "F R?",
          "M C R?",
          "NFA?",
          "O C?",
          "O L?",
          "C C P?",
          "O C P?",
          "P P?"
         ],
         "type": "scatterpolar"
        },
        {
         "fill": "toself",
         "name": "Arizona",
         "r": [
          0,
          0,
          0,
          0,
          1,
          null,
          0,
          0,
          0,
          0
         ],
         "subplot": "polar43",
         "theta": [
          "A W L?",
          "B C?",
          "F R?",
          "M C R?",
          "NFA?",
          "O C?",
          "O L?",
          "C C P?",
          "O C P?",
          "P P?"
         ],
         "type": "scatterpolar"
        },
        {
         "fill": "toself",
         "name": "Arkansas",
         "r": [
          0,
          0,
          0,
          0,
          1,
          null,
          0,
          0,
          0,
          0
         ],
         "subplot": "polar44",
         "theta": [
          "A W L?",
          "B C?",
          "F R?",
          "M C R?",
          "NFA?",
          "O C?",
          "O L?",
          "C C P?",
          "O C P?",
          "P P?"
         ],
         "type": "scatterpolar"
        },
        {
         "fill": "toself",
         "name": "Arkansas",
         "r": [
          0,
          0,
          0,
          0,
          1,
          null,
          0,
          0,
          0,
          0
         ],
         "subplot": "polar45",
         "theta": [
          "A W L?",
          "B C?",
          "F R?",
          "M C R?",
          "NFA?",
          "O C?",
          "O L?",
          "C C P?",
          "O C P?",
          "P P?"
         ],
         "type": "scatterpolar"
        },
        {
         "fill": "toself",
         "name": "Virginia",
         "r": [
          1,
          1,
          0,
          0,
          0,
          null,
          0,
          1,
          0,
          0
         ],
         "subplot": "polar46",
         "theta": [
          "A W L?",
          "B C?",
          "F R?",
          "M C R?",
          "NFA?",
          "O C?",
          "O L?",
          "C C P?",
          "O C P?",
          "P P?"
         ],
         "type": "scatterpolar"
        },
        {
         "fill": "toself",
         "name": "Washington",
         "r": [
          1,
          1,
          0.5,
          1,
          0.5,
          null,
          0,
          1,
          0,
          0
         ],
         "subplot": "polar47",
         "theta": [
          "A W L?",
          "B C?",
          "F R?",
          "M C R?",
          "NFA?",
          "O C?",
          "O L?",
          "C C P?",
          "O C P?",
          "P P?"
         ],
         "type": "scatterpolar"
        },
        {
         "fill": "toself",
         "name": "Virginia",
         "r": [
          0,
          0,
          0,
          0,
          0,
          null,
          0,
          0,
          0,
          0
         ],
         "subplot": "polar48",
         "theta": [
          "A W L?",
          "B C?",
          "F R?",
          "M C R?",
          "NFA?",
          "O C?",
          "O L?",
          "C C P?",
          "O C P?",
          "P P?"
         ],
         "type": "scatterpolar"
        },
        {
         "fill": "toself",
         "name": "Wisconsin",
         "r": [
          0,
          0,
          0,
          0,
          0,
          null,
          0,
          1,
          0,
          1
         ],
         "subplot": "polar49",
         "theta": [
          "A W L?",
          "B C?",
          "F R?",
          "M C R?",
          "NFA?",
          "O C?",
          "O L?",
          "C C P?",
          "O C P?",
          "P P?"
         ],
         "type": "scatterpolar"
        },
        {
         "fill": "toself",
         "name": "Wyoming",
         "r": [
          0,
          0,
          0,
          0,
          0,
          null,
          0,
          0,
          0,
          0
         ],
         "subplot": "polar50",
         "theta": [
          "A W L?",
          "B C?",
          "F R?",
          "M C R?",
          "NFA?",
          "O C?",
          "O L?",
          "C C P?",
          "O C P?",
          "P P?"
         ],
         "type": "scatterpolar"
        }
       ],
       "layout": {
        "annotations": [
         {
          "font": {
           "size": 16
          },
          "showarrow": false,
          "text": "Alabama",
          "x": 0.08399999999999999,
          "xanchor": "center",
          "xref": "paper",
          "y": 1,
          "yanchor": "bottom",
          "yref": "paper"
         },
         {
          "font": {
           "size": 16
          },
          "showarrow": false,
          "text": "Alaska",
          "x": 0.292,
          "xanchor": "center",
          "xref": "paper",
          "y": 1,
          "yanchor": "bottom",
          "yref": "paper"
         },
         {
          "font": {
           "size": 16
          },
          "showarrow": false,
          "text": "Arizona",
          "x": 0.5,
          "xanchor": "center",
          "xref": "paper",
          "y": 1,
          "yanchor": "bottom",
          "yref": "paper"
         },
         {
          "font": {
           "size": 16
          },
          "showarrow": false,
          "text": "Arkansas",
          "x": 0.708,
          "xanchor": "center",
          "xref": "paper",
          "y": 1,
          "yanchor": "bottom",
          "yref": "paper"
         },
         {
          "font": {
           "size": 16
          },
          "showarrow": false,
          "text": "California",
          "x": 0.9159999999999999,
          "xanchor": "center",
          "xref": "paper",
          "y": 1,
          "yanchor": "bottom",
          "yref": "paper"
         },
         {
          "font": {
           "size": 16
          },
          "showarrow": false,
          "text": "Colorado",
          "x": 0.08399999999999999,
          "xanchor": "center",
          "xref": "paper",
          "y": 0.8950000000000001,
          "yanchor": "bottom",
          "yref": "paper"
         },
         {
          "font": {
           "size": 16
          },
          "showarrow": false,
          "text": "Connecticut",
          "x": 0.292,
          "xanchor": "center",
          "xref": "paper",
          "y": 0.8950000000000001,
          "yanchor": "bottom",
          "yref": "paper"
         },
         {
          "font": {
           "size": 16
          },
          "showarrow": false,
          "text": "Delaware",
          "x": 0.5,
          "xanchor": "center",
          "xref": "paper",
          "y": 0.8950000000000001,
          "yanchor": "bottom",
          "yref": "paper"
         },
         {
          "font": {
           "size": 16
          },
          "showarrow": false,
          "text": "Florida",
          "x": 0.708,
          "xanchor": "center",
          "xref": "paper",
          "y": 0.8950000000000001,
          "yanchor": "bottom",
          "yref": "paper"
         },
         {
          "font": {
           "size": 16
          },
          "showarrow": false,
          "text": "Georgia",
          "x": 0.9159999999999999,
          "xanchor": "center",
          "xref": "paper",
          "y": 0.8950000000000001,
          "yanchor": "bottom",
          "yref": "paper"
         },
         {
          "font": {
           "size": 16
          },
          "showarrow": false,
          "text": "Hawaii",
          "x": 0.08399999999999999,
          "xanchor": "center",
          "xref": "paper",
          "y": 0.7900000000000001,
          "yanchor": "bottom",
          "yref": "paper"
         },
         {
          "font": {
           "size": 16
          },
          "showarrow": false,
          "text": "Idaho",
          "x": 0.292,
          "xanchor": "center",
          "xref": "paper",
          "y": 0.7900000000000001,
          "yanchor": "bottom",
          "yref": "paper"
         },
         {
          "font": {
           "size": 16
          },
          "showarrow": false,
          "text": "Illinois",
          "x": 0.5,
          "xanchor": "center",
          "xref": "paper",
          "y": 0.7900000000000001,
          "yanchor": "bottom",
          "yref": "paper"
         },
         {
          "font": {
           "size": 16
          },
          "showarrow": false,
          "text": "Indiana",
          "x": 0.708,
          "xanchor": "center",
          "xref": "paper",
          "y": 0.7900000000000001,
          "yanchor": "bottom",
          "yref": "paper"
         },
         {
          "font": {
           "size": 16
          },
          "showarrow": false,
          "text": "Iowa",
          "x": 0.9159999999999999,
          "xanchor": "center",
          "xref": "paper",
          "y": 0.7900000000000001,
          "yanchor": "bottom",
          "yref": "paper"
         },
         {
          "font": {
           "size": 16
          },
          "showarrow": false,
          "text": "Kansas",
          "x": 0.08399999999999999,
          "xanchor": "center",
          "xref": "paper",
          "y": 0.6850000000000002,
          "yanchor": "bottom",
          "yref": "paper"
         },
         {
          "font": {
           "size": 16
          },
          "showarrow": false,
          "text": "Kentucky",
          "x": 0.292,
          "xanchor": "center",
          "xref": "paper",
          "y": 0.6850000000000002,
          "yanchor": "bottom",
          "yref": "paper"
         },
         {
          "font": {
           "size": 16
          },
          "showarrow": false,
          "text": "Louisiana",
          "x": 0.5,
          "xanchor": "center",
          "xref": "paper",
          "y": 0.6850000000000002,
          "yanchor": "bottom",
          "yref": "paper"
         },
         {
          "font": {
           "size": 16
          },
          "showarrow": false,
          "text": "Maine",
          "x": 0.708,
          "xanchor": "center",
          "xref": "paper",
          "y": 0.6850000000000002,
          "yanchor": "bottom",
          "yref": "paper"
         },
         {
          "font": {
           "size": 16
          },
          "showarrow": false,
          "text": "Maryland",
          "x": 0.9159999999999999,
          "xanchor": "center",
          "xref": "paper",
          "y": 0.6850000000000002,
          "yanchor": "bottom",
          "yref": "paper"
         },
         {
          "font": {
           "size": 16
          },
          "showarrow": false,
          "text": "Massachusetts",
          "x": 0.08399999999999999,
          "xanchor": "center",
          "xref": "paper",
          "y": 0.5800000000000001,
          "yanchor": "bottom",
          "yref": "paper"
         },
         {
          "font": {
           "size": 16
          },
          "showarrow": false,
          "text": "Michigan",
          "x": 0.292,
          "xanchor": "center",
          "xref": "paper",
          "y": 0.5800000000000001,
          "yanchor": "bottom",
          "yref": "paper"
         },
         {
          "font": {
           "size": 16
          },
          "showarrow": false,
          "text": "Minnesota",
          "x": 0.5,
          "xanchor": "center",
          "xref": "paper",
          "y": 0.5800000000000001,
          "yanchor": "bottom",
          "yref": "paper"
         },
         {
          "font": {
           "size": 16
          },
          "showarrow": false,
          "text": "Mississippi",
          "x": 0.708,
          "xanchor": "center",
          "xref": "paper",
          "y": 0.5800000000000001,
          "yanchor": "bottom",
          "yref": "paper"
         },
         {
          "font": {
           "size": 16
          },
          "showarrow": false,
          "text": "Missouri",
          "x": 0.9159999999999999,
          "xanchor": "center",
          "xref": "paper",
          "y": 0.5800000000000001,
          "yanchor": "bottom",
          "yref": "paper"
         },
         {
          "font": {
           "size": 16
          },
          "showarrow": false,
          "text": "Montana",
          "x": 0.08399999999999999,
          "xanchor": "center",
          "xref": "paper",
          "y": 0.47500000000000003,
          "yanchor": "bottom",
          "yref": "paper"
         },
         {
          "font": {
           "size": 16
          },
          "showarrow": false,
          "text": "Nebraska",
          "x": 0.292,
          "xanchor": "center",
          "xref": "paper",
          "y": 0.47500000000000003,
          "yanchor": "bottom",
          "yref": "paper"
         },
         {
          "font": {
           "size": 16
          },
          "showarrow": false,
          "text": "Nevada",
          "x": 0.5,
          "xanchor": "center",
          "xref": "paper",
          "y": 0.47500000000000003,
          "yanchor": "bottom",
          "yref": "paper"
         },
         {
          "font": {
           "size": 16
          },
          "showarrow": false,
          "text": "New Hampshire",
          "x": 0.708,
          "xanchor": "center",
          "xref": "paper",
          "y": 0.47500000000000003,
          "yanchor": "bottom",
          "yref": "paper"
         },
         {
          "font": {
           "size": 16
          },
          "showarrow": false,
          "text": "New Jersey",
          "x": 0.9159999999999999,
          "xanchor": "center",
          "xref": "paper",
          "y": 0.47500000000000003,
          "yanchor": "bottom",
          "yref": "paper"
         },
         {
          "font": {
           "size": 16
          },
          "showarrow": false,
          "text": "New Mexico",
          "x": 0.08399999999999999,
          "xanchor": "center",
          "xref": "paper",
          "y": 0.37000000000000005,
          "yanchor": "bottom",
          "yref": "paper"
         },
         {
          "font": {
           "size": 16
          },
          "showarrow": false,
          "text": "New York",
          "x": 0.292,
          "xanchor": "center",
          "xref": "paper",
          "y": 0.37000000000000005,
          "yanchor": "bottom",
          "yref": "paper"
         },
         {
          "font": {
           "size": 16
          },
          "showarrow": false,
          "text": "North Carolina",
          "x": 0.5,
          "xanchor": "center",
          "xref": "paper",
          "y": 0.37000000000000005,
          "yanchor": "bottom",
          "yref": "paper"
         },
         {
          "font": {
           "size": 16
          },
          "showarrow": false,
          "text": "North Dakota",
          "x": 0.708,
          "xanchor": "center",
          "xref": "paper",
          "y": 0.37000000000000005,
          "yanchor": "bottom",
          "yref": "paper"
         },
         {
          "font": {
           "size": 16
          },
          "showarrow": false,
          "text": "Ohio",
          "x": 0.9159999999999999,
          "xanchor": "center",
          "xref": "paper",
          "y": 0.37000000000000005,
          "yanchor": "bottom",
          "yref": "paper"
         },
         {
          "font": {
           "size": 16
          },
          "showarrow": false,
          "text": "Oklahoma",
          "x": 0.08399999999999999,
          "xanchor": "center",
          "xref": "paper",
          "y": 0.265,
          "yanchor": "bottom",
          "yref": "paper"
         },
         {
          "font": {
           "size": 16
          },
          "showarrow": false,
          "text": "Oregon",
          "x": 0.292,
          "xanchor": "center",
          "xref": "paper",
          "y": 0.265,
          "yanchor": "bottom",
          "yref": "paper"
         },
         {
          "font": {
           "size": 16
          },
          "showarrow": false,
          "text": "Pennsylvania",
          "x": 0.5,
          "xanchor": "center",
          "xref": "paper",
          "y": 0.265,
          "yanchor": "bottom",
          "yref": "paper"
         },
         {
          "font": {
           "size": 16
          },
          "showarrow": false,
          "text": "Rhode Island",
          "x": 0.708,
          "xanchor": "center",
          "xref": "paper",
          "y": 0.265,
          "yanchor": "bottom",
          "yref": "paper"
         },
         {
          "font": {
           "size": 16
          },
          "showarrow": false,
          "text": "South Carolina",
          "x": 0.9159999999999999,
          "xanchor": "center",
          "xref": "paper",
          "y": 0.265,
          "yanchor": "bottom",
          "yref": "paper"
         },
         {
          "font": {
           "size": 16
          },
          "showarrow": false,
          "text": "South Dakota",
          "x": 0.08399999999999999,
          "xanchor": "center",
          "xref": "paper",
          "y": 0.16000000000000003,
          "yanchor": "bottom",
          "yref": "paper"
         },
         {
          "font": {
           "size": 16
          },
          "showarrow": false,
          "text": "Tennessee",
          "x": 0.292,
          "xanchor": "center",
          "xref": "paper",
          "y": 0.16000000000000003,
          "yanchor": "bottom",
          "yref": "paper"
         },
         {
          "font": {
           "size": 16
          },
          "showarrow": false,
          "text": "Texas",
          "x": 0.5,
          "xanchor": "center",
          "xref": "paper",
          "y": 0.16000000000000003,
          "yanchor": "bottom",
          "yref": "paper"
         },
         {
          "font": {
           "size": 16
          },
          "showarrow": false,
          "text": "Utah",
          "x": 0.708,
          "xanchor": "center",
          "xref": "paper",
          "y": 0.16000000000000003,
          "yanchor": "bottom",
          "yref": "paper"
         },
         {
          "font": {
           "size": 16
          },
          "showarrow": false,
          "text": "Vermont",
          "x": 0.9159999999999999,
          "xanchor": "center",
          "xref": "paper",
          "y": 0.16000000000000003,
          "yanchor": "bottom",
          "yref": "paper"
         },
         {
          "font": {
           "size": 16
          },
          "showarrow": false,
          "text": "Virginia",
          "x": 0.08399999999999999,
          "xanchor": "center",
          "xref": "paper",
          "y": 0.05500000000000001,
          "yanchor": "bottom",
          "yref": "paper"
         },
         {
          "font": {
           "size": 16
          },
          "showarrow": false,
          "text": "Washington",
          "x": 0.292,
          "xanchor": "center",
          "xref": "paper",
          "y": 0.05500000000000001,
          "yanchor": "bottom",
          "yref": "paper"
         },
         {
          "font": {
           "size": 16
          },
          "showarrow": false,
          "text": "West Virginia",
          "x": 0.5,
          "xanchor": "center",
          "xref": "paper",
          "y": 0.05500000000000001,
          "yanchor": "bottom",
          "yref": "paper"
         },
         {
          "font": {
           "size": 16
          },
          "showarrow": false,
          "text": "Wisconsin",
          "x": 0.708,
          "xanchor": "center",
          "xref": "paper",
          "y": 0.05500000000000001,
          "yanchor": "bottom",
          "yref": "paper"
         },
         {
          "font": {
           "size": 16
          },
          "showarrow": false,
          "text": "Wyoming",
          "x": 0.9159999999999999,
          "xanchor": "center",
          "xref": "paper",
          "y": 0.05500000000000001,
          "yanchor": "bottom",
          "yref": "paper"
         }
        ],
        "polar": {
         "domain": {
          "x": [
           0,
           0.16799999999999998
          ],
          "y": [
           0.9450000000000001,
           1
          ]
         }
        },
        "polar10": {
         "domain": {
          "x": [
           0.832,
           1
          ],
          "y": [
           0.8400000000000001,
           0.8950000000000001
          ]
         }
        },
        "polar11": {
         "domain": {
          "x": [
           0,
           0.16799999999999998
          ],
          "y": [
           0.7350000000000001,
           0.7900000000000001
          ]
         }
        },
        "polar12": {
         "domain": {
          "x": [
           0.208,
           0.376
          ],
          "y": [
           0.7350000000000001,
           0.7900000000000001
          ]
         }
        },
        "polar13": {
         "domain": {
          "x": [
           0.416,
           0.584
          ],
          "y": [
           0.7350000000000001,
           0.7900000000000001
          ]
         }
        },
        "polar14": {
         "domain": {
          "x": [
           0.624,
           0.792
          ],
          "y": [
           0.7350000000000001,
           0.7900000000000001
          ]
         }
        },
        "polar15": {
         "domain": {
          "x": [
           0.832,
           1
          ],
          "y": [
           0.7350000000000001,
           0.7900000000000001
          ]
         }
        },
        "polar16": {
         "domain": {
          "x": [
           0,
           0.16799999999999998
          ],
          "y": [
           0.6300000000000001,
           0.6850000000000002
          ]
         }
        },
        "polar17": {
         "domain": {
          "x": [
           0.208,
           0.376
          ],
          "y": [
           0.6300000000000001,
           0.6850000000000002
          ]
         }
        },
        "polar18": {
         "domain": {
          "x": [
           0.416,
           0.584
          ],
          "y": [
           0.6300000000000001,
           0.6850000000000002
          ]
         }
        },
        "polar19": {
         "domain": {
          "x": [
           0.624,
           0.792
          ],
          "y": [
           0.6300000000000001,
           0.6850000000000002
          ]
         }
        },
        "polar2": {
         "domain": {
          "x": [
           0.208,
           0.376
          ],
          "y": [
           0.9450000000000001,
           1
          ]
         }
        },
        "polar20": {
         "domain": {
          "x": [
           0.832,
           1
          ],
          "y": [
           0.6300000000000001,
           0.6850000000000002
          ]
         }
        },
        "polar21": {
         "domain": {
          "x": [
           0,
           0.16799999999999998
          ],
          "y": [
           0.525,
           0.5800000000000001
          ]
         }
        },
        "polar22": {
         "domain": {
          "x": [
           0.208,
           0.376
          ],
          "y": [
           0.525,
           0.5800000000000001
          ]
         }
        },
        "polar23": {
         "domain": {
          "x": [
           0.416,
           0.584
          ],
          "y": [
           0.525,
           0.5800000000000001
          ]
         }
        },
        "polar24": {
         "domain": {
          "x": [
           0.624,
           0.792
          ],
          "y": [
           0.525,
           0.5800000000000001
          ]
         }
        },
        "polar25": {
         "domain": {
          "x": [
           0.832,
           1
          ],
          "y": [
           0.525,
           0.5800000000000001
          ]
         }
        },
        "polar26": {
         "domain": {
          "x": [
           0,
           0.16799999999999998
          ],
          "y": [
           0.42000000000000004,
           0.47500000000000003
          ]
         }
        },
        "polar27": {
         "domain": {
          "x": [
           0.208,
           0.376
          ],
          "y": [
           0.42000000000000004,
           0.47500000000000003
          ]
         }
        },
        "polar28": {
         "domain": {
          "x": [
           0.416,
           0.584
          ],
          "y": [
           0.42000000000000004,
           0.47500000000000003
          ]
         }
        },
        "polar29": {
         "domain": {
          "x": [
           0.624,
           0.792
          ],
          "y": [
           0.42000000000000004,
           0.47500000000000003
          ]
         }
        },
        "polar3": {
         "domain": {
          "x": [
           0.416,
           0.584
          ],
          "y": [
           0.9450000000000001,
           1
          ]
         }
        },
        "polar30": {
         "domain": {
          "x": [
           0.832,
           1
          ],
          "y": [
           0.42000000000000004,
           0.47500000000000003
          ]
         }
        },
        "polar31": {
         "domain": {
          "x": [
           0,
           0.16799999999999998
          ],
          "y": [
           0.31500000000000006,
           0.37000000000000005
          ]
         }
        },
        "polar32": {
         "domain": {
          "x": [
           0.208,
           0.376
          ],
          "y": [
           0.31500000000000006,
           0.37000000000000005
          ]
         }
        },
        "polar33": {
         "domain": {
          "x": [
           0.416,
           0.584
          ],
          "y": [
           0.31500000000000006,
           0.37000000000000005
          ]
         }
        },
        "polar34": {
         "domain": {
          "x": [
           0.624,
           0.792
          ],
          "y": [
           0.31500000000000006,
           0.37000000000000005
          ]
         }
        },
        "polar35": {
         "domain": {
          "x": [
           0.832,
           1
          ],
          "y": [
           0.31500000000000006,
           0.37000000000000005
          ]
         }
        },
        "polar36": {
         "domain": {
          "x": [
           0,
           0.16799999999999998
          ],
          "y": [
           0.21000000000000002,
           0.265
          ]
         }
        },
        "polar37": {
         "domain": {
          "x": [
           0.208,
           0.376
          ],
          "y": [
           0.21000000000000002,
           0.265
          ]
         }
        },
        "polar38": {
         "domain": {
          "x": [
           0.416,
           0.584
          ],
          "y": [
           0.21000000000000002,
           0.265
          ]
         }
        },
        "polar39": {
         "domain": {
          "x": [
           0.624,
           0.792
          ],
          "y": [
           0.21000000000000002,
           0.265
          ]
         }
        },
        "polar4": {
         "domain": {
          "x": [
           0.624,
           0.792
          ],
          "y": [
           0.9450000000000001,
           1
          ]
         }
        },
        "polar40": {
         "domain": {
          "x": [
           0.832,
           1
          ],
          "y": [
           0.21000000000000002,
           0.265
          ]
         }
        },
        "polar41": {
         "domain": {
          "x": [
           0,
           0.16799999999999998
          ],
          "y": [
           0.10500000000000001,
           0.16000000000000003
          ]
         }
        },
        "polar42": {
         "domain": {
          "x": [
           0.208,
           0.376
          ],
          "y": [
           0.10500000000000001,
           0.16000000000000003
          ]
         }
        },
        "polar43": {
         "domain": {
          "x": [
           0.416,
           0.584
          ],
          "y": [
           0.10500000000000001,
           0.16000000000000003
          ]
         }
        },
        "polar44": {
         "domain": {
          "x": [
           0.624,
           0.792
          ],
          "y": [
           0.10500000000000001,
           0.16000000000000003
          ]
         }
        },
        "polar45": {
         "domain": {
          "x": [
           0.832,
           1
          ],
          "y": [
           0.10500000000000001,
           0.16000000000000003
          ]
         }
        },
        "polar46": {
         "domain": {
          "x": [
           0,
           0.16799999999999998
          ],
          "y": [
           0,
           0.05500000000000001
          ]
         }
        },
        "polar47": {
         "domain": {
          "x": [
           0.208,
           0.376
          ],
          "y": [
           0,
           0.05500000000000001
          ]
         }
        },
        "polar48": {
         "domain": {
          "x": [
           0.416,
           0.584
          ],
          "y": [
           0,
           0.05500000000000001
          ]
         }
        },
        "polar49": {
         "domain": {
          "x": [
           0.624,
           0.792
          ],
          "y": [
           0,
           0.05500000000000001
          ]
         }
        },
        "polar5": {
         "domain": {
          "x": [
           0.832,
           1
          ],
          "y": [
           0.9450000000000001,
           1
          ]
         }
        },
        "polar50": {
         "domain": {
          "x": [
           0.832,
           1
          ],
          "y": [
           0,
           0.05500000000000001
          ]
         }
        },
        "polar6": {
         "domain": {
          "x": [
           0,
           0.16799999999999998
          ],
          "y": [
           0.8400000000000001,
           0.8950000000000001
          ]
         }
        },
        "polar7": {
         "domain": {
          "x": [
           0.208,
           0.376
          ],
          "y": [
           0.8400000000000001,
           0.8950000000000001
          ]
         }
        },
        "polar8": {
         "domain": {
          "x": [
           0.416,
           0.584
          ],
          "y": [
           0.8400000000000001,
           0.8950000000000001
          ]
         }
        },
        "polar9": {
         "domain": {
          "x": [
           0.624,
           0.792
          ],
          "y": [
           0.8400000000000001,
           0.8950000000000001
          ]
         }
        },
        "template": {
         "data": {
          "bar": [
           {
            "error_x": {
             "color": "#2a3f5f"
            },
            "error_y": {
             "color": "#2a3f5f"
            },
            "marker": {
             "line": {
              "color": "#E5ECF6",
              "width": 0.5
             },
             "pattern": {
              "fillmode": "overlay",
              "size": 10,
              "solidity": 0.2
             }
            },
            "type": "bar"
           }
          ],
          "barpolar": [
           {
            "marker": {
             "line": {
              "color": "#E5ECF6",
              "width": 0.5
             },
             "pattern": {
              "fillmode": "overlay",
              "size": 10,
              "solidity": 0.2
             }
            },
            "type": "barpolar"
           }
          ],
          "carpet": [
           {
            "aaxis": {
             "endlinecolor": "#2a3f5f",
             "gridcolor": "white",
             "linecolor": "white",
             "minorgridcolor": "white",
             "startlinecolor": "#2a3f5f"
            },
            "baxis": {
             "endlinecolor": "#2a3f5f",
             "gridcolor": "white",
             "linecolor": "white",
             "minorgridcolor": "white",
             "startlinecolor": "#2a3f5f"
            },
            "type": "carpet"
           }
          ],
          "choropleth": [
           {
            "colorbar": {
             "outlinewidth": 0,
             "ticks": ""
            },
            "type": "choropleth"
           }
          ],
          "contour": [
           {
            "colorbar": {
             "outlinewidth": 0,
             "ticks": ""
            },
            "colorscale": [
             [
              0,
              "#0d0887"
             ],
             [
              0.1111111111111111,
              "#46039f"
             ],
             [
              0.2222222222222222,
              "#7201a8"
             ],
             [
              0.3333333333333333,
              "#9c179e"
             ],
             [
              0.4444444444444444,
              "#bd3786"
             ],
             [
              0.5555555555555556,
              "#d8576b"
             ],
             [
              0.6666666666666666,
              "#ed7953"
             ],
             [
              0.7777777777777778,
              "#fb9f3a"
             ],
             [
              0.8888888888888888,
              "#fdca26"
             ],
             [
              1,
              "#f0f921"
             ]
            ],
            "type": "contour"
           }
          ],
          "contourcarpet": [
           {
            "colorbar": {
             "outlinewidth": 0,
             "ticks": ""
            },
            "type": "contourcarpet"
           }
          ],
          "heatmap": [
           {
            "colorbar": {
             "outlinewidth": 0,
             "ticks": ""
            },
            "colorscale": [
             [
              0,
              "#0d0887"
             ],
             [
              0.1111111111111111,
              "#46039f"
             ],
             [
              0.2222222222222222,
              "#7201a8"
             ],
             [
              0.3333333333333333,
              "#9c179e"
             ],
             [
              0.4444444444444444,
              "#bd3786"
             ],
             [
              0.5555555555555556,
              "#d8576b"
             ],
             [
              0.6666666666666666,
              "#ed7953"
             ],
             [
              0.7777777777777778,
              "#fb9f3a"
             ],
             [
              0.8888888888888888,
              "#fdca26"
             ],
             [
              1,
              "#f0f921"
             ]
            ],
            "type": "heatmap"
           }
          ],
          "heatmapgl": [
           {
            "colorbar": {
             "outlinewidth": 0,
             "ticks": ""
            },
            "colorscale": [
             [
              0,
              "#0d0887"
             ],
             [
              0.1111111111111111,
              "#46039f"
             ],
             [
              0.2222222222222222,
              "#7201a8"
             ],
             [
              0.3333333333333333,
              "#9c179e"
             ],
             [
              0.4444444444444444,
              "#bd3786"
             ],
             [
              0.5555555555555556,
              "#d8576b"
             ],
             [
              0.6666666666666666,
              "#ed7953"
             ],
             [
              0.7777777777777778,
              "#fb9f3a"
             ],
             [
              0.8888888888888888,
              "#fdca26"
             ],
             [
              1,
              "#f0f921"
             ]
            ],
            "type": "heatmapgl"
           }
          ],
          "histogram": [
           {
            "marker": {
             "pattern": {
              "fillmode": "overlay",
              "size": 10,
              "solidity": 0.2
             }
            },
            "type": "histogram"
           }
          ],
          "histogram2d": [
           {
            "colorbar": {
             "outlinewidth": 0,
             "ticks": ""
            },
            "colorscale": [
             [
              0,
              "#0d0887"
             ],
             [
              0.1111111111111111,
              "#46039f"
             ],
             [
              0.2222222222222222,
              "#7201a8"
             ],
             [
              0.3333333333333333,
              "#9c179e"
             ],
             [
              0.4444444444444444,
              "#bd3786"
             ],
             [
              0.5555555555555556,
              "#d8576b"
             ],
             [
              0.6666666666666666,
              "#ed7953"
             ],
             [
              0.7777777777777778,
              "#fb9f3a"
             ],
             [
              0.8888888888888888,
              "#fdca26"
             ],
             [
              1,
              "#f0f921"
             ]
            ],
            "type": "histogram2d"
           }
          ],
          "histogram2dcontour": [
           {
            "colorbar": {
             "outlinewidth": 0,
             "ticks": ""
            },
            "colorscale": [
             [
              0,
              "#0d0887"
             ],
             [
              0.1111111111111111,
              "#46039f"
             ],
             [
              0.2222222222222222,
              "#7201a8"
             ],
             [
              0.3333333333333333,
              "#9c179e"
             ],
             [
              0.4444444444444444,
              "#bd3786"
             ],
             [
              0.5555555555555556,
              "#d8576b"
             ],
             [
              0.6666666666666666,
              "#ed7953"
             ],
             [
              0.7777777777777778,
              "#fb9f3a"
             ],
             [
              0.8888888888888888,
              "#fdca26"
             ],
             [
              1,
              "#f0f921"
             ]
            ],
            "type": "histogram2dcontour"
           }
          ],
          "mesh3d": [
           {
            "colorbar": {
             "outlinewidth": 0,
             "ticks": ""
            },
            "type": "mesh3d"
           }
          ],
          "parcoords": [
           {
            "line": {
             "colorbar": {
              "outlinewidth": 0,
              "ticks": ""
             }
            },
            "type": "parcoords"
           }
          ],
          "pie": [
           {
            "automargin": true,
            "type": "pie"
           }
          ],
          "scatter": [
           {
            "fillpattern": {
             "fillmode": "overlay",
             "size": 10,
             "solidity": 0.2
            },
            "type": "scatter"
           }
          ],
          "scatter3d": [
           {
            "line": {
             "colorbar": {
              "outlinewidth": 0,
              "ticks": ""
             }
            },
            "marker": {
             "colorbar": {
              "outlinewidth": 0,
              "ticks": ""
             }
            },
            "type": "scatter3d"
           }
          ],
          "scattercarpet": [
           {
            "marker": {
             "colorbar": {
              "outlinewidth": 0,
              "ticks": ""
             }
            },
            "type": "scattercarpet"
           }
          ],
          "scattergeo": [
           {
            "marker": {
             "colorbar": {
              "outlinewidth": 0,
              "ticks": ""
             }
            },
            "type": "scattergeo"
           }
          ],
          "scattergl": [
           {
            "marker": {
             "colorbar": {
              "outlinewidth": 0,
              "ticks": ""
             }
            },
            "type": "scattergl"
           }
          ],
          "scattermapbox": [
           {
            "marker": {
             "colorbar": {
              "outlinewidth": 0,
              "ticks": ""
             }
            },
            "type": "scattermapbox"
           }
          ],
          "scatterpolar": [
           {
            "marker": {
             "colorbar": {
              "outlinewidth": 0,
              "ticks": ""
             }
            },
            "type": "scatterpolar"
           }
          ],
          "scatterpolargl": [
           {
            "marker": {
             "colorbar": {
              "outlinewidth": 0,
              "ticks": ""
             }
            },
            "type": "scatterpolargl"
           }
          ],
          "scatterternary": [
           {
            "marker": {
             "colorbar": {
              "outlinewidth": 0,
              "ticks": ""
             }
            },
            "type": "scatterternary"
           }
          ],
          "surface": [
           {
            "colorbar": {
             "outlinewidth": 0,
             "ticks": ""
            },
            "colorscale": [
             [
              0,
              "#0d0887"
             ],
             [
              0.1111111111111111,
              "#46039f"
             ],
             [
              0.2222222222222222,
              "#7201a8"
             ],
             [
              0.3333333333333333,
              "#9c179e"
             ],
             [
              0.4444444444444444,
              "#bd3786"
             ],
             [
              0.5555555555555556,
              "#d8576b"
             ],
             [
              0.6666666666666666,
              "#ed7953"
             ],
             [
              0.7777777777777778,
              "#fb9f3a"
             ],
             [
              0.8888888888888888,
              "#fdca26"
             ],
             [
              1,
              "#f0f921"
             ]
            ],
            "type": "surface"
           }
          ],
          "table": [
           {
            "cells": {
             "fill": {
              "color": "#EBF0F8"
             },
             "line": {
              "color": "white"
             }
            },
            "header": {
             "fill": {
              "color": "#C8D4E3"
             },
             "line": {
              "color": "white"
             }
            },
            "type": "table"
           }
          ]
         },
         "layout": {
          "annotationdefaults": {
           "arrowcolor": "#2a3f5f",
           "arrowhead": 0,
           "arrowwidth": 1
          },
          "autotypenumbers": "strict",
          "coloraxis": {
           "colorbar": {
            "outlinewidth": 0,
            "ticks": ""
           }
          },
          "colorscale": {
           "diverging": [
            [
             0,
             "#8e0152"
            ],
            [
             0.1,
             "#c51b7d"
            ],
            [
             0.2,
             "#de77ae"
            ],
            [
             0.3,
             "#f1b6da"
            ],
            [
             0.4,
             "#fde0ef"
            ],
            [
             0.5,
             "#f7f7f7"
            ],
            [
             0.6,
             "#e6f5d0"
            ],
            [
             0.7,
             "#b8e186"
            ],
            [
             0.8,
             "#7fbc41"
            ],
            [
             0.9,
             "#4d9221"
            ],
            [
             1,
             "#276419"
            ]
           ],
           "sequential": [
            [
             0,
             "#0d0887"
            ],
            [
             0.1111111111111111,
             "#46039f"
            ],
            [
             0.2222222222222222,
             "#7201a8"
            ],
            [
             0.3333333333333333,
             "#9c179e"
            ],
            [
             0.4444444444444444,
             "#bd3786"
            ],
            [
             0.5555555555555556,
             "#d8576b"
            ],
            [
             0.6666666666666666,
             "#ed7953"
            ],
            [
             0.7777777777777778,
             "#fb9f3a"
            ],
            [
             0.8888888888888888,
             "#fdca26"
            ],
            [
             1,
             "#f0f921"
            ]
           ],
           "sequentialminus": [
            [
             0,
             "#0d0887"
            ],
            [
             0.1111111111111111,
             "#46039f"
            ],
            [
             0.2222222222222222,
             "#7201a8"
            ],
            [
             0.3333333333333333,
             "#9c179e"
            ],
            [
             0.4444444444444444,
             "#bd3786"
            ],
            [
             0.5555555555555556,
             "#d8576b"
            ],
            [
             0.6666666666666666,
             "#ed7953"
            ],
            [
             0.7777777777777778,
             "#fb9f3a"
            ],
            [
             0.8888888888888888,
             "#fdca26"
            ],
            [
             1,
             "#f0f921"
            ]
           ]
          },
          "colorway": [
           "#636efa",
           "#EF553B",
           "#00cc96",
           "#ab63fa",
           "#FFA15A",
           "#19d3f3",
           "#FF6692",
           "#B6E880",
           "#FF97FF",
           "#FECB52"
          ],
          "font": {
           "color": "#2a3f5f"
          },
          "geo": {
           "bgcolor": "white",
           "lakecolor": "white",
           "landcolor": "#E5ECF6",
           "showlakes": true,
           "showland": true,
           "subunitcolor": "white"
          },
          "hoverlabel": {
           "align": "left"
          },
          "hovermode": "closest",
          "mapbox": {
           "style": "light"
          },
          "paper_bgcolor": "white",
          "plot_bgcolor": "#E5ECF6",
          "polar": {
           "angularaxis": {
            "gridcolor": "white",
            "linecolor": "white",
            "ticks": ""
           },
           "bgcolor": "#E5ECF6",
           "radialaxis": {
            "gridcolor": "white",
            "linecolor": "white",
            "ticks": ""
           }
          },
          "scene": {
           "xaxis": {
            "backgroundcolor": "#E5ECF6",
            "gridcolor": "white",
            "gridwidth": 2,
            "linecolor": "white",
            "showbackground": true,
            "ticks": "",
            "zerolinecolor": "white"
           },
           "yaxis": {
            "backgroundcolor": "#E5ECF6",
            "gridcolor": "white",
            "gridwidth": 2,
            "linecolor": "white",
            "showbackground": true,
            "ticks": "",
            "zerolinecolor": "white"
           },
           "zaxis": {
            "backgroundcolor": "#E5ECF6",
            "gridcolor": "white",
            "gridwidth": 2,
            "linecolor": "white",
            "showbackground": true,
            "ticks": "",
            "zerolinecolor": "white"
           }
          },
          "shapedefaults": {
           "line": {
            "color": "#2a3f5f"
           }
          },
          "ternary": {
           "aaxis": {
            "gridcolor": "white",
            "linecolor": "white",
            "ticks": ""
           },
           "baxis": {
            "gridcolor": "white",
            "linecolor": "white",
            "ticks": ""
           },
           "bgcolor": "#E5ECF6",
           "caxis": {
            "gridcolor": "white",
            "linecolor": "white",
            "ticks": ""
           }
          },
          "title": {
           "x": 0.05
          },
          "xaxis": {
           "automargin": true,
           "gridcolor": "white",
           "linecolor": "white",
           "ticks": "",
           "title": {
            "standoff": 15
           },
           "zerolinecolor": "white",
           "zerolinewidth": 2
          },
          "yaxis": {
           "automargin": true,
           "gridcolor": "white",
           "linecolor": "white",
           "ticks": "",
           "title": {
            "standoff": 15
           },
           "zerolinecolor": "white",
           "zerolinewidth": 2
          }
         }
        },
        "title": {
         "text": "Gun Laws By State"
        }
       }
      },
      "text/html": [
       "<div>                            <div id=\"acfc3e61-c80b-48d1-bdd9-0351ebaf19b1\" class=\"plotly-graph-div\" style=\"height:525px; width:100%;\"></div>            <script type=\"text/javascript\">                require([\"plotly\"], function(Plotly) {                    window.PLOTLYENV=window.PLOTLYENV || {};                                    if (document.getElementById(\"acfc3e61-c80b-48d1-bdd9-0351ebaf19b1\")) {                    Plotly.newPlot(                        \"acfc3e61-c80b-48d1-bdd9-0351ebaf19b1\",                        [{\"name\":\"Alabama\",\"r\":[0.0,0.0,0.0,0.0,0.0,null,0.0,0.0,0.0,0.0],\"theta\":[\"A W L?\",\"B C?\",\"F R?\",\"M C R?\",\"NFA?\",\"O C?\",\"O L?\",\"C C P?\",\"O C P?\",\"P P?\"],\"type\":\"scatterpolar\",\"subplot\":\"polar\",\"fill\":\"toself\"},{\"name\":\"Alaska\",\"r\":[0.0,0.0,0.0,0.0,0.0,null,0.0,0.0,0.0,0.0],\"theta\":[\"A W L?\",\"B C?\",\"F R?\",\"M C R?\",\"NFA?\",\"O C?\",\"O L?\",\"C C P?\",\"O C P?\",\"P P?\"],\"type\":\"scatterpolar\",\"subplot\":\"polar2\",\"fill\":\"toself\"},{\"name\":\"Arizona\",\"r\":[0.0,0.0,0.0,0.0,0.0,null,0.0,0.0,0.0,0.0],\"theta\":[\"A W L?\",\"B C?\",\"F R?\",\"M C R?\",\"NFA?\",\"O C?\",\"O L?\",\"C C P?\",\"O C P?\",\"P P?\"],\"type\":\"scatterpolar\",\"subplot\":\"polar3\",\"fill\":\"toself\"},{\"name\":\"Arkansas\",\"r\":[0.0,0.0,0.0,0.0,0.0,null,0.0,0.0,0.0,0.0],\"theta\":[\"A W L?\",\"B C?\",\"F R?\",\"M C R?\",\"NFA?\",\"O C?\",\"O L?\",\"C C P?\",\"O C P?\",\"P P?\"],\"type\":\"scatterpolar\",\"subplot\":\"polar4\",\"fill\":\"toself\"},{\"name\":\"California\",\"r\":[1.0,1.0,1.0,1.0,1.0,1.0,0.0,1.0,null,0.5],\"theta\":[\"A W L?\",\"B C?\",\"F R?\",\"M C R?\",\"NFA?\",\"O C?\",\"O L?\",\"C C P?\",\"O C P?\",\"P P?\"],\"type\":\"scatterpolar\",\"subplot\":\"polar5\",\"fill\":\"toself\"},{\"name\":\"Colorado\",\"r\":[0.0,1.0,0.0,1.0,0.0,null,0.0,1.0,0.0,0.0],\"theta\":[\"A W L?\",\"B C?\",\"F R?\",\"M C R?\",\"NFA?\",\"O C?\",\"O L?\",\"C C P?\",\"O C P?\",\"P P?\"],\"type\":\"scatterpolar\",\"subplot\":\"polar6\",\"fill\":\"toself\"},{\"name\":\"Connecticut\",\"r\":[1.0,1.0,0.5,1.0,0.0,null,1.0,1.0,1.0,1.0],\"theta\":[\"A W L?\",\"B C?\",\"F R?\",\"M C R?\",\"NFA?\",\"O C?\",\"O L?\",\"C C P?\",\"O C P?\",\"P P?\"],\"type\":\"scatterpolar\",\"subplot\":\"polar7\",\"fill\":\"toself\"},{\"name\":\"Delaware\",\"r\":[1.0,1.0,0.0,1.0,1.0,null,0.0,1.0,0.0,0.0],\"theta\":[\"A W L?\",\"B C?\",\"F R?\",\"M C R?\",\"NFA?\",\"O C?\",\"O L?\",\"C C P?\",\"O C P?\",\"P P?\"],\"type\":\"scatterpolar\",\"subplot\":\"polar8\",\"fill\":\"toself\"},{\"name\":\"Florida\",\"r\":[0.0,0.0,0.0,0.0,0.0,null,0.0,1.0,0.0,0.0],\"theta\":[\"A W L?\",\"B C?\",\"F R?\",\"M C R?\",\"NFA?\",\"O C?\",\"O L?\",\"C C P?\",\"O C P?\",\"P P?\"],\"type\":\"scatterpolar\",\"subplot\":\"polar9\",\"fill\":\"toself\"},{\"name\":\"Georgia\",\"r\":[0.0,0.0,0.0,0.0,0.0,null,0.0,0.0,0.0,0.0],\"theta\":[\"A W L?\",\"B C?\",\"F R?\",\"M C R?\",\"NFA?\",\"O C?\",\"O L?\",\"C C P?\",\"O C P?\",\"P P?\"],\"type\":\"scatterpolar\",\"subplot\":\"polar10\",\"fill\":\"toself\"},{\"name\":\"Hawaii\",\"r\":[1.0,1.0,1.0,1.0,1.0,null,0.0,1.0,1.0,1.0],\"theta\":[\"A W L?\",\"B C?\",\"F R?\",\"M C R?\",\"NFA?\",\"O C?\",\"O L?\",\"C C P?\",\"O C P?\",\"P P?\"],\"type\":\"scatterpolar\",\"subplot\":\"polar11\",\"fill\":\"toself\"},{\"name\":\"Idaho\",\"r\":[0.0,0.0,0.0,0.0,0.0,null,0.0,0.0,0.0,0.0],\"theta\":[\"A W L?\",\"B C?\",\"F R?\",\"M C R?\",\"NFA?\",\"O C?\",\"O L?\",\"C C P?\",\"O C P?\",\"P P?\"],\"type\":\"scatterpolar\",\"subplot\":\"polar12\",\"fill\":\"toself\"},{\"name\":\"Illinois\",\"r\":[1.0,1.0,0.0,1.0,1.0,1.0,1.0,1.0,null,1.0],\"theta\":[\"A W L?\",\"B C?\",\"F R?\",\"M C R?\",\"NFA?\",\"O C?\",\"O L?\",\"C C P?\",\"O C P?\",\"P P?\"],\"type\":\"scatterpolar\",\"subplot\":\"polar13\",\"fill\":\"toself\"},{\"name\":\"Indiana\",\"r\":[0.0,0.0,0.0,0.0,0.0,null,0.0,0.0,0.0,0.0],\"theta\":[\"A W L?\",\"B C?\",\"F R?\",\"M C R?\",\"NFA?\",\"O C?\",\"O L?\",\"C C P?\",\"O C P?\",\"P P?\"],\"type\":\"scatterpolar\",\"subplot\":\"polar14\",\"fill\":\"toself\"},{\"name\":\"Iowa\",\"r\":[0.0,0.0,0.0,0.0,1.0,null,0.0,0.0,0.0,0.0],\"theta\":[\"A W L?\",\"B C?\",\"F R?\",\"M C R?\",\"NFA?\",\"O C?\",\"O L?\",\"C C P?\",\"O C P?\",\"P P?\"],\"type\":\"scatterpolar\",\"subplot\":\"polar15\",\"fill\":\"toself\"},{\"name\":\"Alabama\",\"r\":[0.0,0.0,0.0,0.0,1.0,null,0.0,0.0,0.0,0.0],\"theta\":[\"A W L?\",\"B C?\",\"F R?\",\"M C R?\",\"NFA?\",\"O C?\",\"O L?\",\"C C P?\",\"O C P?\",\"P P?\"],\"type\":\"scatterpolar\",\"subplot\":\"polar16\",\"fill\":\"toself\"},{\"name\":\"Alaska\",\"r\":[0.0,0.0,0.0,0.0,1.0,null,0.0,0.0,0.0,0.0],\"theta\":[\"A W L?\",\"B C?\",\"F R?\",\"M C R?\",\"NFA?\",\"O C?\",\"O L?\",\"C C P?\",\"O C P?\",\"P P?\"],\"type\":\"scatterpolar\",\"subplot\":\"polar17\",\"fill\":\"toself\"},{\"name\":\"Arizona\",\"r\":[0.0,0.0,0.0,0.0,1.0,null,0.0,0.0,0.0,0.0],\"theta\":[\"A W L?\",\"B C?\",\"F R?\",\"M C R?\",\"NFA?\",\"O C?\",\"O L?\",\"C C P?\",\"O C P?\",\"P P?\"],\"type\":\"scatterpolar\",\"subplot\":\"polar18\",\"fill\":\"toself\"},{\"name\":\"Arkansas\",\"r\":[0.0,0.0,0.0,0.0,1.0,null,0.0,0.0,0.0,0.0],\"theta\":[\"A W L?\",\"B C?\",\"F R?\",\"M C R?\",\"NFA?\",\"O C?\",\"O L?\",\"C C P?\",\"O C P?\",\"P P?\"],\"type\":\"scatterpolar\",\"subplot\":\"polar19\",\"fill\":\"toself\"},{\"name\":\"Arkansas\",\"r\":[0.0,0.0,0.0,0.0,1.0,null,0.0,0.0,0.0,0.0],\"theta\":[\"A W L?\",\"B C?\",\"F R?\",\"M C R?\",\"NFA?\",\"O C?\",\"O L?\",\"C C P?\",\"O C P?\",\"P P?\"],\"type\":\"scatterpolar\",\"subplot\":\"polar20\",\"fill\":\"toself\"},{\"name\":\"Alabama\",\"r\":[0.0,0.0,0.0,0.0,1.0,null,0.0,0.0,0.0,0.0],\"theta\":[\"A W L?\",\"B C?\",\"F R?\",\"M C R?\",\"NFA?\",\"O C?\",\"O L?\",\"C C P?\",\"O C P?\",\"P P?\"],\"type\":\"scatterpolar\",\"subplot\":\"polar21\",\"fill\":\"toself\"},{\"name\":\"Alaska\",\"r\":[0.0,0.0,0.0,0.0,1.0,null,0.0,0.0,0.0,0.0],\"theta\":[\"A W L?\",\"B C?\",\"F R?\",\"M C R?\",\"NFA?\",\"O C?\",\"O L?\",\"C C P?\",\"O C P?\",\"P P?\"],\"type\":\"scatterpolar\",\"subplot\":\"polar22\",\"fill\":\"toself\"},{\"name\":\"Arizona\",\"r\":[0.0,0.0,0.0,0.0,1.0,null,0.0,0.0,0.0,0.0],\"theta\":[\"A W L?\",\"B C?\",\"F R?\",\"M C R?\",\"NFA?\",\"O C?\",\"O L?\",\"C C P?\",\"O C P?\",\"P P?\"],\"type\":\"scatterpolar\",\"subplot\":\"polar23\",\"fill\":\"toself\"},{\"name\":\"Arkansas\",\"r\":[0.0,0.0,0.0,0.0,1.0,null,0.0,0.0,0.0,0.0],\"theta\":[\"A W L?\",\"B C?\",\"F R?\",\"M C R?\",\"NFA?\",\"O C?\",\"O L?\",\"C C P?\",\"O C P?\",\"P P?\"],\"type\":\"scatterpolar\",\"subplot\":\"polar24\",\"fill\":\"toself\"},{\"name\":\"Arkansas\",\"r\":[0.0,0.0,0.0,0.0,1.0,null,0.0,0.0,0.0,0.0],\"theta\":[\"A W L?\",\"B C?\",\"F R?\",\"M C R?\",\"NFA?\",\"O C?\",\"O L?\",\"C C P?\",\"O C P?\",\"P P?\"],\"type\":\"scatterpolar\",\"subplot\":\"polar25\",\"fill\":\"toself\"},{\"name\":\"Alabama\",\"r\":[0.0,0.0,0.0,0.0,1.0,null,0.0,0.0,0.0,0.0],\"theta\":[\"A W L?\",\"B C?\",\"F R?\",\"M C R?\",\"NFA?\",\"O C?\",\"O L?\",\"C C P?\",\"O C P?\",\"P P?\"],\"type\":\"scatterpolar\",\"subplot\":\"polar26\",\"fill\":\"toself\"},{\"name\":\"Alaska\",\"r\":[0.0,0.0,0.0,0.0,1.0,null,0.0,0.0,0.0,0.0],\"theta\":[\"A W L?\",\"B C?\",\"F R?\",\"M C R?\",\"NFA?\",\"O C?\",\"O L?\",\"C C P?\",\"O C P?\",\"P P?\"],\"type\":\"scatterpolar\",\"subplot\":\"polar27\",\"fill\":\"toself\"},{\"name\":\"Arizona\",\"r\":[0.0,0.0,0.0,0.0,1.0,null,0.0,0.0,0.0,0.0],\"theta\":[\"A W L?\",\"B C?\",\"F R?\",\"M C R?\",\"NFA?\",\"O C?\",\"O L?\",\"C C P?\",\"O C P?\",\"P P?\"],\"type\":\"scatterpolar\",\"subplot\":\"polar28\",\"fill\":\"toself\"},{\"name\":\"Arkansas\",\"r\":[0.0,0.0,0.0,0.0,1.0,null,0.0,0.0,0.0,0.0],\"theta\":[\"A W L?\",\"B C?\",\"F R?\",\"M C R?\",\"NFA?\",\"O C?\",\"O L?\",\"C C P?\",\"O C P?\",\"P P?\"],\"type\":\"scatterpolar\",\"subplot\":\"polar29\",\"fill\":\"toself\"},{\"name\":\"Arkansas\",\"r\":[0.0,0.0,0.0,0.0,1.0,null,0.0,0.0,0.0,0.0],\"theta\":[\"A W L?\",\"B C?\",\"F R?\",\"M C R?\",\"NFA?\",\"O C?\",\"O L?\",\"C C P?\",\"O C P?\",\"P P?\"],\"type\":\"scatterpolar\",\"subplot\":\"polar30\",\"fill\":\"toself\"},{\"name\":\"Alabama\",\"r\":[0.0,0.0,0.0,0.0,1.0,null,0.0,0.0,0.0,0.0],\"theta\":[\"A W L?\",\"B C?\",\"F R?\",\"M C R?\",\"NFA?\",\"O C?\",\"O L?\",\"C C P?\",\"O C P?\",\"P P?\"],\"type\":\"scatterpolar\",\"subplot\":\"polar31\",\"fill\":\"toself\"},{\"name\":\"Alaska\",\"r\":[0.0,0.0,0.0,0.0,1.0,null,0.0,0.0,0.0,0.0],\"theta\":[\"A W L?\",\"B C?\",\"F R?\",\"M C R?\",\"NFA?\",\"O C?\",\"O L?\",\"C C P?\",\"O C P?\",\"P P?\"],\"type\":\"scatterpolar\",\"subplot\":\"polar32\",\"fill\":\"toself\"},{\"name\":\"Arizona\",\"r\":[0.0,0.0,0.0,0.0,1.0,null,0.0,0.0,0.0,0.0],\"theta\":[\"A W L?\",\"B C?\",\"F R?\",\"M C R?\",\"NFA?\",\"O C?\",\"O L?\",\"C C P?\",\"O C P?\",\"P P?\"],\"type\":\"scatterpolar\",\"subplot\":\"polar33\",\"fill\":\"toself\"},{\"name\":\"Arkansas\",\"r\":[0.0,0.0,0.0,0.0,1.0,null,0.0,0.0,0.0,0.0],\"theta\":[\"A W L?\",\"B C?\",\"F R?\",\"M C R?\",\"NFA?\",\"O C?\",\"O L?\",\"C C P?\",\"O C P?\",\"P P?\"],\"type\":\"scatterpolar\",\"subplot\":\"polar34\",\"fill\":\"toself\"},{\"name\":\"Arkansas\",\"r\":[0.0,0.0,0.0,0.0,1.0,null,0.0,0.0,0.0,0.0],\"theta\":[\"A W L?\",\"B C?\",\"F R?\",\"M C R?\",\"NFA?\",\"O C?\",\"O L?\",\"C C P?\",\"O C P?\",\"P P?\"],\"type\":\"scatterpolar\",\"subplot\":\"polar35\",\"fill\":\"toself\"},{\"name\":\"Alabama\",\"r\":[0.0,0.0,0.0,0.0,1.0,null,0.0,0.0,0.0,0.0],\"theta\":[\"A W L?\",\"B C?\",\"F R?\",\"M C R?\",\"NFA?\",\"O C?\",\"O L?\",\"C C P?\",\"O C P?\",\"P P?\"],\"type\":\"scatterpolar\",\"subplot\":\"polar36\",\"fill\":\"toself\"},{\"name\":\"Alaska\",\"r\":[0.0,0.0,0.0,0.0,1.0,null,0.0,0.0,0.0,0.0],\"theta\":[\"A W L?\",\"B C?\",\"F R?\",\"M C R?\",\"NFA?\",\"O C?\",\"O L?\",\"C C P?\",\"O C P?\",\"P P?\"],\"type\":\"scatterpolar\",\"subplot\":\"polar37\",\"fill\":\"toself\"},{\"name\":\"Arizona\",\"r\":[0.0,0.0,0.0,0.0,1.0,null,0.0,0.0,0.0,0.0],\"theta\":[\"A W L?\",\"B C?\",\"F R?\",\"M C R?\",\"NFA?\",\"O C?\",\"O L?\",\"C C P?\",\"O C P?\",\"P P?\"],\"type\":\"scatterpolar\",\"subplot\":\"polar38\",\"fill\":\"toself\"},{\"name\":\"Arkansas\",\"r\":[0.0,0.0,0.0,0.0,1.0,null,0.0,0.0,0.0,0.0],\"theta\":[\"A W L?\",\"B C?\",\"F R?\",\"M C R?\",\"NFA?\",\"O C?\",\"O L?\",\"C C P?\",\"O C P?\",\"P P?\"],\"type\":\"scatterpolar\",\"subplot\":\"polar39\",\"fill\":\"toself\"},{\"name\":\"Arkansas\",\"r\":[0.0,0.0,0.0,0.0,1.0,null,0.0,0.0,0.0,0.0],\"theta\":[\"A W L?\",\"B C?\",\"F R?\",\"M C R?\",\"NFA?\",\"O C?\",\"O L?\",\"C C P?\",\"O C P?\",\"P P?\"],\"type\":\"scatterpolar\",\"subplot\":\"polar40\",\"fill\":\"toself\"},{\"name\":\"Alabama\",\"r\":[0.0,0.0,0.0,0.0,1.0,null,0.0,0.0,0.0,0.0],\"theta\":[\"A W L?\",\"B C?\",\"F R?\",\"M C R?\",\"NFA?\",\"O C?\",\"O L?\",\"C C P?\",\"O C P?\",\"P P?\"],\"type\":\"scatterpolar\",\"subplot\":\"polar41\",\"fill\":\"toself\"},{\"name\":\"Alaska\",\"r\":[0.0,0.0,0.0,0.0,1.0,null,0.0,0.0,0.0,0.0],\"theta\":[\"A W L?\",\"B C?\",\"F R?\",\"M C R?\",\"NFA?\",\"O C?\",\"O L?\",\"C C P?\",\"O C P?\",\"P P?\"],\"type\":\"scatterpolar\",\"subplot\":\"polar42\",\"fill\":\"toself\"},{\"name\":\"Arizona\",\"r\":[0.0,0.0,0.0,0.0,1.0,null,0.0,0.0,0.0,0.0],\"theta\":[\"A W L?\",\"B C?\",\"F R?\",\"M C R?\",\"NFA?\",\"O C?\",\"O L?\",\"C C P?\",\"O C P?\",\"P P?\"],\"type\":\"scatterpolar\",\"subplot\":\"polar43\",\"fill\":\"toself\"},{\"name\":\"Arkansas\",\"r\":[0.0,0.0,0.0,0.0,1.0,null,0.0,0.0,0.0,0.0],\"theta\":[\"A W L?\",\"B C?\",\"F R?\",\"M C R?\",\"NFA?\",\"O C?\",\"O L?\",\"C C P?\",\"O C P?\",\"P P?\"],\"type\":\"scatterpolar\",\"subplot\":\"polar44\",\"fill\":\"toself\"},{\"name\":\"Arkansas\",\"r\":[0.0,0.0,0.0,0.0,1.0,null,0.0,0.0,0.0,0.0],\"theta\":[\"A W L?\",\"B C?\",\"F R?\",\"M C R?\",\"NFA?\",\"O C?\",\"O L?\",\"C C P?\",\"O C P?\",\"P P?\"],\"type\":\"scatterpolar\",\"subplot\":\"polar45\",\"fill\":\"toself\"},{\"name\":\"Virginia\",\"r\":[1.0,1.0,0.0,0.0,0.0,null,0.0,1.0,0.0,0.0],\"theta\":[\"A W L?\",\"B C?\",\"F R?\",\"M C R?\",\"NFA?\",\"O C?\",\"O L?\",\"C C P?\",\"O C P?\",\"P P?\"],\"type\":\"scatterpolar\",\"subplot\":\"polar46\",\"fill\":\"toself\"},{\"name\":\"Washington\",\"r\":[1.0,1.0,0.5,1.0,0.5,null,0.0,1.0,0.0,0.0],\"theta\":[\"A W L?\",\"B C?\",\"F R?\",\"M C R?\",\"NFA?\",\"O C?\",\"O L?\",\"C C P?\",\"O C P?\",\"P P?\"],\"type\":\"scatterpolar\",\"subplot\":\"polar47\",\"fill\":\"toself\"},{\"name\":\"Virginia\",\"r\":[0.0,0.0,0.0,0.0,0.0,null,0.0,0.0,0.0,0.0],\"theta\":[\"A W L?\",\"B C?\",\"F R?\",\"M C R?\",\"NFA?\",\"O C?\",\"O L?\",\"C C P?\",\"O C P?\",\"P P?\"],\"type\":\"scatterpolar\",\"subplot\":\"polar48\",\"fill\":\"toself\"},{\"name\":\"Wisconsin\",\"r\":[0.0,0.0,0.0,0.0,0.0,null,0.0,1.0,0.0,1.0],\"theta\":[\"A W L?\",\"B C?\",\"F R?\",\"M C R?\",\"NFA?\",\"O C?\",\"O L?\",\"C C P?\",\"O C P?\",\"P P?\"],\"type\":\"scatterpolar\",\"subplot\":\"polar49\",\"fill\":\"toself\"},{\"name\":\"Wyoming\",\"r\":[0.0,0.0,0.0,0.0,0.0,null,0.0,0.0,0.0,0.0],\"theta\":[\"A W L?\",\"B C?\",\"F R?\",\"M C R?\",\"NFA?\",\"O C?\",\"O L?\",\"C C P?\",\"O C P?\",\"P P?\"],\"type\":\"scatterpolar\",\"subplot\":\"polar50\",\"fill\":\"toself\"}],                        {\"template\":{\"data\":{\"histogram2dcontour\":[{\"type\":\"histogram2dcontour\",\"colorbar\":{\"outlinewidth\":0,\"ticks\":\"\"},\"colorscale\":[[0.0,\"#0d0887\"],[0.1111111111111111,\"#46039f\"],[0.2222222222222222,\"#7201a8\"],[0.3333333333333333,\"#9c179e\"],[0.4444444444444444,\"#bd3786\"],[0.5555555555555556,\"#d8576b\"],[0.6666666666666666,\"#ed7953\"],[0.7777777777777778,\"#fb9f3a\"],[0.8888888888888888,\"#fdca26\"],[1.0,\"#f0f921\"]]}],\"choropleth\":[{\"type\":\"choropleth\",\"colorbar\":{\"outlinewidth\":0,\"ticks\":\"\"}}],\"histogram2d\":[{\"type\":\"histogram2d\",\"colorbar\":{\"outlinewidth\":0,\"ticks\":\"\"},\"colorscale\":[[0.0,\"#0d0887\"],[0.1111111111111111,\"#46039f\"],[0.2222222222222222,\"#7201a8\"],[0.3333333333333333,\"#9c179e\"],[0.4444444444444444,\"#bd3786\"],[0.5555555555555556,\"#d8576b\"],[0.6666666666666666,\"#ed7953\"],[0.7777777777777778,\"#fb9f3a\"],[0.8888888888888888,\"#fdca26\"],[1.0,\"#f0f921\"]]}],\"heatmap\":[{\"type\":\"heatmap\",\"colorbar\":{\"outlinewidth\":0,\"ticks\":\"\"},\"colorscale\":[[0.0,\"#0d0887\"],[0.1111111111111111,\"#46039f\"],[0.2222222222222222,\"#7201a8\"],[0.3333333333333333,\"#9c179e\"],[0.4444444444444444,\"#bd3786\"],[0.5555555555555556,\"#d8576b\"],[0.6666666666666666,\"#ed7953\"],[0.7777777777777778,\"#fb9f3a\"],[0.8888888888888888,\"#fdca26\"],[1.0,\"#f0f921\"]]}],\"heatmapgl\":[{\"type\":\"heatmapgl\",\"colorbar\":{\"outlinewidth\":0,\"ticks\":\"\"},\"colorscale\":[[0.0,\"#0d0887\"],[0.1111111111111111,\"#46039f\"],[0.2222222222222222,\"#7201a8\"],[0.3333333333333333,\"#9c179e\"],[0.4444444444444444,\"#bd3786\"],[0.5555555555555556,\"#d8576b\"],[0.6666666666666666,\"#ed7953\"],[0.7777777777777778,\"#fb9f3a\"],[0.8888888888888888,\"#fdca26\"],[1.0,\"#f0f921\"]]}],\"contourcarpet\":[{\"type\":\"contourcarpet\",\"colorbar\":{\"outlinewidth\":0,\"ticks\":\"\"}}],\"contour\":[{\"type\":\"contour\",\"colorbar\":{\"outlinewidth\":0,\"ticks\":\"\"},\"colorscale\":[[0.0,\"#0d0887\"],[0.1111111111111111,\"#46039f\"],[0.2222222222222222,\"#7201a8\"],[0.3333333333333333,\"#9c179e\"],[0.4444444444444444,\"#bd3786\"],[0.5555555555555556,\"#d8576b\"],[0.6666666666666666,\"#ed7953\"],[0.7777777777777778,\"#fb9f3a\"],[0.8888888888888888,\"#fdca26\"],[1.0,\"#f0f921\"]]}],\"surface\":[{\"type\":\"surface\",\"colorbar\":{\"outlinewidth\":0,\"ticks\":\"\"},\"colorscale\":[[0.0,\"#0d0887\"],[0.1111111111111111,\"#46039f\"],[0.2222222222222222,\"#7201a8\"],[0.3333333333333333,\"#9c179e\"],[0.4444444444444444,\"#bd3786\"],[0.5555555555555556,\"#d8576b\"],[0.6666666666666666,\"#ed7953\"],[0.7777777777777778,\"#fb9f3a\"],[0.8888888888888888,\"#fdca26\"],[1.0,\"#f0f921\"]]}],\"mesh3d\":[{\"type\":\"mesh3d\",\"colorbar\":{\"outlinewidth\":0,\"ticks\":\"\"}}],\"scatter\":[{\"fillpattern\":{\"fillmode\":\"overlay\",\"size\":10,\"solidity\":0.2},\"type\":\"scatter\"}],\"parcoords\":[{\"type\":\"parcoords\",\"line\":{\"colorbar\":{\"outlinewidth\":0,\"ticks\":\"\"}}}],\"scatterpolargl\":[{\"type\":\"scatterpolargl\",\"marker\":{\"colorbar\":{\"outlinewidth\":0,\"ticks\":\"\"}}}],\"bar\":[{\"error_x\":{\"color\":\"#2a3f5f\"},\"error_y\":{\"color\":\"#2a3f5f\"},\"marker\":{\"line\":{\"color\":\"#E5ECF6\",\"width\":0.5},\"pattern\":{\"fillmode\":\"overlay\",\"size\":10,\"solidity\":0.2}},\"type\":\"bar\"}],\"scattergeo\":[{\"type\":\"scattergeo\",\"marker\":{\"colorbar\":{\"outlinewidth\":0,\"ticks\":\"\"}}}],\"scatterpolar\":[{\"type\":\"scatterpolar\",\"marker\":{\"colorbar\":{\"outlinewidth\":0,\"ticks\":\"\"}}}],\"histogram\":[{\"marker\":{\"pattern\":{\"fillmode\":\"overlay\",\"size\":10,\"solidity\":0.2}},\"type\":\"histogram\"}],\"scattergl\":[{\"type\":\"scattergl\",\"marker\":{\"colorbar\":{\"outlinewidth\":0,\"ticks\":\"\"}}}],\"scatter3d\":[{\"type\":\"scatter3d\",\"line\":{\"colorbar\":{\"outlinewidth\":0,\"ticks\":\"\"}},\"marker\":{\"colorbar\":{\"outlinewidth\":0,\"ticks\":\"\"}}}],\"scattermapbox\":[{\"type\":\"scattermapbox\",\"marker\":{\"colorbar\":{\"outlinewidth\":0,\"ticks\":\"\"}}}],\"scatterternary\":[{\"type\":\"scatterternary\",\"marker\":{\"colorbar\":{\"outlinewidth\":0,\"ticks\":\"\"}}}],\"scattercarpet\":[{\"type\":\"scattercarpet\",\"marker\":{\"colorbar\":{\"outlinewidth\":0,\"ticks\":\"\"}}}],\"carpet\":[{\"aaxis\":{\"endlinecolor\":\"#2a3f5f\",\"gridcolor\":\"white\",\"linecolor\":\"white\",\"minorgridcolor\":\"white\",\"startlinecolor\":\"#2a3f5f\"},\"baxis\":{\"endlinecolor\":\"#2a3f5f\",\"gridcolor\":\"white\",\"linecolor\":\"white\",\"minorgridcolor\":\"white\",\"startlinecolor\":\"#2a3f5f\"},\"type\":\"carpet\"}],\"table\":[{\"cells\":{\"fill\":{\"color\":\"#EBF0F8\"},\"line\":{\"color\":\"white\"}},\"header\":{\"fill\":{\"color\":\"#C8D4E3\"},\"line\":{\"color\":\"white\"}},\"type\":\"table\"}],\"barpolar\":[{\"marker\":{\"line\":{\"color\":\"#E5ECF6\",\"width\":0.5},\"pattern\":{\"fillmode\":\"overlay\",\"size\":10,\"solidity\":0.2}},\"type\":\"barpolar\"}],\"pie\":[{\"automargin\":true,\"type\":\"pie\"}]},\"layout\":{\"autotypenumbers\":\"strict\",\"colorway\":[\"#636efa\",\"#EF553B\",\"#00cc96\",\"#ab63fa\",\"#FFA15A\",\"#19d3f3\",\"#FF6692\",\"#B6E880\",\"#FF97FF\",\"#FECB52\"],\"font\":{\"color\":\"#2a3f5f\"},\"hovermode\":\"closest\",\"hoverlabel\":{\"align\":\"left\"},\"paper_bgcolor\":\"white\",\"plot_bgcolor\":\"#E5ECF6\",\"polar\":{\"bgcolor\":\"#E5ECF6\",\"angularaxis\":{\"gridcolor\":\"white\",\"linecolor\":\"white\",\"ticks\":\"\"},\"radialaxis\":{\"gridcolor\":\"white\",\"linecolor\":\"white\",\"ticks\":\"\"}},\"ternary\":{\"bgcolor\":\"#E5ECF6\",\"aaxis\":{\"gridcolor\":\"white\",\"linecolor\":\"white\",\"ticks\":\"\"},\"baxis\":{\"gridcolor\":\"white\",\"linecolor\":\"white\",\"ticks\":\"\"},\"caxis\":{\"gridcolor\":\"white\",\"linecolor\":\"white\",\"ticks\":\"\"}},\"coloraxis\":{\"colorbar\":{\"outlinewidth\":0,\"ticks\":\"\"}},\"colorscale\":{\"sequential\":[[0.0,\"#0d0887\"],[0.1111111111111111,\"#46039f\"],[0.2222222222222222,\"#7201a8\"],[0.3333333333333333,\"#9c179e\"],[0.4444444444444444,\"#bd3786\"],[0.5555555555555556,\"#d8576b\"],[0.6666666666666666,\"#ed7953\"],[0.7777777777777778,\"#fb9f3a\"],[0.8888888888888888,\"#fdca26\"],[1.0,\"#f0f921\"]],\"sequentialminus\":[[0.0,\"#0d0887\"],[0.1111111111111111,\"#46039f\"],[0.2222222222222222,\"#7201a8\"],[0.3333333333333333,\"#9c179e\"],[0.4444444444444444,\"#bd3786\"],[0.5555555555555556,\"#d8576b\"],[0.6666666666666666,\"#ed7953\"],[0.7777777777777778,\"#fb9f3a\"],[0.8888888888888888,\"#fdca26\"],[1.0,\"#f0f921\"]],\"diverging\":[[0,\"#8e0152\"],[0.1,\"#c51b7d\"],[0.2,\"#de77ae\"],[0.3,\"#f1b6da\"],[0.4,\"#fde0ef\"],[0.5,\"#f7f7f7\"],[0.6,\"#e6f5d0\"],[0.7,\"#b8e186\"],[0.8,\"#7fbc41\"],[0.9,\"#4d9221\"],[1,\"#276419\"]]},\"xaxis\":{\"gridcolor\":\"white\",\"linecolor\":\"white\",\"ticks\":\"\",\"title\":{\"standoff\":15},\"zerolinecolor\":\"white\",\"automargin\":true,\"zerolinewidth\":2},\"yaxis\":{\"gridcolor\":\"white\",\"linecolor\":\"white\",\"ticks\":\"\",\"title\":{\"standoff\":15},\"zerolinecolor\":\"white\",\"automargin\":true,\"zerolinewidth\":2},\"scene\":{\"xaxis\":{\"backgroundcolor\":\"#E5ECF6\",\"gridcolor\":\"white\",\"linecolor\":\"white\",\"showbackground\":true,\"ticks\":\"\",\"zerolinecolor\":\"white\",\"gridwidth\":2},\"yaxis\":{\"backgroundcolor\":\"#E5ECF6\",\"gridcolor\":\"white\",\"linecolor\":\"white\",\"showbackground\":true,\"ticks\":\"\",\"zerolinecolor\":\"white\",\"gridwidth\":2},\"zaxis\":{\"backgroundcolor\":\"#E5ECF6\",\"gridcolor\":\"white\",\"linecolor\":\"white\",\"showbackground\":true,\"ticks\":\"\",\"zerolinecolor\":\"white\",\"gridwidth\":2}},\"shapedefaults\":{\"line\":{\"color\":\"#2a3f5f\"}},\"annotationdefaults\":{\"arrowcolor\":\"#2a3f5f\",\"arrowhead\":0,\"arrowwidth\":1},\"geo\":{\"bgcolor\":\"white\",\"landcolor\":\"#E5ECF6\",\"subunitcolor\":\"white\",\"showland\":true,\"showlakes\":true,\"lakecolor\":\"white\"},\"title\":{\"x\":0.05},\"mapbox\":{\"style\":\"light\"}}},\"polar\":{\"domain\":{\"x\":[0.0,0.16799999999999998],\"y\":[0.9450000000000001,1.0]}},\"polar2\":{\"domain\":{\"x\":[0.208,0.376],\"y\":[0.9450000000000001,1.0]}},\"polar3\":{\"domain\":{\"x\":[0.416,0.584],\"y\":[0.9450000000000001,1.0]}},\"polar4\":{\"domain\":{\"x\":[0.624,0.792],\"y\":[0.9450000000000001,1.0]}},\"polar5\":{\"domain\":{\"x\":[0.832,1.0],\"y\":[0.9450000000000001,1.0]}},\"polar6\":{\"domain\":{\"x\":[0.0,0.16799999999999998],\"y\":[0.8400000000000001,0.8950000000000001]}},\"polar7\":{\"domain\":{\"x\":[0.208,0.376],\"y\":[0.8400000000000001,0.8950000000000001]}},\"polar8\":{\"domain\":{\"x\":[0.416,0.584],\"y\":[0.8400000000000001,0.8950000000000001]}},\"polar9\":{\"domain\":{\"x\":[0.624,0.792],\"y\":[0.8400000000000001,0.8950000000000001]}},\"polar10\":{\"domain\":{\"x\":[0.832,1.0],\"y\":[0.8400000000000001,0.8950000000000001]}},\"polar11\":{\"domain\":{\"x\":[0.0,0.16799999999999998],\"y\":[0.7350000000000001,0.7900000000000001]}},\"polar12\":{\"domain\":{\"x\":[0.208,0.376],\"y\":[0.7350000000000001,0.7900000000000001]}},\"polar13\":{\"domain\":{\"x\":[0.416,0.584],\"y\":[0.7350000000000001,0.7900000000000001]}},\"polar14\":{\"domain\":{\"x\":[0.624,0.792],\"y\":[0.7350000000000001,0.7900000000000001]}},\"polar15\":{\"domain\":{\"x\":[0.832,1.0],\"y\":[0.7350000000000001,0.7900000000000001]}},\"polar16\":{\"domain\":{\"x\":[0.0,0.16799999999999998],\"y\":[0.6300000000000001,0.6850000000000002]}},\"polar17\":{\"domain\":{\"x\":[0.208,0.376],\"y\":[0.6300000000000001,0.6850000000000002]}},\"polar18\":{\"domain\":{\"x\":[0.416,0.584],\"y\":[0.6300000000000001,0.6850000000000002]}},\"polar19\":{\"domain\":{\"x\":[0.624,0.792],\"y\":[0.6300000000000001,0.6850000000000002]}},\"polar20\":{\"domain\":{\"x\":[0.832,1.0],\"y\":[0.6300000000000001,0.6850000000000002]}},\"polar21\":{\"domain\":{\"x\":[0.0,0.16799999999999998],\"y\":[0.525,0.5800000000000001]}},\"polar22\":{\"domain\":{\"x\":[0.208,0.376],\"y\":[0.525,0.5800000000000001]}},\"polar23\":{\"domain\":{\"x\":[0.416,0.584],\"y\":[0.525,0.5800000000000001]}},\"polar24\":{\"domain\":{\"x\":[0.624,0.792],\"y\":[0.525,0.5800000000000001]}},\"polar25\":{\"domain\":{\"x\":[0.832,1.0],\"y\":[0.525,0.5800000000000001]}},\"polar26\":{\"domain\":{\"x\":[0.0,0.16799999999999998],\"y\":[0.42000000000000004,0.47500000000000003]}},\"polar27\":{\"domain\":{\"x\":[0.208,0.376],\"y\":[0.42000000000000004,0.47500000000000003]}},\"polar28\":{\"domain\":{\"x\":[0.416,0.584],\"y\":[0.42000000000000004,0.47500000000000003]}},\"polar29\":{\"domain\":{\"x\":[0.624,0.792],\"y\":[0.42000000000000004,0.47500000000000003]}},\"polar30\":{\"domain\":{\"x\":[0.832,1.0],\"y\":[0.42000000000000004,0.47500000000000003]}},\"polar31\":{\"domain\":{\"x\":[0.0,0.16799999999999998],\"y\":[0.31500000000000006,0.37000000000000005]}},\"polar32\":{\"domain\":{\"x\":[0.208,0.376],\"y\":[0.31500000000000006,0.37000000000000005]}},\"polar33\":{\"domain\":{\"x\":[0.416,0.584],\"y\":[0.31500000000000006,0.37000000000000005]}},\"polar34\":{\"domain\":{\"x\":[0.624,0.792],\"y\":[0.31500000000000006,0.37000000000000005]}},\"polar35\":{\"domain\":{\"x\":[0.832,1.0],\"y\":[0.31500000000000006,0.37000000000000005]}},\"polar36\":{\"domain\":{\"x\":[0.0,0.16799999999999998],\"y\":[0.21000000000000002,0.265]}},\"polar37\":{\"domain\":{\"x\":[0.208,0.376],\"y\":[0.21000000000000002,0.265]}},\"polar38\":{\"domain\":{\"x\":[0.416,0.584],\"y\":[0.21000000000000002,0.265]}},\"polar39\":{\"domain\":{\"x\":[0.624,0.792],\"y\":[0.21000000000000002,0.265]}},\"polar40\":{\"domain\":{\"x\":[0.832,1.0],\"y\":[0.21000000000000002,0.265]}},\"polar41\":{\"domain\":{\"x\":[0.0,0.16799999999999998],\"y\":[0.10500000000000001,0.16000000000000003]}},\"polar42\":{\"domain\":{\"x\":[0.208,0.376],\"y\":[0.10500000000000001,0.16000000000000003]}},\"polar43\":{\"domain\":{\"x\":[0.416,0.584],\"y\":[0.10500000000000001,0.16000000000000003]}},\"polar44\":{\"domain\":{\"x\":[0.624,0.792],\"y\":[0.10500000000000001,0.16000000000000003]}},\"polar45\":{\"domain\":{\"x\":[0.832,1.0],\"y\":[0.10500000000000001,0.16000000000000003]}},\"polar46\":{\"domain\":{\"x\":[0.0,0.16799999999999998],\"y\":[0.0,0.05500000000000001]}},\"polar47\":{\"domain\":{\"x\":[0.208,0.376],\"y\":[0.0,0.05500000000000001]}},\"polar48\":{\"domain\":{\"x\":[0.416,0.584],\"y\":[0.0,0.05500000000000001]}},\"polar49\":{\"domain\":{\"x\":[0.624,0.792],\"y\":[0.0,0.05500000000000001]}},\"polar50\":{\"domain\":{\"x\":[0.832,1.0],\"y\":[0.0,0.05500000000000001]}},\"annotations\":[{\"font\":{\"size\":16},\"showarrow\":false,\"text\":\"Alabama\",\"x\":0.08399999999999999,\"xanchor\":\"center\",\"xref\":\"paper\",\"y\":1.0,\"yanchor\":\"bottom\",\"yref\":\"paper\"},{\"font\":{\"size\":16},\"showarrow\":false,\"text\":\"Alaska\",\"x\":0.292,\"xanchor\":\"center\",\"xref\":\"paper\",\"y\":1.0,\"yanchor\":\"bottom\",\"yref\":\"paper\"},{\"font\":{\"size\":16},\"showarrow\":false,\"text\":\"Arizona\",\"x\":0.5,\"xanchor\":\"center\",\"xref\":\"paper\",\"y\":1.0,\"yanchor\":\"bottom\",\"yref\":\"paper\"},{\"font\":{\"size\":16},\"showarrow\":false,\"text\":\"Arkansas\",\"x\":0.708,\"xanchor\":\"center\",\"xref\":\"paper\",\"y\":1.0,\"yanchor\":\"bottom\",\"yref\":\"paper\"},{\"font\":{\"size\":16},\"showarrow\":false,\"text\":\"California\",\"x\":0.9159999999999999,\"xanchor\":\"center\",\"xref\":\"paper\",\"y\":1.0,\"yanchor\":\"bottom\",\"yref\":\"paper\"},{\"font\":{\"size\":16},\"showarrow\":false,\"text\":\"Colorado\",\"x\":0.08399999999999999,\"xanchor\":\"center\",\"xref\":\"paper\",\"y\":0.8950000000000001,\"yanchor\":\"bottom\",\"yref\":\"paper\"},{\"font\":{\"size\":16},\"showarrow\":false,\"text\":\"Connecticut\",\"x\":0.292,\"xanchor\":\"center\",\"xref\":\"paper\",\"y\":0.8950000000000001,\"yanchor\":\"bottom\",\"yref\":\"paper\"},{\"font\":{\"size\":16},\"showarrow\":false,\"text\":\"Delaware\",\"x\":0.5,\"xanchor\":\"center\",\"xref\":\"paper\",\"y\":0.8950000000000001,\"yanchor\":\"bottom\",\"yref\":\"paper\"},{\"font\":{\"size\":16},\"showarrow\":false,\"text\":\"Florida\",\"x\":0.708,\"xanchor\":\"center\",\"xref\":\"paper\",\"y\":0.8950000000000001,\"yanchor\":\"bottom\",\"yref\":\"paper\"},{\"font\":{\"size\":16},\"showarrow\":false,\"text\":\"Georgia\",\"x\":0.9159999999999999,\"xanchor\":\"center\",\"xref\":\"paper\",\"y\":0.8950000000000001,\"yanchor\":\"bottom\",\"yref\":\"paper\"},{\"font\":{\"size\":16},\"showarrow\":false,\"text\":\"Hawaii\",\"x\":0.08399999999999999,\"xanchor\":\"center\",\"xref\":\"paper\",\"y\":0.7900000000000001,\"yanchor\":\"bottom\",\"yref\":\"paper\"},{\"font\":{\"size\":16},\"showarrow\":false,\"text\":\"Idaho\",\"x\":0.292,\"xanchor\":\"center\",\"xref\":\"paper\",\"y\":0.7900000000000001,\"yanchor\":\"bottom\",\"yref\":\"paper\"},{\"font\":{\"size\":16},\"showarrow\":false,\"text\":\"Illinois\",\"x\":0.5,\"xanchor\":\"center\",\"xref\":\"paper\",\"y\":0.7900000000000001,\"yanchor\":\"bottom\",\"yref\":\"paper\"},{\"font\":{\"size\":16},\"showarrow\":false,\"text\":\"Indiana\",\"x\":0.708,\"xanchor\":\"center\",\"xref\":\"paper\",\"y\":0.7900000000000001,\"yanchor\":\"bottom\",\"yref\":\"paper\"},{\"font\":{\"size\":16},\"showarrow\":false,\"text\":\"Iowa\",\"x\":0.9159999999999999,\"xanchor\":\"center\",\"xref\":\"paper\",\"y\":0.7900000000000001,\"yanchor\":\"bottom\",\"yref\":\"paper\"},{\"font\":{\"size\":16},\"showarrow\":false,\"text\":\"Kansas\",\"x\":0.08399999999999999,\"xanchor\":\"center\",\"xref\":\"paper\",\"y\":0.6850000000000002,\"yanchor\":\"bottom\",\"yref\":\"paper\"},{\"font\":{\"size\":16},\"showarrow\":false,\"text\":\"Kentucky\",\"x\":0.292,\"xanchor\":\"center\",\"xref\":\"paper\",\"y\":0.6850000000000002,\"yanchor\":\"bottom\",\"yref\":\"paper\"},{\"font\":{\"size\":16},\"showarrow\":false,\"text\":\"Louisiana\",\"x\":0.5,\"xanchor\":\"center\",\"xref\":\"paper\",\"y\":0.6850000000000002,\"yanchor\":\"bottom\",\"yref\":\"paper\"},{\"font\":{\"size\":16},\"showarrow\":false,\"text\":\"Maine\",\"x\":0.708,\"xanchor\":\"center\",\"xref\":\"paper\",\"y\":0.6850000000000002,\"yanchor\":\"bottom\",\"yref\":\"paper\"},{\"font\":{\"size\":16},\"showarrow\":false,\"text\":\"Maryland\",\"x\":0.9159999999999999,\"xanchor\":\"center\",\"xref\":\"paper\",\"y\":0.6850000000000002,\"yanchor\":\"bottom\",\"yref\":\"paper\"},{\"font\":{\"size\":16},\"showarrow\":false,\"text\":\"Massachusetts\",\"x\":0.08399999999999999,\"xanchor\":\"center\",\"xref\":\"paper\",\"y\":0.5800000000000001,\"yanchor\":\"bottom\",\"yref\":\"paper\"},{\"font\":{\"size\":16},\"showarrow\":false,\"text\":\"Michigan\",\"x\":0.292,\"xanchor\":\"center\",\"xref\":\"paper\",\"y\":0.5800000000000001,\"yanchor\":\"bottom\",\"yref\":\"paper\"},{\"font\":{\"size\":16},\"showarrow\":false,\"text\":\"Minnesota\",\"x\":0.5,\"xanchor\":\"center\",\"xref\":\"paper\",\"y\":0.5800000000000001,\"yanchor\":\"bottom\",\"yref\":\"paper\"},{\"font\":{\"size\":16},\"showarrow\":false,\"text\":\"Mississippi\",\"x\":0.708,\"xanchor\":\"center\",\"xref\":\"paper\",\"y\":0.5800000000000001,\"yanchor\":\"bottom\",\"yref\":\"paper\"},{\"font\":{\"size\":16},\"showarrow\":false,\"text\":\"Missouri\",\"x\":0.9159999999999999,\"xanchor\":\"center\",\"xref\":\"paper\",\"y\":0.5800000000000001,\"yanchor\":\"bottom\",\"yref\":\"paper\"},{\"font\":{\"size\":16},\"showarrow\":false,\"text\":\"Montana\",\"x\":0.08399999999999999,\"xanchor\":\"center\",\"xref\":\"paper\",\"y\":0.47500000000000003,\"yanchor\":\"bottom\",\"yref\":\"paper\"},{\"font\":{\"size\":16},\"showarrow\":false,\"text\":\"Nebraska\",\"x\":0.292,\"xanchor\":\"center\",\"xref\":\"paper\",\"y\":0.47500000000000003,\"yanchor\":\"bottom\",\"yref\":\"paper\"},{\"font\":{\"size\":16},\"showarrow\":false,\"text\":\"Nevada\",\"x\":0.5,\"xanchor\":\"center\",\"xref\":\"paper\",\"y\":0.47500000000000003,\"yanchor\":\"bottom\",\"yref\":\"paper\"},{\"font\":{\"size\":16},\"showarrow\":false,\"text\":\"New Hampshire\",\"x\":0.708,\"xanchor\":\"center\",\"xref\":\"paper\",\"y\":0.47500000000000003,\"yanchor\":\"bottom\",\"yref\":\"paper\"},{\"font\":{\"size\":16},\"showarrow\":false,\"text\":\"New Jersey\",\"x\":0.9159999999999999,\"xanchor\":\"center\",\"xref\":\"paper\",\"y\":0.47500000000000003,\"yanchor\":\"bottom\",\"yref\":\"paper\"},{\"font\":{\"size\":16},\"showarrow\":false,\"text\":\"New Mexico\",\"x\":0.08399999999999999,\"xanchor\":\"center\",\"xref\":\"paper\",\"y\":0.37000000000000005,\"yanchor\":\"bottom\",\"yref\":\"paper\"},{\"font\":{\"size\":16},\"showarrow\":false,\"text\":\"New York\",\"x\":0.292,\"xanchor\":\"center\",\"xref\":\"paper\",\"y\":0.37000000000000005,\"yanchor\":\"bottom\",\"yref\":\"paper\"},{\"font\":{\"size\":16},\"showarrow\":false,\"text\":\"North Carolina\",\"x\":0.5,\"xanchor\":\"center\",\"xref\":\"paper\",\"y\":0.37000000000000005,\"yanchor\":\"bottom\",\"yref\":\"paper\"},{\"font\":{\"size\":16},\"showarrow\":false,\"text\":\"North Dakota\",\"x\":0.708,\"xanchor\":\"center\",\"xref\":\"paper\",\"y\":0.37000000000000005,\"yanchor\":\"bottom\",\"yref\":\"paper\"},{\"font\":{\"size\":16},\"showarrow\":false,\"text\":\"Ohio\",\"x\":0.9159999999999999,\"xanchor\":\"center\",\"xref\":\"paper\",\"y\":0.37000000000000005,\"yanchor\":\"bottom\",\"yref\":\"paper\"},{\"font\":{\"size\":16},\"showarrow\":false,\"text\":\"Oklahoma\",\"x\":0.08399999999999999,\"xanchor\":\"center\",\"xref\":\"paper\",\"y\":0.265,\"yanchor\":\"bottom\",\"yref\":\"paper\"},{\"font\":{\"size\":16},\"showarrow\":false,\"text\":\"Oregon\",\"x\":0.292,\"xanchor\":\"center\",\"xref\":\"paper\",\"y\":0.265,\"yanchor\":\"bottom\",\"yref\":\"paper\"},{\"font\":{\"size\":16},\"showarrow\":false,\"text\":\"Pennsylvania\",\"x\":0.5,\"xanchor\":\"center\",\"xref\":\"paper\",\"y\":0.265,\"yanchor\":\"bottom\",\"yref\":\"paper\"},{\"font\":{\"size\":16},\"showarrow\":false,\"text\":\"Rhode Island\",\"x\":0.708,\"xanchor\":\"center\",\"xref\":\"paper\",\"y\":0.265,\"yanchor\":\"bottom\",\"yref\":\"paper\"},{\"font\":{\"size\":16},\"showarrow\":false,\"text\":\"South Carolina\",\"x\":0.9159999999999999,\"xanchor\":\"center\",\"xref\":\"paper\",\"y\":0.265,\"yanchor\":\"bottom\",\"yref\":\"paper\"},{\"font\":{\"size\":16},\"showarrow\":false,\"text\":\"South Dakota\",\"x\":0.08399999999999999,\"xanchor\":\"center\",\"xref\":\"paper\",\"y\":0.16000000000000003,\"yanchor\":\"bottom\",\"yref\":\"paper\"},{\"font\":{\"size\":16},\"showarrow\":false,\"text\":\"Tennessee\",\"x\":0.292,\"xanchor\":\"center\",\"xref\":\"paper\",\"y\":0.16000000000000003,\"yanchor\":\"bottom\",\"yref\":\"paper\"},{\"font\":{\"size\":16},\"showarrow\":false,\"text\":\"Texas\",\"x\":0.5,\"xanchor\":\"center\",\"xref\":\"paper\",\"y\":0.16000000000000003,\"yanchor\":\"bottom\",\"yref\":\"paper\"},{\"font\":{\"size\":16},\"showarrow\":false,\"text\":\"Utah\",\"x\":0.708,\"xanchor\":\"center\",\"xref\":\"paper\",\"y\":0.16000000000000003,\"yanchor\":\"bottom\",\"yref\":\"paper\"},{\"font\":{\"size\":16},\"showarrow\":false,\"text\":\"Vermont\",\"x\":0.9159999999999999,\"xanchor\":\"center\",\"xref\":\"paper\",\"y\":0.16000000000000003,\"yanchor\":\"bottom\",\"yref\":\"paper\"},{\"font\":{\"size\":16},\"showarrow\":false,\"text\":\"Virginia\",\"x\":0.08399999999999999,\"xanchor\":\"center\",\"xref\":\"paper\",\"y\":0.05500000000000001,\"yanchor\":\"bottom\",\"yref\":\"paper\"},{\"font\":{\"size\":16},\"showarrow\":false,\"text\":\"Washington\",\"x\":0.292,\"xanchor\":\"center\",\"xref\":\"paper\",\"y\":0.05500000000000001,\"yanchor\":\"bottom\",\"yref\":\"paper\"},{\"font\":{\"size\":16},\"showarrow\":false,\"text\":\"West Virginia\",\"x\":0.5,\"xanchor\":\"center\",\"xref\":\"paper\",\"y\":0.05500000000000001,\"yanchor\":\"bottom\",\"yref\":\"paper\"},{\"font\":{\"size\":16},\"showarrow\":false,\"text\":\"Wisconsin\",\"x\":0.708,\"xanchor\":\"center\",\"xref\":\"paper\",\"y\":0.05500000000000001,\"yanchor\":\"bottom\",\"yref\":\"paper\"},{\"font\":{\"size\":16},\"showarrow\":false,\"text\":\"Wyoming\",\"x\":0.9159999999999999,\"xanchor\":\"center\",\"xref\":\"paper\",\"y\":0.05500000000000001,\"yanchor\":\"bottom\",\"yref\":\"paper\"}],\"title\":{\"text\":\"Gun Laws By State\"}},                        {\"responsive\": true}                    ).then(function(){\n",
       "                            \n",
       "var gd = document.getElementById('acfc3e61-c80b-48d1-bdd9-0351ebaf19b1');\n",
       "var x = new MutationObserver(function (mutations, observer) {{\n",
       "        var display = window.getComputedStyle(gd).display;\n",
       "        if (!display || display === 'none') {{\n",
       "            console.log([gd, 'removed!']);\n",
       "            Plotly.purge(gd);\n",
       "            observer.disconnect();\n",
       "        }}\n",
       "}});\n",
       "\n",
       "// Listen for the removal of the full notebook cells\n",
       "var notebookContainer = gd.closest('#notebook-container');\n",
       "if (notebookContainer) {{\n",
       "    x.observe(notebookContainer, {childList: true});\n",
       "}}\n",
       "\n",
       "// Listen for the clearing of the current output cell\n",
       "var outputEl = gd.closest('.output');\n",
       "if (outputEl) {{\n",
       "    x.observe(outputEl, {childList: true});\n",
       "}}\n",
       "\n",
       "                        })                };                });            </script>        </div>"
      ]
     },
     "metadata": {},
     "output_type": "display_data"
    }
   ],
   "source": [
    "import plotly.graph_objects as go\n",
    "from plotly.subplots import make_subplots\n",
    "\n",
    "\n",
    "fig = make_subplots(rows=10, cols=5, subplot_titles=('Alabama', 'Alaska', 'Arizona', 'Arkansas', 'California', \n",
    "                                                     'Colorado', 'Connecticut', 'Delaware', 'Florida', 'Georgia',\n",
    "                                                     'Hawaii', 'Idaho', 'Illinois', 'Indiana', 'Iowa', \n",
    "                                                     'Kansas', 'Kentucky', 'Louisiana', 'Maine', 'Maryland',\n",
    "                                                     'Massachusetts', 'Michigan', 'Minnesota', 'Mississippi', 'Missouri',\n",
    "                                                     'Montana', 'Nebraska', 'Nevada', 'New Hampshire', 'New Jersey', \n",
    "                                                     'New Mexico', 'New York', 'North Carolina', 'North Dakota', 'Ohio', \n",
    "                                                     'Oklahoma', 'Oregon', 'Pennsylvania', 'Rhode Island', 'South Carolina',\n",
    "                                                     'South Dakota', 'Tennessee', 'Texas', 'Utah', 'Vermont', \n",
    "                                                     'Virginia', 'Washington', 'West Virginia', 'Wisconsin', 'Wyoming'), \n",
    "                    specs=[[{'type': 'polar'}]*5]*10)\n",
    "            \n",
    "\n",
    "            \n",
    "\n",
    "fig.add_trace(go.Scatterpolar(\n",
    "        name = \"Alabama\",\n",
    "        theta=df_AL['Subject/Law'],\n",
    "        r=df_AL['value']\n",
    "        ), 1, 1)\n",
    "fig.add_trace(go.Scatterpolar(\n",
    "        name = \"Alaska\",\n",
    "        theta=df_AK['Subject/Law'],\n",
    "        r=df_AK['value']\n",
    "        ), 1, 2)\n",
    "fig.add_trace(go.Scatterpolar(\n",
    "        name = \"Arizona\",\n",
    "        theta=df_AZ['Subject/Law'],\n",
    "        r=df_AZ['value']\n",
    "        ), 1, 3)\n",
    "fig.add_trace(go.Scatterpolar(\n",
    "        name = \"Arkansas\",\n",
    "        theta=df_AR['Subject/Law'],\n",
    "        r=df_AR['value']\n",
    "        ), 1, 4)\n",
    "fig.add_trace(go.Scatterpolar(\n",
    "        name = \"California\",\n",
    "        theta=df_CA['Subject/Law'],\n",
    "        r=df_CA['value']\n",
    "        ), 1, 5)\n",
    "fig.add_trace(go.Scatterpolar(\n",
    "        name = \"Colorado\",\n",
    "        theta=df_CO['Subject/Law'],\n",
    "        r=df_CO['value']\n",
    "        ), 2, 1)\n",
    "fig.add_trace(go.Scatterpolar(\n",
    "        name = \"Connecticut\",\n",
    "        theta=df_CT['Subject/Law'],\n",
    "        r=df_CT['value']\n",
    "        ), 2, 2)\n",
    "fig.add_trace(go.Scatterpolar(\n",
    "        name = \"Delaware\",\n",
    "        theta=df_DE['Subject/Law'],\n",
    "        r=df_DE['value']\n",
    "        ), 2, 3)\n",
    "fig.add_trace(go.Scatterpolar(\n",
    "        name = \"Florida\",\n",
    "        theta=df_FL['Subject/Law'],\n",
    "        r=df_FL['value']\n",
    "        ), 2, 4)\n",
    "fig.add_trace(go.Scatterpolar(\n",
    "        name = \"Georgia\",\n",
    "        theta=df_GA['Subject/Law'],\n",
    "        r=df_GA['value']\n",
    "        ), 2, 5)\n",
    "fig.add_trace(go.Scatterpolar(\n",
    "        name = \"Hawaii\",\n",
    "        theta=df_HI['Subject/Law'],\n",
    "        r=df_HI['value']\n",
    "        ), 3, 1)\n",
    "fig.add_trace(go.Scatterpolar(\n",
    "        name = \"Idaho\",\n",
    "        theta=df_ID['Subject/Law'],\n",
    "        r=df_ID['value']\n",
    "        ), 3, 2)\n",
    "fig.add_trace(go.Scatterpolar(\n",
    "        name = \"Illinois\",\n",
    "        theta=df_IL['Subject/Law'],\n",
    "        r=df_IL['value']\n",
    "        ), 3, 3)\n",
    "fig.add_trace(go.Scatterpolar(\n",
    "        name = \"Indiana\",\n",
    "        theta=df_IN['Subject/Law'],\n",
    "        r=df_IN['value']\n",
    "        ), 3, 4)\n",
    "fig.add_trace(go.Scatterpolar(\n",
    "        name = \"Iowa\",\n",
    "        theta=df_IA['Subject/Law'],\n",
    "        r=df_IA['value']\n",
    "        ), 3, 5)\n",
    "fig.add_trace(go.Scatterpolar(\n",
    "        name = \"Alabama\",\n",
    "        theta=df_IA['Subject/Law'],\n",
    "        r=df_IA['value']\n",
    "        ), 4, 1)\n",
    "fig.add_trace(go.Scatterpolar(\n",
    "        name = \"Alaska\",\n",
    "        theta=df_IA['Subject/Law'],\n",
    "        r=df_IA['value']\n",
    "        ), 4, 2)\n",
    "fig.add_trace(go.Scatterpolar(\n",
    "        name = \"Arizona\",\n",
    "        theta=df_IA['Subject/Law'],\n",
    "        r=df_IA['value']\n",
    "        ), 4, 3)\n",
    "fig.add_trace(go.Scatterpolar(\n",
    "        name = \"Arkansas\",\n",
    "        theta=df_IA['Subject/Law'],\n",
    "        r=df_IA['value']\n",
    "        ), 4, 4)\n",
    "fig.add_trace(go.Scatterpolar(\n",
    "        name = \"Arkansas\",\n",
    "        theta=df_IA['Subject/Law'],\n",
    "        r=df_IA['value']\n",
    "        ), 4, 5)\n",
    "fig.add_trace(go.Scatterpolar(\n",
    "        name = \"Alabama\",\n",
    "        theta=df_IA['Subject/Law'],\n",
    "        r=df_IA['value']\n",
    "        ), 5, 1)\n",
    "fig.add_trace(go.Scatterpolar(\n",
    "        name = \"Alaska\",\n",
    "        theta=df_IA['Subject/Law'],\n",
    "        r=df_IA['value']\n",
    "        ), 5, 2)\n",
    "fig.add_trace(go.Scatterpolar(\n",
    "        name = \"Arizona\",\n",
    "        theta=df_IA['Subject/Law'],\n",
    "        r=df_IA['value']\n",
    "        ), 5, 3)\n",
    "fig.add_trace(go.Scatterpolar(\n",
    "        name = \"Arkansas\",\n",
    "        theta=df_IA['Subject/Law'],\n",
    "        r=df_IA['value']\n",
    "        ), 5, 4)\n",
    "fig.add_trace(go.Scatterpolar(\n",
    "        name = \"Arkansas\",\n",
    "        theta=df_IA['Subject/Law'],\n",
    "        r=df_IA['value']\n",
    "        ), 5, 5)\n",
    "fig.add_trace(go.Scatterpolar(\n",
    "        name = \"Alabama\",\n",
    "        theta=df_IA['Subject/Law'],\n",
    "        r=df_IA['value']\n",
    "        ), 6, 1)\n",
    "fig.add_trace(go.Scatterpolar(\n",
    "        name = \"Alaska\",\n",
    "        theta=df_IA['Subject/Law'],\n",
    "        r=df_IA['value']\n",
    "        ), 6, 2)\n",
    "fig.add_trace(go.Scatterpolar(\n",
    "        name = \"Arizona\",\n",
    "        theta=df_IA['Subject/Law'],\n",
    "        r=df_IA['value']\n",
    "        ), 6, 3)\n",
    "fig.add_trace(go.Scatterpolar(\n",
    "        name = \"Arkansas\",\n",
    "        theta=df_IA['Subject/Law'],\n",
    "        r=df_IA['value']\n",
    "        ), 6, 4)\n",
    "fig.add_trace(go.Scatterpolar(\n",
    "        name = \"Arkansas\",\n",
    "        theta=df_IA['Subject/Law'],\n",
    "        r=df_IA['value']\n",
    "        ), 6, 5)\n",
    "fig.add_trace(go.Scatterpolar(\n",
    "        name = \"Alabama\",\n",
    "        theta=df_IA['Subject/Law'],\n",
    "        r=df_IA['value']\n",
    "        ), 7, 1)\n",
    "fig.add_trace(go.Scatterpolar(\n",
    "        name = \"Alaska\",\n",
    "        theta=df_IA['Subject/Law'],\n",
    "        r=df_IA['value']\n",
    "        ), 7, 2)\n",
    "fig.add_trace(go.Scatterpolar(\n",
    "        name = \"Arizona\",\n",
    "        theta=df_IA['Subject/Law'],\n",
    "        r=df_IA['value']\n",
    "        ), 7, 3)\n",
    "fig.add_trace(go.Scatterpolar(\n",
    "        name = \"Arkansas\",\n",
    "        theta=df_IA['Subject/Law'],\n",
    "        r=df_IA['value']\n",
    "        ), 7, 4)\n",
    "fig.add_trace(go.Scatterpolar(\n",
    "        name = \"Arkansas\",\n",
    "        theta=df_IA['Subject/Law'],\n",
    "        r=df_IA['value']\n",
    "        ), 7, 5)\n",
    "fig.add_trace(go.Scatterpolar(\n",
    "        name = \"Alabama\",\n",
    "        theta=df_IA['Subject/Law'],\n",
    "        r=df_IA['value']\n",
    "        ), 8, 1)\n",
    "fig.add_trace(go.Scatterpolar(\n",
    "        name = \"Alaska\",\n",
    "        theta=df_IA['Subject/Law'],\n",
    "        r=df_IA['value']\n",
    "        ), 8, 2)\n",
    "fig.add_trace(go.Scatterpolar(\n",
    "        name = \"Arizona\",\n",
    "        theta=df_IA['Subject/Law'],\n",
    "        r=df_IA['value']\n",
    "        ), 8, 3)\n",
    "fig.add_trace(go.Scatterpolar(\n",
    "        name = \"Arkansas\",\n",
    "        theta=df_IA['Subject/Law'],\n",
    "        r=df_IA['value']\n",
    "        ), 8, 4)\n",
    "fig.add_trace(go.Scatterpolar(\n",
    "        name = \"Arkansas\",\n",
    "        theta=df_IA['Subject/Law'],\n",
    "        r=df_IA['value']\n",
    "        ), 8, 5)\n",
    "fig.add_trace(go.Scatterpolar(\n",
    "        name = \"Alabama\",\n",
    "        theta=df_IA['Subject/Law'],\n",
    "        r=df_IA['value']\n",
    "        ), 9, 1)\n",
    "fig.add_trace(go.Scatterpolar(\n",
    "        name = \"Alaska\",\n",
    "        theta=df_IA['Subject/Law'],\n",
    "        r=df_IA['value']\n",
    "        ), 9, 2)\n",
    "fig.add_trace(go.Scatterpolar(\n",
    "        name = \"Arizona\",\n",
    "        theta=df_IA['Subject/Law'],\n",
    "        r=df_IA['value']\n",
    "        ), 9, 3)\n",
    "fig.add_trace(go.Scatterpolar(\n",
    "        name = \"Arkansas\",\n",
    "        theta=df_IA['Subject/Law'],\n",
    "        r=df_IA['value']\n",
    "        ), 9, 4)\n",
    "fig.add_trace(go.Scatterpolar(\n",
    "        name = \"Arkansas\",\n",
    "        theta=df_IA['Subject/Law'],\n",
    "        r=df_IA['value']\n",
    "        ), 9, 5)\n",
    "fig.add_trace(go.Scatterpolar(\n",
    "        name = \"Virginia\",\n",
    "         theta=df_VA['Subject/Law'],\n",
    "        r=df_VA['value']\n",
    "        ), 10, 1)\n",
    "fig.add_trace(go.Scatterpolar(\n",
    "        name = \"Washington\",\n",
    "        theta=df_WA['Subject/Law'],\n",
    "        r=df_WA['value']\n",
    "        ), 10, 2)\n",
    "fig.add_trace(go.Scatterpolar(\n",
    "        name = \"Virginia\",\n",
    "        theta=df_WV['Subject/Law'],\n",
    "        r=df_WV['value']\n",
    "        ), 10, 3)\n",
    "fig.add_trace(go.Scatterpolar(\n",
    "        name = \"Wisconsin\",\n",
    "        theta=df_WI['Subject/Law'],\n",
    "        r=df_WI['value']\n",
    "        ), 10, 4)\n",
    "fig.add_trace(go.Scatterpolar(\n",
    "        name = \"Wyoming\",\n",
    "        theta=df_WY['Subject/Law'],\n",
    "        r=df_WY['value']\n",
    "        ), 10, 5)\n",
    "\n",
    "fig.update_traces(fill='toself')\n",
    "\n",
    "fig.update_layout(title_text=\"Gun Laws By State\")\n",
    "\n",
    "fig.show()"
   ]
  },
  {
   "cell_type": "code",
   "execution_count": null,
   "id": "c9e1591b",
   "metadata": {},
   "outputs": [],
   "source": [
    "import plotly.express as px\n",
    "import pandas as pd\n",
    "\n",
    "# Sample data\n",
    "data = {\n",
    "    df['Subject/Law']: [10, 20, 30],\n",
    "    \"Variable2\": [15, 25, 35],\n",
    "    \"Variable3\": [20, 30, 40],\n",
    "    \"Variable4\": [30, 40, 50],\n",
    "    \"Variable5\": [35, 45, 55],\n",
    "    \"Variable6\": [40, 50, 60],\n",
    "    \"Variable7\": [45, 55, 65],\n",
    "    \"Variable8\": [50, 60, 70],\n",
    "    \"Variable9\": [55, 65, 75]\n",
    "}\n",
    "df = pd.DataFrame(data)\n",
    "\n",
    "# Plot the radar charts\n",
    "fig = px.line_polar(df, r=\"Variable1\", theta=df.columns[1:], line_close=True)\n",
    "\n",
    "# Add multiple subplots to the figure\n",
    "for i in range(1, df.shape[1]):\n",
    "    fig.add_trace(px.line_polar(df, r=df.columns[i], theta=df.columns[1:], line_close=True))\n",
    "\n",
    "# Show the plot\n",
    "fig.show()"
   ]
  },
  {
   "cell_type": "code",
   "execution_count": 6,
   "id": "4dbf1520",
   "metadata": {},
   "outputs": [
    {
     "data": {
      "text/html": [
       "<div>\n",
       "<style scoped>\n",
       "    .dataframe tbody tr th:only-of-type {\n",
       "        vertical-align: middle;\n",
       "    }\n",
       "\n",
       "    .dataframe tbody tr th {\n",
       "        vertical-align: top;\n",
       "    }\n",
       "\n",
       "    .dataframe thead th {\n",
       "        text-align: right;\n",
       "    }\n",
       "</style>\n",
       "<table border=\"1\" class=\"dataframe\">\n",
       "  <thead>\n",
       "    <tr style=\"text-align: right;\">\n",
       "      <th></th>\n",
       "      <th>Date</th>\n",
       "      <th>City</th>\n",
       "      <th>State</th>\n",
       "      <th>Latitude</th>\n",
       "      <th>Longitude</th>\n",
       "      <th>Total shot</th>\n",
       "      <th>Number killed</th>\n",
       "      <th>Number wounded</th>\n",
       "      <th>Assault weapon OR high-capacity magazine</th>\n",
       "      <th>Prohibited shooter</th>\n",
       "      <th>Killed intimate partner or family</th>\n",
       "      <th>Dangerous warning signs</th>\n",
       "      <th>Narrative</th>\n",
       "      <th>Last updated</th>\n",
       "    </tr>\n",
       "  </thead>\n",
       "  <tbody>\n",
       "    <tr>\n",
       "      <th>0</th>\n",
       "      <td>2009-01-27</td>\n",
       "      <td>Wilmington</td>\n",
       "      <td>CA</td>\n",
       "      <td>33.783263</td>\n",
       "      <td>-118.254934</td>\n",
       "      <td>6</td>\n",
       "      <td>6</td>\n",
       "      <td>0</td>\n",
       "      <td>No</td>\n",
       "      <td>No</td>\n",
       "      <td>Yes</td>\n",
       "      <td>No</td>\n",
       "      <td>A shooter fatally shot his wife and their five...</td>\n",
       "      <td>2023-01-20T19:50:14.000Z</td>\n",
       "    </tr>\n",
       "    <tr>\n",
       "      <th>1</th>\n",
       "      <td>2009-02-14</td>\n",
       "      <td>Brockport</td>\n",
       "      <td>NY</td>\n",
       "      <td>43.221000</td>\n",
       "      <td>-77.943000</td>\n",
       "      <td>5</td>\n",
       "      <td>4</td>\n",
       "      <td>1</td>\n",
       "      <td>No</td>\n",
       "      <td>No</td>\n",
       "      <td>No</td>\n",
       "      <td>Yes</td>\n",
       "      <td>A shooter fatally shot a nurse in the parking ...</td>\n",
       "      <td>2023-01-20T19:50:14.000Z</td>\n",
       "    </tr>\n",
       "    <tr>\n",
       "      <th>2</th>\n",
       "      <td>2009-03-05</td>\n",
       "      <td>Cleveland</td>\n",
       "      <td>OH</td>\n",
       "      <td>41.477464</td>\n",
       "      <td>-81.686514</td>\n",
       "      <td>6</td>\n",
       "      <td>5</td>\n",
       "      <td>1</td>\n",
       "      <td>No</td>\n",
       "      <td>Yes</td>\n",
       "      <td>Yes</td>\n",
       "      <td>No</td>\n",
       "      <td>A shooter fatally shot his wife and four of he...</td>\n",
       "      <td>2023-01-20T19:50:14.000Z</td>\n",
       "    </tr>\n",
       "    <tr>\n",
       "      <th>3</th>\n",
       "      <td>2009-03-10</td>\n",
       "      <td>Coffee and Geneva County</td>\n",
       "      <td>AL</td>\n",
       "      <td>31.112900</td>\n",
       "      <td>-86.045900</td>\n",
       "      <td>14</td>\n",
       "      <td>10</td>\n",
       "      <td>4</td>\n",
       "      <td>Yes</td>\n",
       "      <td>No</td>\n",
       "      <td>Yes</td>\n",
       "      <td>No</td>\n",
       "      <td>A shooter killed 10 people and injured four in...</td>\n",
       "      <td>2021-06-02T14:41:58.000Z</td>\n",
       "    </tr>\n",
       "    <tr>\n",
       "      <th>4</th>\n",
       "      <td>2009-03-15</td>\n",
       "      <td>Miami</td>\n",
       "      <td>FL</td>\n",
       "      <td>25.737781</td>\n",
       "      <td>-80.259580</td>\n",
       "      <td>4</td>\n",
       "      <td>4</td>\n",
       "      <td>0</td>\n",
       "      <td>Yes</td>\n",
       "      <td>No</td>\n",
       "      <td>Yes</td>\n",
       "      <td>No</td>\n",
       "      <td>At a birthday party, a shooter fatally shot hi...</td>\n",
       "      <td>2021-06-02T14:41:58.000Z</td>\n",
       "    </tr>\n",
       "  </tbody>\n",
       "</table>\n",
       "</div>"
      ],
      "text/plain": [
       "         Date                      City State   Latitude   Longitude  \\\n",
       "0  2009-01-27                Wilmington    CA  33.783263 -118.254934   \n",
       "1  2009-02-14                 Brockport    NY  43.221000  -77.943000   \n",
       "2  2009-03-05                 Cleveland    OH  41.477464  -81.686514   \n",
       "3  2009-03-10  Coffee and Geneva County    AL  31.112900  -86.045900   \n",
       "4  2009-03-15                     Miami    FL  25.737781  -80.259580   \n",
       "\n",
       "   Total shot  Number killed  Number wounded  \\\n",
       "0           6              6               0   \n",
       "1           5              4               1   \n",
       "2           6              5               1   \n",
       "3          14             10               4   \n",
       "4           4              4               0   \n",
       "\n",
       "  Assault weapon OR high-capacity magazine Prohibited shooter  \\\n",
       "0                                       No                 No   \n",
       "1                                       No                 No   \n",
       "2                                       No                Yes   \n",
       "3                                      Yes                 No   \n",
       "4                                      Yes                 No   \n",
       "\n",
       "  Killed intimate partner or family Dangerous warning signs  \\\n",
       "0                               Yes                      No   \n",
       "1                                No                     Yes   \n",
       "2                               Yes                      No   \n",
       "3                               Yes                      No   \n",
       "4                               Yes                      No   \n",
       "\n",
       "                                           Narrative              Last updated  \n",
       "0  A shooter fatally shot his wife and their five...  2023-01-20T19:50:14.000Z  \n",
       "1  A shooter fatally shot a nurse in the parking ...  2023-01-20T19:50:14.000Z  \n",
       "2  A shooter fatally shot his wife and four of he...  2023-01-20T19:50:14.000Z  \n",
       "3  A shooter killed 10 people and injured four in...  2021-06-02T14:41:58.000Z  \n",
       "4  At a birthday party, a shooter fatally shot hi...  2021-06-02T14:41:58.000Z  "
      ]
     },
     "execution_count": 6,
     "metadata": {},
     "output_type": "execute_result"
    }
   ],
   "source": [
    "df2 = pd.read_csv('everytownresearch-massshootings.csv')\n",
    "df2.head()"
   ]
  },
  {
   "cell_type": "code",
   "execution_count": 44,
   "id": "14e06cfd",
   "metadata": {},
   "outputs": [
    {
     "data": {
      "text/html": [
       "<div>\n",
       "<style scoped>\n",
       "    .dataframe tbody tr th:only-of-type {\n",
       "        vertical-align: middle;\n",
       "    }\n",
       "\n",
       "    .dataframe tbody tr th {\n",
       "        vertical-align: top;\n",
       "    }\n",
       "\n",
       "    .dataframe thead th {\n",
       "        text-align: right;\n",
       "    }\n",
       "</style>\n",
       "<table border=\"1\" class=\"dataframe\">\n",
       "  <thead>\n",
       "    <tr style=\"text-align: right;\">\n",
       "      <th></th>\n",
       "      <th>Date</th>\n",
       "      <th>City</th>\n",
       "      <th>State</th>\n",
       "      <th>Latitude</th>\n",
       "      <th>Longitude</th>\n",
       "      <th>Total shot</th>\n",
       "      <th>Number killed</th>\n",
       "      <th>Number wounded</th>\n",
       "      <th>Assault weapon OR high-capacity magazine</th>\n",
       "      <th>Prohibited shooter</th>\n",
       "      <th>Killed intimate partner or family</th>\n",
       "      <th>Dangerous warning signs</th>\n",
       "      <th>Narrative</th>\n",
       "      <th>Last updated</th>\n",
       "    </tr>\n",
       "  </thead>\n",
       "  <tbody>\n",
       "    <tr>\n",
       "      <th>0</th>\n",
       "      <td>2009-01-27</td>\n",
       "      <td>Wilmington</td>\n",
       "      <td>California</td>\n",
       "      <td>33.783263</td>\n",
       "      <td>-118.254934</td>\n",
       "      <td>6</td>\n",
       "      <td>6</td>\n",
       "      <td>0</td>\n",
       "      <td>No</td>\n",
       "      <td>No</td>\n",
       "      <td>Yes</td>\n",
       "      <td>No</td>\n",
       "      <td>A shooter fatally shot his wife and their five...</td>\n",
       "      <td>2023-01-20T19:50:14.000Z</td>\n",
       "    </tr>\n",
       "    <tr>\n",
       "      <th>1</th>\n",
       "      <td>2009-02-14</td>\n",
       "      <td>Brockport</td>\n",
       "      <td>New York</td>\n",
       "      <td>43.221000</td>\n",
       "      <td>-77.943000</td>\n",
       "      <td>5</td>\n",
       "      <td>4</td>\n",
       "      <td>1</td>\n",
       "      <td>No</td>\n",
       "      <td>No</td>\n",
       "      <td>No</td>\n",
       "      <td>Yes</td>\n",
       "      <td>A shooter fatally shot a nurse in the parking ...</td>\n",
       "      <td>2023-01-20T19:50:14.000Z</td>\n",
       "    </tr>\n",
       "    <tr>\n",
       "      <th>2</th>\n",
       "      <td>2009-03-05</td>\n",
       "      <td>Cleveland</td>\n",
       "      <td>Ohio</td>\n",
       "      <td>41.477464</td>\n",
       "      <td>-81.686514</td>\n",
       "      <td>6</td>\n",
       "      <td>5</td>\n",
       "      <td>1</td>\n",
       "      <td>No</td>\n",
       "      <td>Yes</td>\n",
       "      <td>Yes</td>\n",
       "      <td>No</td>\n",
       "      <td>A shooter fatally shot his wife and four of he...</td>\n",
       "      <td>2023-01-20T19:50:14.000Z</td>\n",
       "    </tr>\n",
       "    <tr>\n",
       "      <th>3</th>\n",
       "      <td>2009-03-10</td>\n",
       "      <td>Coffee and Geneva County</td>\n",
       "      <td>Alabama</td>\n",
       "      <td>31.112900</td>\n",
       "      <td>-86.045900</td>\n",
       "      <td>14</td>\n",
       "      <td>10</td>\n",
       "      <td>4</td>\n",
       "      <td>Yes</td>\n",
       "      <td>No</td>\n",
       "      <td>Yes</td>\n",
       "      <td>No</td>\n",
       "      <td>A shooter killed 10 people and injured four in...</td>\n",
       "      <td>2021-06-02T14:41:58.000Z</td>\n",
       "    </tr>\n",
       "    <tr>\n",
       "      <th>4</th>\n",
       "      <td>2009-03-15</td>\n",
       "      <td>Miami</td>\n",
       "      <td>Florida</td>\n",
       "      <td>25.737781</td>\n",
       "      <td>-80.259580</td>\n",
       "      <td>4</td>\n",
       "      <td>4</td>\n",
       "      <td>0</td>\n",
       "      <td>Yes</td>\n",
       "      <td>No</td>\n",
       "      <td>Yes</td>\n",
       "      <td>No</td>\n",
       "      <td>At a birthday party, a shooter fatally shot hi...</td>\n",
       "      <td>2021-06-02T14:41:58.000Z</td>\n",
       "    </tr>\n",
       "  </tbody>\n",
       "</table>\n",
       "</div>"
      ],
      "text/plain": [
       "         Date                      City       State   Latitude   Longitude  \\\n",
       "0  2009-01-27                Wilmington  California  33.783263 -118.254934   \n",
       "1  2009-02-14                 Brockport    New York  43.221000  -77.943000   \n",
       "2  2009-03-05                 Cleveland        Ohio  41.477464  -81.686514   \n",
       "3  2009-03-10  Coffee and Geneva County     Alabama  31.112900  -86.045900   \n",
       "4  2009-03-15                     Miami     Florida  25.737781  -80.259580   \n",
       "\n",
       "   Total shot  Number killed  Number wounded  \\\n",
       "0           6              6               0   \n",
       "1           5              4               1   \n",
       "2           6              5               1   \n",
       "3          14             10               4   \n",
       "4           4              4               0   \n",
       "\n",
       "  Assault weapon OR high-capacity magazine Prohibited shooter  \\\n",
       "0                                       No                 No   \n",
       "1                                       No                 No   \n",
       "2                                       No                Yes   \n",
       "3                                      Yes                 No   \n",
       "4                                      Yes                 No   \n",
       "\n",
       "  Killed intimate partner or family Dangerous warning signs  \\\n",
       "0                               Yes                      No   \n",
       "1                                No                     Yes   \n",
       "2                               Yes                      No   \n",
       "3                               Yes                      No   \n",
       "4                               Yes                      No   \n",
       "\n",
       "                                           Narrative              Last updated  \n",
       "0  A shooter fatally shot his wife and their five...  2023-01-20T19:50:14.000Z  \n",
       "1  A shooter fatally shot a nurse in the parking ...  2023-01-20T19:50:14.000Z  \n",
       "2  A shooter fatally shot his wife and four of he...  2023-01-20T19:50:14.000Z  \n",
       "3  A shooter killed 10 people and injured four in...  2021-06-02T14:41:58.000Z  \n",
       "4  At a birthday party, a shooter fatally shot hi...  2021-06-02T14:41:58.000Z  "
      ]
     },
     "execution_count": 44,
     "metadata": {},
     "output_type": "execute_result"
    }
   ],
   "source": [
    "states = {\n",
    "            'AL': 'Alabama',\n",
    "            'AK': 'Alaska',\n",
    "            'AZ': 'Arizona',\n",
    "            'AR': 'Arkansas',\n",
    "            'CA': 'California',\n",
    "            'CO': 'Colorado',\n",
    "            'CT': 'Connecticut',\n",
    "            'DE': 'Delaware',\n",
    "            'FL': 'Florida',\n",
    "            'GA': 'Georgia',\n",
    "            'HI': 'Hawaii',\n",
    "            'ID': 'Idaho',\n",
    "            'IL': 'Illinois',\n",
    "            'IN': 'Indiana',\n",
    "            'IA': 'Iowa',\n",
    "            'KS': 'Kansas',\n",
    "            'KY': 'Kentucky',\n",
    "            'LA': 'Louisiana',\n",
    "            'ME': 'Maine',\n",
    "            'MD': 'Maryland',\n",
    "            'MA': 'Massachusetts',\n",
    "            'MI': 'Michigan',\n",
    "            'MN': 'Minnesota',\n",
    "            'MS': 'Mississippi',\n",
    "            'MO': 'Missouri',\n",
    "            'MT': 'Montana',\n",
    "            'NE': 'Nebraska',\n",
    "            'NV': 'Nevada',\n",
    "            'NH': 'New Hampshire',\n",
    "            'NJ': 'New Jersey',\n",
    "            'NM': 'New Mexico',\n",
    "            'NY': 'New York',\n",
    "            'NC': 'North Carolina',\n",
    "            'ND': 'North Dakota',\n",
    "            'OH': 'Ohio',\n",
    "            'OK': 'Oklahoma',\n",
    "            'OR': 'Oregon',\n",
    "            'PA': 'Pennsylvania',\n",
    "            'RI': 'Rhode Island',\n",
    "            'SC': 'South Carolina',\n",
    "            'SD': 'South Dakota',\n",
    "            'TN': 'Tennessee',\n",
    "            'TX': 'Texas',\n",
    "            'UT': 'Utah',\n",
    "            'VT': 'Vermont',\n",
    "            'VA': 'Virginia',\n",
    "            'WA': 'Washington',\n",
    "            'WV': 'West Virginia',\n",
    "            'WI': 'Wisconsin',\n",
    "            'WY': 'Wyoming',\n",
    "            'DC': 'District of Columbia',\n",
    "            'MP': 'Northern Mariana Islands',\n",
    "            'PW': 'Palau',\n",
    "            'PR': 'Puerto Rico',\n",
    "            'VI': 'Virgin Islands',\n",
    "            'AA': 'Armed Forces Americas (Except Canada)',\n",
    "            'AE': 'Armed Forces Africa/Canada/Europe/Middle East',\n",
    "            'AP': 'Armed Forces Pacific'\n",
    "}\n",
    "    \n",
    "states = {state: abbrev for state, abbrev in states.items()}\n",
    "df2['State'] = df2['State'].replace(states)\n",
    "df2.head()"
   ]
  },
  {
   "cell_type": "code",
   "execution_count": 139,
   "id": "97e9e75b",
   "metadata": {},
   "outputs": [
    {
     "data": {
      "text/plain": [
       "State\n",
       "Alabama        35\n",
       "Alaska          4\n",
       "Arizona        54\n",
       "Arkansas       13\n",
       "California    273\n",
       "Name: Total shot, dtype: int64"
      ]
     },
     "execution_count": 139,
     "metadata": {},
     "output_type": "execute_result"
    }
   ],
   "source": [
    "dff2 = df2.groupby('State')['Total shot'].sum()\n",
    "dff2.head()"
   ]
  },
  {
   "cell_type": "code",
   "execution_count": 140,
   "id": "0ce261e3",
   "metadata": {},
   "outputs": [
    {
     "data": {
      "text/html": [
       "<div>\n",
       "<style scoped>\n",
       "    .dataframe tbody tr th:only-of-type {\n",
       "        vertical-align: middle;\n",
       "    }\n",
       "\n",
       "    .dataframe tbody tr th {\n",
       "        vertical-align: top;\n",
       "    }\n",
       "\n",
       "    .dataframe thead th {\n",
       "        text-align: right;\n",
       "    }\n",
       "</style>\n",
       "<table border=\"1\" class=\"dataframe\">\n",
       "  <thead>\n",
       "    <tr style=\"text-align: right;\">\n",
       "      <th></th>\n",
       "      <th>A W L?</th>\n",
       "      <th>B C?</th>\n",
       "      <th>F R?</th>\n",
       "      <th>M C R?</th>\n",
       "      <th>NFA?</th>\n",
       "      <th>O C?</th>\n",
       "      <th>O L?</th>\n",
       "      <th>C C P?</th>\n",
       "      <th>O C P?</th>\n",
       "      <th>P P?</th>\n",
       "      <th>Gun safety ranking</th>\n",
       "      <th>Total shot</th>\n",
       "    </tr>\n",
       "    <tr>\n",
       "      <th>State</th>\n",
       "      <th></th>\n",
       "      <th></th>\n",
       "      <th></th>\n",
       "      <th></th>\n",
       "      <th></th>\n",
       "      <th></th>\n",
       "      <th></th>\n",
       "      <th></th>\n",
       "      <th></th>\n",
       "      <th></th>\n",
       "      <th></th>\n",
       "      <th></th>\n",
       "    </tr>\n",
       "  </thead>\n",
       "  <tbody>\n",
       "    <tr>\n",
       "      <th>Alabama</th>\n",
       "      <td>0.0</td>\n",
       "      <td>0.0</td>\n",
       "      <td>0.0</td>\n",
       "      <td>0.0</td>\n",
       "      <td>0.0</td>\n",
       "      <td>NaN</td>\n",
       "      <td>0.0</td>\n",
       "      <td>0.0</td>\n",
       "      <td>0.0</td>\n",
       "      <td>0.0</td>\n",
       "      <td>0.0</td>\n",
       "      <td>35.0</td>\n",
       "    </tr>\n",
       "    <tr>\n",
       "      <th>Alaska</th>\n",
       "      <td>0.0</td>\n",
       "      <td>0.0</td>\n",
       "      <td>0.0</td>\n",
       "      <td>0.0</td>\n",
       "      <td>0.0</td>\n",
       "      <td>NaN</td>\n",
       "      <td>0.0</td>\n",
       "      <td>0.0</td>\n",
       "      <td>0.0</td>\n",
       "      <td>0.0</td>\n",
       "      <td>0.0</td>\n",
       "      <td>4.0</td>\n",
       "    </tr>\n",
       "    <tr>\n",
       "      <th>Arizona</th>\n",
       "      <td>0.0</td>\n",
       "      <td>0.0</td>\n",
       "      <td>0.0</td>\n",
       "      <td>0.0</td>\n",
       "      <td>0.0</td>\n",
       "      <td>NaN</td>\n",
       "      <td>0.0</td>\n",
       "      <td>0.0</td>\n",
       "      <td>0.0</td>\n",
       "      <td>0.0</td>\n",
       "      <td>0.0</td>\n",
       "      <td>54.0</td>\n",
       "    </tr>\n",
       "    <tr>\n",
       "      <th>Arkansas</th>\n",
       "      <td>0.0</td>\n",
       "      <td>0.0</td>\n",
       "      <td>0.0</td>\n",
       "      <td>0.0</td>\n",
       "      <td>0.0</td>\n",
       "      <td>NaN</td>\n",
       "      <td>0.0</td>\n",
       "      <td>0.0</td>\n",
       "      <td>0.0</td>\n",
       "      <td>0.0</td>\n",
       "      <td>0.0</td>\n",
       "      <td>13.0</td>\n",
       "    </tr>\n",
       "    <tr>\n",
       "      <th>California</th>\n",
       "      <td>1.0</td>\n",
       "      <td>1.0</td>\n",
       "      <td>1.0</td>\n",
       "      <td>1.0</td>\n",
       "      <td>1.0</td>\n",
       "      <td>1.0</td>\n",
       "      <td>0.0</td>\n",
       "      <td>1.0</td>\n",
       "      <td>NaN</td>\n",
       "      <td>0.5</td>\n",
       "      <td>7.5</td>\n",
       "      <td>273.0</td>\n",
       "    </tr>\n",
       "  </tbody>\n",
       "</table>\n",
       "</div>"
      ],
      "text/plain": [
       "            A W L?  B C?  F R?  M C R?  NFA?  O C?  O L?  C C P?  O C P?  \\\n",
       "State                                                                      \n",
       "Alabama        0.0   0.0   0.0     0.0   0.0   NaN   0.0     0.0     0.0   \n",
       "Alaska         0.0   0.0   0.0     0.0   0.0   NaN   0.0     0.0     0.0   \n",
       "Arizona        0.0   0.0   0.0     0.0   0.0   NaN   0.0     0.0     0.0   \n",
       "Arkansas       0.0   0.0   0.0     0.0   0.0   NaN   0.0     0.0     0.0   \n",
       "California     1.0   1.0   1.0     1.0   1.0   1.0   0.0     1.0     NaN   \n",
       "\n",
       "            P P?  Gun safety ranking  Total shot  \n",
       "State                                             \n",
       "Alabama      0.0                 0.0        35.0  \n",
       "Alaska       0.0                 0.0         4.0  \n",
       "Arizona      0.0                 0.0        54.0  \n",
       "Arkansas     0.0                 0.0        13.0  \n",
       "California   0.5                 7.5       273.0  "
      ]
     },
     "execution_count": 140,
     "metadata": {},
     "output_type": "execute_result"
    }
   ],
   "source": [
    "left_df = df_pivot\n",
    "right_df = dff2\n",
    "merge_df = left_df.merge(right_df, on='State', how='left')\n",
    "merge_df.head()"
   ]
  },
  {
   "cell_type": "code",
   "execution_count": 141,
   "id": "202dc3fd",
   "metadata": {},
   "outputs": [
    {
     "data": {
      "text/html": [
       "<div>\n",
       "<style scoped>\n",
       "    .dataframe tbody tr th:only-of-type {\n",
       "        vertical-align: middle;\n",
       "    }\n",
       "\n",
       "    .dataframe tbody tr th {\n",
       "        vertical-align: top;\n",
       "    }\n",
       "\n",
       "    .dataframe thead th {\n",
       "        text-align: right;\n",
       "    }\n",
       "</style>\n",
       "<table border=\"1\" class=\"dataframe\">\n",
       "  <thead>\n",
       "    <tr style=\"text-align: right;\">\n",
       "      <th></th>\n",
       "      <th>State</th>\n",
       "      <th>A W L?</th>\n",
       "      <th>B C?</th>\n",
       "      <th>F R?</th>\n",
       "      <th>M C R?</th>\n",
       "      <th>NFA?</th>\n",
       "      <th>O C?</th>\n",
       "      <th>O L?</th>\n",
       "      <th>C C P?</th>\n",
       "      <th>O C P?</th>\n",
       "      <th>P P?</th>\n",
       "      <th>Gun safety ranking</th>\n",
       "      <th>Total shot</th>\n",
       "    </tr>\n",
       "  </thead>\n",
       "  <tbody>\n",
       "    <tr>\n",
       "      <th>0</th>\n",
       "      <td>Alabama</td>\n",
       "      <td>0.0</td>\n",
       "      <td>0.0</td>\n",
       "      <td>0.0</td>\n",
       "      <td>0.0</td>\n",
       "      <td>0.0</td>\n",
       "      <td>NaN</td>\n",
       "      <td>0.0</td>\n",
       "      <td>0.0</td>\n",
       "      <td>0.0</td>\n",
       "      <td>0.0</td>\n",
       "      <td>0.0</td>\n",
       "      <td>35.0</td>\n",
       "    </tr>\n",
       "    <tr>\n",
       "      <th>1</th>\n",
       "      <td>Alaska</td>\n",
       "      <td>0.0</td>\n",
       "      <td>0.0</td>\n",
       "      <td>0.0</td>\n",
       "      <td>0.0</td>\n",
       "      <td>0.0</td>\n",
       "      <td>NaN</td>\n",
       "      <td>0.0</td>\n",
       "      <td>0.0</td>\n",
       "      <td>0.0</td>\n",
       "      <td>0.0</td>\n",
       "      <td>0.0</td>\n",
       "      <td>4.0</td>\n",
       "    </tr>\n",
       "    <tr>\n",
       "      <th>2</th>\n",
       "      <td>Arizona</td>\n",
       "      <td>0.0</td>\n",
       "      <td>0.0</td>\n",
       "      <td>0.0</td>\n",
       "      <td>0.0</td>\n",
       "      <td>0.0</td>\n",
       "      <td>NaN</td>\n",
       "      <td>0.0</td>\n",
       "      <td>0.0</td>\n",
       "      <td>0.0</td>\n",
       "      <td>0.0</td>\n",
       "      <td>0.0</td>\n",
       "      <td>54.0</td>\n",
       "    </tr>\n",
       "    <tr>\n",
       "      <th>3</th>\n",
       "      <td>Arkansas</td>\n",
       "      <td>0.0</td>\n",
       "      <td>0.0</td>\n",
       "      <td>0.0</td>\n",
       "      <td>0.0</td>\n",
       "      <td>0.0</td>\n",
       "      <td>NaN</td>\n",
       "      <td>0.0</td>\n",
       "      <td>0.0</td>\n",
       "      <td>0.0</td>\n",
       "      <td>0.0</td>\n",
       "      <td>0.0</td>\n",
       "      <td>13.0</td>\n",
       "    </tr>\n",
       "    <tr>\n",
       "      <th>4</th>\n",
       "      <td>California</td>\n",
       "      <td>1.0</td>\n",
       "      <td>1.0</td>\n",
       "      <td>1.0</td>\n",
       "      <td>1.0</td>\n",
       "      <td>1.0</td>\n",
       "      <td>1.0</td>\n",
       "      <td>0.0</td>\n",
       "      <td>1.0</td>\n",
       "      <td>NaN</td>\n",
       "      <td>0.5</td>\n",
       "      <td>7.5</td>\n",
       "      <td>273.0</td>\n",
       "    </tr>\n",
       "    <tr>\n",
       "      <th>5</th>\n",
       "      <td>Colorado</td>\n",
       "      <td>0.0</td>\n",
       "      <td>1.0</td>\n",
       "      <td>0.0</td>\n",
       "      <td>1.0</td>\n",
       "      <td>0.0</td>\n",
       "      <td>NaN</td>\n",
       "      <td>0.0</td>\n",
       "      <td>1.0</td>\n",
       "      <td>0.0</td>\n",
       "      <td>0.0</td>\n",
       "      <td>3.0</td>\n",
       "      <td>131.0</td>\n",
       "    </tr>\n",
       "    <tr>\n",
       "      <th>6</th>\n",
       "      <td>Connecticut</td>\n",
       "      <td>1.0</td>\n",
       "      <td>1.0</td>\n",
       "      <td>0.5</td>\n",
       "      <td>1.0</td>\n",
       "      <td>0.0</td>\n",
       "      <td>NaN</td>\n",
       "      <td>1.0</td>\n",
       "      <td>1.0</td>\n",
       "      <td>1.0</td>\n",
       "      <td>1.0</td>\n",
       "      <td>7.5</td>\n",
       "      <td>39.0</td>\n",
       "    </tr>\n",
       "    <tr>\n",
       "      <th>7</th>\n",
       "      <td>Delaware</td>\n",
       "      <td>1.0</td>\n",
       "      <td>1.0</td>\n",
       "      <td>0.0</td>\n",
       "      <td>1.0</td>\n",
       "      <td>1.0</td>\n",
       "      <td>NaN</td>\n",
       "      <td>0.0</td>\n",
       "      <td>1.0</td>\n",
       "      <td>0.0</td>\n",
       "      <td>0.0</td>\n",
       "      <td>5.0</td>\n",
       "      <td>4.0</td>\n",
       "    </tr>\n",
       "    <tr>\n",
       "      <th>8</th>\n",
       "      <td>District of Columbia</td>\n",
       "      <td>1.0</td>\n",
       "      <td>1.0</td>\n",
       "      <td>1.0</td>\n",
       "      <td>1.0</td>\n",
       "      <td>1.0</td>\n",
       "      <td>1.0</td>\n",
       "      <td>1.0</td>\n",
       "      <td>1.0</td>\n",
       "      <td>NaN</td>\n",
       "      <td>1.0</td>\n",
       "      <td>9.0</td>\n",
       "      <td>25.0</td>\n",
       "    </tr>\n",
       "    <tr>\n",
       "      <th>9</th>\n",
       "      <td>Florida</td>\n",
       "      <td>0.0</td>\n",
       "      <td>0.0</td>\n",
       "      <td>0.0</td>\n",
       "      <td>0.0</td>\n",
       "      <td>0.0</td>\n",
       "      <td>NaN</td>\n",
       "      <td>0.0</td>\n",
       "      <td>1.0</td>\n",
       "      <td>0.0</td>\n",
       "      <td>0.0</td>\n",
       "      <td>1.0</td>\n",
       "      <td>224.0</td>\n",
       "    </tr>\n",
       "    <tr>\n",
       "      <th>10</th>\n",
       "      <td>Georgia</td>\n",
       "      <td>0.0</td>\n",
       "      <td>0.0</td>\n",
       "      <td>0.0</td>\n",
       "      <td>0.0</td>\n",
       "      <td>0.0</td>\n",
       "      <td>NaN</td>\n",
       "      <td>0.0</td>\n",
       "      <td>0.0</td>\n",
       "      <td>0.0</td>\n",
       "      <td>0.0</td>\n",
       "      <td>0.0</td>\n",
       "      <td>42.0</td>\n",
       "    </tr>\n",
       "    <tr>\n",
       "      <th>11</th>\n",
       "      <td>Hawaii</td>\n",
       "      <td>1.0</td>\n",
       "      <td>1.0</td>\n",
       "      <td>1.0</td>\n",
       "      <td>1.0</td>\n",
       "      <td>1.0</td>\n",
       "      <td>NaN</td>\n",
       "      <td>0.0</td>\n",
       "      <td>1.0</td>\n",
       "      <td>1.0</td>\n",
       "      <td>1.0</td>\n",
       "      <td>8.0</td>\n",
       "      <td>NaN</td>\n",
       "    </tr>\n",
       "    <tr>\n",
       "      <th>12</th>\n",
       "      <td>Idaho</td>\n",
       "      <td>0.0</td>\n",
       "      <td>0.0</td>\n",
       "      <td>0.0</td>\n",
       "      <td>0.0</td>\n",
       "      <td>0.0</td>\n",
       "      <td>NaN</td>\n",
       "      <td>0.0</td>\n",
       "      <td>0.0</td>\n",
       "      <td>0.0</td>\n",
       "      <td>0.0</td>\n",
       "      <td>0.0</td>\n",
       "      <td>4.0</td>\n",
       "    </tr>\n",
       "    <tr>\n",
       "      <th>13</th>\n",
       "      <td>Illinois</td>\n",
       "      <td>1.0</td>\n",
       "      <td>1.0</td>\n",
       "      <td>0.0</td>\n",
       "      <td>1.0</td>\n",
       "      <td>1.0</td>\n",
       "      <td>1.0</td>\n",
       "      <td>1.0</td>\n",
       "      <td>1.0</td>\n",
       "      <td>NaN</td>\n",
       "      <td>1.0</td>\n",
       "      <td>8.0</td>\n",
       "      <td>135.0</td>\n",
       "    </tr>\n",
       "    <tr>\n",
       "      <th>14</th>\n",
       "      <td>Indiana</td>\n",
       "      <td>0.0</td>\n",
       "      <td>0.0</td>\n",
       "      <td>0.0</td>\n",
       "      <td>0.0</td>\n",
       "      <td>0.0</td>\n",
       "      <td>NaN</td>\n",
       "      <td>0.0</td>\n",
       "      <td>0.0</td>\n",
       "      <td>0.0</td>\n",
       "      <td>0.0</td>\n",
       "      <td>0.0</td>\n",
       "      <td>45.0</td>\n",
       "    </tr>\n",
       "    <tr>\n",
       "      <th>15</th>\n",
       "      <td>Iowa</td>\n",
       "      <td>0.0</td>\n",
       "      <td>0.0</td>\n",
       "      <td>0.0</td>\n",
       "      <td>0.0</td>\n",
       "      <td>1.0</td>\n",
       "      <td>NaN</td>\n",
       "      <td>0.0</td>\n",
       "      <td>0.0</td>\n",
       "      <td>0.0</td>\n",
       "      <td>0.0</td>\n",
       "      <td>1.0</td>\n",
       "      <td>NaN</td>\n",
       "    </tr>\n",
       "    <tr>\n",
       "      <th>16</th>\n",
       "      <td>Kansas</td>\n",
       "      <td>0.0</td>\n",
       "      <td>0.0</td>\n",
       "      <td>0.0</td>\n",
       "      <td>0.0</td>\n",
       "      <td>0.0</td>\n",
       "      <td>NaN</td>\n",
       "      <td>0.0</td>\n",
       "      <td>0.0</td>\n",
       "      <td>0.0</td>\n",
       "      <td>0.0</td>\n",
       "      <td>0.0</td>\n",
       "      <td>30.0</td>\n",
       "    </tr>\n",
       "    <tr>\n",
       "      <th>17</th>\n",
       "      <td>Kentucky</td>\n",
       "      <td>0.0</td>\n",
       "      <td>0.0</td>\n",
       "      <td>0.0</td>\n",
       "      <td>0.0</td>\n",
       "      <td>0.0</td>\n",
       "      <td>NaN</td>\n",
       "      <td>0.0</td>\n",
       "      <td>0.0</td>\n",
       "      <td>0.0</td>\n",
       "      <td>0.0</td>\n",
       "      <td>0.0</td>\n",
       "      <td>9.0</td>\n",
       "    </tr>\n",
       "    <tr>\n",
       "      <th>18</th>\n",
       "      <td>Lousiana</td>\n",
       "      <td>0.0</td>\n",
       "      <td>0.0</td>\n",
       "      <td>0.0</td>\n",
       "      <td>0.0</td>\n",
       "      <td>0.0</td>\n",
       "      <td>NaN</td>\n",
       "      <td>0.0</td>\n",
       "      <td>1.0</td>\n",
       "      <td>0.0</td>\n",
       "      <td>0.0</td>\n",
       "      <td>1.0</td>\n",
       "      <td>NaN</td>\n",
       "    </tr>\n",
       "    <tr>\n",
       "      <th>19</th>\n",
       "      <td>Maine</td>\n",
       "      <td>0.0</td>\n",
       "      <td>0.0</td>\n",
       "      <td>0.0</td>\n",
       "      <td>0.0</td>\n",
       "      <td>0.0</td>\n",
       "      <td>NaN</td>\n",
       "      <td>0.0</td>\n",
       "      <td>0.0</td>\n",
       "      <td>0.0</td>\n",
       "      <td>0.0</td>\n",
       "      <td>0.0</td>\n",
       "      <td>4.0</td>\n",
       "    </tr>\n",
       "    <tr>\n",
       "      <th>20</th>\n",
       "      <td>Maryland</td>\n",
       "      <td>1.0</td>\n",
       "      <td>1.0</td>\n",
       "      <td>1.0</td>\n",
       "      <td>1.0</td>\n",
       "      <td>0.0</td>\n",
       "      <td>NaN</td>\n",
       "      <td>0.0</td>\n",
       "      <td>1.0</td>\n",
       "      <td>1.0</td>\n",
       "      <td>1.0</td>\n",
       "      <td>7.0</td>\n",
       "      <td>24.0</td>\n",
       "    </tr>\n",
       "    <tr>\n",
       "      <th>21</th>\n",
       "      <td>Massachusetts</td>\n",
       "      <td>1.0</td>\n",
       "      <td>1.0</td>\n",
       "      <td>0.0</td>\n",
       "      <td>1.0</td>\n",
       "      <td>1.0</td>\n",
       "      <td>NaN</td>\n",
       "      <td>1.0</td>\n",
       "      <td>1.0</td>\n",
       "      <td>1.0</td>\n",
       "      <td>1.0</td>\n",
       "      <td>8.0</td>\n",
       "      <td>9.0</td>\n",
       "    </tr>\n",
       "    <tr>\n",
       "      <th>22</th>\n",
       "      <td>Michigan</td>\n",
       "      <td>0.0</td>\n",
       "      <td>1.0</td>\n",
       "      <td>1.0</td>\n",
       "      <td>0.0</td>\n",
       "      <td>0.0</td>\n",
       "      <td>NaN</td>\n",
       "      <td>0.0</td>\n",
       "      <td>1.0</td>\n",
       "      <td>0.0</td>\n",
       "      <td>1.0</td>\n",
       "      <td>4.0</td>\n",
       "      <td>48.0</td>\n",
       "    </tr>\n",
       "    <tr>\n",
       "      <th>23</th>\n",
       "      <td>Minnesota</td>\n",
       "      <td>0.0</td>\n",
       "      <td>0.0</td>\n",
       "      <td>0.0</td>\n",
       "      <td>0.0</td>\n",
       "      <td>1.0</td>\n",
       "      <td>NaN</td>\n",
       "      <td>0.0</td>\n",
       "      <td>1.0</td>\n",
       "      <td>1.0</td>\n",
       "      <td>1.0</td>\n",
       "      <td>4.0</td>\n",
       "      <td>20.0</td>\n",
       "    </tr>\n",
       "    <tr>\n",
       "      <th>24</th>\n",
       "      <td>Mississippi</td>\n",
       "      <td>0.0</td>\n",
       "      <td>0.0</td>\n",
       "      <td>0.0</td>\n",
       "      <td>0.0</td>\n",
       "      <td>0.0</td>\n",
       "      <td>NaN</td>\n",
       "      <td>0.0</td>\n",
       "      <td>0.0</td>\n",
       "      <td>0.0</td>\n",
       "      <td>0.0</td>\n",
       "      <td>0.0</td>\n",
       "      <td>20.0</td>\n",
       "    </tr>\n",
       "    <tr>\n",
       "      <th>25</th>\n",
       "      <td>Missouri</td>\n",
       "      <td>0.0</td>\n",
       "      <td>0.0</td>\n",
       "      <td>0.0</td>\n",
       "      <td>0.0</td>\n",
       "      <td>0.0</td>\n",
       "      <td>NaN</td>\n",
       "      <td>0.0</td>\n",
       "      <td>0.0</td>\n",
       "      <td>0.0</td>\n",
       "      <td>0.0</td>\n",
       "      <td>0.0</td>\n",
       "      <td>36.0</td>\n",
       "    </tr>\n",
       "    <tr>\n",
       "      <th>26</th>\n",
       "      <td>Montana</td>\n",
       "      <td>0.0</td>\n",
       "      <td>0.0</td>\n",
       "      <td>0.0</td>\n",
       "      <td>0.0</td>\n",
       "      <td>0.0</td>\n",
       "      <td>NaN</td>\n",
       "      <td>0.0</td>\n",
       "      <td>0.0</td>\n",
       "      <td>0.0</td>\n",
       "      <td>0.0</td>\n",
       "      <td>0.0</td>\n",
       "      <td>4.0</td>\n",
       "    </tr>\n",
       "    <tr>\n",
       "      <th>27</th>\n",
       "      <td>Nebraska</td>\n",
       "      <td>0.0</td>\n",
       "      <td>1.0</td>\n",
       "      <td>1.0</td>\n",
       "      <td>0.0</td>\n",
       "      <td>0.0</td>\n",
       "      <td>NaN</td>\n",
       "      <td>0.0</td>\n",
       "      <td>1.0</td>\n",
       "      <td>0.0</td>\n",
       "      <td>1.0</td>\n",
       "      <td>4.0</td>\n",
       "      <td>NaN</td>\n",
       "    </tr>\n",
       "    <tr>\n",
       "      <th>28</th>\n",
       "      <td>Nevada</td>\n",
       "      <td>0.0</td>\n",
       "      <td>1.0</td>\n",
       "      <td>0.0</td>\n",
       "      <td>0.0</td>\n",
       "      <td>0.0</td>\n",
       "      <td>NaN</td>\n",
       "      <td>0.0</td>\n",
       "      <td>1.0</td>\n",
       "      <td>0.0</td>\n",
       "      <td>0.0</td>\n",
       "      <td>2.0</td>\n",
       "      <td>491.0</td>\n",
       "    </tr>\n",
       "    <tr>\n",
       "      <th>29</th>\n",
       "      <td>New Hampshire</td>\n",
       "      <td>0.0</td>\n",
       "      <td>0.0</td>\n",
       "      <td>0.0</td>\n",
       "      <td>0.0</td>\n",
       "      <td>0.0</td>\n",
       "      <td>NaN</td>\n",
       "      <td>0.0</td>\n",
       "      <td>0.0</td>\n",
       "      <td>0.0</td>\n",
       "      <td>0.0</td>\n",
       "      <td>0.0</td>\n",
       "      <td>NaN</td>\n",
       "    </tr>\n",
       "    <tr>\n",
       "      <th>30</th>\n",
       "      <td>New Jersey</td>\n",
       "      <td>1.0</td>\n",
       "      <td>1.0</td>\n",
       "      <td>1.0</td>\n",
       "      <td>1.0</td>\n",
       "      <td>1.0</td>\n",
       "      <td>NaN</td>\n",
       "      <td>0.0</td>\n",
       "      <td>1.0</td>\n",
       "      <td>1.0</td>\n",
       "      <td>1.0</td>\n",
       "      <td>8.0</td>\n",
       "      <td>18.0</td>\n",
       "    </tr>\n",
       "    <tr>\n",
       "      <th>31</th>\n",
       "      <td>New Mexico</td>\n",
       "      <td>0.0</td>\n",
       "      <td>1.0</td>\n",
       "      <td>0.0</td>\n",
       "      <td>0.0</td>\n",
       "      <td>0.0</td>\n",
       "      <td>NaN</td>\n",
       "      <td>0.0</td>\n",
       "      <td>1.0</td>\n",
       "      <td>0.0</td>\n",
       "      <td>0.0</td>\n",
       "      <td>2.0</td>\n",
       "      <td>21.0</td>\n",
       "    </tr>\n",
       "    <tr>\n",
       "      <th>32</th>\n",
       "      <td>New York</td>\n",
       "      <td>1.0</td>\n",
       "      <td>1.0</td>\n",
       "      <td>1.0</td>\n",
       "      <td>1.0</td>\n",
       "      <td>1.0</td>\n",
       "      <td>1.0</td>\n",
       "      <td>1.0</td>\n",
       "      <td>1.0</td>\n",
       "      <td>NaN</td>\n",
       "      <td>1.0</td>\n",
       "      <td>9.0</td>\n",
       "      <td>53.0</td>\n",
       "    </tr>\n",
       "    <tr>\n",
       "      <th>33</th>\n",
       "      <td>North Carolina</td>\n",
       "      <td>0.0</td>\n",
       "      <td>1.0</td>\n",
       "      <td>0.0</td>\n",
       "      <td>0.0</td>\n",
       "      <td>0.0</td>\n",
       "      <td>NaN</td>\n",
       "      <td>0.0</td>\n",
       "      <td>1.0</td>\n",
       "      <td>0.0</td>\n",
       "      <td>1.0</td>\n",
       "      <td>3.0</td>\n",
       "      <td>54.0</td>\n",
       "    </tr>\n",
       "    <tr>\n",
       "      <th>34</th>\n",
       "      <td>North Dakota</td>\n",
       "      <td>0.0</td>\n",
       "      <td>0.0</td>\n",
       "      <td>0.0</td>\n",
       "      <td>0.0</td>\n",
       "      <td>0.0</td>\n",
       "      <td>NaN</td>\n",
       "      <td>0.0</td>\n",
       "      <td>0.0</td>\n",
       "      <td>1.0</td>\n",
       "      <td>0.0</td>\n",
       "      <td>1.0</td>\n",
       "      <td>8.0</td>\n",
       "    </tr>\n",
       "    <tr>\n",
       "      <th>35</th>\n",
       "      <td>Ohio</td>\n",
       "      <td>0.0</td>\n",
       "      <td>0.0</td>\n",
       "      <td>0.0</td>\n",
       "      <td>0.0</td>\n",
       "      <td>0.0</td>\n",
       "      <td>NaN</td>\n",
       "      <td>0.0</td>\n",
       "      <td>0.0</td>\n",
       "      <td>0.0</td>\n",
       "      <td>0.0</td>\n",
       "      <td>0.0</td>\n",
       "      <td>95.0</td>\n",
       "    </tr>\n",
       "    <tr>\n",
       "      <th>36</th>\n",
       "      <td>Oklahoma</td>\n",
       "      <td>0.0</td>\n",
       "      <td>0.0</td>\n",
       "      <td>0.0</td>\n",
       "      <td>0.0</td>\n",
       "      <td>0.0</td>\n",
       "      <td>NaN</td>\n",
       "      <td>0.0</td>\n",
       "      <td>0.0</td>\n",
       "      <td>0.0</td>\n",
       "      <td>0.0</td>\n",
       "      <td>0.0</td>\n",
       "      <td>37.0</td>\n",
       "    </tr>\n",
       "    <tr>\n",
       "      <th>37</th>\n",
       "      <td>Oregon</td>\n",
       "      <td>0.0</td>\n",
       "      <td>1.0</td>\n",
       "      <td>0.0</td>\n",
       "      <td>0.0</td>\n",
       "      <td>0.0</td>\n",
       "      <td>NaN</td>\n",
       "      <td>0.0</td>\n",
       "      <td>1.0</td>\n",
       "      <td>0.0</td>\n",
       "      <td>0.0</td>\n",
       "      <td>2.0</td>\n",
       "      <td>18.0</td>\n",
       "    </tr>\n",
       "    <tr>\n",
       "      <th>38</th>\n",
       "      <td>Pennsylvania</td>\n",
       "      <td>0.0</td>\n",
       "      <td>1.0</td>\n",
       "      <td>0.0</td>\n",
       "      <td>0.0</td>\n",
       "      <td>0.0</td>\n",
       "      <td>NaN</td>\n",
       "      <td>0.0</td>\n",
       "      <td>1.0</td>\n",
       "      <td>0.0</td>\n",
       "      <td>0.0</td>\n",
       "      <td>2.0</td>\n",
       "      <td>50.0</td>\n",
       "    </tr>\n",
       "    <tr>\n",
       "      <th>39</th>\n",
       "      <td>Rhode Island</td>\n",
       "      <td>0.0</td>\n",
       "      <td>1.0</td>\n",
       "      <td>0.0</td>\n",
       "      <td>0.0</td>\n",
       "      <td>1.0</td>\n",
       "      <td>NaN</td>\n",
       "      <td>0.0</td>\n",
       "      <td>1.0</td>\n",
       "      <td>1.0</td>\n",
       "      <td>1.0</td>\n",
       "      <td>5.0</td>\n",
       "      <td>NaN</td>\n",
       "    </tr>\n",
       "    <tr>\n",
       "      <th>40</th>\n",
       "      <td>South Carolina</td>\n",
       "      <td>0.0</td>\n",
       "      <td>0.0</td>\n",
       "      <td>0.0</td>\n",
       "      <td>0.0</td>\n",
       "      <td>0.0</td>\n",
       "      <td>NaN</td>\n",
       "      <td>0.0</td>\n",
       "      <td>1.0</td>\n",
       "      <td>1.0</td>\n",
       "      <td>0.0</td>\n",
       "      <td>2.0</td>\n",
       "      <td>42.0</td>\n",
       "    </tr>\n",
       "    <tr>\n",
       "      <th>41</th>\n",
       "      <td>South Dakota</td>\n",
       "      <td>0.0</td>\n",
       "      <td>0.0</td>\n",
       "      <td>0.0</td>\n",
       "      <td>0.0</td>\n",
       "      <td>0.0</td>\n",
       "      <td>NaN</td>\n",
       "      <td>0.0</td>\n",
       "      <td>0.0</td>\n",
       "      <td>0.0</td>\n",
       "      <td>0.0</td>\n",
       "      <td>0.0</td>\n",
       "      <td>5.0</td>\n",
       "    </tr>\n",
       "    <tr>\n",
       "      <th>42</th>\n",
       "      <td>Tennessee</td>\n",
       "      <td>0.0</td>\n",
       "      <td>0.0</td>\n",
       "      <td>0.0</td>\n",
       "      <td>0.0</td>\n",
       "      <td>0.0</td>\n",
       "      <td>NaN</td>\n",
       "      <td>0.0</td>\n",
       "      <td>0.0</td>\n",
       "      <td>0.0</td>\n",
       "      <td>0.0</td>\n",
       "      <td>0.0</td>\n",
       "      <td>27.0</td>\n",
       "    </tr>\n",
       "    <tr>\n",
       "      <th>43</th>\n",
       "      <td>Texas</td>\n",
       "      <td>0.0</td>\n",
       "      <td>0.0</td>\n",
       "      <td>0.0</td>\n",
       "      <td>0.0</td>\n",
       "      <td>0.0</td>\n",
       "      <td>NaN</td>\n",
       "      <td>0.0</td>\n",
       "      <td>0.0</td>\n",
       "      <td>0.0</td>\n",
       "      <td>0.0</td>\n",
       "      <td>0.0</td>\n",
       "      <td>402.0</td>\n",
       "    </tr>\n",
       "    <tr>\n",
       "      <th>44</th>\n",
       "      <td>Utah</td>\n",
       "      <td>0.0</td>\n",
       "      <td>0.0</td>\n",
       "      <td>0.0</td>\n",
       "      <td>0.0</td>\n",
       "      <td>0.0</td>\n",
       "      <td>NaN</td>\n",
       "      <td>0.0</td>\n",
       "      <td>0.0</td>\n",
       "      <td>0.0</td>\n",
       "      <td>0.0</td>\n",
       "      <td>0.0</td>\n",
       "      <td>16.0</td>\n",
       "    </tr>\n",
       "    <tr>\n",
       "      <th>45</th>\n",
       "      <td>Vermont</td>\n",
       "      <td>0.0</td>\n",
       "      <td>1.0</td>\n",
       "      <td>0.0</td>\n",
       "      <td>1.0</td>\n",
       "      <td>0.0</td>\n",
       "      <td>NaN</td>\n",
       "      <td>0.0</td>\n",
       "      <td>0.0</td>\n",
       "      <td>0.0</td>\n",
       "      <td>0.0</td>\n",
       "      <td>2.0</td>\n",
       "      <td>4.0</td>\n",
       "    </tr>\n",
       "    <tr>\n",
       "      <th>46</th>\n",
       "      <td>Virginia</td>\n",
       "      <td>1.0</td>\n",
       "      <td>1.0</td>\n",
       "      <td>0.0</td>\n",
       "      <td>0.0</td>\n",
       "      <td>0.0</td>\n",
       "      <td>NaN</td>\n",
       "      <td>0.0</td>\n",
       "      <td>1.0</td>\n",
       "      <td>0.0</td>\n",
       "      <td>0.0</td>\n",
       "      <td>3.0</td>\n",
       "      <td>63.0</td>\n",
       "    </tr>\n",
       "    <tr>\n",
       "      <th>47</th>\n",
       "      <td>Washington</td>\n",
       "      <td>1.0</td>\n",
       "      <td>1.0</td>\n",
       "      <td>0.5</td>\n",
       "      <td>1.0</td>\n",
       "      <td>0.5</td>\n",
       "      <td>NaN</td>\n",
       "      <td>0.0</td>\n",
       "      <td>1.0</td>\n",
       "      <td>0.0</td>\n",
       "      <td>0.0</td>\n",
       "      <td>5.0</td>\n",
       "      <td>48.0</td>\n",
       "    </tr>\n",
       "    <tr>\n",
       "      <th>48</th>\n",
       "      <td>West Virginia</td>\n",
       "      <td>0.0</td>\n",
       "      <td>0.0</td>\n",
       "      <td>0.0</td>\n",
       "      <td>0.0</td>\n",
       "      <td>0.0</td>\n",
       "      <td>NaN</td>\n",
       "      <td>0.0</td>\n",
       "      <td>0.0</td>\n",
       "      <td>0.0</td>\n",
       "      <td>0.0</td>\n",
       "      <td>0.0</td>\n",
       "      <td>22.0</td>\n",
       "    </tr>\n",
       "    <tr>\n",
       "      <th>49</th>\n",
       "      <td>Wisconsin</td>\n",
       "      <td>0.0</td>\n",
       "      <td>0.0</td>\n",
       "      <td>0.0</td>\n",
       "      <td>0.0</td>\n",
       "      <td>0.0</td>\n",
       "      <td>NaN</td>\n",
       "      <td>0.0</td>\n",
       "      <td>1.0</td>\n",
       "      <td>0.0</td>\n",
       "      <td>1.0</td>\n",
       "      <td>2.0</td>\n",
       "      <td>40.0</td>\n",
       "    </tr>\n",
       "    <tr>\n",
       "      <th>50</th>\n",
       "      <td>Wyoming</td>\n",
       "      <td>0.0</td>\n",
       "      <td>0.0</td>\n",
       "      <td>0.0</td>\n",
       "      <td>0.0</td>\n",
       "      <td>0.0</td>\n",
       "      <td>NaN</td>\n",
       "      <td>0.0</td>\n",
       "      <td>0.0</td>\n",
       "      <td>0.0</td>\n",
       "      <td>0.0</td>\n",
       "      <td>0.0</td>\n",
       "      <td>5.0</td>\n",
       "    </tr>\n",
       "    <tr>\n",
       "      <th>51</th>\n",
       "      <td>Gun safety ranking</td>\n",
       "      <td>12.0</td>\n",
       "      <td>22.0</td>\n",
       "      <td>9.0</td>\n",
       "      <td>13.0</td>\n",
       "      <td>11.5</td>\n",
       "      <td>4.0</td>\n",
       "      <td>5.0</td>\n",
       "      <td>26.0</td>\n",
       "      <td>9.0</td>\n",
       "      <td>14.5</td>\n",
       "      <td>126.0</td>\n",
       "      <td>NaN</td>\n",
       "    </tr>\n",
       "  </tbody>\n",
       "</table>\n",
       "</div>"
      ],
      "text/plain": [
       "                   State  A W L?  B C?  F R?  M C R?  NFA?  O C?  O L?  \\\n",
       "0                Alabama     0.0   0.0   0.0     0.0   0.0   NaN   0.0   \n",
       "1                 Alaska     0.0   0.0   0.0     0.0   0.0   NaN   0.0   \n",
       "2                Arizona     0.0   0.0   0.0     0.0   0.0   NaN   0.0   \n",
       "3               Arkansas     0.0   0.0   0.0     0.0   0.0   NaN   0.0   \n",
       "4             California     1.0   1.0   1.0     1.0   1.0   1.0   0.0   \n",
       "5               Colorado     0.0   1.0   0.0     1.0   0.0   NaN   0.0   \n",
       "6            Connecticut     1.0   1.0   0.5     1.0   0.0   NaN   1.0   \n",
       "7               Delaware     1.0   1.0   0.0     1.0   1.0   NaN   0.0   \n",
       "8   District of Columbia     1.0   1.0   1.0     1.0   1.0   1.0   1.0   \n",
       "9                Florida     0.0   0.0   0.0     0.0   0.0   NaN   0.0   \n",
       "10               Georgia     0.0   0.0   0.0     0.0   0.0   NaN   0.0   \n",
       "11                Hawaii     1.0   1.0   1.0     1.0   1.0   NaN   0.0   \n",
       "12                 Idaho     0.0   0.0   0.0     0.0   0.0   NaN   0.0   \n",
       "13              Illinois     1.0   1.0   0.0     1.0   1.0   1.0   1.0   \n",
       "14               Indiana     0.0   0.0   0.0     0.0   0.0   NaN   0.0   \n",
       "15                  Iowa     0.0   0.0   0.0     0.0   1.0   NaN   0.0   \n",
       "16                Kansas     0.0   0.0   0.0     0.0   0.0   NaN   0.0   \n",
       "17              Kentucky     0.0   0.0   0.0     0.0   0.0   NaN   0.0   \n",
       "18              Lousiana     0.0   0.0   0.0     0.0   0.0   NaN   0.0   \n",
       "19                 Maine     0.0   0.0   0.0     0.0   0.0   NaN   0.0   \n",
       "20              Maryland     1.0   1.0   1.0     1.0   0.0   NaN   0.0   \n",
       "21         Massachusetts     1.0   1.0   0.0     1.0   1.0   NaN   1.0   \n",
       "22              Michigan     0.0   1.0   1.0     0.0   0.0   NaN   0.0   \n",
       "23             Minnesota     0.0   0.0   0.0     0.0   1.0   NaN   0.0   \n",
       "24           Mississippi     0.0   0.0   0.0     0.0   0.0   NaN   0.0   \n",
       "25              Missouri     0.0   0.0   0.0     0.0   0.0   NaN   0.0   \n",
       "26               Montana     0.0   0.0   0.0     0.0   0.0   NaN   0.0   \n",
       "27              Nebraska     0.0   1.0   1.0     0.0   0.0   NaN   0.0   \n",
       "28                Nevada     0.0   1.0   0.0     0.0   0.0   NaN   0.0   \n",
       "29         New Hampshire     0.0   0.0   0.0     0.0   0.0   NaN   0.0   \n",
       "30            New Jersey     1.0   1.0   1.0     1.0   1.0   NaN   0.0   \n",
       "31            New Mexico     0.0   1.0   0.0     0.0   0.0   NaN   0.0   \n",
       "32              New York     1.0   1.0   1.0     1.0   1.0   1.0   1.0   \n",
       "33        North Carolina     0.0   1.0   0.0     0.0   0.0   NaN   0.0   \n",
       "34          North Dakota     0.0   0.0   0.0     0.0   0.0   NaN   0.0   \n",
       "35                  Ohio     0.0   0.0   0.0     0.0   0.0   NaN   0.0   \n",
       "36              Oklahoma     0.0   0.0   0.0     0.0   0.0   NaN   0.0   \n",
       "37                Oregon     0.0   1.0   0.0     0.0   0.0   NaN   0.0   \n",
       "38          Pennsylvania     0.0   1.0   0.0     0.0   0.0   NaN   0.0   \n",
       "39          Rhode Island     0.0   1.0   0.0     0.0   1.0   NaN   0.0   \n",
       "40        South Carolina     0.0   0.0   0.0     0.0   0.0   NaN   0.0   \n",
       "41          South Dakota     0.0   0.0   0.0     0.0   0.0   NaN   0.0   \n",
       "42             Tennessee     0.0   0.0   0.0     0.0   0.0   NaN   0.0   \n",
       "43                 Texas     0.0   0.0   0.0     0.0   0.0   NaN   0.0   \n",
       "44                  Utah     0.0   0.0   0.0     0.0   0.0   NaN   0.0   \n",
       "45               Vermont     0.0   1.0   0.0     1.0   0.0   NaN   0.0   \n",
       "46              Virginia     1.0   1.0   0.0     0.0   0.0   NaN   0.0   \n",
       "47            Washington     1.0   1.0   0.5     1.0   0.5   NaN   0.0   \n",
       "48         West Virginia     0.0   0.0   0.0     0.0   0.0   NaN   0.0   \n",
       "49             Wisconsin     0.0   0.0   0.0     0.0   0.0   NaN   0.0   \n",
       "50               Wyoming     0.0   0.0   0.0     0.0   0.0   NaN   0.0   \n",
       "51    Gun safety ranking    12.0  22.0   9.0    13.0  11.5   4.0   5.0   \n",
       "\n",
       "    C C P?  O C P?  P P?  Gun safety ranking  Total shot  \n",
       "0      0.0     0.0   0.0                 0.0        35.0  \n",
       "1      0.0     0.0   0.0                 0.0         4.0  \n",
       "2      0.0     0.0   0.0                 0.0        54.0  \n",
       "3      0.0     0.0   0.0                 0.0        13.0  \n",
       "4      1.0     NaN   0.5                 7.5       273.0  \n",
       "5      1.0     0.0   0.0                 3.0       131.0  \n",
       "6      1.0     1.0   1.0                 7.5        39.0  \n",
       "7      1.0     0.0   0.0                 5.0         4.0  \n",
       "8      1.0     NaN   1.0                 9.0        25.0  \n",
       "9      1.0     0.0   0.0                 1.0       224.0  \n",
       "10     0.0     0.0   0.0                 0.0        42.0  \n",
       "11     1.0     1.0   1.0                 8.0         NaN  \n",
       "12     0.0     0.0   0.0                 0.0         4.0  \n",
       "13     1.0     NaN   1.0                 8.0       135.0  \n",
       "14     0.0     0.0   0.0                 0.0        45.0  \n",
       "15     0.0     0.0   0.0                 1.0         NaN  \n",
       "16     0.0     0.0   0.0                 0.0        30.0  \n",
       "17     0.0     0.0   0.0                 0.0         9.0  \n",
       "18     1.0     0.0   0.0                 1.0         NaN  \n",
       "19     0.0     0.0   0.0                 0.0         4.0  \n",
       "20     1.0     1.0   1.0                 7.0        24.0  \n",
       "21     1.0     1.0   1.0                 8.0         9.0  \n",
       "22     1.0     0.0   1.0                 4.0        48.0  \n",
       "23     1.0     1.0   1.0                 4.0        20.0  \n",
       "24     0.0     0.0   0.0                 0.0        20.0  \n",
       "25     0.0     0.0   0.0                 0.0        36.0  \n",
       "26     0.0     0.0   0.0                 0.0         4.0  \n",
       "27     1.0     0.0   1.0                 4.0         NaN  \n",
       "28     1.0     0.0   0.0                 2.0       491.0  \n",
       "29     0.0     0.0   0.0                 0.0         NaN  \n",
       "30     1.0     1.0   1.0                 8.0        18.0  \n",
       "31     1.0     0.0   0.0                 2.0        21.0  \n",
       "32     1.0     NaN   1.0                 9.0        53.0  \n",
       "33     1.0     0.0   1.0                 3.0        54.0  \n",
       "34     0.0     1.0   0.0                 1.0         8.0  \n",
       "35     0.0     0.0   0.0                 0.0        95.0  \n",
       "36     0.0     0.0   0.0                 0.0        37.0  \n",
       "37     1.0     0.0   0.0                 2.0        18.0  \n",
       "38     1.0     0.0   0.0                 2.0        50.0  \n",
       "39     1.0     1.0   1.0                 5.0         NaN  \n",
       "40     1.0     1.0   0.0                 2.0        42.0  \n",
       "41     0.0     0.0   0.0                 0.0         5.0  \n",
       "42     0.0     0.0   0.0                 0.0        27.0  \n",
       "43     0.0     0.0   0.0                 0.0       402.0  \n",
       "44     0.0     0.0   0.0                 0.0        16.0  \n",
       "45     0.0     0.0   0.0                 2.0         4.0  \n",
       "46     1.0     0.0   0.0                 3.0        63.0  \n",
       "47     1.0     0.0   0.0                 5.0        48.0  \n",
       "48     0.0     0.0   0.0                 0.0        22.0  \n",
       "49     1.0     0.0   1.0                 2.0        40.0  \n",
       "50     0.0     0.0   0.0                 0.0         5.0  \n",
       "51    26.0     9.0  14.5               126.0         NaN  "
      ]
     },
     "execution_count": 141,
     "metadata": {},
     "output_type": "execute_result"
    }
   ],
   "source": [
    "clean_df = merge_df.reset_index(level=0)\n",
    "clean_df"
   ]
  },
  {
   "cell_type": "code",
   "execution_count": 62,
   "id": "f02dc73f",
   "metadata": {},
   "outputs": [
    {
     "data": {
      "application/vnd.plotly.v1+json": {
       "config": {
        "plotlyServerURL": "https://plot.ly"
       },
       "data": [
        {
         "hovertemplate": "State=Alabama<br>Gun safety ranking=%{x}<br>Total shot=%{y}<extra></extra>",
         "legendgroup": "Alabama",
         "marker": {
          "color": "#636efa",
          "symbol": "circle"
         },
         "mode": "markers",
         "name": "Alabama",
         "orientation": "v",
         "showlegend": true,
         "type": "scatter",
         "x": [
          0
         ],
         "xaxis": "x",
         "y": [
          35
         ],
         "yaxis": "y"
        },
        {
         "hovertemplate": "State=Alabama<extra></extra>",
         "legendgroup": "Alabama",
         "marker": {
          "color": "#636efa",
          "symbol": "circle"
         },
         "mode": "lines",
         "name": "Alabama",
         "showlegend": false,
         "type": "scatter",
         "xaxis": "x",
         "yaxis": "y"
        },
        {
         "hovertemplate": "State=Alaska<br>Gun safety ranking=%{x}<br>Total shot=%{y}<extra></extra>",
         "legendgroup": "Alaska",
         "marker": {
          "color": "#EF553B",
          "symbol": "circle"
         },
         "mode": "markers",
         "name": "Alaska",
         "orientation": "v",
         "showlegend": true,
         "type": "scatter",
         "x": [
          0
         ],
         "xaxis": "x",
         "y": [
          4
         ],
         "yaxis": "y"
        },
        {
         "hovertemplate": "State=Alaska<extra></extra>",
         "legendgroup": "Alaska",
         "marker": {
          "color": "#EF553B",
          "symbol": "circle"
         },
         "mode": "lines",
         "name": "Alaska",
         "showlegend": false,
         "type": "scatter",
         "xaxis": "x",
         "yaxis": "y"
        },
        {
         "hovertemplate": "State=Arizona<br>Gun safety ranking=%{x}<br>Total shot=%{y}<extra></extra>",
         "legendgroup": "Arizona",
         "marker": {
          "color": "#00cc96",
          "symbol": "circle"
         },
         "mode": "markers",
         "name": "Arizona",
         "orientation": "v",
         "showlegend": true,
         "type": "scatter",
         "x": [
          0
         ],
         "xaxis": "x",
         "y": [
          54
         ],
         "yaxis": "y"
        },
        {
         "hovertemplate": "State=Arizona<extra></extra>",
         "legendgroup": "Arizona",
         "marker": {
          "color": "#00cc96",
          "symbol": "circle"
         },
         "mode": "lines",
         "name": "Arizona",
         "showlegend": false,
         "type": "scatter",
         "xaxis": "x",
         "yaxis": "y"
        },
        {
         "hovertemplate": "State=Arkansas<br>Gun safety ranking=%{x}<br>Total shot=%{y}<extra></extra>",
         "legendgroup": "Arkansas",
         "marker": {
          "color": "#ab63fa",
          "symbol": "circle"
         },
         "mode": "markers",
         "name": "Arkansas",
         "orientation": "v",
         "showlegend": true,
         "type": "scatter",
         "x": [
          0
         ],
         "xaxis": "x",
         "y": [
          13
         ],
         "yaxis": "y"
        },
        {
         "hovertemplate": "State=Arkansas<extra></extra>",
         "legendgroup": "Arkansas",
         "marker": {
          "color": "#ab63fa",
          "symbol": "circle"
         },
         "mode": "lines",
         "name": "Arkansas",
         "showlegend": false,
         "type": "scatter",
         "xaxis": "x",
         "yaxis": "y"
        },
        {
         "hovertemplate": "State=California<br>Gun safety ranking=%{x}<br>Total shot=%{y}<extra></extra>",
         "legendgroup": "California",
         "marker": {
          "color": "#FFA15A",
          "symbol": "circle"
         },
         "mode": "markers",
         "name": "California",
         "orientation": "v",
         "showlegend": true,
         "type": "scatter",
         "x": [
          7.5
         ],
         "xaxis": "x",
         "y": [
          273
         ],
         "yaxis": "y"
        },
        {
         "hovertemplate": "State=California<extra></extra>",
         "legendgroup": "California",
         "marker": {
          "color": "#FFA15A",
          "symbol": "circle"
         },
         "mode": "lines",
         "name": "California",
         "showlegend": false,
         "type": "scatter",
         "xaxis": "x",
         "yaxis": "y"
        },
        {
         "hovertemplate": "State=Colorado<br>Gun safety ranking=%{x}<br>Total shot=%{y}<extra></extra>",
         "legendgroup": "Colorado",
         "marker": {
          "color": "#19d3f3",
          "symbol": "circle"
         },
         "mode": "markers",
         "name": "Colorado",
         "orientation": "v",
         "showlegend": true,
         "type": "scatter",
         "x": [
          3
         ],
         "xaxis": "x",
         "y": [
          131
         ],
         "yaxis": "y"
        },
        {
         "hovertemplate": "State=Colorado<extra></extra>",
         "legendgroup": "Colorado",
         "marker": {
          "color": "#19d3f3",
          "symbol": "circle"
         },
         "mode": "lines",
         "name": "Colorado",
         "showlegend": false,
         "type": "scatter",
         "xaxis": "x",
         "yaxis": "y"
        },
        {
         "hovertemplate": "State=Connecticut<br>Gun safety ranking=%{x}<br>Total shot=%{y}<extra></extra>",
         "legendgroup": "Connecticut",
         "marker": {
          "color": "#FF6692",
          "symbol": "circle"
         },
         "mode": "markers",
         "name": "Connecticut",
         "orientation": "v",
         "showlegend": true,
         "type": "scatter",
         "x": [
          7.5
         ],
         "xaxis": "x",
         "y": [
          39
         ],
         "yaxis": "y"
        },
        {
         "hovertemplate": "State=Connecticut<extra></extra>",
         "legendgroup": "Connecticut",
         "marker": {
          "color": "#FF6692",
          "symbol": "circle"
         },
         "mode": "lines",
         "name": "Connecticut",
         "showlegend": false,
         "type": "scatter",
         "xaxis": "x",
         "yaxis": "y"
        },
        {
         "hovertemplate": "State=Delaware<br>Gun safety ranking=%{x}<br>Total shot=%{y}<extra></extra>",
         "legendgroup": "Delaware",
         "marker": {
          "color": "#B6E880",
          "symbol": "circle"
         },
         "mode": "markers",
         "name": "Delaware",
         "orientation": "v",
         "showlegend": true,
         "type": "scatter",
         "x": [
          5
         ],
         "xaxis": "x",
         "y": [
          4
         ],
         "yaxis": "y"
        },
        {
         "hovertemplate": "State=Delaware<extra></extra>",
         "legendgroup": "Delaware",
         "marker": {
          "color": "#B6E880",
          "symbol": "circle"
         },
         "mode": "lines",
         "name": "Delaware",
         "showlegend": false,
         "type": "scatter",
         "xaxis": "x",
         "yaxis": "y"
        },
        {
         "hovertemplate": "State=District of Columbia<br>Gun safety ranking=%{x}<br>Total shot=%{y}<extra></extra>",
         "legendgroup": "District of Columbia",
         "marker": {
          "color": "#FF97FF",
          "symbol": "circle"
         },
         "mode": "markers",
         "name": "District of Columbia",
         "orientation": "v",
         "showlegend": true,
         "type": "scatter",
         "x": [
          9
         ],
         "xaxis": "x",
         "y": [
          25
         ],
         "yaxis": "y"
        },
        {
         "hovertemplate": "State=District of Columbia<extra></extra>",
         "legendgroup": "District of Columbia",
         "marker": {
          "color": "#FF97FF",
          "symbol": "circle"
         },
         "mode": "lines",
         "name": "District of Columbia",
         "showlegend": false,
         "type": "scatter",
         "xaxis": "x",
         "yaxis": "y"
        },
        {
         "hovertemplate": "State=Florida<br>Gun safety ranking=%{x}<br>Total shot=%{y}<extra></extra>",
         "legendgroup": "Florida",
         "marker": {
          "color": "#FECB52",
          "symbol": "circle"
         },
         "mode": "markers",
         "name": "Florida",
         "orientation": "v",
         "showlegend": true,
         "type": "scatter",
         "x": [
          1
         ],
         "xaxis": "x",
         "y": [
          224
         ],
         "yaxis": "y"
        },
        {
         "hovertemplate": "State=Florida<extra></extra>",
         "legendgroup": "Florida",
         "marker": {
          "color": "#FECB52",
          "symbol": "circle"
         },
         "mode": "lines",
         "name": "Florida",
         "showlegend": false,
         "type": "scatter",
         "xaxis": "x",
         "yaxis": "y"
        },
        {
         "hovertemplate": "State=Georgia<br>Gun safety ranking=%{x}<br>Total shot=%{y}<extra></extra>",
         "legendgroup": "Georgia",
         "marker": {
          "color": "#636efa",
          "symbol": "circle"
         },
         "mode": "markers",
         "name": "Georgia",
         "orientation": "v",
         "showlegend": true,
         "type": "scatter",
         "x": [
          0
         ],
         "xaxis": "x",
         "y": [
          42
         ],
         "yaxis": "y"
        },
        {
         "hovertemplate": "State=Georgia<extra></extra>",
         "legendgroup": "Georgia",
         "marker": {
          "color": "#636efa",
          "symbol": "circle"
         },
         "mode": "lines",
         "name": "Georgia",
         "showlegend": false,
         "type": "scatter",
         "xaxis": "x",
         "yaxis": "y"
        },
        {
         "hovertemplate": "State=Hawaii<br>Gun safety ranking=%{x}<br>Total shot=%{y}<extra></extra>",
         "legendgroup": "Hawaii",
         "marker": {
          "color": "#EF553B",
          "symbol": "circle"
         },
         "mode": "markers",
         "name": "Hawaii",
         "orientation": "v",
         "showlegend": true,
         "type": "scatter",
         "x": [
          8
         ],
         "xaxis": "x",
         "y": [
          null
         ],
         "yaxis": "y"
        },
        {
         "hovertemplate": "State=Hawaii<extra></extra>",
         "legendgroup": "Hawaii",
         "marker": {
          "color": "#EF553B",
          "symbol": "circle"
         },
         "mode": "lines",
         "name": "Hawaii",
         "showlegend": false,
         "type": "scatter",
         "xaxis": "x",
         "yaxis": "y"
        },
        {
         "hovertemplate": "State=Idaho<br>Gun safety ranking=%{x}<br>Total shot=%{y}<extra></extra>",
         "legendgroup": "Idaho",
         "marker": {
          "color": "#00cc96",
          "symbol": "circle"
         },
         "mode": "markers",
         "name": "Idaho",
         "orientation": "v",
         "showlegend": true,
         "type": "scatter",
         "x": [
          0
         ],
         "xaxis": "x",
         "y": [
          4
         ],
         "yaxis": "y"
        },
        {
         "hovertemplate": "State=Idaho<extra></extra>",
         "legendgroup": "Idaho",
         "marker": {
          "color": "#00cc96",
          "symbol": "circle"
         },
         "mode": "lines",
         "name": "Idaho",
         "showlegend": false,
         "type": "scatter",
         "xaxis": "x",
         "yaxis": "y"
        },
        {
         "hovertemplate": "State=Illinois<br>Gun safety ranking=%{x}<br>Total shot=%{y}<extra></extra>",
         "legendgroup": "Illinois",
         "marker": {
          "color": "#ab63fa",
          "symbol": "circle"
         },
         "mode": "markers",
         "name": "Illinois",
         "orientation": "v",
         "showlegend": true,
         "type": "scatter",
         "x": [
          8
         ],
         "xaxis": "x",
         "y": [
          135
         ],
         "yaxis": "y"
        },
        {
         "hovertemplate": "State=Illinois<extra></extra>",
         "legendgroup": "Illinois",
         "marker": {
          "color": "#ab63fa",
          "symbol": "circle"
         },
         "mode": "lines",
         "name": "Illinois",
         "showlegend": false,
         "type": "scatter",
         "xaxis": "x",
         "yaxis": "y"
        },
        {
         "hovertemplate": "State=Indiana<br>Gun safety ranking=%{x}<br>Total shot=%{y}<extra></extra>",
         "legendgroup": "Indiana",
         "marker": {
          "color": "#FFA15A",
          "symbol": "circle"
         },
         "mode": "markers",
         "name": "Indiana",
         "orientation": "v",
         "showlegend": true,
         "type": "scatter",
         "x": [
          0
         ],
         "xaxis": "x",
         "y": [
          45
         ],
         "yaxis": "y"
        },
        {
         "hovertemplate": "State=Indiana<extra></extra>",
         "legendgroup": "Indiana",
         "marker": {
          "color": "#FFA15A",
          "symbol": "circle"
         },
         "mode": "lines",
         "name": "Indiana",
         "showlegend": false,
         "type": "scatter",
         "xaxis": "x",
         "yaxis": "y"
        },
        {
         "hovertemplate": "State=Iowa<br>Gun safety ranking=%{x}<br>Total shot=%{y}<extra></extra>",
         "legendgroup": "Iowa",
         "marker": {
          "color": "#19d3f3",
          "symbol": "circle"
         },
         "mode": "markers",
         "name": "Iowa",
         "orientation": "v",
         "showlegend": true,
         "type": "scatter",
         "x": [
          1
         ],
         "xaxis": "x",
         "y": [
          null
         ],
         "yaxis": "y"
        },
        {
         "hovertemplate": "State=Iowa<extra></extra>",
         "legendgroup": "Iowa",
         "marker": {
          "color": "#19d3f3",
          "symbol": "circle"
         },
         "mode": "lines",
         "name": "Iowa",
         "showlegend": false,
         "type": "scatter",
         "xaxis": "x",
         "yaxis": "y"
        },
        {
         "hovertemplate": "State=Kansas<br>Gun safety ranking=%{x}<br>Total shot=%{y}<extra></extra>",
         "legendgroup": "Kansas",
         "marker": {
          "color": "#FF6692",
          "symbol": "circle"
         },
         "mode": "markers",
         "name": "Kansas",
         "orientation": "v",
         "showlegend": true,
         "type": "scatter",
         "x": [
          0
         ],
         "xaxis": "x",
         "y": [
          30
         ],
         "yaxis": "y"
        },
        {
         "hovertemplate": "State=Kansas<extra></extra>",
         "legendgroup": "Kansas",
         "marker": {
          "color": "#FF6692",
          "symbol": "circle"
         },
         "mode": "lines",
         "name": "Kansas",
         "showlegend": false,
         "type": "scatter",
         "xaxis": "x",
         "yaxis": "y"
        },
        {
         "hovertemplate": "State=Kentucky<br>Gun safety ranking=%{x}<br>Total shot=%{y}<extra></extra>",
         "legendgroup": "Kentucky",
         "marker": {
          "color": "#B6E880",
          "symbol": "circle"
         },
         "mode": "markers",
         "name": "Kentucky",
         "orientation": "v",
         "showlegend": true,
         "type": "scatter",
         "x": [
          0
         ],
         "xaxis": "x",
         "y": [
          9
         ],
         "yaxis": "y"
        },
        {
         "hovertemplate": "State=Kentucky<extra></extra>",
         "legendgroup": "Kentucky",
         "marker": {
          "color": "#B6E880",
          "symbol": "circle"
         },
         "mode": "lines",
         "name": "Kentucky",
         "showlegend": false,
         "type": "scatter",
         "xaxis": "x",
         "yaxis": "y"
        },
        {
         "hovertemplate": "State=Lousiana<br>Gun safety ranking=%{x}<br>Total shot=%{y}<extra></extra>",
         "legendgroup": "Lousiana",
         "marker": {
          "color": "#FF97FF",
          "symbol": "circle"
         },
         "mode": "markers",
         "name": "Lousiana",
         "orientation": "v",
         "showlegend": true,
         "type": "scatter",
         "x": [
          1
         ],
         "xaxis": "x",
         "y": [
          null
         ],
         "yaxis": "y"
        },
        {
         "hovertemplate": "State=Lousiana<extra></extra>",
         "legendgroup": "Lousiana",
         "marker": {
          "color": "#FF97FF",
          "symbol": "circle"
         },
         "mode": "lines",
         "name": "Lousiana",
         "showlegend": false,
         "type": "scatter",
         "xaxis": "x",
         "yaxis": "y"
        },
        {
         "hovertemplate": "State=Maine<br>Gun safety ranking=%{x}<br>Total shot=%{y}<extra></extra>",
         "legendgroup": "Maine",
         "marker": {
          "color": "#FECB52",
          "symbol": "circle"
         },
         "mode": "markers",
         "name": "Maine",
         "orientation": "v",
         "showlegend": true,
         "type": "scatter",
         "x": [
          0
         ],
         "xaxis": "x",
         "y": [
          4
         ],
         "yaxis": "y"
        },
        {
         "hovertemplate": "State=Maine<extra></extra>",
         "legendgroup": "Maine",
         "marker": {
          "color": "#FECB52",
          "symbol": "circle"
         },
         "mode": "lines",
         "name": "Maine",
         "showlegend": false,
         "type": "scatter",
         "xaxis": "x",
         "yaxis": "y"
        },
        {
         "hovertemplate": "State=Maryland<br>Gun safety ranking=%{x}<br>Total shot=%{y}<extra></extra>",
         "legendgroup": "Maryland",
         "marker": {
          "color": "#636efa",
          "symbol": "circle"
         },
         "mode": "markers",
         "name": "Maryland",
         "orientation": "v",
         "showlegend": true,
         "type": "scatter",
         "x": [
          7
         ],
         "xaxis": "x",
         "y": [
          24
         ],
         "yaxis": "y"
        },
        {
         "hovertemplate": "State=Maryland<extra></extra>",
         "legendgroup": "Maryland",
         "marker": {
          "color": "#636efa",
          "symbol": "circle"
         },
         "mode": "lines",
         "name": "Maryland",
         "showlegend": false,
         "type": "scatter",
         "xaxis": "x",
         "yaxis": "y"
        },
        {
         "hovertemplate": "State=Massachusetts<br>Gun safety ranking=%{x}<br>Total shot=%{y}<extra></extra>",
         "legendgroup": "Massachusetts",
         "marker": {
          "color": "#EF553B",
          "symbol": "circle"
         },
         "mode": "markers",
         "name": "Massachusetts",
         "orientation": "v",
         "showlegend": true,
         "type": "scatter",
         "x": [
          8
         ],
         "xaxis": "x",
         "y": [
          9
         ],
         "yaxis": "y"
        },
        {
         "hovertemplate": "State=Massachusetts<extra></extra>",
         "legendgroup": "Massachusetts",
         "marker": {
          "color": "#EF553B",
          "symbol": "circle"
         },
         "mode": "lines",
         "name": "Massachusetts",
         "showlegend": false,
         "type": "scatter",
         "xaxis": "x",
         "yaxis": "y"
        },
        {
         "hovertemplate": "State=Michigan<br>Gun safety ranking=%{x}<br>Total shot=%{y}<extra></extra>",
         "legendgroup": "Michigan",
         "marker": {
          "color": "#00cc96",
          "symbol": "circle"
         },
         "mode": "markers",
         "name": "Michigan",
         "orientation": "v",
         "showlegend": true,
         "type": "scatter",
         "x": [
          4
         ],
         "xaxis": "x",
         "y": [
          48
         ],
         "yaxis": "y"
        },
        {
         "hovertemplate": "State=Michigan<extra></extra>",
         "legendgroup": "Michigan",
         "marker": {
          "color": "#00cc96",
          "symbol": "circle"
         },
         "mode": "lines",
         "name": "Michigan",
         "showlegend": false,
         "type": "scatter",
         "xaxis": "x",
         "yaxis": "y"
        },
        {
         "hovertemplate": "State=Minnesota<br>Gun safety ranking=%{x}<br>Total shot=%{y}<extra></extra>",
         "legendgroup": "Minnesota",
         "marker": {
          "color": "#ab63fa",
          "symbol": "circle"
         },
         "mode": "markers",
         "name": "Minnesota",
         "orientation": "v",
         "showlegend": true,
         "type": "scatter",
         "x": [
          4
         ],
         "xaxis": "x",
         "y": [
          20
         ],
         "yaxis": "y"
        },
        {
         "hovertemplate": "State=Minnesota<extra></extra>",
         "legendgroup": "Minnesota",
         "marker": {
          "color": "#ab63fa",
          "symbol": "circle"
         },
         "mode": "lines",
         "name": "Minnesota",
         "showlegend": false,
         "type": "scatter",
         "xaxis": "x",
         "yaxis": "y"
        },
        {
         "hovertemplate": "State=Mississippi<br>Gun safety ranking=%{x}<br>Total shot=%{y}<extra></extra>",
         "legendgroup": "Mississippi",
         "marker": {
          "color": "#FFA15A",
          "symbol": "circle"
         },
         "mode": "markers",
         "name": "Mississippi",
         "orientation": "v",
         "showlegend": true,
         "type": "scatter",
         "x": [
          0
         ],
         "xaxis": "x",
         "y": [
          20
         ],
         "yaxis": "y"
        },
        {
         "hovertemplate": "State=Mississippi<extra></extra>",
         "legendgroup": "Mississippi",
         "marker": {
          "color": "#FFA15A",
          "symbol": "circle"
         },
         "mode": "lines",
         "name": "Mississippi",
         "showlegend": false,
         "type": "scatter",
         "xaxis": "x",
         "yaxis": "y"
        },
        {
         "hovertemplate": "State=Missouri<br>Gun safety ranking=%{x}<br>Total shot=%{y}<extra></extra>",
         "legendgroup": "Missouri",
         "marker": {
          "color": "#19d3f3",
          "symbol": "circle"
         },
         "mode": "markers",
         "name": "Missouri",
         "orientation": "v",
         "showlegend": true,
         "type": "scatter",
         "x": [
          0
         ],
         "xaxis": "x",
         "y": [
          36
         ],
         "yaxis": "y"
        },
        {
         "hovertemplate": "State=Missouri<extra></extra>",
         "legendgroup": "Missouri",
         "marker": {
          "color": "#19d3f3",
          "symbol": "circle"
         },
         "mode": "lines",
         "name": "Missouri",
         "showlegend": false,
         "type": "scatter",
         "xaxis": "x",
         "yaxis": "y"
        },
        {
         "hovertemplate": "State=Montana<br>Gun safety ranking=%{x}<br>Total shot=%{y}<extra></extra>",
         "legendgroup": "Montana",
         "marker": {
          "color": "#FF6692",
          "symbol": "circle"
         },
         "mode": "markers",
         "name": "Montana",
         "orientation": "v",
         "showlegend": true,
         "type": "scatter",
         "x": [
          0
         ],
         "xaxis": "x",
         "y": [
          4
         ],
         "yaxis": "y"
        },
        {
         "hovertemplate": "State=Montana<extra></extra>",
         "legendgroup": "Montana",
         "marker": {
          "color": "#FF6692",
          "symbol": "circle"
         },
         "mode": "lines",
         "name": "Montana",
         "showlegend": false,
         "type": "scatter",
         "xaxis": "x",
         "yaxis": "y"
        },
        {
         "hovertemplate": "State=Nebraska<br>Gun safety ranking=%{x}<br>Total shot=%{y}<extra></extra>",
         "legendgroup": "Nebraska",
         "marker": {
          "color": "#B6E880",
          "symbol": "circle"
         },
         "mode": "markers",
         "name": "Nebraska",
         "orientation": "v",
         "showlegend": true,
         "type": "scatter",
         "x": [
          4
         ],
         "xaxis": "x",
         "y": [
          null
         ],
         "yaxis": "y"
        },
        {
         "hovertemplate": "State=Nebraska<extra></extra>",
         "legendgroup": "Nebraska",
         "marker": {
          "color": "#B6E880",
          "symbol": "circle"
         },
         "mode": "lines",
         "name": "Nebraska",
         "showlegend": false,
         "type": "scatter",
         "xaxis": "x",
         "yaxis": "y"
        },
        {
         "hovertemplate": "State=Nevada<br>Gun safety ranking=%{x}<br>Total shot=%{y}<extra></extra>",
         "legendgroup": "Nevada",
         "marker": {
          "color": "#FF97FF",
          "symbol": "circle"
         },
         "mode": "markers",
         "name": "Nevada",
         "orientation": "v",
         "showlegend": true,
         "type": "scatter",
         "x": [
          2
         ],
         "xaxis": "x",
         "y": [
          491
         ],
         "yaxis": "y"
        },
        {
         "hovertemplate": "State=Nevada<extra></extra>",
         "legendgroup": "Nevada",
         "marker": {
          "color": "#FF97FF",
          "symbol": "circle"
         },
         "mode": "lines",
         "name": "Nevada",
         "showlegend": false,
         "type": "scatter",
         "xaxis": "x",
         "yaxis": "y"
        },
        {
         "hovertemplate": "State=New Hampshire<br>Gun safety ranking=%{x}<br>Total shot=%{y}<extra></extra>",
         "legendgroup": "New Hampshire",
         "marker": {
          "color": "#FECB52",
          "symbol": "circle"
         },
         "mode": "markers",
         "name": "New Hampshire",
         "orientation": "v",
         "showlegend": true,
         "type": "scatter",
         "x": [
          0
         ],
         "xaxis": "x",
         "y": [
          null
         ],
         "yaxis": "y"
        },
        {
         "hovertemplate": "State=New Hampshire<extra></extra>",
         "legendgroup": "New Hampshire",
         "marker": {
          "color": "#FECB52",
          "symbol": "circle"
         },
         "mode": "lines",
         "name": "New Hampshire",
         "showlegend": false,
         "type": "scatter",
         "xaxis": "x",
         "yaxis": "y"
        },
        {
         "hovertemplate": "State=New Jersey<br>Gun safety ranking=%{x}<br>Total shot=%{y}<extra></extra>",
         "legendgroup": "New Jersey",
         "marker": {
          "color": "#636efa",
          "symbol": "circle"
         },
         "mode": "markers",
         "name": "New Jersey",
         "orientation": "v",
         "showlegend": true,
         "type": "scatter",
         "x": [
          8
         ],
         "xaxis": "x",
         "y": [
          18
         ],
         "yaxis": "y"
        },
        {
         "hovertemplate": "State=New Jersey<extra></extra>",
         "legendgroup": "New Jersey",
         "marker": {
          "color": "#636efa",
          "symbol": "circle"
         },
         "mode": "lines",
         "name": "New Jersey",
         "showlegend": false,
         "type": "scatter",
         "xaxis": "x",
         "yaxis": "y"
        },
        {
         "hovertemplate": "State=New Mexico<br>Gun safety ranking=%{x}<br>Total shot=%{y}<extra></extra>",
         "legendgroup": "New Mexico",
         "marker": {
          "color": "#EF553B",
          "symbol": "circle"
         },
         "mode": "markers",
         "name": "New Mexico",
         "orientation": "v",
         "showlegend": true,
         "type": "scatter",
         "x": [
          2
         ],
         "xaxis": "x",
         "y": [
          21
         ],
         "yaxis": "y"
        },
        {
         "hovertemplate": "State=New Mexico<extra></extra>",
         "legendgroup": "New Mexico",
         "marker": {
          "color": "#EF553B",
          "symbol": "circle"
         },
         "mode": "lines",
         "name": "New Mexico",
         "showlegend": false,
         "type": "scatter",
         "xaxis": "x",
         "yaxis": "y"
        },
        {
         "hovertemplate": "State=New York<br>Gun safety ranking=%{x}<br>Total shot=%{y}<extra></extra>",
         "legendgroup": "New York",
         "marker": {
          "color": "#00cc96",
          "symbol": "circle"
         },
         "mode": "markers",
         "name": "New York",
         "orientation": "v",
         "showlegend": true,
         "type": "scatter",
         "x": [
          9
         ],
         "xaxis": "x",
         "y": [
          53
         ],
         "yaxis": "y"
        },
        {
         "hovertemplate": "State=New York<extra></extra>",
         "legendgroup": "New York",
         "marker": {
          "color": "#00cc96",
          "symbol": "circle"
         },
         "mode": "lines",
         "name": "New York",
         "showlegend": false,
         "type": "scatter",
         "xaxis": "x",
         "yaxis": "y"
        },
        {
         "hovertemplate": "State=North Carolina<br>Gun safety ranking=%{x}<br>Total shot=%{y}<extra></extra>",
         "legendgroup": "North Carolina",
         "marker": {
          "color": "#ab63fa",
          "symbol": "circle"
         },
         "mode": "markers",
         "name": "North Carolina",
         "orientation": "v",
         "showlegend": true,
         "type": "scatter",
         "x": [
          3
         ],
         "xaxis": "x",
         "y": [
          54
         ],
         "yaxis": "y"
        },
        {
         "hovertemplate": "State=North Carolina<extra></extra>",
         "legendgroup": "North Carolina",
         "marker": {
          "color": "#ab63fa",
          "symbol": "circle"
         },
         "mode": "lines",
         "name": "North Carolina",
         "showlegend": false,
         "type": "scatter",
         "xaxis": "x",
         "yaxis": "y"
        },
        {
         "hovertemplate": "State=North Dakota<br>Gun safety ranking=%{x}<br>Total shot=%{y}<extra></extra>",
         "legendgroup": "North Dakota",
         "marker": {
          "color": "#FFA15A",
          "symbol": "circle"
         },
         "mode": "markers",
         "name": "North Dakota",
         "orientation": "v",
         "showlegend": true,
         "type": "scatter",
         "x": [
          1
         ],
         "xaxis": "x",
         "y": [
          8
         ],
         "yaxis": "y"
        },
        {
         "hovertemplate": "State=North Dakota<extra></extra>",
         "legendgroup": "North Dakota",
         "marker": {
          "color": "#FFA15A",
          "symbol": "circle"
         },
         "mode": "lines",
         "name": "North Dakota",
         "showlegend": false,
         "type": "scatter",
         "xaxis": "x",
         "yaxis": "y"
        },
        {
         "hovertemplate": "State=Ohio<br>Gun safety ranking=%{x}<br>Total shot=%{y}<extra></extra>",
         "legendgroup": "Ohio",
         "marker": {
          "color": "#19d3f3",
          "symbol": "circle"
         },
         "mode": "markers",
         "name": "Ohio",
         "orientation": "v",
         "showlegend": true,
         "type": "scatter",
         "x": [
          0
         ],
         "xaxis": "x",
         "y": [
          95
         ],
         "yaxis": "y"
        },
        {
         "hovertemplate": "State=Ohio<extra></extra>",
         "legendgroup": "Ohio",
         "marker": {
          "color": "#19d3f3",
          "symbol": "circle"
         },
         "mode": "lines",
         "name": "Ohio",
         "showlegend": false,
         "type": "scatter",
         "xaxis": "x",
         "yaxis": "y"
        },
        {
         "hovertemplate": "State=Oklahoma<br>Gun safety ranking=%{x}<br>Total shot=%{y}<extra></extra>",
         "legendgroup": "Oklahoma",
         "marker": {
          "color": "#FF6692",
          "symbol": "circle"
         },
         "mode": "markers",
         "name": "Oklahoma",
         "orientation": "v",
         "showlegend": true,
         "type": "scatter",
         "x": [
          0
         ],
         "xaxis": "x",
         "y": [
          37
         ],
         "yaxis": "y"
        },
        {
         "hovertemplate": "State=Oklahoma<extra></extra>",
         "legendgroup": "Oklahoma",
         "marker": {
          "color": "#FF6692",
          "symbol": "circle"
         },
         "mode": "lines",
         "name": "Oklahoma",
         "showlegend": false,
         "type": "scatter",
         "xaxis": "x",
         "yaxis": "y"
        },
        {
         "hovertemplate": "State=Oregon<br>Gun safety ranking=%{x}<br>Total shot=%{y}<extra></extra>",
         "legendgroup": "Oregon",
         "marker": {
          "color": "#B6E880",
          "symbol": "circle"
         },
         "mode": "markers",
         "name": "Oregon",
         "orientation": "v",
         "showlegend": true,
         "type": "scatter",
         "x": [
          2
         ],
         "xaxis": "x",
         "y": [
          18
         ],
         "yaxis": "y"
        },
        {
         "hovertemplate": "State=Oregon<extra></extra>",
         "legendgroup": "Oregon",
         "marker": {
          "color": "#B6E880",
          "symbol": "circle"
         },
         "mode": "lines",
         "name": "Oregon",
         "showlegend": false,
         "type": "scatter",
         "xaxis": "x",
         "yaxis": "y"
        },
        {
         "hovertemplate": "State=Pennsylvania<br>Gun safety ranking=%{x}<br>Total shot=%{y}<extra></extra>",
         "legendgroup": "Pennsylvania",
         "marker": {
          "color": "#FF97FF",
          "symbol": "circle"
         },
         "mode": "markers",
         "name": "Pennsylvania",
         "orientation": "v",
         "showlegend": true,
         "type": "scatter",
         "x": [
          2
         ],
         "xaxis": "x",
         "y": [
          50
         ],
         "yaxis": "y"
        },
        {
         "hovertemplate": "State=Pennsylvania<extra></extra>",
         "legendgroup": "Pennsylvania",
         "marker": {
          "color": "#FF97FF",
          "symbol": "circle"
         },
         "mode": "lines",
         "name": "Pennsylvania",
         "showlegend": false,
         "type": "scatter",
         "xaxis": "x",
         "yaxis": "y"
        },
        {
         "hovertemplate": "State=Rhode Island<br>Gun safety ranking=%{x}<br>Total shot=%{y}<extra></extra>",
         "legendgroup": "Rhode Island",
         "marker": {
          "color": "#FECB52",
          "symbol": "circle"
         },
         "mode": "markers",
         "name": "Rhode Island",
         "orientation": "v",
         "showlegend": true,
         "type": "scatter",
         "x": [
          5
         ],
         "xaxis": "x",
         "y": [
          null
         ],
         "yaxis": "y"
        },
        {
         "hovertemplate": "State=Rhode Island<extra></extra>",
         "legendgroup": "Rhode Island",
         "marker": {
          "color": "#FECB52",
          "symbol": "circle"
         },
         "mode": "lines",
         "name": "Rhode Island",
         "showlegend": false,
         "type": "scatter",
         "xaxis": "x",
         "yaxis": "y"
        },
        {
         "hovertemplate": "State=South Carolina<br>Gun safety ranking=%{x}<br>Total shot=%{y}<extra></extra>",
         "legendgroup": "South Carolina",
         "marker": {
          "color": "#636efa",
          "symbol": "circle"
         },
         "mode": "markers",
         "name": "South Carolina",
         "orientation": "v",
         "showlegend": true,
         "type": "scatter",
         "x": [
          2
         ],
         "xaxis": "x",
         "y": [
          42
         ],
         "yaxis": "y"
        },
        {
         "hovertemplate": "State=South Carolina<extra></extra>",
         "legendgroup": "South Carolina",
         "marker": {
          "color": "#636efa",
          "symbol": "circle"
         },
         "mode": "lines",
         "name": "South Carolina",
         "showlegend": false,
         "type": "scatter",
         "xaxis": "x",
         "yaxis": "y"
        },
        {
         "hovertemplate": "State=South Dakota<br>Gun safety ranking=%{x}<br>Total shot=%{y}<extra></extra>",
         "legendgroup": "South Dakota",
         "marker": {
          "color": "#EF553B",
          "symbol": "circle"
         },
         "mode": "markers",
         "name": "South Dakota",
         "orientation": "v",
         "showlegend": true,
         "type": "scatter",
         "x": [
          0
         ],
         "xaxis": "x",
         "y": [
          5
         ],
         "yaxis": "y"
        },
        {
         "hovertemplate": "State=South Dakota<extra></extra>",
         "legendgroup": "South Dakota",
         "marker": {
          "color": "#EF553B",
          "symbol": "circle"
         },
         "mode": "lines",
         "name": "South Dakota",
         "showlegend": false,
         "type": "scatter",
         "xaxis": "x",
         "yaxis": "y"
        },
        {
         "hovertemplate": "State=Tennessee<br>Gun safety ranking=%{x}<br>Total shot=%{y}<extra></extra>",
         "legendgroup": "Tennessee",
         "marker": {
          "color": "#00cc96",
          "symbol": "circle"
         },
         "mode": "markers",
         "name": "Tennessee",
         "orientation": "v",
         "showlegend": true,
         "type": "scatter",
         "x": [
          0
         ],
         "xaxis": "x",
         "y": [
          27
         ],
         "yaxis": "y"
        },
        {
         "hovertemplate": "State=Tennessee<extra></extra>",
         "legendgroup": "Tennessee",
         "marker": {
          "color": "#00cc96",
          "symbol": "circle"
         },
         "mode": "lines",
         "name": "Tennessee",
         "showlegend": false,
         "type": "scatter",
         "xaxis": "x",
         "yaxis": "y"
        },
        {
         "hovertemplate": "State=Texas<br>Gun safety ranking=%{x}<br>Total shot=%{y}<extra></extra>",
         "legendgroup": "Texas",
         "marker": {
          "color": "#ab63fa",
          "symbol": "circle"
         },
         "mode": "markers",
         "name": "Texas",
         "orientation": "v",
         "showlegend": true,
         "type": "scatter",
         "x": [
          0
         ],
         "xaxis": "x",
         "y": [
          402
         ],
         "yaxis": "y"
        },
        {
         "hovertemplate": "State=Texas<extra></extra>",
         "legendgroup": "Texas",
         "marker": {
          "color": "#ab63fa",
          "symbol": "circle"
         },
         "mode": "lines",
         "name": "Texas",
         "showlegend": false,
         "type": "scatter",
         "xaxis": "x",
         "yaxis": "y"
        },
        {
         "hovertemplate": "State=Utah<br>Gun safety ranking=%{x}<br>Total shot=%{y}<extra></extra>",
         "legendgroup": "Utah",
         "marker": {
          "color": "#FFA15A",
          "symbol": "circle"
         },
         "mode": "markers",
         "name": "Utah",
         "orientation": "v",
         "showlegend": true,
         "type": "scatter",
         "x": [
          0
         ],
         "xaxis": "x",
         "y": [
          16
         ],
         "yaxis": "y"
        },
        {
         "hovertemplate": "State=Utah<extra></extra>",
         "legendgroup": "Utah",
         "marker": {
          "color": "#FFA15A",
          "symbol": "circle"
         },
         "mode": "lines",
         "name": "Utah",
         "showlegend": false,
         "type": "scatter",
         "xaxis": "x",
         "yaxis": "y"
        },
        {
         "hovertemplate": "State=Vermont<br>Gun safety ranking=%{x}<br>Total shot=%{y}<extra></extra>",
         "legendgroup": "Vermont",
         "marker": {
          "color": "#19d3f3",
          "symbol": "circle"
         },
         "mode": "markers",
         "name": "Vermont",
         "orientation": "v",
         "showlegend": true,
         "type": "scatter",
         "x": [
          2
         ],
         "xaxis": "x",
         "y": [
          4
         ],
         "yaxis": "y"
        },
        {
         "hovertemplate": "State=Vermont<extra></extra>",
         "legendgroup": "Vermont",
         "marker": {
          "color": "#19d3f3",
          "symbol": "circle"
         },
         "mode": "lines",
         "name": "Vermont",
         "showlegend": false,
         "type": "scatter",
         "xaxis": "x",
         "yaxis": "y"
        },
        {
         "hovertemplate": "State=Virginia<br>Gun safety ranking=%{x}<br>Total shot=%{y}<extra></extra>",
         "legendgroup": "Virginia",
         "marker": {
          "color": "#FF6692",
          "symbol": "circle"
         },
         "mode": "markers",
         "name": "Virginia",
         "orientation": "v",
         "showlegend": true,
         "type": "scatter",
         "x": [
          3
         ],
         "xaxis": "x",
         "y": [
          63
         ],
         "yaxis": "y"
        },
        {
         "hovertemplate": "State=Virginia<extra></extra>",
         "legendgroup": "Virginia",
         "marker": {
          "color": "#FF6692",
          "symbol": "circle"
         },
         "mode": "lines",
         "name": "Virginia",
         "showlegend": false,
         "type": "scatter",
         "xaxis": "x",
         "yaxis": "y"
        },
        {
         "hovertemplate": "State=Washington<br>Gun safety ranking=%{x}<br>Total shot=%{y}<extra></extra>",
         "legendgroup": "Washington",
         "marker": {
          "color": "#B6E880",
          "symbol": "circle"
         },
         "mode": "markers",
         "name": "Washington",
         "orientation": "v",
         "showlegend": true,
         "type": "scatter",
         "x": [
          5
         ],
         "xaxis": "x",
         "y": [
          48
         ],
         "yaxis": "y"
        },
        {
         "hovertemplate": "State=Washington<extra></extra>",
         "legendgroup": "Washington",
         "marker": {
          "color": "#B6E880",
          "symbol": "circle"
         },
         "mode": "lines",
         "name": "Washington",
         "showlegend": false,
         "type": "scatter",
         "xaxis": "x",
         "yaxis": "y"
        },
        {
         "hovertemplate": "State=West Virginia<br>Gun safety ranking=%{x}<br>Total shot=%{y}<extra></extra>",
         "legendgroup": "West Virginia",
         "marker": {
          "color": "#FF97FF",
          "symbol": "circle"
         },
         "mode": "markers",
         "name": "West Virginia",
         "orientation": "v",
         "showlegend": true,
         "type": "scatter",
         "x": [
          0
         ],
         "xaxis": "x",
         "y": [
          22
         ],
         "yaxis": "y"
        },
        {
         "hovertemplate": "State=West Virginia<extra></extra>",
         "legendgroup": "West Virginia",
         "marker": {
          "color": "#FF97FF",
          "symbol": "circle"
         },
         "mode": "lines",
         "name": "West Virginia",
         "showlegend": false,
         "type": "scatter",
         "xaxis": "x",
         "yaxis": "y"
        },
        {
         "hovertemplate": "State=Wisconsin<br>Gun safety ranking=%{x}<br>Total shot=%{y}<extra></extra>",
         "legendgroup": "Wisconsin",
         "marker": {
          "color": "#FECB52",
          "symbol": "circle"
         },
         "mode": "markers",
         "name": "Wisconsin",
         "orientation": "v",
         "showlegend": true,
         "type": "scatter",
         "x": [
          2
         ],
         "xaxis": "x",
         "y": [
          40
         ],
         "yaxis": "y"
        },
        {
         "hovertemplate": "State=Wisconsin<extra></extra>",
         "legendgroup": "Wisconsin",
         "marker": {
          "color": "#FECB52",
          "symbol": "circle"
         },
         "mode": "lines",
         "name": "Wisconsin",
         "showlegend": false,
         "type": "scatter",
         "xaxis": "x",
         "yaxis": "y"
        },
        {
         "hovertemplate": "State=Wyoming<br>Gun safety ranking=%{x}<br>Total shot=%{y}<extra></extra>",
         "legendgroup": "Wyoming",
         "marker": {
          "color": "#636efa",
          "symbol": "circle"
         },
         "mode": "markers",
         "name": "Wyoming",
         "orientation": "v",
         "showlegend": true,
         "type": "scatter",
         "x": [
          0
         ],
         "xaxis": "x",
         "y": [
          5
         ],
         "yaxis": "y"
        },
        {
         "hovertemplate": "State=Wyoming<extra></extra>",
         "legendgroup": "Wyoming",
         "marker": {
          "color": "#636efa",
          "symbol": "circle"
         },
         "mode": "lines",
         "name": "Wyoming",
         "showlegend": false,
         "type": "scatter",
         "xaxis": "x",
         "yaxis": "y"
        },
        {
         "hovertemplate": "State=Gun safety ranking<br>Gun safety ranking=%{x}<br>Total shot=%{y}<extra></extra>",
         "legendgroup": "Gun safety ranking",
         "marker": {
          "color": "#EF553B",
          "symbol": "circle"
         },
         "mode": "markers",
         "name": "Gun safety ranking",
         "orientation": "v",
         "showlegend": true,
         "type": "scatter",
         "x": [
          126
         ],
         "xaxis": "x",
         "y": [
          null
         ],
         "yaxis": "y"
        },
        {
         "hovertemplate": "State=Gun safety ranking<extra></extra>",
         "legendgroup": "Gun safety ranking",
         "marker": {
          "color": "#EF553B",
          "symbol": "circle"
         },
         "mode": "lines",
         "name": "Gun safety ranking",
         "showlegend": false,
         "type": "scatter",
         "xaxis": "x",
         "yaxis": "y"
        }
       ],
       "layout": {
        "legend": {
         "title": {
          "text": "State"
         },
         "tracegroupgap": 0
        },
        "margin": {
         "t": 60
        },
        "template": {
         "data": {
          "bar": [
           {
            "error_x": {
             "color": "#2a3f5f"
            },
            "error_y": {
             "color": "#2a3f5f"
            },
            "marker": {
             "line": {
              "color": "#E5ECF6",
              "width": 0.5
             },
             "pattern": {
              "fillmode": "overlay",
              "size": 10,
              "solidity": 0.2
             }
            },
            "type": "bar"
           }
          ],
          "barpolar": [
           {
            "marker": {
             "line": {
              "color": "#E5ECF6",
              "width": 0.5
             },
             "pattern": {
              "fillmode": "overlay",
              "size": 10,
              "solidity": 0.2
             }
            },
            "type": "barpolar"
           }
          ],
          "carpet": [
           {
            "aaxis": {
             "endlinecolor": "#2a3f5f",
             "gridcolor": "white",
             "linecolor": "white",
             "minorgridcolor": "white",
             "startlinecolor": "#2a3f5f"
            },
            "baxis": {
             "endlinecolor": "#2a3f5f",
             "gridcolor": "white",
             "linecolor": "white",
             "minorgridcolor": "white",
             "startlinecolor": "#2a3f5f"
            },
            "type": "carpet"
           }
          ],
          "choropleth": [
           {
            "colorbar": {
             "outlinewidth": 0,
             "ticks": ""
            },
            "type": "choropleth"
           }
          ],
          "contour": [
           {
            "colorbar": {
             "outlinewidth": 0,
             "ticks": ""
            },
            "colorscale": [
             [
              0,
              "#0d0887"
             ],
             [
              0.1111111111111111,
              "#46039f"
             ],
             [
              0.2222222222222222,
              "#7201a8"
             ],
             [
              0.3333333333333333,
              "#9c179e"
             ],
             [
              0.4444444444444444,
              "#bd3786"
             ],
             [
              0.5555555555555556,
              "#d8576b"
             ],
             [
              0.6666666666666666,
              "#ed7953"
             ],
             [
              0.7777777777777778,
              "#fb9f3a"
             ],
             [
              0.8888888888888888,
              "#fdca26"
             ],
             [
              1,
              "#f0f921"
             ]
            ],
            "type": "contour"
           }
          ],
          "contourcarpet": [
           {
            "colorbar": {
             "outlinewidth": 0,
             "ticks": ""
            },
            "type": "contourcarpet"
           }
          ],
          "heatmap": [
           {
            "colorbar": {
             "outlinewidth": 0,
             "ticks": ""
            },
            "colorscale": [
             [
              0,
              "#0d0887"
             ],
             [
              0.1111111111111111,
              "#46039f"
             ],
             [
              0.2222222222222222,
              "#7201a8"
             ],
             [
              0.3333333333333333,
              "#9c179e"
             ],
             [
              0.4444444444444444,
              "#bd3786"
             ],
             [
              0.5555555555555556,
              "#d8576b"
             ],
             [
              0.6666666666666666,
              "#ed7953"
             ],
             [
              0.7777777777777778,
              "#fb9f3a"
             ],
             [
              0.8888888888888888,
              "#fdca26"
             ],
             [
              1,
              "#f0f921"
             ]
            ],
            "type": "heatmap"
           }
          ],
          "heatmapgl": [
           {
            "colorbar": {
             "outlinewidth": 0,
             "ticks": ""
            },
            "colorscale": [
             [
              0,
              "#0d0887"
             ],
             [
              0.1111111111111111,
              "#46039f"
             ],
             [
              0.2222222222222222,
              "#7201a8"
             ],
             [
              0.3333333333333333,
              "#9c179e"
             ],
             [
              0.4444444444444444,
              "#bd3786"
             ],
             [
              0.5555555555555556,
              "#d8576b"
             ],
             [
              0.6666666666666666,
              "#ed7953"
             ],
             [
              0.7777777777777778,
              "#fb9f3a"
             ],
             [
              0.8888888888888888,
              "#fdca26"
             ],
             [
              1,
              "#f0f921"
             ]
            ],
            "type": "heatmapgl"
           }
          ],
          "histogram": [
           {
            "marker": {
             "pattern": {
              "fillmode": "overlay",
              "size": 10,
              "solidity": 0.2
             }
            },
            "type": "histogram"
           }
          ],
          "histogram2d": [
           {
            "colorbar": {
             "outlinewidth": 0,
             "ticks": ""
            },
            "colorscale": [
             [
              0,
              "#0d0887"
             ],
             [
              0.1111111111111111,
              "#46039f"
             ],
             [
              0.2222222222222222,
              "#7201a8"
             ],
             [
              0.3333333333333333,
              "#9c179e"
             ],
             [
              0.4444444444444444,
              "#bd3786"
             ],
             [
              0.5555555555555556,
              "#d8576b"
             ],
             [
              0.6666666666666666,
              "#ed7953"
             ],
             [
              0.7777777777777778,
              "#fb9f3a"
             ],
             [
              0.8888888888888888,
              "#fdca26"
             ],
             [
              1,
              "#f0f921"
             ]
            ],
            "type": "histogram2d"
           }
          ],
          "histogram2dcontour": [
           {
            "colorbar": {
             "outlinewidth": 0,
             "ticks": ""
            },
            "colorscale": [
             [
              0,
              "#0d0887"
             ],
             [
              0.1111111111111111,
              "#46039f"
             ],
             [
              0.2222222222222222,
              "#7201a8"
             ],
             [
              0.3333333333333333,
              "#9c179e"
             ],
             [
              0.4444444444444444,
              "#bd3786"
             ],
             [
              0.5555555555555556,
              "#d8576b"
             ],
             [
              0.6666666666666666,
              "#ed7953"
             ],
             [
              0.7777777777777778,
              "#fb9f3a"
             ],
             [
              0.8888888888888888,
              "#fdca26"
             ],
             [
              1,
              "#f0f921"
             ]
            ],
            "type": "histogram2dcontour"
           }
          ],
          "mesh3d": [
           {
            "colorbar": {
             "outlinewidth": 0,
             "ticks": ""
            },
            "type": "mesh3d"
           }
          ],
          "parcoords": [
           {
            "line": {
             "colorbar": {
              "outlinewidth": 0,
              "ticks": ""
             }
            },
            "type": "parcoords"
           }
          ],
          "pie": [
           {
            "automargin": true,
            "type": "pie"
           }
          ],
          "scatter": [
           {
            "fillpattern": {
             "fillmode": "overlay",
             "size": 10,
             "solidity": 0.2
            },
            "type": "scatter"
           }
          ],
          "scatter3d": [
           {
            "line": {
             "colorbar": {
              "outlinewidth": 0,
              "ticks": ""
             }
            },
            "marker": {
             "colorbar": {
              "outlinewidth": 0,
              "ticks": ""
             }
            },
            "type": "scatter3d"
           }
          ],
          "scattercarpet": [
           {
            "marker": {
             "colorbar": {
              "outlinewidth": 0,
              "ticks": ""
             }
            },
            "type": "scattercarpet"
           }
          ],
          "scattergeo": [
           {
            "marker": {
             "colorbar": {
              "outlinewidth": 0,
              "ticks": ""
             }
            },
            "type": "scattergeo"
           }
          ],
          "scattergl": [
           {
            "marker": {
             "colorbar": {
              "outlinewidth": 0,
              "ticks": ""
             }
            },
            "type": "scattergl"
           }
          ],
          "scattermapbox": [
           {
            "marker": {
             "colorbar": {
              "outlinewidth": 0,
              "ticks": ""
             }
            },
            "type": "scattermapbox"
           }
          ],
          "scatterpolar": [
           {
            "marker": {
             "colorbar": {
              "outlinewidth": 0,
              "ticks": ""
             }
            },
            "type": "scatterpolar"
           }
          ],
          "scatterpolargl": [
           {
            "marker": {
             "colorbar": {
              "outlinewidth": 0,
              "ticks": ""
             }
            },
            "type": "scatterpolargl"
           }
          ],
          "scatterternary": [
           {
            "marker": {
             "colorbar": {
              "outlinewidth": 0,
              "ticks": ""
             }
            },
            "type": "scatterternary"
           }
          ],
          "surface": [
           {
            "colorbar": {
             "outlinewidth": 0,
             "ticks": ""
            },
            "colorscale": [
             [
              0,
              "#0d0887"
             ],
             [
              0.1111111111111111,
              "#46039f"
             ],
             [
              0.2222222222222222,
              "#7201a8"
             ],
             [
              0.3333333333333333,
              "#9c179e"
             ],
             [
              0.4444444444444444,
              "#bd3786"
             ],
             [
              0.5555555555555556,
              "#d8576b"
             ],
             [
              0.6666666666666666,
              "#ed7953"
             ],
             [
              0.7777777777777778,
              "#fb9f3a"
             ],
             [
              0.8888888888888888,
              "#fdca26"
             ],
             [
              1,
              "#f0f921"
             ]
            ],
            "type": "surface"
           }
          ],
          "table": [
           {
            "cells": {
             "fill": {
              "color": "#EBF0F8"
             },
             "line": {
              "color": "white"
             }
            },
            "header": {
             "fill": {
              "color": "#C8D4E3"
             },
             "line": {
              "color": "white"
             }
            },
            "type": "table"
           }
          ]
         },
         "layout": {
          "annotationdefaults": {
           "arrowcolor": "#2a3f5f",
           "arrowhead": 0,
           "arrowwidth": 1
          },
          "autotypenumbers": "strict",
          "coloraxis": {
           "colorbar": {
            "outlinewidth": 0,
            "ticks": ""
           }
          },
          "colorscale": {
           "diverging": [
            [
             0,
             "#8e0152"
            ],
            [
             0.1,
             "#c51b7d"
            ],
            [
             0.2,
             "#de77ae"
            ],
            [
             0.3,
             "#f1b6da"
            ],
            [
             0.4,
             "#fde0ef"
            ],
            [
             0.5,
             "#f7f7f7"
            ],
            [
             0.6,
             "#e6f5d0"
            ],
            [
             0.7,
             "#b8e186"
            ],
            [
             0.8,
             "#7fbc41"
            ],
            [
             0.9,
             "#4d9221"
            ],
            [
             1,
             "#276419"
            ]
           ],
           "sequential": [
            [
             0,
             "#0d0887"
            ],
            [
             0.1111111111111111,
             "#46039f"
            ],
            [
             0.2222222222222222,
             "#7201a8"
            ],
            [
             0.3333333333333333,
             "#9c179e"
            ],
            [
             0.4444444444444444,
             "#bd3786"
            ],
            [
             0.5555555555555556,
             "#d8576b"
            ],
            [
             0.6666666666666666,
             "#ed7953"
            ],
            [
             0.7777777777777778,
             "#fb9f3a"
            ],
            [
             0.8888888888888888,
             "#fdca26"
            ],
            [
             1,
             "#f0f921"
            ]
           ],
           "sequentialminus": [
            [
             0,
             "#0d0887"
            ],
            [
             0.1111111111111111,
             "#46039f"
            ],
            [
             0.2222222222222222,
             "#7201a8"
            ],
            [
             0.3333333333333333,
             "#9c179e"
            ],
            [
             0.4444444444444444,
             "#bd3786"
            ],
            [
             0.5555555555555556,
             "#d8576b"
            ],
            [
             0.6666666666666666,
             "#ed7953"
            ],
            [
             0.7777777777777778,
             "#fb9f3a"
            ],
            [
             0.8888888888888888,
             "#fdca26"
            ],
            [
             1,
             "#f0f921"
            ]
           ]
          },
          "colorway": [
           "#636efa",
           "#EF553B",
           "#00cc96",
           "#ab63fa",
           "#FFA15A",
           "#19d3f3",
           "#FF6692",
           "#B6E880",
           "#FF97FF",
           "#FECB52"
          ],
          "font": {
           "color": "#2a3f5f"
          },
          "geo": {
           "bgcolor": "white",
           "lakecolor": "white",
           "landcolor": "#E5ECF6",
           "showlakes": true,
           "showland": true,
           "subunitcolor": "white"
          },
          "hoverlabel": {
           "align": "left"
          },
          "hovermode": "closest",
          "mapbox": {
           "style": "light"
          },
          "paper_bgcolor": "white",
          "plot_bgcolor": "#E5ECF6",
          "polar": {
           "angularaxis": {
            "gridcolor": "white",
            "linecolor": "white",
            "ticks": ""
           },
           "bgcolor": "#E5ECF6",
           "radialaxis": {
            "gridcolor": "white",
            "linecolor": "white",
            "ticks": ""
           }
          },
          "scene": {
           "xaxis": {
            "backgroundcolor": "#E5ECF6",
            "gridcolor": "white",
            "gridwidth": 2,
            "linecolor": "white",
            "showbackground": true,
            "ticks": "",
            "zerolinecolor": "white"
           },
           "yaxis": {
            "backgroundcolor": "#E5ECF6",
            "gridcolor": "white",
            "gridwidth": 2,
            "linecolor": "white",
            "showbackground": true,
            "ticks": "",
            "zerolinecolor": "white"
           },
           "zaxis": {
            "backgroundcolor": "#E5ECF6",
            "gridcolor": "white",
            "gridwidth": 2,
            "linecolor": "white",
            "showbackground": true,
            "ticks": "",
            "zerolinecolor": "white"
           }
          },
          "shapedefaults": {
           "line": {
            "color": "#2a3f5f"
           }
          },
          "ternary": {
           "aaxis": {
            "gridcolor": "white",
            "linecolor": "white",
            "ticks": ""
           },
           "baxis": {
            "gridcolor": "white",
            "linecolor": "white",
            "ticks": ""
           },
           "bgcolor": "#E5ECF6",
           "caxis": {
            "gridcolor": "white",
            "linecolor": "white",
            "ticks": ""
           }
          },
          "title": {
           "x": 0.05
          },
          "xaxis": {
           "automargin": true,
           "gridcolor": "white",
           "linecolor": "white",
           "ticks": "",
           "title": {
            "standoff": 15
           },
           "zerolinecolor": "white",
           "zerolinewidth": 2
          },
          "yaxis": {
           "automargin": true,
           "gridcolor": "white",
           "linecolor": "white",
           "ticks": "",
           "title": {
            "standoff": 15
           },
           "zerolinecolor": "white",
           "zerolinewidth": 2
          }
         }
        },
        "xaxis": {
         "anchor": "y",
         "domain": [
          0,
          1
         ],
         "range": [
          -1,
          10
         ],
         "title": {
          "text": "Gun safety ranking"
         }
        },
        "yaxis": {
         "anchor": "x",
         "domain": [
          0,
          1
         ],
         "title": {
          "text": "Total shot"
         }
        }
       }
      },
      "text/html": [
       "<div>                            <div id=\"bf22cb79-a21a-4514-afa2-dba7cb8b1349\" class=\"plotly-graph-div\" style=\"height:525px; width:100%;\"></div>            <script type=\"text/javascript\">                require([\"plotly\"], function(Plotly) {                    window.PLOTLYENV=window.PLOTLYENV || {};                                    if (document.getElementById(\"bf22cb79-a21a-4514-afa2-dba7cb8b1349\")) {                    Plotly.newPlot(                        \"bf22cb79-a21a-4514-afa2-dba7cb8b1349\",                        [{\"hovertemplate\":\"State=Alabama<br>Gun safety ranking=%{x}<br>Total shot=%{y}<extra></extra>\",\"legendgroup\":\"Alabama\",\"marker\":{\"color\":\"#636efa\",\"symbol\":\"circle\"},\"mode\":\"markers\",\"name\":\"Alabama\",\"orientation\":\"v\",\"showlegend\":true,\"x\":[0.0],\"xaxis\":\"x\",\"y\":[35.0],\"yaxis\":\"y\",\"type\":\"scatter\"},{\"hovertemplate\":\"State=Alabama<extra></extra>\",\"legendgroup\":\"Alabama\",\"marker\":{\"color\":\"#636efa\",\"symbol\":\"circle\"},\"mode\":\"lines\",\"name\":\"Alabama\",\"showlegend\":false,\"xaxis\":\"x\",\"yaxis\":\"y\",\"type\":\"scatter\"},{\"hovertemplate\":\"State=Alaska<br>Gun safety ranking=%{x}<br>Total shot=%{y}<extra></extra>\",\"legendgroup\":\"Alaska\",\"marker\":{\"color\":\"#EF553B\",\"symbol\":\"circle\"},\"mode\":\"markers\",\"name\":\"Alaska\",\"orientation\":\"v\",\"showlegend\":true,\"x\":[0.0],\"xaxis\":\"x\",\"y\":[4.0],\"yaxis\":\"y\",\"type\":\"scatter\"},{\"hovertemplate\":\"State=Alaska<extra></extra>\",\"legendgroup\":\"Alaska\",\"marker\":{\"color\":\"#EF553B\",\"symbol\":\"circle\"},\"mode\":\"lines\",\"name\":\"Alaska\",\"showlegend\":false,\"xaxis\":\"x\",\"yaxis\":\"y\",\"type\":\"scatter\"},{\"hovertemplate\":\"State=Arizona<br>Gun safety ranking=%{x}<br>Total shot=%{y}<extra></extra>\",\"legendgroup\":\"Arizona\",\"marker\":{\"color\":\"#00cc96\",\"symbol\":\"circle\"},\"mode\":\"markers\",\"name\":\"Arizona\",\"orientation\":\"v\",\"showlegend\":true,\"x\":[0.0],\"xaxis\":\"x\",\"y\":[54.0],\"yaxis\":\"y\",\"type\":\"scatter\"},{\"hovertemplate\":\"State=Arizona<extra></extra>\",\"legendgroup\":\"Arizona\",\"marker\":{\"color\":\"#00cc96\",\"symbol\":\"circle\"},\"mode\":\"lines\",\"name\":\"Arizona\",\"showlegend\":false,\"xaxis\":\"x\",\"yaxis\":\"y\",\"type\":\"scatter\"},{\"hovertemplate\":\"State=Arkansas<br>Gun safety ranking=%{x}<br>Total shot=%{y}<extra></extra>\",\"legendgroup\":\"Arkansas\",\"marker\":{\"color\":\"#ab63fa\",\"symbol\":\"circle\"},\"mode\":\"markers\",\"name\":\"Arkansas\",\"orientation\":\"v\",\"showlegend\":true,\"x\":[0.0],\"xaxis\":\"x\",\"y\":[13.0],\"yaxis\":\"y\",\"type\":\"scatter\"},{\"hovertemplate\":\"State=Arkansas<extra></extra>\",\"legendgroup\":\"Arkansas\",\"marker\":{\"color\":\"#ab63fa\",\"symbol\":\"circle\"},\"mode\":\"lines\",\"name\":\"Arkansas\",\"showlegend\":false,\"xaxis\":\"x\",\"yaxis\":\"y\",\"type\":\"scatter\"},{\"hovertemplate\":\"State=California<br>Gun safety ranking=%{x}<br>Total shot=%{y}<extra></extra>\",\"legendgroup\":\"California\",\"marker\":{\"color\":\"#FFA15A\",\"symbol\":\"circle\"},\"mode\":\"markers\",\"name\":\"California\",\"orientation\":\"v\",\"showlegend\":true,\"x\":[7.5],\"xaxis\":\"x\",\"y\":[273.0],\"yaxis\":\"y\",\"type\":\"scatter\"},{\"hovertemplate\":\"State=California<extra></extra>\",\"legendgroup\":\"California\",\"marker\":{\"color\":\"#FFA15A\",\"symbol\":\"circle\"},\"mode\":\"lines\",\"name\":\"California\",\"showlegend\":false,\"xaxis\":\"x\",\"yaxis\":\"y\",\"type\":\"scatter\"},{\"hovertemplate\":\"State=Colorado<br>Gun safety ranking=%{x}<br>Total shot=%{y}<extra></extra>\",\"legendgroup\":\"Colorado\",\"marker\":{\"color\":\"#19d3f3\",\"symbol\":\"circle\"},\"mode\":\"markers\",\"name\":\"Colorado\",\"orientation\":\"v\",\"showlegend\":true,\"x\":[3.0],\"xaxis\":\"x\",\"y\":[131.0],\"yaxis\":\"y\",\"type\":\"scatter\"},{\"hovertemplate\":\"State=Colorado<extra></extra>\",\"legendgroup\":\"Colorado\",\"marker\":{\"color\":\"#19d3f3\",\"symbol\":\"circle\"},\"mode\":\"lines\",\"name\":\"Colorado\",\"showlegend\":false,\"xaxis\":\"x\",\"yaxis\":\"y\",\"type\":\"scatter\"},{\"hovertemplate\":\"State=Connecticut<br>Gun safety ranking=%{x}<br>Total shot=%{y}<extra></extra>\",\"legendgroup\":\"Connecticut\",\"marker\":{\"color\":\"#FF6692\",\"symbol\":\"circle\"},\"mode\":\"markers\",\"name\":\"Connecticut\",\"orientation\":\"v\",\"showlegend\":true,\"x\":[7.5],\"xaxis\":\"x\",\"y\":[39.0],\"yaxis\":\"y\",\"type\":\"scatter\"},{\"hovertemplate\":\"State=Connecticut<extra></extra>\",\"legendgroup\":\"Connecticut\",\"marker\":{\"color\":\"#FF6692\",\"symbol\":\"circle\"},\"mode\":\"lines\",\"name\":\"Connecticut\",\"showlegend\":false,\"xaxis\":\"x\",\"yaxis\":\"y\",\"type\":\"scatter\"},{\"hovertemplate\":\"State=Delaware<br>Gun safety ranking=%{x}<br>Total shot=%{y}<extra></extra>\",\"legendgroup\":\"Delaware\",\"marker\":{\"color\":\"#B6E880\",\"symbol\":\"circle\"},\"mode\":\"markers\",\"name\":\"Delaware\",\"orientation\":\"v\",\"showlegend\":true,\"x\":[5.0],\"xaxis\":\"x\",\"y\":[4.0],\"yaxis\":\"y\",\"type\":\"scatter\"},{\"hovertemplate\":\"State=Delaware<extra></extra>\",\"legendgroup\":\"Delaware\",\"marker\":{\"color\":\"#B6E880\",\"symbol\":\"circle\"},\"mode\":\"lines\",\"name\":\"Delaware\",\"showlegend\":false,\"xaxis\":\"x\",\"yaxis\":\"y\",\"type\":\"scatter\"},{\"hovertemplate\":\"State=District of Columbia<br>Gun safety ranking=%{x}<br>Total shot=%{y}<extra></extra>\",\"legendgroup\":\"District of Columbia\",\"marker\":{\"color\":\"#FF97FF\",\"symbol\":\"circle\"},\"mode\":\"markers\",\"name\":\"District of Columbia\",\"orientation\":\"v\",\"showlegend\":true,\"x\":[9.0],\"xaxis\":\"x\",\"y\":[25.0],\"yaxis\":\"y\",\"type\":\"scatter\"},{\"hovertemplate\":\"State=District of Columbia<extra></extra>\",\"legendgroup\":\"District of Columbia\",\"marker\":{\"color\":\"#FF97FF\",\"symbol\":\"circle\"},\"mode\":\"lines\",\"name\":\"District of Columbia\",\"showlegend\":false,\"xaxis\":\"x\",\"yaxis\":\"y\",\"type\":\"scatter\"},{\"hovertemplate\":\"State=Florida<br>Gun safety ranking=%{x}<br>Total shot=%{y}<extra></extra>\",\"legendgroup\":\"Florida\",\"marker\":{\"color\":\"#FECB52\",\"symbol\":\"circle\"},\"mode\":\"markers\",\"name\":\"Florida\",\"orientation\":\"v\",\"showlegend\":true,\"x\":[1.0],\"xaxis\":\"x\",\"y\":[224.0],\"yaxis\":\"y\",\"type\":\"scatter\"},{\"hovertemplate\":\"State=Florida<extra></extra>\",\"legendgroup\":\"Florida\",\"marker\":{\"color\":\"#FECB52\",\"symbol\":\"circle\"},\"mode\":\"lines\",\"name\":\"Florida\",\"showlegend\":false,\"xaxis\":\"x\",\"yaxis\":\"y\",\"type\":\"scatter\"},{\"hovertemplate\":\"State=Georgia<br>Gun safety ranking=%{x}<br>Total shot=%{y}<extra></extra>\",\"legendgroup\":\"Georgia\",\"marker\":{\"color\":\"#636efa\",\"symbol\":\"circle\"},\"mode\":\"markers\",\"name\":\"Georgia\",\"orientation\":\"v\",\"showlegend\":true,\"x\":[0.0],\"xaxis\":\"x\",\"y\":[42.0],\"yaxis\":\"y\",\"type\":\"scatter\"},{\"hovertemplate\":\"State=Georgia<extra></extra>\",\"legendgroup\":\"Georgia\",\"marker\":{\"color\":\"#636efa\",\"symbol\":\"circle\"},\"mode\":\"lines\",\"name\":\"Georgia\",\"showlegend\":false,\"xaxis\":\"x\",\"yaxis\":\"y\",\"type\":\"scatter\"},{\"hovertemplate\":\"State=Hawaii<br>Gun safety ranking=%{x}<br>Total shot=%{y}<extra></extra>\",\"legendgroup\":\"Hawaii\",\"marker\":{\"color\":\"#EF553B\",\"symbol\":\"circle\"},\"mode\":\"markers\",\"name\":\"Hawaii\",\"orientation\":\"v\",\"showlegend\":true,\"x\":[8.0],\"xaxis\":\"x\",\"y\":[null],\"yaxis\":\"y\",\"type\":\"scatter\"},{\"hovertemplate\":\"State=Hawaii<extra></extra>\",\"legendgroup\":\"Hawaii\",\"marker\":{\"color\":\"#EF553B\",\"symbol\":\"circle\"},\"mode\":\"lines\",\"name\":\"Hawaii\",\"showlegend\":false,\"xaxis\":\"x\",\"yaxis\":\"y\",\"type\":\"scatter\"},{\"hovertemplate\":\"State=Idaho<br>Gun safety ranking=%{x}<br>Total shot=%{y}<extra></extra>\",\"legendgroup\":\"Idaho\",\"marker\":{\"color\":\"#00cc96\",\"symbol\":\"circle\"},\"mode\":\"markers\",\"name\":\"Idaho\",\"orientation\":\"v\",\"showlegend\":true,\"x\":[0.0],\"xaxis\":\"x\",\"y\":[4.0],\"yaxis\":\"y\",\"type\":\"scatter\"},{\"hovertemplate\":\"State=Idaho<extra></extra>\",\"legendgroup\":\"Idaho\",\"marker\":{\"color\":\"#00cc96\",\"symbol\":\"circle\"},\"mode\":\"lines\",\"name\":\"Idaho\",\"showlegend\":false,\"xaxis\":\"x\",\"yaxis\":\"y\",\"type\":\"scatter\"},{\"hovertemplate\":\"State=Illinois<br>Gun safety ranking=%{x}<br>Total shot=%{y}<extra></extra>\",\"legendgroup\":\"Illinois\",\"marker\":{\"color\":\"#ab63fa\",\"symbol\":\"circle\"},\"mode\":\"markers\",\"name\":\"Illinois\",\"orientation\":\"v\",\"showlegend\":true,\"x\":[8.0],\"xaxis\":\"x\",\"y\":[135.0],\"yaxis\":\"y\",\"type\":\"scatter\"},{\"hovertemplate\":\"State=Illinois<extra></extra>\",\"legendgroup\":\"Illinois\",\"marker\":{\"color\":\"#ab63fa\",\"symbol\":\"circle\"},\"mode\":\"lines\",\"name\":\"Illinois\",\"showlegend\":false,\"xaxis\":\"x\",\"yaxis\":\"y\",\"type\":\"scatter\"},{\"hovertemplate\":\"State=Indiana<br>Gun safety ranking=%{x}<br>Total shot=%{y}<extra></extra>\",\"legendgroup\":\"Indiana\",\"marker\":{\"color\":\"#FFA15A\",\"symbol\":\"circle\"},\"mode\":\"markers\",\"name\":\"Indiana\",\"orientation\":\"v\",\"showlegend\":true,\"x\":[0.0],\"xaxis\":\"x\",\"y\":[45.0],\"yaxis\":\"y\",\"type\":\"scatter\"},{\"hovertemplate\":\"State=Indiana<extra></extra>\",\"legendgroup\":\"Indiana\",\"marker\":{\"color\":\"#FFA15A\",\"symbol\":\"circle\"},\"mode\":\"lines\",\"name\":\"Indiana\",\"showlegend\":false,\"xaxis\":\"x\",\"yaxis\":\"y\",\"type\":\"scatter\"},{\"hovertemplate\":\"State=Iowa<br>Gun safety ranking=%{x}<br>Total shot=%{y}<extra></extra>\",\"legendgroup\":\"Iowa\",\"marker\":{\"color\":\"#19d3f3\",\"symbol\":\"circle\"},\"mode\":\"markers\",\"name\":\"Iowa\",\"orientation\":\"v\",\"showlegend\":true,\"x\":[1.0],\"xaxis\":\"x\",\"y\":[null],\"yaxis\":\"y\",\"type\":\"scatter\"},{\"hovertemplate\":\"State=Iowa<extra></extra>\",\"legendgroup\":\"Iowa\",\"marker\":{\"color\":\"#19d3f3\",\"symbol\":\"circle\"},\"mode\":\"lines\",\"name\":\"Iowa\",\"showlegend\":false,\"xaxis\":\"x\",\"yaxis\":\"y\",\"type\":\"scatter\"},{\"hovertemplate\":\"State=Kansas<br>Gun safety ranking=%{x}<br>Total shot=%{y}<extra></extra>\",\"legendgroup\":\"Kansas\",\"marker\":{\"color\":\"#FF6692\",\"symbol\":\"circle\"},\"mode\":\"markers\",\"name\":\"Kansas\",\"orientation\":\"v\",\"showlegend\":true,\"x\":[0.0],\"xaxis\":\"x\",\"y\":[30.0],\"yaxis\":\"y\",\"type\":\"scatter\"},{\"hovertemplate\":\"State=Kansas<extra></extra>\",\"legendgroup\":\"Kansas\",\"marker\":{\"color\":\"#FF6692\",\"symbol\":\"circle\"},\"mode\":\"lines\",\"name\":\"Kansas\",\"showlegend\":false,\"xaxis\":\"x\",\"yaxis\":\"y\",\"type\":\"scatter\"},{\"hovertemplate\":\"State=Kentucky<br>Gun safety ranking=%{x}<br>Total shot=%{y}<extra></extra>\",\"legendgroup\":\"Kentucky\",\"marker\":{\"color\":\"#B6E880\",\"symbol\":\"circle\"},\"mode\":\"markers\",\"name\":\"Kentucky\",\"orientation\":\"v\",\"showlegend\":true,\"x\":[0.0],\"xaxis\":\"x\",\"y\":[9.0],\"yaxis\":\"y\",\"type\":\"scatter\"},{\"hovertemplate\":\"State=Kentucky<extra></extra>\",\"legendgroup\":\"Kentucky\",\"marker\":{\"color\":\"#B6E880\",\"symbol\":\"circle\"},\"mode\":\"lines\",\"name\":\"Kentucky\",\"showlegend\":false,\"xaxis\":\"x\",\"yaxis\":\"y\",\"type\":\"scatter\"},{\"hovertemplate\":\"State=Lousiana<br>Gun safety ranking=%{x}<br>Total shot=%{y}<extra></extra>\",\"legendgroup\":\"Lousiana\",\"marker\":{\"color\":\"#FF97FF\",\"symbol\":\"circle\"},\"mode\":\"markers\",\"name\":\"Lousiana\",\"orientation\":\"v\",\"showlegend\":true,\"x\":[1.0],\"xaxis\":\"x\",\"y\":[null],\"yaxis\":\"y\",\"type\":\"scatter\"},{\"hovertemplate\":\"State=Lousiana<extra></extra>\",\"legendgroup\":\"Lousiana\",\"marker\":{\"color\":\"#FF97FF\",\"symbol\":\"circle\"},\"mode\":\"lines\",\"name\":\"Lousiana\",\"showlegend\":false,\"xaxis\":\"x\",\"yaxis\":\"y\",\"type\":\"scatter\"},{\"hovertemplate\":\"State=Maine<br>Gun safety ranking=%{x}<br>Total shot=%{y}<extra></extra>\",\"legendgroup\":\"Maine\",\"marker\":{\"color\":\"#FECB52\",\"symbol\":\"circle\"},\"mode\":\"markers\",\"name\":\"Maine\",\"orientation\":\"v\",\"showlegend\":true,\"x\":[0.0],\"xaxis\":\"x\",\"y\":[4.0],\"yaxis\":\"y\",\"type\":\"scatter\"},{\"hovertemplate\":\"State=Maine<extra></extra>\",\"legendgroup\":\"Maine\",\"marker\":{\"color\":\"#FECB52\",\"symbol\":\"circle\"},\"mode\":\"lines\",\"name\":\"Maine\",\"showlegend\":false,\"xaxis\":\"x\",\"yaxis\":\"y\",\"type\":\"scatter\"},{\"hovertemplate\":\"State=Maryland<br>Gun safety ranking=%{x}<br>Total shot=%{y}<extra></extra>\",\"legendgroup\":\"Maryland\",\"marker\":{\"color\":\"#636efa\",\"symbol\":\"circle\"},\"mode\":\"markers\",\"name\":\"Maryland\",\"orientation\":\"v\",\"showlegend\":true,\"x\":[7.0],\"xaxis\":\"x\",\"y\":[24.0],\"yaxis\":\"y\",\"type\":\"scatter\"},{\"hovertemplate\":\"State=Maryland<extra></extra>\",\"legendgroup\":\"Maryland\",\"marker\":{\"color\":\"#636efa\",\"symbol\":\"circle\"},\"mode\":\"lines\",\"name\":\"Maryland\",\"showlegend\":false,\"xaxis\":\"x\",\"yaxis\":\"y\",\"type\":\"scatter\"},{\"hovertemplate\":\"State=Massachusetts<br>Gun safety ranking=%{x}<br>Total shot=%{y}<extra></extra>\",\"legendgroup\":\"Massachusetts\",\"marker\":{\"color\":\"#EF553B\",\"symbol\":\"circle\"},\"mode\":\"markers\",\"name\":\"Massachusetts\",\"orientation\":\"v\",\"showlegend\":true,\"x\":[8.0],\"xaxis\":\"x\",\"y\":[9.0],\"yaxis\":\"y\",\"type\":\"scatter\"},{\"hovertemplate\":\"State=Massachusetts<extra></extra>\",\"legendgroup\":\"Massachusetts\",\"marker\":{\"color\":\"#EF553B\",\"symbol\":\"circle\"},\"mode\":\"lines\",\"name\":\"Massachusetts\",\"showlegend\":false,\"xaxis\":\"x\",\"yaxis\":\"y\",\"type\":\"scatter\"},{\"hovertemplate\":\"State=Michigan<br>Gun safety ranking=%{x}<br>Total shot=%{y}<extra></extra>\",\"legendgroup\":\"Michigan\",\"marker\":{\"color\":\"#00cc96\",\"symbol\":\"circle\"},\"mode\":\"markers\",\"name\":\"Michigan\",\"orientation\":\"v\",\"showlegend\":true,\"x\":[4.0],\"xaxis\":\"x\",\"y\":[48.0],\"yaxis\":\"y\",\"type\":\"scatter\"},{\"hovertemplate\":\"State=Michigan<extra></extra>\",\"legendgroup\":\"Michigan\",\"marker\":{\"color\":\"#00cc96\",\"symbol\":\"circle\"},\"mode\":\"lines\",\"name\":\"Michigan\",\"showlegend\":false,\"xaxis\":\"x\",\"yaxis\":\"y\",\"type\":\"scatter\"},{\"hovertemplate\":\"State=Minnesota<br>Gun safety ranking=%{x}<br>Total shot=%{y}<extra></extra>\",\"legendgroup\":\"Minnesota\",\"marker\":{\"color\":\"#ab63fa\",\"symbol\":\"circle\"},\"mode\":\"markers\",\"name\":\"Minnesota\",\"orientation\":\"v\",\"showlegend\":true,\"x\":[4.0],\"xaxis\":\"x\",\"y\":[20.0],\"yaxis\":\"y\",\"type\":\"scatter\"},{\"hovertemplate\":\"State=Minnesota<extra></extra>\",\"legendgroup\":\"Minnesota\",\"marker\":{\"color\":\"#ab63fa\",\"symbol\":\"circle\"},\"mode\":\"lines\",\"name\":\"Minnesota\",\"showlegend\":false,\"xaxis\":\"x\",\"yaxis\":\"y\",\"type\":\"scatter\"},{\"hovertemplate\":\"State=Mississippi<br>Gun safety ranking=%{x}<br>Total shot=%{y}<extra></extra>\",\"legendgroup\":\"Mississippi\",\"marker\":{\"color\":\"#FFA15A\",\"symbol\":\"circle\"},\"mode\":\"markers\",\"name\":\"Mississippi\",\"orientation\":\"v\",\"showlegend\":true,\"x\":[0.0],\"xaxis\":\"x\",\"y\":[20.0],\"yaxis\":\"y\",\"type\":\"scatter\"},{\"hovertemplate\":\"State=Mississippi<extra></extra>\",\"legendgroup\":\"Mississippi\",\"marker\":{\"color\":\"#FFA15A\",\"symbol\":\"circle\"},\"mode\":\"lines\",\"name\":\"Mississippi\",\"showlegend\":false,\"xaxis\":\"x\",\"yaxis\":\"y\",\"type\":\"scatter\"},{\"hovertemplate\":\"State=Missouri<br>Gun safety ranking=%{x}<br>Total shot=%{y}<extra></extra>\",\"legendgroup\":\"Missouri\",\"marker\":{\"color\":\"#19d3f3\",\"symbol\":\"circle\"},\"mode\":\"markers\",\"name\":\"Missouri\",\"orientation\":\"v\",\"showlegend\":true,\"x\":[0.0],\"xaxis\":\"x\",\"y\":[36.0],\"yaxis\":\"y\",\"type\":\"scatter\"},{\"hovertemplate\":\"State=Missouri<extra></extra>\",\"legendgroup\":\"Missouri\",\"marker\":{\"color\":\"#19d3f3\",\"symbol\":\"circle\"},\"mode\":\"lines\",\"name\":\"Missouri\",\"showlegend\":false,\"xaxis\":\"x\",\"yaxis\":\"y\",\"type\":\"scatter\"},{\"hovertemplate\":\"State=Montana<br>Gun safety ranking=%{x}<br>Total shot=%{y}<extra></extra>\",\"legendgroup\":\"Montana\",\"marker\":{\"color\":\"#FF6692\",\"symbol\":\"circle\"},\"mode\":\"markers\",\"name\":\"Montana\",\"orientation\":\"v\",\"showlegend\":true,\"x\":[0.0],\"xaxis\":\"x\",\"y\":[4.0],\"yaxis\":\"y\",\"type\":\"scatter\"},{\"hovertemplate\":\"State=Montana<extra></extra>\",\"legendgroup\":\"Montana\",\"marker\":{\"color\":\"#FF6692\",\"symbol\":\"circle\"},\"mode\":\"lines\",\"name\":\"Montana\",\"showlegend\":false,\"xaxis\":\"x\",\"yaxis\":\"y\",\"type\":\"scatter\"},{\"hovertemplate\":\"State=Nebraska<br>Gun safety ranking=%{x}<br>Total shot=%{y}<extra></extra>\",\"legendgroup\":\"Nebraska\",\"marker\":{\"color\":\"#B6E880\",\"symbol\":\"circle\"},\"mode\":\"markers\",\"name\":\"Nebraska\",\"orientation\":\"v\",\"showlegend\":true,\"x\":[4.0],\"xaxis\":\"x\",\"y\":[null],\"yaxis\":\"y\",\"type\":\"scatter\"},{\"hovertemplate\":\"State=Nebraska<extra></extra>\",\"legendgroup\":\"Nebraska\",\"marker\":{\"color\":\"#B6E880\",\"symbol\":\"circle\"},\"mode\":\"lines\",\"name\":\"Nebraska\",\"showlegend\":false,\"xaxis\":\"x\",\"yaxis\":\"y\",\"type\":\"scatter\"},{\"hovertemplate\":\"State=Nevada<br>Gun safety ranking=%{x}<br>Total shot=%{y}<extra></extra>\",\"legendgroup\":\"Nevada\",\"marker\":{\"color\":\"#FF97FF\",\"symbol\":\"circle\"},\"mode\":\"markers\",\"name\":\"Nevada\",\"orientation\":\"v\",\"showlegend\":true,\"x\":[2.0],\"xaxis\":\"x\",\"y\":[491.0],\"yaxis\":\"y\",\"type\":\"scatter\"},{\"hovertemplate\":\"State=Nevada<extra></extra>\",\"legendgroup\":\"Nevada\",\"marker\":{\"color\":\"#FF97FF\",\"symbol\":\"circle\"},\"mode\":\"lines\",\"name\":\"Nevada\",\"showlegend\":false,\"xaxis\":\"x\",\"yaxis\":\"y\",\"type\":\"scatter\"},{\"hovertemplate\":\"State=New Hampshire<br>Gun safety ranking=%{x}<br>Total shot=%{y}<extra></extra>\",\"legendgroup\":\"New Hampshire\",\"marker\":{\"color\":\"#FECB52\",\"symbol\":\"circle\"},\"mode\":\"markers\",\"name\":\"New Hampshire\",\"orientation\":\"v\",\"showlegend\":true,\"x\":[0.0],\"xaxis\":\"x\",\"y\":[null],\"yaxis\":\"y\",\"type\":\"scatter\"},{\"hovertemplate\":\"State=New Hampshire<extra></extra>\",\"legendgroup\":\"New Hampshire\",\"marker\":{\"color\":\"#FECB52\",\"symbol\":\"circle\"},\"mode\":\"lines\",\"name\":\"New Hampshire\",\"showlegend\":false,\"xaxis\":\"x\",\"yaxis\":\"y\",\"type\":\"scatter\"},{\"hovertemplate\":\"State=New Jersey<br>Gun safety ranking=%{x}<br>Total shot=%{y}<extra></extra>\",\"legendgroup\":\"New Jersey\",\"marker\":{\"color\":\"#636efa\",\"symbol\":\"circle\"},\"mode\":\"markers\",\"name\":\"New Jersey\",\"orientation\":\"v\",\"showlegend\":true,\"x\":[8.0],\"xaxis\":\"x\",\"y\":[18.0],\"yaxis\":\"y\",\"type\":\"scatter\"},{\"hovertemplate\":\"State=New Jersey<extra></extra>\",\"legendgroup\":\"New Jersey\",\"marker\":{\"color\":\"#636efa\",\"symbol\":\"circle\"},\"mode\":\"lines\",\"name\":\"New Jersey\",\"showlegend\":false,\"xaxis\":\"x\",\"yaxis\":\"y\",\"type\":\"scatter\"},{\"hovertemplate\":\"State=New Mexico<br>Gun safety ranking=%{x}<br>Total shot=%{y}<extra></extra>\",\"legendgroup\":\"New Mexico\",\"marker\":{\"color\":\"#EF553B\",\"symbol\":\"circle\"},\"mode\":\"markers\",\"name\":\"New Mexico\",\"orientation\":\"v\",\"showlegend\":true,\"x\":[2.0],\"xaxis\":\"x\",\"y\":[21.0],\"yaxis\":\"y\",\"type\":\"scatter\"},{\"hovertemplate\":\"State=New Mexico<extra></extra>\",\"legendgroup\":\"New Mexico\",\"marker\":{\"color\":\"#EF553B\",\"symbol\":\"circle\"},\"mode\":\"lines\",\"name\":\"New Mexico\",\"showlegend\":false,\"xaxis\":\"x\",\"yaxis\":\"y\",\"type\":\"scatter\"},{\"hovertemplate\":\"State=New York<br>Gun safety ranking=%{x}<br>Total shot=%{y}<extra></extra>\",\"legendgroup\":\"New York\",\"marker\":{\"color\":\"#00cc96\",\"symbol\":\"circle\"},\"mode\":\"markers\",\"name\":\"New York\",\"orientation\":\"v\",\"showlegend\":true,\"x\":[9.0],\"xaxis\":\"x\",\"y\":[53.0],\"yaxis\":\"y\",\"type\":\"scatter\"},{\"hovertemplate\":\"State=New York<extra></extra>\",\"legendgroup\":\"New York\",\"marker\":{\"color\":\"#00cc96\",\"symbol\":\"circle\"},\"mode\":\"lines\",\"name\":\"New York\",\"showlegend\":false,\"xaxis\":\"x\",\"yaxis\":\"y\",\"type\":\"scatter\"},{\"hovertemplate\":\"State=North Carolina<br>Gun safety ranking=%{x}<br>Total shot=%{y}<extra></extra>\",\"legendgroup\":\"North Carolina\",\"marker\":{\"color\":\"#ab63fa\",\"symbol\":\"circle\"},\"mode\":\"markers\",\"name\":\"North Carolina\",\"orientation\":\"v\",\"showlegend\":true,\"x\":[3.0],\"xaxis\":\"x\",\"y\":[54.0],\"yaxis\":\"y\",\"type\":\"scatter\"},{\"hovertemplate\":\"State=North Carolina<extra></extra>\",\"legendgroup\":\"North Carolina\",\"marker\":{\"color\":\"#ab63fa\",\"symbol\":\"circle\"},\"mode\":\"lines\",\"name\":\"North Carolina\",\"showlegend\":false,\"xaxis\":\"x\",\"yaxis\":\"y\",\"type\":\"scatter\"},{\"hovertemplate\":\"State=North Dakota<br>Gun safety ranking=%{x}<br>Total shot=%{y}<extra></extra>\",\"legendgroup\":\"North Dakota\",\"marker\":{\"color\":\"#FFA15A\",\"symbol\":\"circle\"},\"mode\":\"markers\",\"name\":\"North Dakota\",\"orientation\":\"v\",\"showlegend\":true,\"x\":[1.0],\"xaxis\":\"x\",\"y\":[8.0],\"yaxis\":\"y\",\"type\":\"scatter\"},{\"hovertemplate\":\"State=North Dakota<extra></extra>\",\"legendgroup\":\"North Dakota\",\"marker\":{\"color\":\"#FFA15A\",\"symbol\":\"circle\"},\"mode\":\"lines\",\"name\":\"North Dakota\",\"showlegend\":false,\"xaxis\":\"x\",\"yaxis\":\"y\",\"type\":\"scatter\"},{\"hovertemplate\":\"State=Ohio<br>Gun safety ranking=%{x}<br>Total shot=%{y}<extra></extra>\",\"legendgroup\":\"Ohio\",\"marker\":{\"color\":\"#19d3f3\",\"symbol\":\"circle\"},\"mode\":\"markers\",\"name\":\"Ohio\",\"orientation\":\"v\",\"showlegend\":true,\"x\":[0.0],\"xaxis\":\"x\",\"y\":[95.0],\"yaxis\":\"y\",\"type\":\"scatter\"},{\"hovertemplate\":\"State=Ohio<extra></extra>\",\"legendgroup\":\"Ohio\",\"marker\":{\"color\":\"#19d3f3\",\"symbol\":\"circle\"},\"mode\":\"lines\",\"name\":\"Ohio\",\"showlegend\":false,\"xaxis\":\"x\",\"yaxis\":\"y\",\"type\":\"scatter\"},{\"hovertemplate\":\"State=Oklahoma<br>Gun safety ranking=%{x}<br>Total shot=%{y}<extra></extra>\",\"legendgroup\":\"Oklahoma\",\"marker\":{\"color\":\"#FF6692\",\"symbol\":\"circle\"},\"mode\":\"markers\",\"name\":\"Oklahoma\",\"orientation\":\"v\",\"showlegend\":true,\"x\":[0.0],\"xaxis\":\"x\",\"y\":[37.0],\"yaxis\":\"y\",\"type\":\"scatter\"},{\"hovertemplate\":\"State=Oklahoma<extra></extra>\",\"legendgroup\":\"Oklahoma\",\"marker\":{\"color\":\"#FF6692\",\"symbol\":\"circle\"},\"mode\":\"lines\",\"name\":\"Oklahoma\",\"showlegend\":false,\"xaxis\":\"x\",\"yaxis\":\"y\",\"type\":\"scatter\"},{\"hovertemplate\":\"State=Oregon<br>Gun safety ranking=%{x}<br>Total shot=%{y}<extra></extra>\",\"legendgroup\":\"Oregon\",\"marker\":{\"color\":\"#B6E880\",\"symbol\":\"circle\"},\"mode\":\"markers\",\"name\":\"Oregon\",\"orientation\":\"v\",\"showlegend\":true,\"x\":[2.0],\"xaxis\":\"x\",\"y\":[18.0],\"yaxis\":\"y\",\"type\":\"scatter\"},{\"hovertemplate\":\"State=Oregon<extra></extra>\",\"legendgroup\":\"Oregon\",\"marker\":{\"color\":\"#B6E880\",\"symbol\":\"circle\"},\"mode\":\"lines\",\"name\":\"Oregon\",\"showlegend\":false,\"xaxis\":\"x\",\"yaxis\":\"y\",\"type\":\"scatter\"},{\"hovertemplate\":\"State=Pennsylvania<br>Gun safety ranking=%{x}<br>Total shot=%{y}<extra></extra>\",\"legendgroup\":\"Pennsylvania\",\"marker\":{\"color\":\"#FF97FF\",\"symbol\":\"circle\"},\"mode\":\"markers\",\"name\":\"Pennsylvania\",\"orientation\":\"v\",\"showlegend\":true,\"x\":[2.0],\"xaxis\":\"x\",\"y\":[50.0],\"yaxis\":\"y\",\"type\":\"scatter\"},{\"hovertemplate\":\"State=Pennsylvania<extra></extra>\",\"legendgroup\":\"Pennsylvania\",\"marker\":{\"color\":\"#FF97FF\",\"symbol\":\"circle\"},\"mode\":\"lines\",\"name\":\"Pennsylvania\",\"showlegend\":false,\"xaxis\":\"x\",\"yaxis\":\"y\",\"type\":\"scatter\"},{\"hovertemplate\":\"State=Rhode Island<br>Gun safety ranking=%{x}<br>Total shot=%{y}<extra></extra>\",\"legendgroup\":\"Rhode Island\",\"marker\":{\"color\":\"#FECB52\",\"symbol\":\"circle\"},\"mode\":\"markers\",\"name\":\"Rhode Island\",\"orientation\":\"v\",\"showlegend\":true,\"x\":[5.0],\"xaxis\":\"x\",\"y\":[null],\"yaxis\":\"y\",\"type\":\"scatter\"},{\"hovertemplate\":\"State=Rhode Island<extra></extra>\",\"legendgroup\":\"Rhode Island\",\"marker\":{\"color\":\"#FECB52\",\"symbol\":\"circle\"},\"mode\":\"lines\",\"name\":\"Rhode Island\",\"showlegend\":false,\"xaxis\":\"x\",\"yaxis\":\"y\",\"type\":\"scatter\"},{\"hovertemplate\":\"State=South Carolina<br>Gun safety ranking=%{x}<br>Total shot=%{y}<extra></extra>\",\"legendgroup\":\"South Carolina\",\"marker\":{\"color\":\"#636efa\",\"symbol\":\"circle\"},\"mode\":\"markers\",\"name\":\"South Carolina\",\"orientation\":\"v\",\"showlegend\":true,\"x\":[2.0],\"xaxis\":\"x\",\"y\":[42.0],\"yaxis\":\"y\",\"type\":\"scatter\"},{\"hovertemplate\":\"State=South Carolina<extra></extra>\",\"legendgroup\":\"South Carolina\",\"marker\":{\"color\":\"#636efa\",\"symbol\":\"circle\"},\"mode\":\"lines\",\"name\":\"South Carolina\",\"showlegend\":false,\"xaxis\":\"x\",\"yaxis\":\"y\",\"type\":\"scatter\"},{\"hovertemplate\":\"State=South Dakota<br>Gun safety ranking=%{x}<br>Total shot=%{y}<extra></extra>\",\"legendgroup\":\"South Dakota\",\"marker\":{\"color\":\"#EF553B\",\"symbol\":\"circle\"},\"mode\":\"markers\",\"name\":\"South Dakota\",\"orientation\":\"v\",\"showlegend\":true,\"x\":[0.0],\"xaxis\":\"x\",\"y\":[5.0],\"yaxis\":\"y\",\"type\":\"scatter\"},{\"hovertemplate\":\"State=South Dakota<extra></extra>\",\"legendgroup\":\"South Dakota\",\"marker\":{\"color\":\"#EF553B\",\"symbol\":\"circle\"},\"mode\":\"lines\",\"name\":\"South Dakota\",\"showlegend\":false,\"xaxis\":\"x\",\"yaxis\":\"y\",\"type\":\"scatter\"},{\"hovertemplate\":\"State=Tennessee<br>Gun safety ranking=%{x}<br>Total shot=%{y}<extra></extra>\",\"legendgroup\":\"Tennessee\",\"marker\":{\"color\":\"#00cc96\",\"symbol\":\"circle\"},\"mode\":\"markers\",\"name\":\"Tennessee\",\"orientation\":\"v\",\"showlegend\":true,\"x\":[0.0],\"xaxis\":\"x\",\"y\":[27.0],\"yaxis\":\"y\",\"type\":\"scatter\"},{\"hovertemplate\":\"State=Tennessee<extra></extra>\",\"legendgroup\":\"Tennessee\",\"marker\":{\"color\":\"#00cc96\",\"symbol\":\"circle\"},\"mode\":\"lines\",\"name\":\"Tennessee\",\"showlegend\":false,\"xaxis\":\"x\",\"yaxis\":\"y\",\"type\":\"scatter\"},{\"hovertemplate\":\"State=Texas<br>Gun safety ranking=%{x}<br>Total shot=%{y}<extra></extra>\",\"legendgroup\":\"Texas\",\"marker\":{\"color\":\"#ab63fa\",\"symbol\":\"circle\"},\"mode\":\"markers\",\"name\":\"Texas\",\"orientation\":\"v\",\"showlegend\":true,\"x\":[0.0],\"xaxis\":\"x\",\"y\":[402.0],\"yaxis\":\"y\",\"type\":\"scatter\"},{\"hovertemplate\":\"State=Texas<extra></extra>\",\"legendgroup\":\"Texas\",\"marker\":{\"color\":\"#ab63fa\",\"symbol\":\"circle\"},\"mode\":\"lines\",\"name\":\"Texas\",\"showlegend\":false,\"xaxis\":\"x\",\"yaxis\":\"y\",\"type\":\"scatter\"},{\"hovertemplate\":\"State=Utah<br>Gun safety ranking=%{x}<br>Total shot=%{y}<extra></extra>\",\"legendgroup\":\"Utah\",\"marker\":{\"color\":\"#FFA15A\",\"symbol\":\"circle\"},\"mode\":\"markers\",\"name\":\"Utah\",\"orientation\":\"v\",\"showlegend\":true,\"x\":[0.0],\"xaxis\":\"x\",\"y\":[16.0],\"yaxis\":\"y\",\"type\":\"scatter\"},{\"hovertemplate\":\"State=Utah<extra></extra>\",\"legendgroup\":\"Utah\",\"marker\":{\"color\":\"#FFA15A\",\"symbol\":\"circle\"},\"mode\":\"lines\",\"name\":\"Utah\",\"showlegend\":false,\"xaxis\":\"x\",\"yaxis\":\"y\",\"type\":\"scatter\"},{\"hovertemplate\":\"State=Vermont<br>Gun safety ranking=%{x}<br>Total shot=%{y}<extra></extra>\",\"legendgroup\":\"Vermont\",\"marker\":{\"color\":\"#19d3f3\",\"symbol\":\"circle\"},\"mode\":\"markers\",\"name\":\"Vermont\",\"orientation\":\"v\",\"showlegend\":true,\"x\":[2.0],\"xaxis\":\"x\",\"y\":[4.0],\"yaxis\":\"y\",\"type\":\"scatter\"},{\"hovertemplate\":\"State=Vermont<extra></extra>\",\"legendgroup\":\"Vermont\",\"marker\":{\"color\":\"#19d3f3\",\"symbol\":\"circle\"},\"mode\":\"lines\",\"name\":\"Vermont\",\"showlegend\":false,\"xaxis\":\"x\",\"yaxis\":\"y\",\"type\":\"scatter\"},{\"hovertemplate\":\"State=Virginia<br>Gun safety ranking=%{x}<br>Total shot=%{y}<extra></extra>\",\"legendgroup\":\"Virginia\",\"marker\":{\"color\":\"#FF6692\",\"symbol\":\"circle\"},\"mode\":\"markers\",\"name\":\"Virginia\",\"orientation\":\"v\",\"showlegend\":true,\"x\":[3.0],\"xaxis\":\"x\",\"y\":[63.0],\"yaxis\":\"y\",\"type\":\"scatter\"},{\"hovertemplate\":\"State=Virginia<extra></extra>\",\"legendgroup\":\"Virginia\",\"marker\":{\"color\":\"#FF6692\",\"symbol\":\"circle\"},\"mode\":\"lines\",\"name\":\"Virginia\",\"showlegend\":false,\"xaxis\":\"x\",\"yaxis\":\"y\",\"type\":\"scatter\"},{\"hovertemplate\":\"State=Washington<br>Gun safety ranking=%{x}<br>Total shot=%{y}<extra></extra>\",\"legendgroup\":\"Washington\",\"marker\":{\"color\":\"#B6E880\",\"symbol\":\"circle\"},\"mode\":\"markers\",\"name\":\"Washington\",\"orientation\":\"v\",\"showlegend\":true,\"x\":[5.0],\"xaxis\":\"x\",\"y\":[48.0],\"yaxis\":\"y\",\"type\":\"scatter\"},{\"hovertemplate\":\"State=Washington<extra></extra>\",\"legendgroup\":\"Washington\",\"marker\":{\"color\":\"#B6E880\",\"symbol\":\"circle\"},\"mode\":\"lines\",\"name\":\"Washington\",\"showlegend\":false,\"xaxis\":\"x\",\"yaxis\":\"y\",\"type\":\"scatter\"},{\"hovertemplate\":\"State=West Virginia<br>Gun safety ranking=%{x}<br>Total shot=%{y}<extra></extra>\",\"legendgroup\":\"West Virginia\",\"marker\":{\"color\":\"#FF97FF\",\"symbol\":\"circle\"},\"mode\":\"markers\",\"name\":\"West Virginia\",\"orientation\":\"v\",\"showlegend\":true,\"x\":[0.0],\"xaxis\":\"x\",\"y\":[22.0],\"yaxis\":\"y\",\"type\":\"scatter\"},{\"hovertemplate\":\"State=West Virginia<extra></extra>\",\"legendgroup\":\"West Virginia\",\"marker\":{\"color\":\"#FF97FF\",\"symbol\":\"circle\"},\"mode\":\"lines\",\"name\":\"West Virginia\",\"showlegend\":false,\"xaxis\":\"x\",\"yaxis\":\"y\",\"type\":\"scatter\"},{\"hovertemplate\":\"State=Wisconsin<br>Gun safety ranking=%{x}<br>Total shot=%{y}<extra></extra>\",\"legendgroup\":\"Wisconsin\",\"marker\":{\"color\":\"#FECB52\",\"symbol\":\"circle\"},\"mode\":\"markers\",\"name\":\"Wisconsin\",\"orientation\":\"v\",\"showlegend\":true,\"x\":[2.0],\"xaxis\":\"x\",\"y\":[40.0],\"yaxis\":\"y\",\"type\":\"scatter\"},{\"hovertemplate\":\"State=Wisconsin<extra></extra>\",\"legendgroup\":\"Wisconsin\",\"marker\":{\"color\":\"#FECB52\",\"symbol\":\"circle\"},\"mode\":\"lines\",\"name\":\"Wisconsin\",\"showlegend\":false,\"xaxis\":\"x\",\"yaxis\":\"y\",\"type\":\"scatter\"},{\"hovertemplate\":\"State=Wyoming<br>Gun safety ranking=%{x}<br>Total shot=%{y}<extra></extra>\",\"legendgroup\":\"Wyoming\",\"marker\":{\"color\":\"#636efa\",\"symbol\":\"circle\"},\"mode\":\"markers\",\"name\":\"Wyoming\",\"orientation\":\"v\",\"showlegend\":true,\"x\":[0.0],\"xaxis\":\"x\",\"y\":[5.0],\"yaxis\":\"y\",\"type\":\"scatter\"},{\"hovertemplate\":\"State=Wyoming<extra></extra>\",\"legendgroup\":\"Wyoming\",\"marker\":{\"color\":\"#636efa\",\"symbol\":\"circle\"},\"mode\":\"lines\",\"name\":\"Wyoming\",\"showlegend\":false,\"xaxis\":\"x\",\"yaxis\":\"y\",\"type\":\"scatter\"},{\"hovertemplate\":\"State=Gun safety ranking<br>Gun safety ranking=%{x}<br>Total shot=%{y}<extra></extra>\",\"legendgroup\":\"Gun safety ranking\",\"marker\":{\"color\":\"#EF553B\",\"symbol\":\"circle\"},\"mode\":\"markers\",\"name\":\"Gun safety ranking\",\"orientation\":\"v\",\"showlegend\":true,\"x\":[126.0],\"xaxis\":\"x\",\"y\":[null],\"yaxis\":\"y\",\"type\":\"scatter\"},{\"hovertemplate\":\"State=Gun safety ranking<extra></extra>\",\"legendgroup\":\"Gun safety ranking\",\"marker\":{\"color\":\"#EF553B\",\"symbol\":\"circle\"},\"mode\":\"lines\",\"name\":\"Gun safety ranking\",\"showlegend\":false,\"xaxis\":\"x\",\"yaxis\":\"y\",\"type\":\"scatter\"}],                        {\"template\":{\"data\":{\"histogram2dcontour\":[{\"type\":\"histogram2dcontour\",\"colorbar\":{\"outlinewidth\":0,\"ticks\":\"\"},\"colorscale\":[[0.0,\"#0d0887\"],[0.1111111111111111,\"#46039f\"],[0.2222222222222222,\"#7201a8\"],[0.3333333333333333,\"#9c179e\"],[0.4444444444444444,\"#bd3786\"],[0.5555555555555556,\"#d8576b\"],[0.6666666666666666,\"#ed7953\"],[0.7777777777777778,\"#fb9f3a\"],[0.8888888888888888,\"#fdca26\"],[1.0,\"#f0f921\"]]}],\"choropleth\":[{\"type\":\"choropleth\",\"colorbar\":{\"outlinewidth\":0,\"ticks\":\"\"}}],\"histogram2d\":[{\"type\":\"histogram2d\",\"colorbar\":{\"outlinewidth\":0,\"ticks\":\"\"},\"colorscale\":[[0.0,\"#0d0887\"],[0.1111111111111111,\"#46039f\"],[0.2222222222222222,\"#7201a8\"],[0.3333333333333333,\"#9c179e\"],[0.4444444444444444,\"#bd3786\"],[0.5555555555555556,\"#d8576b\"],[0.6666666666666666,\"#ed7953\"],[0.7777777777777778,\"#fb9f3a\"],[0.8888888888888888,\"#fdca26\"],[1.0,\"#f0f921\"]]}],\"heatmap\":[{\"type\":\"heatmap\",\"colorbar\":{\"outlinewidth\":0,\"ticks\":\"\"},\"colorscale\":[[0.0,\"#0d0887\"],[0.1111111111111111,\"#46039f\"],[0.2222222222222222,\"#7201a8\"],[0.3333333333333333,\"#9c179e\"],[0.4444444444444444,\"#bd3786\"],[0.5555555555555556,\"#d8576b\"],[0.6666666666666666,\"#ed7953\"],[0.7777777777777778,\"#fb9f3a\"],[0.8888888888888888,\"#fdca26\"],[1.0,\"#f0f921\"]]}],\"heatmapgl\":[{\"type\":\"heatmapgl\",\"colorbar\":{\"outlinewidth\":0,\"ticks\":\"\"},\"colorscale\":[[0.0,\"#0d0887\"],[0.1111111111111111,\"#46039f\"],[0.2222222222222222,\"#7201a8\"],[0.3333333333333333,\"#9c179e\"],[0.4444444444444444,\"#bd3786\"],[0.5555555555555556,\"#d8576b\"],[0.6666666666666666,\"#ed7953\"],[0.7777777777777778,\"#fb9f3a\"],[0.8888888888888888,\"#fdca26\"],[1.0,\"#f0f921\"]]}],\"contourcarpet\":[{\"type\":\"contourcarpet\",\"colorbar\":{\"outlinewidth\":0,\"ticks\":\"\"}}],\"contour\":[{\"type\":\"contour\",\"colorbar\":{\"outlinewidth\":0,\"ticks\":\"\"},\"colorscale\":[[0.0,\"#0d0887\"],[0.1111111111111111,\"#46039f\"],[0.2222222222222222,\"#7201a8\"],[0.3333333333333333,\"#9c179e\"],[0.4444444444444444,\"#bd3786\"],[0.5555555555555556,\"#d8576b\"],[0.6666666666666666,\"#ed7953\"],[0.7777777777777778,\"#fb9f3a\"],[0.8888888888888888,\"#fdca26\"],[1.0,\"#f0f921\"]]}],\"surface\":[{\"type\":\"surface\",\"colorbar\":{\"outlinewidth\":0,\"ticks\":\"\"},\"colorscale\":[[0.0,\"#0d0887\"],[0.1111111111111111,\"#46039f\"],[0.2222222222222222,\"#7201a8\"],[0.3333333333333333,\"#9c179e\"],[0.4444444444444444,\"#bd3786\"],[0.5555555555555556,\"#d8576b\"],[0.6666666666666666,\"#ed7953\"],[0.7777777777777778,\"#fb9f3a\"],[0.8888888888888888,\"#fdca26\"],[1.0,\"#f0f921\"]]}],\"mesh3d\":[{\"type\":\"mesh3d\",\"colorbar\":{\"outlinewidth\":0,\"ticks\":\"\"}}],\"scatter\":[{\"fillpattern\":{\"fillmode\":\"overlay\",\"size\":10,\"solidity\":0.2},\"type\":\"scatter\"}],\"parcoords\":[{\"type\":\"parcoords\",\"line\":{\"colorbar\":{\"outlinewidth\":0,\"ticks\":\"\"}}}],\"scatterpolargl\":[{\"type\":\"scatterpolargl\",\"marker\":{\"colorbar\":{\"outlinewidth\":0,\"ticks\":\"\"}}}],\"bar\":[{\"error_x\":{\"color\":\"#2a3f5f\"},\"error_y\":{\"color\":\"#2a3f5f\"},\"marker\":{\"line\":{\"color\":\"#E5ECF6\",\"width\":0.5},\"pattern\":{\"fillmode\":\"overlay\",\"size\":10,\"solidity\":0.2}},\"type\":\"bar\"}],\"scattergeo\":[{\"type\":\"scattergeo\",\"marker\":{\"colorbar\":{\"outlinewidth\":0,\"ticks\":\"\"}}}],\"scatterpolar\":[{\"type\":\"scatterpolar\",\"marker\":{\"colorbar\":{\"outlinewidth\":0,\"ticks\":\"\"}}}],\"histogram\":[{\"marker\":{\"pattern\":{\"fillmode\":\"overlay\",\"size\":10,\"solidity\":0.2}},\"type\":\"histogram\"}],\"scattergl\":[{\"type\":\"scattergl\",\"marker\":{\"colorbar\":{\"outlinewidth\":0,\"ticks\":\"\"}}}],\"scatter3d\":[{\"type\":\"scatter3d\",\"line\":{\"colorbar\":{\"outlinewidth\":0,\"ticks\":\"\"}},\"marker\":{\"colorbar\":{\"outlinewidth\":0,\"ticks\":\"\"}}}],\"scattermapbox\":[{\"type\":\"scattermapbox\",\"marker\":{\"colorbar\":{\"outlinewidth\":0,\"ticks\":\"\"}}}],\"scatterternary\":[{\"type\":\"scatterternary\",\"marker\":{\"colorbar\":{\"outlinewidth\":0,\"ticks\":\"\"}}}],\"scattercarpet\":[{\"type\":\"scattercarpet\",\"marker\":{\"colorbar\":{\"outlinewidth\":0,\"ticks\":\"\"}}}],\"carpet\":[{\"aaxis\":{\"endlinecolor\":\"#2a3f5f\",\"gridcolor\":\"white\",\"linecolor\":\"white\",\"minorgridcolor\":\"white\",\"startlinecolor\":\"#2a3f5f\"},\"baxis\":{\"endlinecolor\":\"#2a3f5f\",\"gridcolor\":\"white\",\"linecolor\":\"white\",\"minorgridcolor\":\"white\",\"startlinecolor\":\"#2a3f5f\"},\"type\":\"carpet\"}],\"table\":[{\"cells\":{\"fill\":{\"color\":\"#EBF0F8\"},\"line\":{\"color\":\"white\"}},\"header\":{\"fill\":{\"color\":\"#C8D4E3\"},\"line\":{\"color\":\"white\"}},\"type\":\"table\"}],\"barpolar\":[{\"marker\":{\"line\":{\"color\":\"#E5ECF6\",\"width\":0.5},\"pattern\":{\"fillmode\":\"overlay\",\"size\":10,\"solidity\":0.2}},\"type\":\"barpolar\"}],\"pie\":[{\"automargin\":true,\"type\":\"pie\"}]},\"layout\":{\"autotypenumbers\":\"strict\",\"colorway\":[\"#636efa\",\"#EF553B\",\"#00cc96\",\"#ab63fa\",\"#FFA15A\",\"#19d3f3\",\"#FF6692\",\"#B6E880\",\"#FF97FF\",\"#FECB52\"],\"font\":{\"color\":\"#2a3f5f\"},\"hovermode\":\"closest\",\"hoverlabel\":{\"align\":\"left\"},\"paper_bgcolor\":\"white\",\"plot_bgcolor\":\"#E5ECF6\",\"polar\":{\"bgcolor\":\"#E5ECF6\",\"angularaxis\":{\"gridcolor\":\"white\",\"linecolor\":\"white\",\"ticks\":\"\"},\"radialaxis\":{\"gridcolor\":\"white\",\"linecolor\":\"white\",\"ticks\":\"\"}},\"ternary\":{\"bgcolor\":\"#E5ECF6\",\"aaxis\":{\"gridcolor\":\"white\",\"linecolor\":\"white\",\"ticks\":\"\"},\"baxis\":{\"gridcolor\":\"white\",\"linecolor\":\"white\",\"ticks\":\"\"},\"caxis\":{\"gridcolor\":\"white\",\"linecolor\":\"white\",\"ticks\":\"\"}},\"coloraxis\":{\"colorbar\":{\"outlinewidth\":0,\"ticks\":\"\"}},\"colorscale\":{\"sequential\":[[0.0,\"#0d0887\"],[0.1111111111111111,\"#46039f\"],[0.2222222222222222,\"#7201a8\"],[0.3333333333333333,\"#9c179e\"],[0.4444444444444444,\"#bd3786\"],[0.5555555555555556,\"#d8576b\"],[0.6666666666666666,\"#ed7953\"],[0.7777777777777778,\"#fb9f3a\"],[0.8888888888888888,\"#fdca26\"],[1.0,\"#f0f921\"]],\"sequentialminus\":[[0.0,\"#0d0887\"],[0.1111111111111111,\"#46039f\"],[0.2222222222222222,\"#7201a8\"],[0.3333333333333333,\"#9c179e\"],[0.4444444444444444,\"#bd3786\"],[0.5555555555555556,\"#d8576b\"],[0.6666666666666666,\"#ed7953\"],[0.7777777777777778,\"#fb9f3a\"],[0.8888888888888888,\"#fdca26\"],[1.0,\"#f0f921\"]],\"diverging\":[[0,\"#8e0152\"],[0.1,\"#c51b7d\"],[0.2,\"#de77ae\"],[0.3,\"#f1b6da\"],[0.4,\"#fde0ef\"],[0.5,\"#f7f7f7\"],[0.6,\"#e6f5d0\"],[0.7,\"#b8e186\"],[0.8,\"#7fbc41\"],[0.9,\"#4d9221\"],[1,\"#276419\"]]},\"xaxis\":{\"gridcolor\":\"white\",\"linecolor\":\"white\",\"ticks\":\"\",\"title\":{\"standoff\":15},\"zerolinecolor\":\"white\",\"automargin\":true,\"zerolinewidth\":2},\"yaxis\":{\"gridcolor\":\"white\",\"linecolor\":\"white\",\"ticks\":\"\",\"title\":{\"standoff\":15},\"zerolinecolor\":\"white\",\"automargin\":true,\"zerolinewidth\":2},\"scene\":{\"xaxis\":{\"backgroundcolor\":\"#E5ECF6\",\"gridcolor\":\"white\",\"linecolor\":\"white\",\"showbackground\":true,\"ticks\":\"\",\"zerolinecolor\":\"white\",\"gridwidth\":2},\"yaxis\":{\"backgroundcolor\":\"#E5ECF6\",\"gridcolor\":\"white\",\"linecolor\":\"white\",\"showbackground\":true,\"ticks\":\"\",\"zerolinecolor\":\"white\",\"gridwidth\":2},\"zaxis\":{\"backgroundcolor\":\"#E5ECF6\",\"gridcolor\":\"white\",\"linecolor\":\"white\",\"showbackground\":true,\"ticks\":\"\",\"zerolinecolor\":\"white\",\"gridwidth\":2}},\"shapedefaults\":{\"line\":{\"color\":\"#2a3f5f\"}},\"annotationdefaults\":{\"arrowcolor\":\"#2a3f5f\",\"arrowhead\":0,\"arrowwidth\":1},\"geo\":{\"bgcolor\":\"white\",\"landcolor\":\"#E5ECF6\",\"subunitcolor\":\"white\",\"showland\":true,\"showlakes\":true,\"lakecolor\":\"white\"},\"title\":{\"x\":0.05},\"mapbox\":{\"style\":\"light\"}}},\"xaxis\":{\"anchor\":\"y\",\"domain\":[0.0,1.0],\"title\":{\"text\":\"Gun safety ranking\"},\"range\":[-1,10]},\"yaxis\":{\"anchor\":\"x\",\"domain\":[0.0,1.0],\"title\":{\"text\":\"Total shot\"}},\"legend\":{\"title\":{\"text\":\"State\"},\"tracegroupgap\":0},\"margin\":{\"t\":60}},                        {\"responsive\": true}                    ).then(function(){\n",
       "                            \n",
       "var gd = document.getElementById('bf22cb79-a21a-4514-afa2-dba7cb8b1349');\n",
       "var x = new MutationObserver(function (mutations, observer) {{\n",
       "        var display = window.getComputedStyle(gd).display;\n",
       "        if (!display || display === 'none') {{\n",
       "            console.log([gd, 'removed!']);\n",
       "            Plotly.purge(gd);\n",
       "            observer.disconnect();\n",
       "        }}\n",
       "}});\n",
       "\n",
       "// Listen for the removal of the full notebook cells\n",
       "var notebookContainer = gd.closest('#notebook-container');\n",
       "if (notebookContainer) {{\n",
       "    x.observe(notebookContainer, {childList: true});\n",
       "}}\n",
       "\n",
       "// Listen for the clearing of the current output cell\n",
       "var outputEl = gd.closest('.output');\n",
       "if (outputEl) {{\n",
       "    x.observe(outputEl, {childList: true});\n",
       "}}\n",
       "\n",
       "                        })                };                });            </script>        </div>"
      ]
     },
     "metadata": {},
     "output_type": "display_data"
    }
   ],
   "source": [
    "# Plot the scatterplot with plotly\n",
    "fig = px.scatter(clean_df, x=\"Gun safety ranking\", y=\"Total shot\", color=\"State\", trendline=\"ols\")\n",
    "fig.update_layout(xaxis_range=[-1,10])\n",
    "\n",
    "# Show the plot\n",
    "fig.show()"
   ]
  },
  {
   "cell_type": "code",
   "execution_count": 82,
   "id": "50c238ed",
   "metadata": {},
   "outputs": [
    {
     "name": "stderr",
     "output_type": "stream",
     "text": [
      "C:\\Users\\Chris\\anaconda3\\lib\\site-packages\\seaborn\\_decorators.py:36: FutureWarning:\n",
      "\n",
      "Pass the following variables as keyword args: x, y. From version 0.12, the only valid positional argument will be `data`, and passing other arguments without an explicit keyword will result in an error or misinterpretation.\n",
      "\n"
     ]
    },
    {
     "data": {
      "text/plain": [
       "<AxesSubplot:xlabel='Gun safety ranking', ylabel='Total shot'>"
      ]
     },
     "execution_count": 82,
     "metadata": {},
     "output_type": "execute_result"
    },
    {
     "data": {
      "image/png": "[encoded data removed]",
      "text/plain": [
       "<Figure size 640x480 with 1 Axes>"
      ]
     },
     "metadata": {},
     "output_type": "display_data"
    }
   ],
   "source": [
    "sns.regplot(clean_df['Gun safety ranking'], clean_df['Total shot'])"
   ]
  },
  {
   "cell_type": "code",
   "execution_count": 90,
   "id": "ee10c458",
   "metadata": {},
   "outputs": [
    {
     "data": {
      "text/html": [
       "<div>\n",
       "<style scoped>\n",
       "    .dataframe tbody tr th:only-of-type {\n",
       "        vertical-align: middle;\n",
       "    }\n",
       "\n",
       "    .dataframe tbody tr th {\n",
       "        vertical-align: top;\n",
       "    }\n",
       "\n",
       "    .dataframe thead th {\n",
       "        text-align: right;\n",
       "    }\n",
       "</style>\n",
       "<table border=\"1\" class=\"dataframe\">\n",
       "  <thead>\n",
       "    <tr style=\"text-align: right;\">\n",
       "      <th></th>\n",
       "      <th>State</th>\n",
       "      <th>Asslt weap law?</th>\n",
       "      <th>Bckgrd checks?</th>\n",
       "      <th>Firearm regis?</th>\n",
       "      <th>Mag cap restrict?</th>\n",
       "      <th>NFA weap restrict?</th>\n",
       "      <th>Open carry?</th>\n",
       "      <th>Owner license?</th>\n",
       "      <th>Conceal carry permit?</th>\n",
       "      <th>Open carry permit?</th>\n",
       "      <th>Purch permit?</th>\n",
       "      <th>Gun safety ranking</th>\n",
       "      <th>Total shot</th>\n",
       "    </tr>\n",
       "  </thead>\n",
       "  <tbody>\n",
       "    <tr>\n",
       "      <th>0</th>\n",
       "      <td>Alabama</td>\n",
       "      <td>0.0</td>\n",
       "      <td>0.0</td>\n",
       "      <td>0.0</td>\n",
       "      <td>0.0</td>\n",
       "      <td>0.0</td>\n",
       "      <td>NaN</td>\n",
       "      <td>0.0</td>\n",
       "      <td>0.0</td>\n",
       "      <td>0.0</td>\n",
       "      <td>0.0</td>\n",
       "      <td>0.0</td>\n",
       "      <td>35.0</td>\n",
       "    </tr>\n",
       "    <tr>\n",
       "      <th>2</th>\n",
       "      <td>Arizona</td>\n",
       "      <td>0.0</td>\n",
       "      <td>0.0</td>\n",
       "      <td>0.0</td>\n",
       "      <td>0.0</td>\n",
       "      <td>0.0</td>\n",
       "      <td>NaN</td>\n",
       "      <td>0.0</td>\n",
       "      <td>0.0</td>\n",
       "      <td>0.0</td>\n",
       "      <td>0.0</td>\n",
       "      <td>0.0</td>\n",
       "      <td>54.0</td>\n",
       "    </tr>\n",
       "    <tr>\n",
       "      <th>3</th>\n",
       "      <td>Arkansas</td>\n",
       "      <td>0.0</td>\n",
       "      <td>0.0</td>\n",
       "      <td>0.0</td>\n",
       "      <td>0.0</td>\n",
       "      <td>0.0</td>\n",
       "      <td>NaN</td>\n",
       "      <td>0.0</td>\n",
       "      <td>0.0</td>\n",
       "      <td>0.0</td>\n",
       "      <td>0.0</td>\n",
       "      <td>0.0</td>\n",
       "      <td>13.0</td>\n",
       "    </tr>\n",
       "    <tr>\n",
       "      <th>4</th>\n",
       "      <td>California</td>\n",
       "      <td>1.0</td>\n",
       "      <td>1.0</td>\n",
       "      <td>1.0</td>\n",
       "      <td>1.0</td>\n",
       "      <td>1.0</td>\n",
       "      <td>1.0</td>\n",
       "      <td>0.0</td>\n",
       "      <td>1.0</td>\n",
       "      <td>NaN</td>\n",
       "      <td>0.5</td>\n",
       "      <td>7.5</td>\n",
       "      <td>273.0</td>\n",
       "    </tr>\n",
       "    <tr>\n",
       "      <th>5</th>\n",
       "      <td>Colorado</td>\n",
       "      <td>0.0</td>\n",
       "      <td>1.0</td>\n",
       "      <td>0.0</td>\n",
       "      <td>1.0</td>\n",
       "      <td>0.0</td>\n",
       "      <td>NaN</td>\n",
       "      <td>0.0</td>\n",
       "      <td>1.0</td>\n",
       "      <td>0.0</td>\n",
       "      <td>0.0</td>\n",
       "      <td>3.0</td>\n",
       "      <td>131.0</td>\n",
       "    </tr>\n",
       "    <tr>\n",
       "      <th>6</th>\n",
       "      <td>Connecticut</td>\n",
       "      <td>1.0</td>\n",
       "      <td>1.0</td>\n",
       "      <td>0.5</td>\n",
       "      <td>1.0</td>\n",
       "      <td>0.0</td>\n",
       "      <td>NaN</td>\n",
       "      <td>1.0</td>\n",
       "      <td>1.0</td>\n",
       "      <td>1.0</td>\n",
       "      <td>1.0</td>\n",
       "      <td>7.5</td>\n",
       "      <td>39.0</td>\n",
       "    </tr>\n",
       "    <tr>\n",
       "      <th>8</th>\n",
       "      <td>District of Columbia</td>\n",
       "      <td>1.0</td>\n",
       "      <td>1.0</td>\n",
       "      <td>1.0</td>\n",
       "      <td>1.0</td>\n",
       "      <td>1.0</td>\n",
       "      <td>1.0</td>\n",
       "      <td>1.0</td>\n",
       "      <td>1.0</td>\n",
       "      <td>NaN</td>\n",
       "      <td>1.0</td>\n",
       "      <td>9.0</td>\n",
       "      <td>25.0</td>\n",
       "    </tr>\n",
       "    <tr>\n",
       "      <th>9</th>\n",
       "      <td>Florida</td>\n",
       "      <td>0.0</td>\n",
       "      <td>0.0</td>\n",
       "      <td>0.0</td>\n",
       "      <td>0.0</td>\n",
       "      <td>0.0</td>\n",
       "      <td>NaN</td>\n",
       "      <td>0.0</td>\n",
       "      <td>1.0</td>\n",
       "      <td>0.0</td>\n",
       "      <td>0.0</td>\n",
       "      <td>1.0</td>\n",
       "      <td>224.0</td>\n",
       "    </tr>\n",
       "    <tr>\n",
       "      <th>10</th>\n",
       "      <td>Georgia</td>\n",
       "      <td>0.0</td>\n",
       "      <td>0.0</td>\n",
       "      <td>0.0</td>\n",
       "      <td>0.0</td>\n",
       "      <td>0.0</td>\n",
       "      <td>NaN</td>\n",
       "      <td>0.0</td>\n",
       "      <td>0.0</td>\n",
       "      <td>0.0</td>\n",
       "      <td>0.0</td>\n",
       "      <td>0.0</td>\n",
       "      <td>42.0</td>\n",
       "    </tr>\n",
       "    <tr>\n",
       "      <th>13</th>\n",
       "      <td>Illinois</td>\n",
       "      <td>1.0</td>\n",
       "      <td>1.0</td>\n",
       "      <td>0.0</td>\n",
       "      <td>1.0</td>\n",
       "      <td>1.0</td>\n",
       "      <td>1.0</td>\n",
       "      <td>1.0</td>\n",
       "      <td>1.0</td>\n",
       "      <td>NaN</td>\n",
       "      <td>1.0</td>\n",
       "      <td>8.0</td>\n",
       "      <td>135.0</td>\n",
       "    </tr>\n",
       "    <tr>\n",
       "      <th>14</th>\n",
       "      <td>Indiana</td>\n",
       "      <td>0.0</td>\n",
       "      <td>0.0</td>\n",
       "      <td>0.0</td>\n",
       "      <td>0.0</td>\n",
       "      <td>0.0</td>\n",
       "      <td>NaN</td>\n",
       "      <td>0.0</td>\n",
       "      <td>0.0</td>\n",
       "      <td>0.0</td>\n",
       "      <td>0.0</td>\n",
       "      <td>0.0</td>\n",
       "      <td>45.0</td>\n",
       "    </tr>\n",
       "    <tr>\n",
       "      <th>16</th>\n",
       "      <td>Kansas</td>\n",
       "      <td>0.0</td>\n",
       "      <td>0.0</td>\n",
       "      <td>0.0</td>\n",
       "      <td>0.0</td>\n",
       "      <td>0.0</td>\n",
       "      <td>NaN</td>\n",
       "      <td>0.0</td>\n",
       "      <td>0.0</td>\n",
       "      <td>0.0</td>\n",
       "      <td>0.0</td>\n",
       "      <td>0.0</td>\n",
       "      <td>30.0</td>\n",
       "    </tr>\n",
       "    <tr>\n",
       "      <th>20</th>\n",
       "      <td>Maryland</td>\n",
       "      <td>1.0</td>\n",
       "      <td>1.0</td>\n",
       "      <td>1.0</td>\n",
       "      <td>1.0</td>\n",
       "      <td>0.0</td>\n",
       "      <td>NaN</td>\n",
       "      <td>0.0</td>\n",
       "      <td>1.0</td>\n",
       "      <td>1.0</td>\n",
       "      <td>1.0</td>\n",
       "      <td>7.0</td>\n",
       "      <td>24.0</td>\n",
       "    </tr>\n",
       "    <tr>\n",
       "      <th>22</th>\n",
       "      <td>Michigan</td>\n",
       "      <td>0.0</td>\n",
       "      <td>1.0</td>\n",
       "      <td>1.0</td>\n",
       "      <td>0.0</td>\n",
       "      <td>0.0</td>\n",
       "      <td>NaN</td>\n",
       "      <td>0.0</td>\n",
       "      <td>1.0</td>\n",
       "      <td>0.0</td>\n",
       "      <td>1.0</td>\n",
       "      <td>4.0</td>\n",
       "      <td>48.0</td>\n",
       "    </tr>\n",
       "    <tr>\n",
       "      <th>23</th>\n",
       "      <td>Minnesota</td>\n",
       "      <td>0.0</td>\n",
       "      <td>0.0</td>\n",
       "      <td>0.0</td>\n",
       "      <td>0.0</td>\n",
       "      <td>1.0</td>\n",
       "      <td>NaN</td>\n",
       "      <td>0.0</td>\n",
       "      <td>1.0</td>\n",
       "      <td>1.0</td>\n",
       "      <td>1.0</td>\n",
       "      <td>4.0</td>\n",
       "      <td>20.0</td>\n",
       "    </tr>\n",
       "    <tr>\n",
       "      <th>24</th>\n",
       "      <td>Mississippi</td>\n",
       "      <td>0.0</td>\n",
       "      <td>0.0</td>\n",
       "      <td>0.0</td>\n",
       "      <td>0.0</td>\n",
       "      <td>0.0</td>\n",
       "      <td>NaN</td>\n",
       "      <td>0.0</td>\n",
       "      <td>0.0</td>\n",
       "      <td>0.0</td>\n",
       "      <td>0.0</td>\n",
       "      <td>0.0</td>\n",
       "      <td>20.0</td>\n",
       "    </tr>\n",
       "    <tr>\n",
       "      <th>25</th>\n",
       "      <td>Missouri</td>\n",
       "      <td>0.0</td>\n",
       "      <td>0.0</td>\n",
       "      <td>0.0</td>\n",
       "      <td>0.0</td>\n",
       "      <td>0.0</td>\n",
       "      <td>NaN</td>\n",
       "      <td>0.0</td>\n",
       "      <td>0.0</td>\n",
       "      <td>0.0</td>\n",
       "      <td>0.0</td>\n",
       "      <td>0.0</td>\n",
       "      <td>36.0</td>\n",
       "    </tr>\n",
       "    <tr>\n",
       "      <th>28</th>\n",
       "      <td>Nevada</td>\n",
       "      <td>0.0</td>\n",
       "      <td>1.0</td>\n",
       "      <td>0.0</td>\n",
       "      <td>0.0</td>\n",
       "      <td>0.0</td>\n",
       "      <td>NaN</td>\n",
       "      <td>0.0</td>\n",
       "      <td>1.0</td>\n",
       "      <td>0.0</td>\n",
       "      <td>0.0</td>\n",
       "      <td>2.0</td>\n",
       "      <td>491.0</td>\n",
       "    </tr>\n",
       "    <tr>\n",
       "      <th>30</th>\n",
       "      <td>New Jersey</td>\n",
       "      <td>1.0</td>\n",
       "      <td>1.0</td>\n",
       "      <td>1.0</td>\n",
       "      <td>1.0</td>\n",
       "      <td>1.0</td>\n",
       "      <td>NaN</td>\n",
       "      <td>0.0</td>\n",
       "      <td>1.0</td>\n",
       "      <td>1.0</td>\n",
       "      <td>1.0</td>\n",
       "      <td>8.0</td>\n",
       "      <td>18.0</td>\n",
       "    </tr>\n",
       "    <tr>\n",
       "      <th>31</th>\n",
       "      <td>New Mexico</td>\n",
       "      <td>0.0</td>\n",
       "      <td>1.0</td>\n",
       "      <td>0.0</td>\n",
       "      <td>0.0</td>\n",
       "      <td>0.0</td>\n",
       "      <td>NaN</td>\n",
       "      <td>0.0</td>\n",
       "      <td>1.0</td>\n",
       "      <td>0.0</td>\n",
       "      <td>0.0</td>\n",
       "      <td>2.0</td>\n",
       "      <td>21.0</td>\n",
       "    </tr>\n",
       "    <tr>\n",
       "      <th>32</th>\n",
       "      <td>New York</td>\n",
       "      <td>1.0</td>\n",
       "      <td>1.0</td>\n",
       "      <td>1.0</td>\n",
       "      <td>1.0</td>\n",
       "      <td>1.0</td>\n",
       "      <td>1.0</td>\n",
       "      <td>1.0</td>\n",
       "      <td>1.0</td>\n",
       "      <td>NaN</td>\n",
       "      <td>1.0</td>\n",
       "      <td>9.0</td>\n",
       "      <td>53.0</td>\n",
       "    </tr>\n",
       "    <tr>\n",
       "      <th>33</th>\n",
       "      <td>North Carolina</td>\n",
       "      <td>0.0</td>\n",
       "      <td>1.0</td>\n",
       "      <td>0.0</td>\n",
       "      <td>0.0</td>\n",
       "      <td>0.0</td>\n",
       "      <td>NaN</td>\n",
       "      <td>0.0</td>\n",
       "      <td>1.0</td>\n",
       "      <td>0.0</td>\n",
       "      <td>1.0</td>\n",
       "      <td>3.0</td>\n",
       "      <td>54.0</td>\n",
       "    </tr>\n",
       "    <tr>\n",
       "      <th>35</th>\n",
       "      <td>Ohio</td>\n",
       "      <td>0.0</td>\n",
       "      <td>0.0</td>\n",
       "      <td>0.0</td>\n",
       "      <td>0.0</td>\n",
       "      <td>0.0</td>\n",
       "      <td>NaN</td>\n",
       "      <td>0.0</td>\n",
       "      <td>0.0</td>\n",
       "      <td>0.0</td>\n",
       "      <td>0.0</td>\n",
       "      <td>0.0</td>\n",
       "      <td>95.0</td>\n",
       "    </tr>\n",
       "    <tr>\n",
       "      <th>36</th>\n",
       "      <td>Oklahoma</td>\n",
       "      <td>0.0</td>\n",
       "      <td>0.0</td>\n",
       "      <td>0.0</td>\n",
       "      <td>0.0</td>\n",
       "      <td>0.0</td>\n",
       "      <td>NaN</td>\n",
       "      <td>0.0</td>\n",
       "      <td>0.0</td>\n",
       "      <td>0.0</td>\n",
       "      <td>0.0</td>\n",
       "      <td>0.0</td>\n",
       "      <td>37.0</td>\n",
       "    </tr>\n",
       "    <tr>\n",
       "      <th>37</th>\n",
       "      <td>Oregon</td>\n",
       "      <td>0.0</td>\n",
       "      <td>1.0</td>\n",
       "      <td>0.0</td>\n",
       "      <td>0.0</td>\n",
       "      <td>0.0</td>\n",
       "      <td>NaN</td>\n",
       "      <td>0.0</td>\n",
       "      <td>1.0</td>\n",
       "      <td>0.0</td>\n",
       "      <td>0.0</td>\n",
       "      <td>2.0</td>\n",
       "      <td>18.0</td>\n",
       "    </tr>\n",
       "    <tr>\n",
       "      <th>38</th>\n",
       "      <td>Pennsylvania</td>\n",
       "      <td>0.0</td>\n",
       "      <td>1.0</td>\n",
       "      <td>0.0</td>\n",
       "      <td>0.0</td>\n",
       "      <td>0.0</td>\n",
       "      <td>NaN</td>\n",
       "      <td>0.0</td>\n",
       "      <td>1.0</td>\n",
       "      <td>0.0</td>\n",
       "      <td>0.0</td>\n",
       "      <td>2.0</td>\n",
       "      <td>50.0</td>\n",
       "    </tr>\n",
       "    <tr>\n",
       "      <th>40</th>\n",
       "      <td>South Carolina</td>\n",
       "      <td>0.0</td>\n",
       "      <td>0.0</td>\n",
       "      <td>0.0</td>\n",
       "      <td>0.0</td>\n",
       "      <td>0.0</td>\n",
       "      <td>NaN</td>\n",
       "      <td>0.0</td>\n",
       "      <td>1.0</td>\n",
       "      <td>1.0</td>\n",
       "      <td>0.0</td>\n",
       "      <td>2.0</td>\n",
       "      <td>42.0</td>\n",
       "    </tr>\n",
       "    <tr>\n",
       "      <th>42</th>\n",
       "      <td>Tennessee</td>\n",
       "      <td>0.0</td>\n",
       "      <td>0.0</td>\n",
       "      <td>0.0</td>\n",
       "      <td>0.0</td>\n",
       "      <td>0.0</td>\n",
       "      <td>NaN</td>\n",
       "      <td>0.0</td>\n",
       "      <td>0.0</td>\n",
       "      <td>0.0</td>\n",
       "      <td>0.0</td>\n",
       "      <td>0.0</td>\n",
       "      <td>27.0</td>\n",
       "    </tr>\n",
       "    <tr>\n",
       "      <th>43</th>\n",
       "      <td>Texas</td>\n",
       "      <td>0.0</td>\n",
       "      <td>0.0</td>\n",
       "      <td>0.0</td>\n",
       "      <td>0.0</td>\n",
       "      <td>0.0</td>\n",
       "      <td>NaN</td>\n",
       "      <td>0.0</td>\n",
       "      <td>0.0</td>\n",
       "      <td>0.0</td>\n",
       "      <td>0.0</td>\n",
       "      <td>0.0</td>\n",
       "      <td>402.0</td>\n",
       "    </tr>\n",
       "    <tr>\n",
       "      <th>44</th>\n",
       "      <td>Utah</td>\n",
       "      <td>0.0</td>\n",
       "      <td>0.0</td>\n",
       "      <td>0.0</td>\n",
       "      <td>0.0</td>\n",
       "      <td>0.0</td>\n",
       "      <td>NaN</td>\n",
       "      <td>0.0</td>\n",
       "      <td>0.0</td>\n",
       "      <td>0.0</td>\n",
       "      <td>0.0</td>\n",
       "      <td>0.0</td>\n",
       "      <td>16.0</td>\n",
       "    </tr>\n",
       "    <tr>\n",
       "      <th>46</th>\n",
       "      <td>Virginia</td>\n",
       "      <td>1.0</td>\n",
       "      <td>1.0</td>\n",
       "      <td>0.0</td>\n",
       "      <td>0.0</td>\n",
       "      <td>0.0</td>\n",
       "      <td>NaN</td>\n",
       "      <td>0.0</td>\n",
       "      <td>1.0</td>\n",
       "      <td>0.0</td>\n",
       "      <td>0.0</td>\n",
       "      <td>3.0</td>\n",
       "      <td>63.0</td>\n",
       "    </tr>\n",
       "    <tr>\n",
       "      <th>47</th>\n",
       "      <td>Washington</td>\n",
       "      <td>1.0</td>\n",
       "      <td>1.0</td>\n",
       "      <td>0.5</td>\n",
       "      <td>1.0</td>\n",
       "      <td>0.5</td>\n",
       "      <td>NaN</td>\n",
       "      <td>0.0</td>\n",
       "      <td>1.0</td>\n",
       "      <td>0.0</td>\n",
       "      <td>0.0</td>\n",
       "      <td>5.0</td>\n",
       "      <td>48.0</td>\n",
       "    </tr>\n",
       "    <tr>\n",
       "      <th>48</th>\n",
       "      <td>West Virginia</td>\n",
       "      <td>0.0</td>\n",
       "      <td>0.0</td>\n",
       "      <td>0.0</td>\n",
       "      <td>0.0</td>\n",
       "      <td>0.0</td>\n",
       "      <td>NaN</td>\n",
       "      <td>0.0</td>\n",
       "      <td>0.0</td>\n",
       "      <td>0.0</td>\n",
       "      <td>0.0</td>\n",
       "      <td>0.0</td>\n",
       "      <td>22.0</td>\n",
       "    </tr>\n",
       "    <tr>\n",
       "      <th>49</th>\n",
       "      <td>Wisconsin</td>\n",
       "      <td>0.0</td>\n",
       "      <td>0.0</td>\n",
       "      <td>0.0</td>\n",
       "      <td>0.0</td>\n",
       "      <td>0.0</td>\n",
       "      <td>NaN</td>\n",
       "      <td>0.0</td>\n",
       "      <td>1.0</td>\n",
       "      <td>0.0</td>\n",
       "      <td>1.0</td>\n",
       "      <td>2.0</td>\n",
       "      <td>40.0</td>\n",
       "    </tr>\n",
       "  </tbody>\n",
       "</table>\n",
       "</div>"
      ],
      "text/plain": [
       "                   State  Asslt weap law?  Bckgrd checks?  Firearm regis?  \\\n",
       "0                Alabama              0.0             0.0             0.0   \n",
       "2                Arizona              0.0             0.0             0.0   \n",
       "3               Arkansas              0.0             0.0             0.0   \n",
       "4             California              1.0             1.0             1.0   \n",
       "5               Colorado              0.0             1.0             0.0   \n",
       "6            Connecticut              1.0             1.0             0.5   \n",
       "8   District of Columbia              1.0             1.0             1.0   \n",
       "9                Florida              0.0             0.0             0.0   \n",
       "10               Georgia              0.0             0.0             0.0   \n",
       "13              Illinois              1.0             1.0             0.0   \n",
       "14               Indiana              0.0             0.0             0.0   \n",
       "16                Kansas              0.0             0.0             0.0   \n",
       "20              Maryland              1.0             1.0             1.0   \n",
       "22              Michigan              0.0             1.0             1.0   \n",
       "23             Minnesota              0.0             0.0             0.0   \n",
       "24           Mississippi              0.0             0.0             0.0   \n",
       "25              Missouri              0.0             0.0             0.0   \n",
       "28                Nevada              0.0             1.0             0.0   \n",
       "30            New Jersey              1.0             1.0             1.0   \n",
       "31            New Mexico              0.0             1.0             0.0   \n",
       "32              New York              1.0             1.0             1.0   \n",
       "33        North Carolina              0.0             1.0             0.0   \n",
       "35                  Ohio              0.0             0.0             0.0   \n",
       "36              Oklahoma              0.0             0.0             0.0   \n",
       "37                Oregon              0.0             1.0             0.0   \n",
       "38          Pennsylvania              0.0             1.0             0.0   \n",
       "40        South Carolina              0.0             0.0             0.0   \n",
       "42             Tennessee              0.0             0.0             0.0   \n",
       "43                 Texas              0.0             0.0             0.0   \n",
       "44                  Utah              0.0             0.0             0.0   \n",
       "46              Virginia              1.0             1.0             0.0   \n",
       "47            Washington              1.0             1.0             0.5   \n",
       "48         West Virginia              0.0             0.0             0.0   \n",
       "49             Wisconsin              0.0             0.0             0.0   \n",
       "\n",
       "    Mag cap restrict?  NFA weap restrict?  Open carry?  Owner license?  \\\n",
       "0                 0.0                 0.0          NaN             0.0   \n",
       "2                 0.0                 0.0          NaN             0.0   \n",
       "3                 0.0                 0.0          NaN             0.0   \n",
       "4                 1.0                 1.0          1.0             0.0   \n",
       "5                 1.0                 0.0          NaN             0.0   \n",
       "6                 1.0                 0.0          NaN             1.0   \n",
       "8                 1.0                 1.0          1.0             1.0   \n",
       "9                 0.0                 0.0          NaN             0.0   \n",
       "10                0.0                 0.0          NaN             0.0   \n",
       "13                1.0                 1.0          1.0             1.0   \n",
       "14                0.0                 0.0          NaN             0.0   \n",
       "16                0.0                 0.0          NaN             0.0   \n",
       "20                1.0                 0.0          NaN             0.0   \n",
       "22                0.0                 0.0          NaN             0.0   \n",
       "23                0.0                 1.0          NaN             0.0   \n",
       "24                0.0                 0.0          NaN             0.0   \n",
       "25                0.0                 0.0          NaN             0.0   \n",
       "28                0.0                 0.0          NaN             0.0   \n",
       "30                1.0                 1.0          NaN             0.0   \n",
       "31                0.0                 0.0          NaN             0.0   \n",
       "32                1.0                 1.0          1.0             1.0   \n",
       "33                0.0                 0.0          NaN             0.0   \n",
       "35                0.0                 0.0          NaN             0.0   \n",
       "36                0.0                 0.0          NaN             0.0   \n",
       "37                0.0                 0.0          NaN             0.0   \n",
       "38                0.0                 0.0          NaN             0.0   \n",
       "40                0.0                 0.0          NaN             0.0   \n",
       "42                0.0                 0.0          NaN             0.0   \n",
       "43                0.0                 0.0          NaN             0.0   \n",
       "44                0.0                 0.0          NaN             0.0   \n",
       "46                0.0                 0.0          NaN             0.0   \n",
       "47                1.0                 0.5          NaN             0.0   \n",
       "48                0.0                 0.0          NaN             0.0   \n",
       "49                0.0                 0.0          NaN             0.0   \n",
       "\n",
       "    Conceal carry permit?  Open carry permit?  Purch permit?  \\\n",
       "0                     0.0                 0.0            0.0   \n",
       "2                     0.0                 0.0            0.0   \n",
       "3                     0.0                 0.0            0.0   \n",
       "4                     1.0                 NaN            0.5   \n",
       "5                     1.0                 0.0            0.0   \n",
       "6                     1.0                 1.0            1.0   \n",
       "8                     1.0                 NaN            1.0   \n",
       "9                     1.0                 0.0            0.0   \n",
       "10                    0.0                 0.0            0.0   \n",
       "13                    1.0                 NaN            1.0   \n",
       "14                    0.0                 0.0            0.0   \n",
       "16                    0.0                 0.0            0.0   \n",
       "20                    1.0                 1.0            1.0   \n",
       "22                    1.0                 0.0            1.0   \n",
       "23                    1.0                 1.0            1.0   \n",
       "24                    0.0                 0.0            0.0   \n",
       "25                    0.0                 0.0            0.0   \n",
       "28                    1.0                 0.0            0.0   \n",
       "30                    1.0                 1.0            1.0   \n",
       "31                    1.0                 0.0            0.0   \n",
       "32                    1.0                 NaN            1.0   \n",
       "33                    1.0                 0.0            1.0   \n",
       "35                    0.0                 0.0            0.0   \n",
       "36                    0.0                 0.0            0.0   \n",
       "37                    1.0                 0.0            0.0   \n",
       "38                    1.0                 0.0            0.0   \n",
       "40                    1.0                 1.0            0.0   \n",
       "42                    0.0                 0.0            0.0   \n",
       "43                    0.0                 0.0            0.0   \n",
       "44                    0.0                 0.0            0.0   \n",
       "46                    1.0                 0.0            0.0   \n",
       "47                    1.0                 0.0            0.0   \n",
       "48                    0.0                 0.0            0.0   \n",
       "49                    1.0                 0.0            1.0   \n",
       "\n",
       "    Gun safety ranking  Total shot  \n",
       "0                  0.0        35.0  \n",
       "2                  0.0        54.0  \n",
       "3                  0.0        13.0  \n",
       "4                  7.5       273.0  \n",
       "5                  3.0       131.0  \n",
       "6                  7.5        39.0  \n",
       "8                  9.0        25.0  \n",
       "9                  1.0       224.0  \n",
       "10                 0.0        42.0  \n",
       "13                 8.0       135.0  \n",
       "14                 0.0        45.0  \n",
       "16                 0.0        30.0  \n",
       "20                 7.0        24.0  \n",
       "22                 4.0        48.0  \n",
       "23                 4.0        20.0  \n",
       "24                 0.0        20.0  \n",
       "25                 0.0        36.0  \n",
       "28                 2.0       491.0  \n",
       "30                 8.0        18.0  \n",
       "31                 2.0        21.0  \n",
       "32                 9.0        53.0  \n",
       "33                 3.0        54.0  \n",
       "35                 0.0        95.0  \n",
       "36                 0.0        37.0  \n",
       "37                 2.0        18.0  \n",
       "38                 2.0        50.0  \n",
       "40                 2.0        42.0  \n",
       "42                 0.0        27.0  \n",
       "43                 0.0       402.0  \n",
       "44                 0.0        16.0  \n",
       "46                 3.0        63.0  \n",
       "47                 5.0        48.0  \n",
       "48                 0.0        22.0  \n",
       "49                 2.0        40.0  "
      ]
     },
     "execution_count": 90,
     "metadata": {},
     "output_type": "execute_result"
    }
   ],
   "source": [
    "#Remove outlier states with 0 mass shootings\n",
    "clean_df2 = clean_df[clean_df['Total shot'].notna()]\n",
    "clean_df3 = clean_df2[~(clean_df2['Total shot'] <= 10)]  \n",
    "clean_df3"
   ]
  },
  {
   "cell_type": "code",
   "execution_count": 93,
   "id": "ecdf4380",
   "metadata": {},
   "outputs": [
    {
     "data": {
      "application/vnd.plotly.v1+json": {
       "config": {
        "plotlyServerURL": "https://plot.ly"
       },
       "data": [
        {
         "hovertemplate": "State=Alabama<br>Total shot=%{x}<br>Gun safety ranking=%{y}<extra></extra>",
         "legendgroup": "Alabama",
         "marker": {
          "color": "#636efa",
          "symbol": "circle"
         },
         "mode": "markers",
         "name": "Alabama",
         "orientation": "v",
         "showlegend": true,
         "type": "scatter",
         "x": [
          35
         ],
         "xaxis": "x",
         "y": [
          0
         ],
         "yaxis": "y"
        },
        {
         "hovertemplate": "State=Alabama<extra></extra>",
         "legendgroup": "Alabama",
         "marker": {
          "color": "#636efa",
          "symbol": "circle"
         },
         "mode": "lines",
         "name": "Alabama",
         "showlegend": false,
         "type": "scatter",
         "xaxis": "x",
         "yaxis": "y"
        },
        {
         "hovertemplate": "State=Arizona<br>Total shot=%{x}<br>Gun safety ranking=%{y}<extra></extra>",
         "legendgroup": "Arizona",
         "marker": {
          "color": "#EF553B",
          "symbol": "circle"
         },
         "mode": "markers",
         "name": "Arizona",
         "orientation": "v",
         "showlegend": true,
         "type": "scatter",
         "x": [
          54
         ],
         "xaxis": "x",
         "y": [
          0
         ],
         "yaxis": "y"
        },
        {
         "hovertemplate": "State=Arizona<extra></extra>",
         "legendgroup": "Arizona",
         "marker": {
          "color": "#EF553B",
          "symbol": "circle"
         },
         "mode": "lines",
         "name": "Arizona",
         "showlegend": false,
         "type": "scatter",
         "xaxis": "x",
         "yaxis": "y"
        },
        {
         "hovertemplate": "State=Arkansas<br>Total shot=%{x}<br>Gun safety ranking=%{y}<extra></extra>",
         "legendgroup": "Arkansas",
         "marker": {
          "color": "#00cc96",
          "symbol": "circle"
         },
         "mode": "markers",
         "name": "Arkansas",
         "orientation": "v",
         "showlegend": true,
         "type": "scatter",
         "x": [
          13
         ],
         "xaxis": "x",
         "y": [
          0
         ],
         "yaxis": "y"
        },
        {
         "hovertemplate": "State=Arkansas<extra></extra>",
         "legendgroup": "Arkansas",
         "marker": {
          "color": "#00cc96",
          "symbol": "circle"
         },
         "mode": "lines",
         "name": "Arkansas",
         "showlegend": false,
         "type": "scatter",
         "xaxis": "x",
         "yaxis": "y"
        },
        {
         "hovertemplate": "State=California<br>Total shot=%{x}<br>Gun safety ranking=%{y}<extra></extra>",
         "legendgroup": "California",
         "marker": {
          "color": "#ab63fa",
          "symbol": "circle"
         },
         "mode": "markers",
         "name": "California",
         "orientation": "v",
         "showlegend": true,
         "type": "scatter",
         "x": [
          273
         ],
         "xaxis": "x",
         "y": [
          7.5
         ],
         "yaxis": "y"
        },
        {
         "hovertemplate": "State=California<extra></extra>",
         "legendgroup": "California",
         "marker": {
          "color": "#ab63fa",
          "symbol": "circle"
         },
         "mode": "lines",
         "name": "California",
         "showlegend": false,
         "type": "scatter",
         "xaxis": "x",
         "yaxis": "y"
        },
        {
         "hovertemplate": "State=Colorado<br>Total shot=%{x}<br>Gun safety ranking=%{y}<extra></extra>",
         "legendgroup": "Colorado",
         "marker": {
          "color": "#FFA15A",
          "symbol": "circle"
         },
         "mode": "markers",
         "name": "Colorado",
         "orientation": "v",
         "showlegend": true,
         "type": "scatter",
         "x": [
          131
         ],
         "xaxis": "x",
         "y": [
          3
         ],
         "yaxis": "y"
        },
        {
         "hovertemplate": "State=Colorado<extra></extra>",
         "legendgroup": "Colorado",
         "marker": {
          "color": "#FFA15A",
          "symbol": "circle"
         },
         "mode": "lines",
         "name": "Colorado",
         "showlegend": false,
         "type": "scatter",
         "xaxis": "x",
         "yaxis": "y"
        },
        {
         "hovertemplate": "State=Connecticut<br>Total shot=%{x}<br>Gun safety ranking=%{y}<extra></extra>",
         "legendgroup": "Connecticut",
         "marker": {
          "color": "#19d3f3",
          "symbol": "circle"
         },
         "mode": "markers",
         "name": "Connecticut",
         "orientation": "v",
         "showlegend": true,
         "type": "scatter",
         "x": [
          39
         ],
         "xaxis": "x",
         "y": [
          7.5
         ],
         "yaxis": "y"
        },
        {
         "hovertemplate": "State=Connecticut<extra></extra>",
         "legendgroup": "Connecticut",
         "marker": {
          "color": "#19d3f3",
          "symbol": "circle"
         },
         "mode": "lines",
         "name": "Connecticut",
         "showlegend": false,
         "type": "scatter",
         "xaxis": "x",
         "yaxis": "y"
        },
        {
         "hovertemplate": "State=District of Columbia<br>Total shot=%{x}<br>Gun safety ranking=%{y}<extra></extra>",
         "legendgroup": "District of Columbia",
         "marker": {
          "color": "#FF6692",
          "symbol": "circle"
         },
         "mode": "markers",
         "name": "District of Columbia",
         "orientation": "v",
         "showlegend": true,
         "type": "scatter",
         "x": [
          25
         ],
         "xaxis": "x",
         "y": [
          9
         ],
         "yaxis": "y"
        },
        {
         "hovertemplate": "State=District of Columbia<extra></extra>",
         "legendgroup": "District of Columbia",
         "marker": {
          "color": "#FF6692",
          "symbol": "circle"
         },
         "mode": "lines",
         "name": "District of Columbia",
         "showlegend": false,
         "type": "scatter",
         "xaxis": "x",
         "yaxis": "y"
        },
        {
         "hovertemplate": "State=Florida<br>Total shot=%{x}<br>Gun safety ranking=%{y}<extra></extra>",
         "legendgroup": "Florida",
         "marker": {
          "color": "#B6E880",
          "symbol": "circle"
         },
         "mode": "markers",
         "name": "Florida",
         "orientation": "v",
         "showlegend": true,
         "type": "scatter",
         "x": [
          224
         ],
         "xaxis": "x",
         "y": [
          1
         ],
         "yaxis": "y"
        },
        {
         "hovertemplate": "State=Florida<extra></extra>",
         "legendgroup": "Florida",
         "marker": {
          "color": "#B6E880",
          "symbol": "circle"
         },
         "mode": "lines",
         "name": "Florida",
         "showlegend": false,
         "type": "scatter",
         "xaxis": "x",
         "yaxis": "y"
        },
        {
         "hovertemplate": "State=Georgia<br>Total shot=%{x}<br>Gun safety ranking=%{y}<extra></extra>",
         "legendgroup": "Georgia",
         "marker": {
          "color": "#FF97FF",
          "symbol": "circle"
         },
         "mode": "markers",
         "name": "Georgia",
         "orientation": "v",
         "showlegend": true,
         "type": "scatter",
         "x": [
          42
         ],
         "xaxis": "x",
         "y": [
          0
         ],
         "yaxis": "y"
        },
        {
         "hovertemplate": "State=Georgia<extra></extra>",
         "legendgroup": "Georgia",
         "marker": {
          "color": "#FF97FF",
          "symbol": "circle"
         },
         "mode": "lines",
         "name": "Georgia",
         "showlegend": false,
         "type": "scatter",
         "xaxis": "x",
         "yaxis": "y"
        },
        {
         "hovertemplate": "State=Illinois<br>Total shot=%{x}<br>Gun safety ranking=%{y}<extra></extra>",
         "legendgroup": "Illinois",
         "marker": {
          "color": "#FECB52",
          "symbol": "circle"
         },
         "mode": "markers",
         "name": "Illinois",
         "orientation": "v",
         "showlegend": true,
         "type": "scatter",
         "x": [
          135
         ],
         "xaxis": "x",
         "y": [
          8
         ],
         "yaxis": "y"
        },
        {
         "hovertemplate": "State=Illinois<extra></extra>",
         "legendgroup": "Illinois",
         "marker": {
          "color": "#FECB52",
          "symbol": "circle"
         },
         "mode": "lines",
         "name": "Illinois",
         "showlegend": false,
         "type": "scatter",
         "xaxis": "x",
         "yaxis": "y"
        },
        {
         "hovertemplate": "State=Indiana<br>Total shot=%{x}<br>Gun safety ranking=%{y}<extra></extra>",
         "legendgroup": "Indiana",
         "marker": {
          "color": "#636efa",
          "symbol": "circle"
         },
         "mode": "markers",
         "name": "Indiana",
         "orientation": "v",
         "showlegend": true,
         "type": "scatter",
         "x": [
          45
         ],
         "xaxis": "x",
         "y": [
          0
         ],
         "yaxis": "y"
        },
        {
         "hovertemplate": "State=Indiana<extra></extra>",
         "legendgroup": "Indiana",
         "marker": {
          "color": "#636efa",
          "symbol": "circle"
         },
         "mode": "lines",
         "name": "Indiana",
         "showlegend": false,
         "type": "scatter",
         "xaxis": "x",
         "yaxis": "y"
        },
        {
         "hovertemplate": "State=Kansas<br>Total shot=%{x}<br>Gun safety ranking=%{y}<extra></extra>",
         "legendgroup": "Kansas",
         "marker": {
          "color": "#EF553B",
          "symbol": "circle"
         },
         "mode": "markers",
         "name": "Kansas",
         "orientation": "v",
         "showlegend": true,
         "type": "scatter",
         "x": [
          30
         ],
         "xaxis": "x",
         "y": [
          0
         ],
         "yaxis": "y"
        },
        {
         "hovertemplate": "State=Kansas<extra></extra>",
         "legendgroup": "Kansas",
         "marker": {
          "color": "#EF553B",
          "symbol": "circle"
         },
         "mode": "lines",
         "name": "Kansas",
         "showlegend": false,
         "type": "scatter",
         "xaxis": "x",
         "yaxis": "y"
        },
        {
         "hovertemplate": "State=Maryland<br>Total shot=%{x}<br>Gun safety ranking=%{y}<extra></extra>",
         "legendgroup": "Maryland",
         "marker": {
          "color": "#00cc96",
          "symbol": "circle"
         },
         "mode": "markers",
         "name": "Maryland",
         "orientation": "v",
         "showlegend": true,
         "type": "scatter",
         "x": [
          24
         ],
         "xaxis": "x",
         "y": [
          7
         ],
         "yaxis": "y"
        },
        {
         "hovertemplate": "State=Maryland<extra></extra>",
         "legendgroup": "Maryland",
         "marker": {
          "color": "#00cc96",
          "symbol": "circle"
         },
         "mode": "lines",
         "name": "Maryland",
         "showlegend": false,
         "type": "scatter",
         "xaxis": "x",
         "yaxis": "y"
        },
        {
         "hovertemplate": "State=Michigan<br>Total shot=%{x}<br>Gun safety ranking=%{y}<extra></extra>",
         "legendgroup": "Michigan",
         "marker": {
          "color": "#ab63fa",
          "symbol": "circle"
         },
         "mode": "markers",
         "name": "Michigan",
         "orientation": "v",
         "showlegend": true,
         "type": "scatter",
         "x": [
          48
         ],
         "xaxis": "x",
         "y": [
          4
         ],
         "yaxis": "y"
        },
        {
         "hovertemplate": "State=Michigan<extra></extra>",
         "legendgroup": "Michigan",
         "marker": {
          "color": "#ab63fa",
          "symbol": "circle"
         },
         "mode": "lines",
         "name": "Michigan",
         "showlegend": false,
         "type": "scatter",
         "xaxis": "x",
         "yaxis": "y"
        },
        {
         "hovertemplate": "State=Minnesota<br>Total shot=%{x}<br>Gun safety ranking=%{y}<extra></extra>",
         "legendgroup": "Minnesota",
         "marker": {
          "color": "#FFA15A",
          "symbol": "circle"
         },
         "mode": "markers",
         "name": "Minnesota",
         "orientation": "v",
         "showlegend": true,
         "type": "scatter",
         "x": [
          20
         ],
         "xaxis": "x",
         "y": [
          4
         ],
         "yaxis": "y"
        },
        {
         "hovertemplate": "State=Minnesota<extra></extra>",
         "legendgroup": "Minnesota",
         "marker": {
          "color": "#FFA15A",
          "symbol": "circle"
         },
         "mode": "lines",
         "name": "Minnesota",
         "showlegend": false,
         "type": "scatter",
         "xaxis": "x",
         "yaxis": "y"
        },
        {
         "hovertemplate": "State=Mississippi<br>Total shot=%{x}<br>Gun safety ranking=%{y}<extra></extra>",
         "legendgroup": "Mississippi",
         "marker": {
          "color": "#19d3f3",
          "symbol": "circle"
         },
         "mode": "markers",
         "name": "Mississippi",
         "orientation": "v",
         "showlegend": true,
         "type": "scatter",
         "x": [
          20
         ],
         "xaxis": "x",
         "y": [
          0
         ],
         "yaxis": "y"
        },
        {
         "hovertemplate": "State=Mississippi<extra></extra>",
         "legendgroup": "Mississippi",
         "marker": {
          "color": "#19d3f3",
          "symbol": "circle"
         },
         "mode": "lines",
         "name": "Mississippi",
         "showlegend": false,
         "type": "scatter",
         "xaxis": "x",
         "yaxis": "y"
        },
        {
         "hovertemplate": "State=Missouri<br>Total shot=%{x}<br>Gun safety ranking=%{y}<extra></extra>",
         "legendgroup": "Missouri",
         "marker": {
          "color": "#FF6692",
          "symbol": "circle"
         },
         "mode": "markers",
         "name": "Missouri",
         "orientation": "v",
         "showlegend": true,
         "type": "scatter",
         "x": [
          36
         ],
         "xaxis": "x",
         "y": [
          0
         ],
         "yaxis": "y"
        },
        {
         "hovertemplate": "State=Missouri<extra></extra>",
         "legendgroup": "Missouri",
         "marker": {
          "color": "#FF6692",
          "symbol": "circle"
         },
         "mode": "lines",
         "name": "Missouri",
         "showlegend": false,
         "type": "scatter",
         "xaxis": "x",
         "yaxis": "y"
        },
        {
         "hovertemplate": "State=Nevada<br>Total shot=%{x}<br>Gun safety ranking=%{y}<extra></extra>",
         "legendgroup": "Nevada",
         "marker": {
          "color": "#B6E880",
          "symbol": "circle"
         },
         "mode": "markers",
         "name": "Nevada",
         "orientation": "v",
         "showlegend": true,
         "type": "scatter",
         "x": [
          491
         ],
         "xaxis": "x",
         "y": [
          2
         ],
         "yaxis": "y"
        },
        {
         "hovertemplate": "State=Nevada<extra></extra>",
         "legendgroup": "Nevada",
         "marker": {
          "color": "#B6E880",
          "symbol": "circle"
         },
         "mode": "lines",
         "name": "Nevada",
         "showlegend": false,
         "type": "scatter",
         "xaxis": "x",
         "yaxis": "y"
        },
        {
         "hovertemplate": "State=New Jersey<br>Total shot=%{x}<br>Gun safety ranking=%{y}<extra></extra>",
         "legendgroup": "New Jersey",
         "marker": {
          "color": "#FF97FF",
          "symbol": "circle"
         },
         "mode": "markers",
         "name": "New Jersey",
         "orientation": "v",
         "showlegend": true,
         "type": "scatter",
         "x": [
          18
         ],
         "xaxis": "x",
         "y": [
          8
         ],
         "yaxis": "y"
        },
        {
         "hovertemplate": "State=New Jersey<extra></extra>",
         "legendgroup": "New Jersey",
         "marker": {
          "color": "#FF97FF",
          "symbol": "circle"
         },
         "mode": "lines",
         "name": "New Jersey",
         "showlegend": false,
         "type": "scatter",
         "xaxis": "x",
         "yaxis": "y"
        },
        {
         "hovertemplate": "State=New Mexico<br>Total shot=%{x}<br>Gun safety ranking=%{y}<extra></extra>",
         "legendgroup": "New Mexico",
         "marker": {
          "color": "#FECB52",
          "symbol": "circle"
         },
         "mode": "markers",
         "name": "New Mexico",
         "orientation": "v",
         "showlegend": true,
         "type": "scatter",
         "x": [
          21
         ],
         "xaxis": "x",
         "y": [
          2
         ],
         "yaxis": "y"
        },
        {
         "hovertemplate": "State=New Mexico<extra></extra>",
         "legendgroup": "New Mexico",
         "marker": {
          "color": "#FECB52",
          "symbol": "circle"
         },
         "mode": "lines",
         "name": "New Mexico",
         "showlegend": false,
         "type": "scatter",
         "xaxis": "x",
         "yaxis": "y"
        },
        {
         "hovertemplate": "State=New York<br>Total shot=%{x}<br>Gun safety ranking=%{y}<extra></extra>",
         "legendgroup": "New York",
         "marker": {
          "color": "#636efa",
          "symbol": "circle"
         },
         "mode": "markers",
         "name": "New York",
         "orientation": "v",
         "showlegend": true,
         "type": "scatter",
         "x": [
          53
         ],
         "xaxis": "x",
         "y": [
          9
         ],
         "yaxis": "y"
        },
        {
         "hovertemplate": "State=New York<extra></extra>",
         "legendgroup": "New York",
         "marker": {
          "color": "#636efa",
          "symbol": "circle"
         },
         "mode": "lines",
         "name": "New York",
         "showlegend": false,
         "type": "scatter",
         "xaxis": "x",
         "yaxis": "y"
        },
        {
         "hovertemplate": "State=North Carolina<br>Total shot=%{x}<br>Gun safety ranking=%{y}<extra></extra>",
         "legendgroup": "North Carolina",
         "marker": {
          "color": "#EF553B",
          "symbol": "circle"
         },
         "mode": "markers",
         "name": "North Carolina",
         "orientation": "v",
         "showlegend": true,
         "type": "scatter",
         "x": [
          54
         ],
         "xaxis": "x",
         "y": [
          3
         ],
         "yaxis": "y"
        },
        {
         "hovertemplate": "State=North Carolina<extra></extra>",
         "legendgroup": "North Carolina",
         "marker": {
          "color": "#EF553B",
          "symbol": "circle"
         },
         "mode": "lines",
         "name": "North Carolina",
         "showlegend": false,
         "type": "scatter",
         "xaxis": "x",
         "yaxis": "y"
        },
        {
         "hovertemplate": "State=Ohio<br>Total shot=%{x}<br>Gun safety ranking=%{y}<extra></extra>",
         "legendgroup": "Ohio",
         "marker": {
          "color": "#00cc96",
          "symbol": "circle"
         },
         "mode": "markers",
         "name": "Ohio",
         "orientation": "v",
         "showlegend": true,
         "type": "scatter",
         "x": [
          95
         ],
         "xaxis": "x",
         "y": [
          0
         ],
         "yaxis": "y"
        },
        {
         "hovertemplate": "State=Ohio<extra></extra>",
         "legendgroup": "Ohio",
         "marker": {
          "color": "#00cc96",
          "symbol": "circle"
         },
         "mode": "lines",
         "name": "Ohio",
         "showlegend": false,
         "type": "scatter",
         "xaxis": "x",
         "yaxis": "y"
        },
        {
         "hovertemplate": "State=Oklahoma<br>Total shot=%{x}<br>Gun safety ranking=%{y}<extra></extra>",
         "legendgroup": "Oklahoma",
         "marker": {
          "color": "#ab63fa",
          "symbol": "circle"
         },
         "mode": "markers",
         "name": "Oklahoma",
         "orientation": "v",
         "showlegend": true,
         "type": "scatter",
         "x": [
          37
         ],
         "xaxis": "x",
         "y": [
          0
         ],
         "yaxis": "y"
        },
        {
         "hovertemplate": "State=Oklahoma<extra></extra>",
         "legendgroup": "Oklahoma",
         "marker": {
          "color": "#ab63fa",
          "symbol": "circle"
         },
         "mode": "lines",
         "name": "Oklahoma",
         "showlegend": false,
         "type": "scatter",
         "xaxis": "x",
         "yaxis": "y"
        },
        {
         "hovertemplate": "State=Oregon<br>Total shot=%{x}<br>Gun safety ranking=%{y}<extra></extra>",
         "legendgroup": "Oregon",
         "marker": {
          "color": "#FFA15A",
          "symbol": "circle"
         },
         "mode": "markers",
         "name": "Oregon",
         "orientation": "v",
         "showlegend": true,
         "type": "scatter",
         "x": [
          18
         ],
         "xaxis": "x",
         "y": [
          2
         ],
         "yaxis": "y"
        },
        {
         "hovertemplate": "State=Oregon<extra></extra>",
         "legendgroup": "Oregon",
         "marker": {
          "color": "#FFA15A",
          "symbol": "circle"
         },
         "mode": "lines",
         "name": "Oregon",
         "showlegend": false,
         "type": "scatter",
         "xaxis": "x",
         "yaxis": "y"
        },
        {
         "hovertemplate": "State=Pennsylvania<br>Total shot=%{x}<br>Gun safety ranking=%{y}<extra></extra>",
         "legendgroup": "Pennsylvania",
         "marker": {
          "color": "#19d3f3",
          "symbol": "circle"
         },
         "mode": "markers",
         "name": "Pennsylvania",
         "orientation": "v",
         "showlegend": true,
         "type": "scatter",
         "x": [
          50
         ],
         "xaxis": "x",
         "y": [
          2
         ],
         "yaxis": "y"
        },
        {
         "hovertemplate": "State=Pennsylvania<extra></extra>",
         "legendgroup": "Pennsylvania",
         "marker": {
          "color": "#19d3f3",
          "symbol": "circle"
         },
         "mode": "lines",
         "name": "Pennsylvania",
         "showlegend": false,
         "type": "scatter",
         "xaxis": "x",
         "yaxis": "y"
        },
        {
         "hovertemplate": "State=South Carolina<br>Total shot=%{x}<br>Gun safety ranking=%{y}<extra></extra>",
         "legendgroup": "South Carolina",
         "marker": {
          "color": "#FF6692",
          "symbol": "circle"
         },
         "mode": "markers",
         "name": "South Carolina",
         "orientation": "v",
         "showlegend": true,
         "type": "scatter",
         "x": [
          42
         ],
         "xaxis": "x",
         "y": [
          2
         ],
         "yaxis": "y"
        },
        {
         "hovertemplate": "State=South Carolina<extra></extra>",
         "legendgroup": "South Carolina",
         "marker": {
          "color": "#FF6692",
          "symbol": "circle"
         },
         "mode": "lines",
         "name": "South Carolina",
         "showlegend": false,
         "type": "scatter",
         "xaxis": "x",
         "yaxis": "y"
        },
        {
         "hovertemplate": "State=Tennessee<br>Total shot=%{x}<br>Gun safety ranking=%{y}<extra></extra>",
         "legendgroup": "Tennessee",
         "marker": {
          "color": "#B6E880",
          "symbol": "circle"
         },
         "mode": "markers",
         "name": "Tennessee",
         "orientation": "v",
         "showlegend": true,
         "type": "scatter",
         "x": [
          27
         ],
         "xaxis": "x",
         "y": [
          0
         ],
         "yaxis": "y"
        },
        {
         "hovertemplate": "State=Tennessee<extra></extra>",
         "legendgroup": "Tennessee",
         "marker": {
          "color": "#B6E880",
          "symbol": "circle"
         },
         "mode": "lines",
         "name": "Tennessee",
         "showlegend": false,
         "type": "scatter",
         "xaxis": "x",
         "yaxis": "y"
        },
        {
         "hovertemplate": "State=Texas<br>Total shot=%{x}<br>Gun safety ranking=%{y}<extra></extra>",
         "legendgroup": "Texas",
         "marker": {
          "color": "#FF97FF",
          "symbol": "circle"
         },
         "mode": "markers",
         "name": "Texas",
         "orientation": "v",
         "showlegend": true,
         "type": "scatter",
         "x": [
          402
         ],
         "xaxis": "x",
         "y": [
          0
         ],
         "yaxis": "y"
        },
        {
         "hovertemplate": "State=Texas<extra></extra>",
         "legendgroup": "Texas",
         "marker": {
          "color": "#FF97FF",
          "symbol": "circle"
         },
         "mode": "lines",
         "name": "Texas",
         "showlegend": false,
         "type": "scatter",
         "xaxis": "x",
         "yaxis": "y"
        },
        {
         "hovertemplate": "State=Utah<br>Total shot=%{x}<br>Gun safety ranking=%{y}<extra></extra>",
         "legendgroup": "Utah",
         "marker": {
          "color": "#FECB52",
          "symbol": "circle"
         },
         "mode": "markers",
         "name": "Utah",
         "orientation": "v",
         "showlegend": true,
         "type": "scatter",
         "x": [
          16
         ],
         "xaxis": "x",
         "y": [
          0
         ],
         "yaxis": "y"
        },
        {
         "hovertemplate": "State=Utah<extra></extra>",
         "legendgroup": "Utah",
         "marker": {
          "color": "#FECB52",
          "symbol": "circle"
         },
         "mode": "lines",
         "name": "Utah",
         "showlegend": false,
         "type": "scatter",
         "xaxis": "x",
         "yaxis": "y"
        },
        {
         "hovertemplate": "State=Virginia<br>Total shot=%{x}<br>Gun safety ranking=%{y}<extra></extra>",
         "legendgroup": "Virginia",
         "marker": {
          "color": "#636efa",
          "symbol": "circle"
         },
         "mode": "markers",
         "name": "Virginia",
         "orientation": "v",
         "showlegend": true,
         "type": "scatter",
         "x": [
          63
         ],
         "xaxis": "x",
         "y": [
          3
         ],
         "yaxis": "y"
        },
        {
         "hovertemplate": "State=Virginia<extra></extra>",
         "legendgroup": "Virginia",
         "marker": {
          "color": "#636efa",
          "symbol": "circle"
         },
         "mode": "lines",
         "name": "Virginia",
         "showlegend": false,
         "type": "scatter",
         "xaxis": "x",
         "yaxis": "y"
        },
        {
         "hovertemplate": "State=Washington<br>Total shot=%{x}<br>Gun safety ranking=%{y}<extra></extra>",
         "legendgroup": "Washington",
         "marker": {
          "color": "#EF553B",
          "symbol": "circle"
         },
         "mode": "markers",
         "name": "Washington",
         "orientation": "v",
         "showlegend": true,
         "type": "scatter",
         "x": [
          48
         ],
         "xaxis": "x",
         "y": [
          5
         ],
         "yaxis": "y"
        },
        {
         "hovertemplate": "State=Washington<extra></extra>",
         "legendgroup": "Washington",
         "marker": {
          "color": "#EF553B",
          "symbol": "circle"
         },
         "mode": "lines",
         "name": "Washington",
         "showlegend": false,
         "type": "scatter",
         "xaxis": "x",
         "yaxis": "y"
        },
        {
         "hovertemplate": "State=West Virginia<br>Total shot=%{x}<br>Gun safety ranking=%{y}<extra></extra>",
         "legendgroup": "West Virginia",
         "marker": {
          "color": "#00cc96",
          "symbol": "circle"
         },
         "mode": "markers",
         "name": "West Virginia",
         "orientation": "v",
         "showlegend": true,
         "type": "scatter",
         "x": [
          22
         ],
         "xaxis": "x",
         "y": [
          0
         ],
         "yaxis": "y"
        },
        {
         "hovertemplate": "State=West Virginia<extra></extra>",
         "legendgroup": "West Virginia",
         "marker": {
          "color": "#00cc96",
          "symbol": "circle"
         },
         "mode": "lines",
         "name": "West Virginia",
         "showlegend": false,
         "type": "scatter",
         "xaxis": "x",
         "yaxis": "y"
        },
        {
         "hovertemplate": "State=Wisconsin<br>Total shot=%{x}<br>Gun safety ranking=%{y}<extra></extra>",
         "legendgroup": "Wisconsin",
         "marker": {
          "color": "#ab63fa",
          "symbol": "circle"
         },
         "mode": "markers",
         "name": "Wisconsin",
         "orientation": "v",
         "showlegend": true,
         "type": "scatter",
         "x": [
          40
         ],
         "xaxis": "x",
         "y": [
          2
         ],
         "yaxis": "y"
        },
        {
         "hovertemplate": "State=Wisconsin<extra></extra>",
         "legendgroup": "Wisconsin",
         "marker": {
          "color": "#ab63fa",
          "symbol": "circle"
         },
         "mode": "lines",
         "name": "Wisconsin",
         "showlegend": false,
         "type": "scatter",
         "xaxis": "x",
         "yaxis": "y"
        }
       ],
       "layout": {
        "legend": {
         "title": {
          "text": "State"
         },
         "tracegroupgap": 0
        },
        "margin": {
         "t": 60
        },
        "template": {
         "data": {
          "bar": [
           {
            "error_x": {
             "color": "#2a3f5f"
            },
            "error_y": {
             "color": "#2a3f5f"
            },
            "marker": {
             "line": {
              "color": "#E5ECF6",
              "width": 0.5
             },
             "pattern": {
              "fillmode": "overlay",
              "size": 10,
              "solidity": 0.2
             }
            },
            "type": "bar"
           }
          ],
          "barpolar": [
           {
            "marker": {
             "line": {
              "color": "#E5ECF6",
              "width": 0.5
             },
             "pattern": {
              "fillmode": "overlay",
              "size": 10,
              "solidity": 0.2
             }
            },
            "type": "barpolar"
           }
          ],
          "carpet": [
           {
            "aaxis": {
             "endlinecolor": "#2a3f5f",
             "gridcolor": "white",
             "linecolor": "white",
             "minorgridcolor": "white",
             "startlinecolor": "#2a3f5f"
            },
            "baxis": {
             "endlinecolor": "#2a3f5f",
             "gridcolor": "white",
             "linecolor": "white",
             "minorgridcolor": "white",
             "startlinecolor": "#2a3f5f"
            },
            "type": "carpet"
           }
          ],
          "choropleth": [
           {
            "colorbar": {
             "outlinewidth": 0,
             "ticks": ""
            },
            "type": "choropleth"
           }
          ],
          "contour": [
           {
            "colorbar": {
             "outlinewidth": 0,
             "ticks": ""
            },
            "colorscale": [
             [
              0,
              "#0d0887"
             ],
             [
              0.1111111111111111,
              "#46039f"
             ],
             [
              0.2222222222222222,
              "#7201a8"
             ],
             [
              0.3333333333333333,
              "#9c179e"
             ],
             [
              0.4444444444444444,
              "#bd3786"
             ],
             [
              0.5555555555555556,
              "#d8576b"
             ],
             [
              0.6666666666666666,
              "#ed7953"
             ],
             [
              0.7777777777777778,
              "#fb9f3a"
             ],
             [
              0.8888888888888888,
              "#fdca26"
             ],
             [
              1,
              "#f0f921"
             ]
            ],
            "type": "contour"
           }
          ],
          "contourcarpet": [
           {
            "colorbar": {
             "outlinewidth": 0,
             "ticks": ""
            },
            "type": "contourcarpet"
           }
          ],
          "heatmap": [
           {
            "colorbar": {
             "outlinewidth": 0,
             "ticks": ""
            },
            "colorscale": [
             [
              0,
              "#0d0887"
             ],
             [
              0.1111111111111111,
              "#46039f"
             ],
             [
              0.2222222222222222,
              "#7201a8"
             ],
             [
              0.3333333333333333,
              "#9c179e"
             ],
             [
              0.4444444444444444,
              "#bd3786"
             ],
             [
              0.5555555555555556,
              "#d8576b"
             ],
             [
              0.6666666666666666,
              "#ed7953"
             ],
             [
              0.7777777777777778,
              "#fb9f3a"
             ],
             [
              0.8888888888888888,
              "#fdca26"
             ],
             [
              1,
              "#f0f921"
             ]
            ],
            "type": "heatmap"
           }
          ],
          "heatmapgl": [
           {
            "colorbar": {
             "outlinewidth": 0,
             "ticks": ""
            },
            "colorscale": [
             [
              0,
              "#0d0887"
             ],
             [
              0.1111111111111111,
              "#46039f"
             ],
             [
              0.2222222222222222,
              "#7201a8"
             ],
             [
              0.3333333333333333,
              "#9c179e"
             ],
             [
              0.4444444444444444,
              "#bd3786"
             ],
             [
              0.5555555555555556,
              "#d8576b"
             ],
             [
              0.6666666666666666,
              "#ed7953"
             ],
             [
              0.7777777777777778,
              "#fb9f3a"
             ],
             [
              0.8888888888888888,
              "#fdca26"
             ],
             [
              1,
              "#f0f921"
             ]
            ],
            "type": "heatmapgl"
           }
          ],
          "histogram": [
           {
            "marker": {
             "pattern": {
              "fillmode": "overlay",
              "size": 10,
              "solidity": 0.2
             }
            },
            "type": "histogram"
           }
          ],
          "histogram2d": [
           {
            "colorbar": {
             "outlinewidth": 0,
             "ticks": ""
            },
            "colorscale": [
             [
              0,
              "#0d0887"
             ],
             [
              0.1111111111111111,
              "#46039f"
             ],
             [
              0.2222222222222222,
              "#7201a8"
             ],
             [
              0.3333333333333333,
              "#9c179e"
             ],
             [
              0.4444444444444444,
              "#bd3786"
             ],
             [
              0.5555555555555556,
              "#d8576b"
             ],
             [
              0.6666666666666666,
              "#ed7953"
             ],
             [
              0.7777777777777778,
              "#fb9f3a"
             ],
             [
              0.8888888888888888,
              "#fdca26"
             ],
             [
              1,
              "#f0f921"
             ]
            ],
            "type": "histogram2d"
           }
          ],
          "histogram2dcontour": [
           {
            "colorbar": {
             "outlinewidth": 0,
             "ticks": ""
            },
            "colorscale": [
             [
              0,
              "#0d0887"
             ],
             [
              0.1111111111111111,
              "#46039f"
             ],
             [
              0.2222222222222222,
              "#7201a8"
             ],
             [
              0.3333333333333333,
              "#9c179e"
             ],
             [
              0.4444444444444444,
              "#bd3786"
             ],
             [
              0.5555555555555556,
              "#d8576b"
             ],
             [
              0.6666666666666666,
              "#ed7953"
             ],
             [
              0.7777777777777778,
              "#fb9f3a"
             ],
             [
              0.8888888888888888,
              "#fdca26"
             ],
             [
              1,
              "#f0f921"
             ]
            ],
            "type": "histogram2dcontour"
           }
          ],
          "mesh3d": [
           {
            "colorbar": {
             "outlinewidth": 0,
             "ticks": ""
            },
            "type": "mesh3d"
           }
          ],
          "parcoords": [
           {
            "line": {
             "colorbar": {
              "outlinewidth": 0,
              "ticks": ""
             }
            },
            "type": "parcoords"
           }
          ],
          "pie": [
           {
            "automargin": true,
            "type": "pie"
           }
          ],
          "scatter": [
           {
            "fillpattern": {
             "fillmode": "overlay",
             "size": 10,
             "solidity": 0.2
            },
            "type": "scatter"
           }
          ],
          "scatter3d": [
           {
            "line": {
             "colorbar": {
              "outlinewidth": 0,
              "ticks": ""
             }
            },
            "marker": {
             "colorbar": {
              "outlinewidth": 0,
              "ticks": ""
             }
            },
            "type": "scatter3d"
           }
          ],
          "scattercarpet": [
           {
            "marker": {
             "colorbar": {
              "outlinewidth": 0,
              "ticks": ""
             }
            },
            "type": "scattercarpet"
           }
          ],
          "scattergeo": [
           {
            "marker": {
             "colorbar": {
              "outlinewidth": 0,
              "ticks": ""
             }
            },
            "type": "scattergeo"
           }
          ],
          "scattergl": [
           {
            "marker": {
             "colorbar": {
              "outlinewidth": 0,
              "ticks": ""
             }
            },
            "type": "scattergl"
           }
          ],
          "scattermapbox": [
           {
            "marker": {
             "colorbar": {
              "outlinewidth": 0,
              "ticks": ""
             }
            },
            "type": "scattermapbox"
           }
          ],
          "scatterpolar": [
           {
            "marker": {
             "colorbar": {
              "outlinewidth": 0,
              "ticks": ""
             }
            },
            "type": "scatterpolar"
           }
          ],
          "scatterpolargl": [
           {
            "marker": {
             "colorbar": {
              "outlinewidth": 0,
              "ticks": ""
             }
            },
            "type": "scatterpolargl"
           }
          ],
          "scatterternary": [
           {
            "marker": {
             "colorbar": {
              "outlinewidth": 0,
              "ticks": ""
             }
            },
            "type": "scatterternary"
           }
          ],
          "surface": [
           {
            "colorbar": {
             "outlinewidth": 0,
             "ticks": ""
            },
            "colorscale": [
             [
              0,
              "#0d0887"
             ],
             [
              0.1111111111111111,
              "#46039f"
             ],
             [
              0.2222222222222222,
              "#7201a8"
             ],
             [
              0.3333333333333333,
              "#9c179e"
             ],
             [
              0.4444444444444444,
              "#bd3786"
             ],
             [
              0.5555555555555556,
              "#d8576b"
             ],
             [
              0.6666666666666666,
              "#ed7953"
             ],
             [
              0.7777777777777778,
              "#fb9f3a"
             ],
             [
              0.8888888888888888,
              "#fdca26"
             ],
             [
              1,
              "#f0f921"
             ]
            ],
            "type": "surface"
           }
          ],
          "table": [
           {
            "cells": {
             "fill": {
              "color": "#EBF0F8"
             },
             "line": {
              "color": "white"
             }
            },
            "header": {
             "fill": {
              "color": "#C8D4E3"
             },
             "line": {
              "color": "white"
             }
            },
            "type": "table"
           }
          ]
         },
         "layout": {
          "annotationdefaults": {
           "arrowcolor": "#2a3f5f",
           "arrowhead": 0,
           "arrowwidth": 1
          },
          "autotypenumbers": "strict",
          "coloraxis": {
           "colorbar": {
            "outlinewidth": 0,
            "ticks": ""
           }
          },
          "colorscale": {
           "diverging": [
            [
             0,
             "#8e0152"
            ],
            [
             0.1,
             "#c51b7d"
            ],
            [
             0.2,
             "#de77ae"
            ],
            [
             0.3,
             "#f1b6da"
            ],
            [
             0.4,
             "#fde0ef"
            ],
            [
             0.5,
             "#f7f7f7"
            ],
            [
             0.6,
             "#e6f5d0"
            ],
            [
             0.7,
             "#b8e186"
            ],
            [
             0.8,
             "#7fbc41"
            ],
            [
             0.9,
             "#4d9221"
            ],
            [
             1,
             "#276419"
            ]
           ],
           "sequential": [
            [
             0,
             "#0d0887"
            ],
            [
             0.1111111111111111,
             "#46039f"
            ],
            [
             0.2222222222222222,
             "#7201a8"
            ],
            [
             0.3333333333333333,
             "#9c179e"
            ],
            [
             0.4444444444444444,
             "#bd3786"
            ],
            [
             0.5555555555555556,
             "#d8576b"
            ],
            [
             0.6666666666666666,
             "#ed7953"
            ],
            [
             0.7777777777777778,
             "#fb9f3a"
            ],
            [
             0.8888888888888888,
             "#fdca26"
            ],
            [
             1,
             "#f0f921"
            ]
           ],
           "sequentialminus": [
            [
             0,
             "#0d0887"
            ],
            [
             0.1111111111111111,
             "#46039f"
            ],
            [
             0.2222222222222222,
             "#7201a8"
            ],
            [
             0.3333333333333333,
             "#9c179e"
            ],
            [
             0.4444444444444444,
             "#bd3786"
            ],
            [
             0.5555555555555556,
             "#d8576b"
            ],
            [
             0.6666666666666666,
             "#ed7953"
            ],
            [
             0.7777777777777778,
             "#fb9f3a"
            ],
            [
             0.8888888888888888,
             "#fdca26"
            ],
            [
             1,
             "#f0f921"
            ]
           ]
          },
          "colorway": [
           "#636efa",
           "#EF553B",
           "#00cc96",
           "#ab63fa",
           "#FFA15A",
           "#19d3f3",
           "#FF6692",
           "#B6E880",
           "#FF97FF",
           "#FECB52"
          ],
          "font": {
           "color": "#2a3f5f"
          },
          "geo": {
           "bgcolor": "white",
           "lakecolor": "white",
           "landcolor": "#E5ECF6",
           "showlakes": true,
           "showland": true,
           "subunitcolor": "white"
          },
          "hoverlabel": {
           "align": "left"
          },
          "hovermode": "closest",
          "mapbox": {
           "style": "light"
          },
          "paper_bgcolor": "white",
          "plot_bgcolor": "#E5ECF6",
          "polar": {
           "angularaxis": {
            "gridcolor": "white",
            "linecolor": "white",
            "ticks": ""
           },
           "bgcolor": "#E5ECF6",
           "radialaxis": {
            "gridcolor": "white",
            "linecolor": "white",
            "ticks": ""
           }
          },
          "scene": {
           "xaxis": {
            "backgroundcolor": "#E5ECF6",
            "gridcolor": "white",
            "gridwidth": 2,
            "linecolor": "white",
            "showbackground": true,
            "ticks": "",
            "zerolinecolor": "white"
           },
           "yaxis": {
            "backgroundcolor": "#E5ECF6",
            "gridcolor": "white",
            "gridwidth": 2,
            "linecolor": "white",
            "showbackground": true,
            "ticks": "",
            "zerolinecolor": "white"
           },
           "zaxis": {
            "backgroundcolor": "#E5ECF6",
            "gridcolor": "white",
            "gridwidth": 2,
            "linecolor": "white",
            "showbackground": true,
            "ticks": "",
            "zerolinecolor": "white"
           }
          },
          "shapedefaults": {
           "line": {
            "color": "#2a3f5f"
           }
          },
          "ternary": {
           "aaxis": {
            "gridcolor": "white",
            "linecolor": "white",
            "ticks": ""
           },
           "baxis": {
            "gridcolor": "white",
            "linecolor": "white",
            "ticks": ""
           },
           "bgcolor": "#E5ECF6",
           "caxis": {
            "gridcolor": "white",
            "linecolor": "white",
            "ticks": ""
           }
          },
          "title": {
           "x": 0.05
          },
          "xaxis": {
           "automargin": true,
           "gridcolor": "white",
           "linecolor": "white",
           "ticks": "",
           "title": {
            "standoff": 15
           },
           "zerolinecolor": "white",
           "zerolinewidth": 2
          },
          "yaxis": {
           "automargin": true,
           "gridcolor": "white",
           "linecolor": "white",
           "ticks": "",
           "title": {
            "standoff": 15
           },
           "zerolinecolor": "white",
           "zerolinewidth": 2
          }
         }
        },
        "xaxis": {
         "anchor": "y",
         "domain": [
          0,
          1
         ],
         "title": {
          "text": "Total shot"
         }
        },
        "yaxis": {
         "anchor": "x",
         "domain": [
          0,
          1
         ],
         "range": [
          -1,
          10
         ],
         "title": {
          "text": "Gun safety ranking"
         }
        }
       }
      },
      "text/html": [
       "<div>                            <div id=\"e993a8b9-a82d-4d17-9442-5302eece0a24\" class=\"plotly-graph-div\" style=\"height:525px; width:100%;\"></div>            <script type=\"text/javascript\">                require([\"plotly\"], function(Plotly) {                    window.PLOTLYENV=window.PLOTLYENV || {};                                    if (document.getElementById(\"e993a8b9-a82d-4d17-9442-5302eece0a24\")) {                    Plotly.newPlot(                        \"e993a8b9-a82d-4d17-9442-5302eece0a24\",                        [{\"hovertemplate\":\"State=Alabama<br>Total shot=%{x}<br>Gun safety ranking=%{y}<extra></extra>\",\"legendgroup\":\"Alabama\",\"marker\":{\"color\":\"#636efa\",\"symbol\":\"circle\"},\"mode\":\"markers\",\"name\":\"Alabama\",\"orientation\":\"v\",\"showlegend\":true,\"x\":[35.0],\"xaxis\":\"x\",\"y\":[0.0],\"yaxis\":\"y\",\"type\":\"scatter\"},{\"hovertemplate\":\"State=Alabama<extra></extra>\",\"legendgroup\":\"Alabama\",\"marker\":{\"color\":\"#636efa\",\"symbol\":\"circle\"},\"mode\":\"lines\",\"name\":\"Alabama\",\"showlegend\":false,\"xaxis\":\"x\",\"yaxis\":\"y\",\"type\":\"scatter\"},{\"hovertemplate\":\"State=Arizona<br>Total shot=%{x}<br>Gun safety ranking=%{y}<extra></extra>\",\"legendgroup\":\"Arizona\",\"marker\":{\"color\":\"#EF553B\",\"symbol\":\"circle\"},\"mode\":\"markers\",\"name\":\"Arizona\",\"orientation\":\"v\",\"showlegend\":true,\"x\":[54.0],\"xaxis\":\"x\",\"y\":[0.0],\"yaxis\":\"y\",\"type\":\"scatter\"},{\"hovertemplate\":\"State=Arizona<extra></extra>\",\"legendgroup\":\"Arizona\",\"marker\":{\"color\":\"#EF553B\",\"symbol\":\"circle\"},\"mode\":\"lines\",\"name\":\"Arizona\",\"showlegend\":false,\"xaxis\":\"x\",\"yaxis\":\"y\",\"type\":\"scatter\"},{\"hovertemplate\":\"State=Arkansas<br>Total shot=%{x}<br>Gun safety ranking=%{y}<extra></extra>\",\"legendgroup\":\"Arkansas\",\"marker\":{\"color\":\"#00cc96\",\"symbol\":\"circle\"},\"mode\":\"markers\",\"name\":\"Arkansas\",\"orientation\":\"v\",\"showlegend\":true,\"x\":[13.0],\"xaxis\":\"x\",\"y\":[0.0],\"yaxis\":\"y\",\"type\":\"scatter\"},{\"hovertemplate\":\"State=Arkansas<extra></extra>\",\"legendgroup\":\"Arkansas\",\"marker\":{\"color\":\"#00cc96\",\"symbol\":\"circle\"},\"mode\":\"lines\",\"name\":\"Arkansas\",\"showlegend\":false,\"xaxis\":\"x\",\"yaxis\":\"y\",\"type\":\"scatter\"},{\"hovertemplate\":\"State=California<br>Total shot=%{x}<br>Gun safety ranking=%{y}<extra></extra>\",\"legendgroup\":\"California\",\"marker\":{\"color\":\"#ab63fa\",\"symbol\":\"circle\"},\"mode\":\"markers\",\"name\":\"California\",\"orientation\":\"v\",\"showlegend\":true,\"x\":[273.0],\"xaxis\":\"x\",\"y\":[7.5],\"yaxis\":\"y\",\"type\":\"scatter\"},{\"hovertemplate\":\"State=California<extra></extra>\",\"legendgroup\":\"California\",\"marker\":{\"color\":\"#ab63fa\",\"symbol\":\"circle\"},\"mode\":\"lines\",\"name\":\"California\",\"showlegend\":false,\"xaxis\":\"x\",\"yaxis\":\"y\",\"type\":\"scatter\"},{\"hovertemplate\":\"State=Colorado<br>Total shot=%{x}<br>Gun safety ranking=%{y}<extra></extra>\",\"legendgroup\":\"Colorado\",\"marker\":{\"color\":\"#FFA15A\",\"symbol\":\"circle\"},\"mode\":\"markers\",\"name\":\"Colorado\",\"orientation\":\"v\",\"showlegend\":true,\"x\":[131.0],\"xaxis\":\"x\",\"y\":[3.0],\"yaxis\":\"y\",\"type\":\"scatter\"},{\"hovertemplate\":\"State=Colorado<extra></extra>\",\"legendgroup\":\"Colorado\",\"marker\":{\"color\":\"#FFA15A\",\"symbol\":\"circle\"},\"mode\":\"lines\",\"name\":\"Colorado\",\"showlegend\":false,\"xaxis\":\"x\",\"yaxis\":\"y\",\"type\":\"scatter\"},{\"hovertemplate\":\"State=Connecticut<br>Total shot=%{x}<br>Gun safety ranking=%{y}<extra></extra>\",\"legendgroup\":\"Connecticut\",\"marker\":{\"color\":\"#19d3f3\",\"symbol\":\"circle\"},\"mode\":\"markers\",\"name\":\"Connecticut\",\"orientation\":\"v\",\"showlegend\":true,\"x\":[39.0],\"xaxis\":\"x\",\"y\":[7.5],\"yaxis\":\"y\",\"type\":\"scatter\"},{\"hovertemplate\":\"State=Connecticut<extra></extra>\",\"legendgroup\":\"Connecticut\",\"marker\":{\"color\":\"#19d3f3\",\"symbol\":\"circle\"},\"mode\":\"lines\",\"name\":\"Connecticut\",\"showlegend\":false,\"xaxis\":\"x\",\"yaxis\":\"y\",\"type\":\"scatter\"},{\"hovertemplate\":\"State=District of Columbia<br>Total shot=%{x}<br>Gun safety ranking=%{y}<extra></extra>\",\"legendgroup\":\"District of Columbia\",\"marker\":{\"color\":\"#FF6692\",\"symbol\":\"circle\"},\"mode\":\"markers\",\"name\":\"District of Columbia\",\"orientation\":\"v\",\"showlegend\":true,\"x\":[25.0],\"xaxis\":\"x\",\"y\":[9.0],\"yaxis\":\"y\",\"type\":\"scatter\"},{\"hovertemplate\":\"State=District of Columbia<extra></extra>\",\"legendgroup\":\"District of Columbia\",\"marker\":{\"color\":\"#FF6692\",\"symbol\":\"circle\"},\"mode\":\"lines\",\"name\":\"District of Columbia\",\"showlegend\":false,\"xaxis\":\"x\",\"yaxis\":\"y\",\"type\":\"scatter\"},{\"hovertemplate\":\"State=Florida<br>Total shot=%{x}<br>Gun safety ranking=%{y}<extra></extra>\",\"legendgroup\":\"Florida\",\"marker\":{\"color\":\"#B6E880\",\"symbol\":\"circle\"},\"mode\":\"markers\",\"name\":\"Florida\",\"orientation\":\"v\",\"showlegend\":true,\"x\":[224.0],\"xaxis\":\"x\",\"y\":[1.0],\"yaxis\":\"y\",\"type\":\"scatter\"},{\"hovertemplate\":\"State=Florida<extra></extra>\",\"legendgroup\":\"Florida\",\"marker\":{\"color\":\"#B6E880\",\"symbol\":\"circle\"},\"mode\":\"lines\",\"name\":\"Florida\",\"showlegend\":false,\"xaxis\":\"x\",\"yaxis\":\"y\",\"type\":\"scatter\"},{\"hovertemplate\":\"State=Georgia<br>Total shot=%{x}<br>Gun safety ranking=%{y}<extra></extra>\",\"legendgroup\":\"Georgia\",\"marker\":{\"color\":\"#FF97FF\",\"symbol\":\"circle\"},\"mode\":\"markers\",\"name\":\"Georgia\",\"orientation\":\"v\",\"showlegend\":true,\"x\":[42.0],\"xaxis\":\"x\",\"y\":[0.0],\"yaxis\":\"y\",\"type\":\"scatter\"},{\"hovertemplate\":\"State=Georgia<extra></extra>\",\"legendgroup\":\"Georgia\",\"marker\":{\"color\":\"#FF97FF\",\"symbol\":\"circle\"},\"mode\":\"lines\",\"name\":\"Georgia\",\"showlegend\":false,\"xaxis\":\"x\",\"yaxis\":\"y\",\"type\":\"scatter\"},{\"hovertemplate\":\"State=Illinois<br>Total shot=%{x}<br>Gun safety ranking=%{y}<extra></extra>\",\"legendgroup\":\"Illinois\",\"marker\":{\"color\":\"#FECB52\",\"symbol\":\"circle\"},\"mode\":\"markers\",\"name\":\"Illinois\",\"orientation\":\"v\",\"showlegend\":true,\"x\":[135.0],\"xaxis\":\"x\",\"y\":[8.0],\"yaxis\":\"y\",\"type\":\"scatter\"},{\"hovertemplate\":\"State=Illinois<extra></extra>\",\"legendgroup\":\"Illinois\",\"marker\":{\"color\":\"#FECB52\",\"symbol\":\"circle\"},\"mode\":\"lines\",\"name\":\"Illinois\",\"showlegend\":false,\"xaxis\":\"x\",\"yaxis\":\"y\",\"type\":\"scatter\"},{\"hovertemplate\":\"State=Indiana<br>Total shot=%{x}<br>Gun safety ranking=%{y}<extra></extra>\",\"legendgroup\":\"Indiana\",\"marker\":{\"color\":\"#636efa\",\"symbol\":\"circle\"},\"mode\":\"markers\",\"name\":\"Indiana\",\"orientation\":\"v\",\"showlegend\":true,\"x\":[45.0],\"xaxis\":\"x\",\"y\":[0.0],\"yaxis\":\"y\",\"type\":\"scatter\"},{\"hovertemplate\":\"State=Indiana<extra></extra>\",\"legendgroup\":\"Indiana\",\"marker\":{\"color\":\"#636efa\",\"symbol\":\"circle\"},\"mode\":\"lines\",\"name\":\"Indiana\",\"showlegend\":false,\"xaxis\":\"x\",\"yaxis\":\"y\",\"type\":\"scatter\"},{\"hovertemplate\":\"State=Kansas<br>Total shot=%{x}<br>Gun safety ranking=%{y}<extra></extra>\",\"legendgroup\":\"Kansas\",\"marker\":{\"color\":\"#EF553B\",\"symbol\":\"circle\"},\"mode\":\"markers\",\"name\":\"Kansas\",\"orientation\":\"v\",\"showlegend\":true,\"x\":[30.0],\"xaxis\":\"x\",\"y\":[0.0],\"yaxis\":\"y\",\"type\":\"scatter\"},{\"hovertemplate\":\"State=Kansas<extra></extra>\",\"legendgroup\":\"Kansas\",\"marker\":{\"color\":\"#EF553B\",\"symbol\":\"circle\"},\"mode\":\"lines\",\"name\":\"Kansas\",\"showlegend\":false,\"xaxis\":\"x\",\"yaxis\":\"y\",\"type\":\"scatter\"},{\"hovertemplate\":\"State=Maryland<br>Total shot=%{x}<br>Gun safety ranking=%{y}<extra></extra>\",\"legendgroup\":\"Maryland\",\"marker\":{\"color\":\"#00cc96\",\"symbol\":\"circle\"},\"mode\":\"markers\",\"name\":\"Maryland\",\"orientation\":\"v\",\"showlegend\":true,\"x\":[24.0],\"xaxis\":\"x\",\"y\":[7.0],\"yaxis\":\"y\",\"type\":\"scatter\"},{\"hovertemplate\":\"State=Maryland<extra></extra>\",\"legendgroup\":\"Maryland\",\"marker\":{\"color\":\"#00cc96\",\"symbol\":\"circle\"},\"mode\":\"lines\",\"name\":\"Maryland\",\"showlegend\":false,\"xaxis\":\"x\",\"yaxis\":\"y\",\"type\":\"scatter\"},{\"hovertemplate\":\"State=Michigan<br>Total shot=%{x}<br>Gun safety ranking=%{y}<extra></extra>\",\"legendgroup\":\"Michigan\",\"marker\":{\"color\":\"#ab63fa\",\"symbol\":\"circle\"},\"mode\":\"markers\",\"name\":\"Michigan\",\"orientation\":\"v\",\"showlegend\":true,\"x\":[48.0],\"xaxis\":\"x\",\"y\":[4.0],\"yaxis\":\"y\",\"type\":\"scatter\"},{\"hovertemplate\":\"State=Michigan<extra></extra>\",\"legendgroup\":\"Michigan\",\"marker\":{\"color\":\"#ab63fa\",\"symbol\":\"circle\"},\"mode\":\"lines\",\"name\":\"Michigan\",\"showlegend\":false,\"xaxis\":\"x\",\"yaxis\":\"y\",\"type\":\"scatter\"},{\"hovertemplate\":\"State=Minnesota<br>Total shot=%{x}<br>Gun safety ranking=%{y}<extra></extra>\",\"legendgroup\":\"Minnesota\",\"marker\":{\"color\":\"#FFA15A\",\"symbol\":\"circle\"},\"mode\":\"markers\",\"name\":\"Minnesota\",\"orientation\":\"v\",\"showlegend\":true,\"x\":[20.0],\"xaxis\":\"x\",\"y\":[4.0],\"yaxis\":\"y\",\"type\":\"scatter\"},{\"hovertemplate\":\"State=Minnesota<extra></extra>\",\"legendgroup\":\"Minnesota\",\"marker\":{\"color\":\"#FFA15A\",\"symbol\":\"circle\"},\"mode\":\"lines\",\"name\":\"Minnesota\",\"showlegend\":false,\"xaxis\":\"x\",\"yaxis\":\"y\",\"type\":\"scatter\"},{\"hovertemplate\":\"State=Mississippi<br>Total shot=%{x}<br>Gun safety ranking=%{y}<extra></extra>\",\"legendgroup\":\"Mississippi\",\"marker\":{\"color\":\"#19d3f3\",\"symbol\":\"circle\"},\"mode\":\"markers\",\"name\":\"Mississippi\",\"orientation\":\"v\",\"showlegend\":true,\"x\":[20.0],\"xaxis\":\"x\",\"y\":[0.0],\"yaxis\":\"y\",\"type\":\"scatter\"},{\"hovertemplate\":\"State=Mississippi<extra></extra>\",\"legendgroup\":\"Mississippi\",\"marker\":{\"color\":\"#19d3f3\",\"symbol\":\"circle\"},\"mode\":\"lines\",\"name\":\"Mississippi\",\"showlegend\":false,\"xaxis\":\"x\",\"yaxis\":\"y\",\"type\":\"scatter\"},{\"hovertemplate\":\"State=Missouri<br>Total shot=%{x}<br>Gun safety ranking=%{y}<extra></extra>\",\"legendgroup\":\"Missouri\",\"marker\":{\"color\":\"#FF6692\",\"symbol\":\"circle\"},\"mode\":\"markers\",\"name\":\"Missouri\",\"orientation\":\"v\",\"showlegend\":true,\"x\":[36.0],\"xaxis\":\"x\",\"y\":[0.0],\"yaxis\":\"y\",\"type\":\"scatter\"},{\"hovertemplate\":\"State=Missouri<extra></extra>\",\"legendgroup\":\"Missouri\",\"marker\":{\"color\":\"#FF6692\",\"symbol\":\"circle\"},\"mode\":\"lines\",\"name\":\"Missouri\",\"showlegend\":false,\"xaxis\":\"x\",\"yaxis\":\"y\",\"type\":\"scatter\"},{\"hovertemplate\":\"State=Nevada<br>Total shot=%{x}<br>Gun safety ranking=%{y}<extra></extra>\",\"legendgroup\":\"Nevada\",\"marker\":{\"color\":\"#B6E880\",\"symbol\":\"circle\"},\"mode\":\"markers\",\"name\":\"Nevada\",\"orientation\":\"v\",\"showlegend\":true,\"x\":[491.0],\"xaxis\":\"x\",\"y\":[2.0],\"yaxis\":\"y\",\"type\":\"scatter\"},{\"hovertemplate\":\"State=Nevada<extra></extra>\",\"legendgroup\":\"Nevada\",\"marker\":{\"color\":\"#B6E880\",\"symbol\":\"circle\"},\"mode\":\"lines\",\"name\":\"Nevada\",\"showlegend\":false,\"xaxis\":\"x\",\"yaxis\":\"y\",\"type\":\"scatter\"},{\"hovertemplate\":\"State=New Jersey<br>Total shot=%{x}<br>Gun safety ranking=%{y}<extra></extra>\",\"legendgroup\":\"New Jersey\",\"marker\":{\"color\":\"#FF97FF\",\"symbol\":\"circle\"},\"mode\":\"markers\",\"name\":\"New Jersey\",\"orientation\":\"v\",\"showlegend\":true,\"x\":[18.0],\"xaxis\":\"x\",\"y\":[8.0],\"yaxis\":\"y\",\"type\":\"scatter\"},{\"hovertemplate\":\"State=New Jersey<extra></extra>\",\"legendgroup\":\"New Jersey\",\"marker\":{\"color\":\"#FF97FF\",\"symbol\":\"circle\"},\"mode\":\"lines\",\"name\":\"New Jersey\",\"showlegend\":false,\"xaxis\":\"x\",\"yaxis\":\"y\",\"type\":\"scatter\"},{\"hovertemplate\":\"State=New Mexico<br>Total shot=%{x}<br>Gun safety ranking=%{y}<extra></extra>\",\"legendgroup\":\"New Mexico\",\"marker\":{\"color\":\"#FECB52\",\"symbol\":\"circle\"},\"mode\":\"markers\",\"name\":\"New Mexico\",\"orientation\":\"v\",\"showlegend\":true,\"x\":[21.0],\"xaxis\":\"x\",\"y\":[2.0],\"yaxis\":\"y\",\"type\":\"scatter\"},{\"hovertemplate\":\"State=New Mexico<extra></extra>\",\"legendgroup\":\"New Mexico\",\"marker\":{\"color\":\"#FECB52\",\"symbol\":\"circle\"},\"mode\":\"lines\",\"name\":\"New Mexico\",\"showlegend\":false,\"xaxis\":\"x\",\"yaxis\":\"y\",\"type\":\"scatter\"},{\"hovertemplate\":\"State=New York<br>Total shot=%{x}<br>Gun safety ranking=%{y}<extra></extra>\",\"legendgroup\":\"New York\",\"marker\":{\"color\":\"#636efa\",\"symbol\":\"circle\"},\"mode\":\"markers\",\"name\":\"New York\",\"orientation\":\"v\",\"showlegend\":true,\"x\":[53.0],\"xaxis\":\"x\",\"y\":[9.0],\"yaxis\":\"y\",\"type\":\"scatter\"},{\"hovertemplate\":\"State=New York<extra></extra>\",\"legendgroup\":\"New York\",\"marker\":{\"color\":\"#636efa\",\"symbol\":\"circle\"},\"mode\":\"lines\",\"name\":\"New York\",\"showlegend\":false,\"xaxis\":\"x\",\"yaxis\":\"y\",\"type\":\"scatter\"},{\"hovertemplate\":\"State=North Carolina<br>Total shot=%{x}<br>Gun safety ranking=%{y}<extra></extra>\",\"legendgroup\":\"North Carolina\",\"marker\":{\"color\":\"#EF553B\",\"symbol\":\"circle\"},\"mode\":\"markers\",\"name\":\"North Carolina\",\"orientation\":\"v\",\"showlegend\":true,\"x\":[54.0],\"xaxis\":\"x\",\"y\":[3.0],\"yaxis\":\"y\",\"type\":\"scatter\"},{\"hovertemplate\":\"State=North Carolina<extra></extra>\",\"legendgroup\":\"North Carolina\",\"marker\":{\"color\":\"#EF553B\",\"symbol\":\"circle\"},\"mode\":\"lines\",\"name\":\"North Carolina\",\"showlegend\":false,\"xaxis\":\"x\",\"yaxis\":\"y\",\"type\":\"scatter\"},{\"hovertemplate\":\"State=Ohio<br>Total shot=%{x}<br>Gun safety ranking=%{y}<extra></extra>\",\"legendgroup\":\"Ohio\",\"marker\":{\"color\":\"#00cc96\",\"symbol\":\"circle\"},\"mode\":\"markers\",\"name\":\"Ohio\",\"orientation\":\"v\",\"showlegend\":true,\"x\":[95.0],\"xaxis\":\"x\",\"y\":[0.0],\"yaxis\":\"y\",\"type\":\"scatter\"},{\"hovertemplate\":\"State=Ohio<extra></extra>\",\"legendgroup\":\"Ohio\",\"marker\":{\"color\":\"#00cc96\",\"symbol\":\"circle\"},\"mode\":\"lines\",\"name\":\"Ohio\",\"showlegend\":false,\"xaxis\":\"x\",\"yaxis\":\"y\",\"type\":\"scatter\"},{\"hovertemplate\":\"State=Oklahoma<br>Total shot=%{x}<br>Gun safety ranking=%{y}<extra></extra>\",\"legendgroup\":\"Oklahoma\",\"marker\":{\"color\":\"#ab63fa\",\"symbol\":\"circle\"},\"mode\":\"markers\",\"name\":\"Oklahoma\",\"orientation\":\"v\",\"showlegend\":true,\"x\":[37.0],\"xaxis\":\"x\",\"y\":[0.0],\"yaxis\":\"y\",\"type\":\"scatter\"},{\"hovertemplate\":\"State=Oklahoma<extra></extra>\",\"legendgroup\":\"Oklahoma\",\"marker\":{\"color\":\"#ab63fa\",\"symbol\":\"circle\"},\"mode\":\"lines\",\"name\":\"Oklahoma\",\"showlegend\":false,\"xaxis\":\"x\",\"yaxis\":\"y\",\"type\":\"scatter\"},{\"hovertemplate\":\"State=Oregon<br>Total shot=%{x}<br>Gun safety ranking=%{y}<extra></extra>\",\"legendgroup\":\"Oregon\",\"marker\":{\"color\":\"#FFA15A\",\"symbol\":\"circle\"},\"mode\":\"markers\",\"name\":\"Oregon\",\"orientation\":\"v\",\"showlegend\":true,\"x\":[18.0],\"xaxis\":\"x\",\"y\":[2.0],\"yaxis\":\"y\",\"type\":\"scatter\"},{\"hovertemplate\":\"State=Oregon<extra></extra>\",\"legendgroup\":\"Oregon\",\"marker\":{\"color\":\"#FFA15A\",\"symbol\":\"circle\"},\"mode\":\"lines\",\"name\":\"Oregon\",\"showlegend\":false,\"xaxis\":\"x\",\"yaxis\":\"y\",\"type\":\"scatter\"},{\"hovertemplate\":\"State=Pennsylvania<br>Total shot=%{x}<br>Gun safety ranking=%{y}<extra></extra>\",\"legendgroup\":\"Pennsylvania\",\"marker\":{\"color\":\"#19d3f3\",\"symbol\":\"circle\"},\"mode\":\"markers\",\"name\":\"Pennsylvania\",\"orientation\":\"v\",\"showlegend\":true,\"x\":[50.0],\"xaxis\":\"x\",\"y\":[2.0],\"yaxis\":\"y\",\"type\":\"scatter\"},{\"hovertemplate\":\"State=Pennsylvania<extra></extra>\",\"legendgroup\":\"Pennsylvania\",\"marker\":{\"color\":\"#19d3f3\",\"symbol\":\"circle\"},\"mode\":\"lines\",\"name\":\"Pennsylvania\",\"showlegend\":false,\"xaxis\":\"x\",\"yaxis\":\"y\",\"type\":\"scatter\"},{\"hovertemplate\":\"State=South Carolina<br>Total shot=%{x}<br>Gun safety ranking=%{y}<extra></extra>\",\"legendgroup\":\"South Carolina\",\"marker\":{\"color\":\"#FF6692\",\"symbol\":\"circle\"},\"mode\":\"markers\",\"name\":\"South Carolina\",\"orientation\":\"v\",\"showlegend\":true,\"x\":[42.0],\"xaxis\":\"x\",\"y\":[2.0],\"yaxis\":\"y\",\"type\":\"scatter\"},{\"hovertemplate\":\"State=South Carolina<extra></extra>\",\"legendgroup\":\"South Carolina\",\"marker\":{\"color\":\"#FF6692\",\"symbol\":\"circle\"},\"mode\":\"lines\",\"name\":\"South Carolina\",\"showlegend\":false,\"xaxis\":\"x\",\"yaxis\":\"y\",\"type\":\"scatter\"},{\"hovertemplate\":\"State=Tennessee<br>Total shot=%{x}<br>Gun safety ranking=%{y}<extra></extra>\",\"legendgroup\":\"Tennessee\",\"marker\":{\"color\":\"#B6E880\",\"symbol\":\"circle\"},\"mode\":\"markers\",\"name\":\"Tennessee\",\"orientation\":\"v\",\"showlegend\":true,\"x\":[27.0],\"xaxis\":\"x\",\"y\":[0.0],\"yaxis\":\"y\",\"type\":\"scatter\"},{\"hovertemplate\":\"State=Tennessee<extra></extra>\",\"legendgroup\":\"Tennessee\",\"marker\":{\"color\":\"#B6E880\",\"symbol\":\"circle\"},\"mode\":\"lines\",\"name\":\"Tennessee\",\"showlegend\":false,\"xaxis\":\"x\",\"yaxis\":\"y\",\"type\":\"scatter\"},{\"hovertemplate\":\"State=Texas<br>Total shot=%{x}<br>Gun safety ranking=%{y}<extra></extra>\",\"legendgroup\":\"Texas\",\"marker\":{\"color\":\"#FF97FF\",\"symbol\":\"circle\"},\"mode\":\"markers\",\"name\":\"Texas\",\"orientation\":\"v\",\"showlegend\":true,\"x\":[402.0],\"xaxis\":\"x\",\"y\":[0.0],\"yaxis\":\"y\",\"type\":\"scatter\"},{\"hovertemplate\":\"State=Texas<extra></extra>\",\"legendgroup\":\"Texas\",\"marker\":{\"color\":\"#FF97FF\",\"symbol\":\"circle\"},\"mode\":\"lines\",\"name\":\"Texas\",\"showlegend\":false,\"xaxis\":\"x\",\"yaxis\":\"y\",\"type\":\"scatter\"},{\"hovertemplate\":\"State=Utah<br>Total shot=%{x}<br>Gun safety ranking=%{y}<extra></extra>\",\"legendgroup\":\"Utah\",\"marker\":{\"color\":\"#FECB52\",\"symbol\":\"circle\"},\"mode\":\"markers\",\"name\":\"Utah\",\"orientation\":\"v\",\"showlegend\":true,\"x\":[16.0],\"xaxis\":\"x\",\"y\":[0.0],\"yaxis\":\"y\",\"type\":\"scatter\"},{\"hovertemplate\":\"State=Utah<extra></extra>\",\"legendgroup\":\"Utah\",\"marker\":{\"color\":\"#FECB52\",\"symbol\":\"circle\"},\"mode\":\"lines\",\"name\":\"Utah\",\"showlegend\":false,\"xaxis\":\"x\",\"yaxis\":\"y\",\"type\":\"scatter\"},{\"hovertemplate\":\"State=Virginia<br>Total shot=%{x}<br>Gun safety ranking=%{y}<extra></extra>\",\"legendgroup\":\"Virginia\",\"marker\":{\"color\":\"#636efa\",\"symbol\":\"circle\"},\"mode\":\"markers\",\"name\":\"Virginia\",\"orientation\":\"v\",\"showlegend\":true,\"x\":[63.0],\"xaxis\":\"x\",\"y\":[3.0],\"yaxis\":\"y\",\"type\":\"scatter\"},{\"hovertemplate\":\"State=Virginia<extra></extra>\",\"legendgroup\":\"Virginia\",\"marker\":{\"color\":\"#636efa\",\"symbol\":\"circle\"},\"mode\":\"lines\",\"name\":\"Virginia\",\"showlegend\":false,\"xaxis\":\"x\",\"yaxis\":\"y\",\"type\":\"scatter\"},{\"hovertemplate\":\"State=Washington<br>Total shot=%{x}<br>Gun safety ranking=%{y}<extra></extra>\",\"legendgroup\":\"Washington\",\"marker\":{\"color\":\"#EF553B\",\"symbol\":\"circle\"},\"mode\":\"markers\",\"name\":\"Washington\",\"orientation\":\"v\",\"showlegend\":true,\"x\":[48.0],\"xaxis\":\"x\",\"y\":[5.0],\"yaxis\":\"y\",\"type\":\"scatter\"},{\"hovertemplate\":\"State=Washington<extra></extra>\",\"legendgroup\":\"Washington\",\"marker\":{\"color\":\"#EF553B\",\"symbol\":\"circle\"},\"mode\":\"lines\",\"name\":\"Washington\",\"showlegend\":false,\"xaxis\":\"x\",\"yaxis\":\"y\",\"type\":\"scatter\"},{\"hovertemplate\":\"State=West Virginia<br>Total shot=%{x}<br>Gun safety ranking=%{y}<extra></extra>\",\"legendgroup\":\"West Virginia\",\"marker\":{\"color\":\"#00cc96\",\"symbol\":\"circle\"},\"mode\":\"markers\",\"name\":\"West Virginia\",\"orientation\":\"v\",\"showlegend\":true,\"x\":[22.0],\"xaxis\":\"x\",\"y\":[0.0],\"yaxis\":\"y\",\"type\":\"scatter\"},{\"hovertemplate\":\"State=West Virginia<extra></extra>\",\"legendgroup\":\"West Virginia\",\"marker\":{\"color\":\"#00cc96\",\"symbol\":\"circle\"},\"mode\":\"lines\",\"name\":\"West Virginia\",\"showlegend\":false,\"xaxis\":\"x\",\"yaxis\":\"y\",\"type\":\"scatter\"},{\"hovertemplate\":\"State=Wisconsin<br>Total shot=%{x}<br>Gun safety ranking=%{y}<extra></extra>\",\"legendgroup\":\"Wisconsin\",\"marker\":{\"color\":\"#ab63fa\",\"symbol\":\"circle\"},\"mode\":\"markers\",\"name\":\"Wisconsin\",\"orientation\":\"v\",\"showlegend\":true,\"x\":[40.0],\"xaxis\":\"x\",\"y\":[2.0],\"yaxis\":\"y\",\"type\":\"scatter\"},{\"hovertemplate\":\"State=Wisconsin<extra></extra>\",\"legendgroup\":\"Wisconsin\",\"marker\":{\"color\":\"#ab63fa\",\"symbol\":\"circle\"},\"mode\":\"lines\",\"name\":\"Wisconsin\",\"showlegend\":false,\"xaxis\":\"x\",\"yaxis\":\"y\",\"type\":\"scatter\"}],                        {\"template\":{\"data\":{\"histogram2dcontour\":[{\"type\":\"histogram2dcontour\",\"colorbar\":{\"outlinewidth\":0,\"ticks\":\"\"},\"colorscale\":[[0.0,\"#0d0887\"],[0.1111111111111111,\"#46039f\"],[0.2222222222222222,\"#7201a8\"],[0.3333333333333333,\"#9c179e\"],[0.4444444444444444,\"#bd3786\"],[0.5555555555555556,\"#d8576b\"],[0.6666666666666666,\"#ed7953\"],[0.7777777777777778,\"#fb9f3a\"],[0.8888888888888888,\"#fdca26\"],[1.0,\"#f0f921\"]]}],\"choropleth\":[{\"type\":\"choropleth\",\"colorbar\":{\"outlinewidth\":0,\"ticks\":\"\"}}],\"histogram2d\":[{\"type\":\"histogram2d\",\"colorbar\":{\"outlinewidth\":0,\"ticks\":\"\"},\"colorscale\":[[0.0,\"#0d0887\"],[0.1111111111111111,\"#46039f\"],[0.2222222222222222,\"#7201a8\"],[0.3333333333333333,\"#9c179e\"],[0.4444444444444444,\"#bd3786\"],[0.5555555555555556,\"#d8576b\"],[0.6666666666666666,\"#ed7953\"],[0.7777777777777778,\"#fb9f3a\"],[0.8888888888888888,\"#fdca26\"],[1.0,\"#f0f921\"]]}],\"heatmap\":[{\"type\":\"heatmap\",\"colorbar\":{\"outlinewidth\":0,\"ticks\":\"\"},\"colorscale\":[[0.0,\"#0d0887\"],[0.1111111111111111,\"#46039f\"],[0.2222222222222222,\"#7201a8\"],[0.3333333333333333,\"#9c179e\"],[0.4444444444444444,\"#bd3786\"],[0.5555555555555556,\"#d8576b\"],[0.6666666666666666,\"#ed7953\"],[0.7777777777777778,\"#fb9f3a\"],[0.8888888888888888,\"#fdca26\"],[1.0,\"#f0f921\"]]}],\"heatmapgl\":[{\"type\":\"heatmapgl\",\"colorbar\":{\"outlinewidth\":0,\"ticks\":\"\"},\"colorscale\":[[0.0,\"#0d0887\"],[0.1111111111111111,\"#46039f\"],[0.2222222222222222,\"#7201a8\"],[0.3333333333333333,\"#9c179e\"],[0.4444444444444444,\"#bd3786\"],[0.5555555555555556,\"#d8576b\"],[0.6666666666666666,\"#ed7953\"],[0.7777777777777778,\"#fb9f3a\"],[0.8888888888888888,\"#fdca26\"],[1.0,\"#f0f921\"]]}],\"contourcarpet\":[{\"type\":\"contourcarpet\",\"colorbar\":{\"outlinewidth\":0,\"ticks\":\"\"}}],\"contour\":[{\"type\":\"contour\",\"colorbar\":{\"outlinewidth\":0,\"ticks\":\"\"},\"colorscale\":[[0.0,\"#0d0887\"],[0.1111111111111111,\"#46039f\"],[0.2222222222222222,\"#7201a8\"],[0.3333333333333333,\"#9c179e\"],[0.4444444444444444,\"#bd3786\"],[0.5555555555555556,\"#d8576b\"],[0.6666666666666666,\"#ed7953\"],[0.7777777777777778,\"#fb9f3a\"],[0.8888888888888888,\"#fdca26\"],[1.0,\"#f0f921\"]]}],\"surface\":[{\"type\":\"surface\",\"colorbar\":{\"outlinewidth\":0,\"ticks\":\"\"},\"colorscale\":[[0.0,\"#0d0887\"],[0.1111111111111111,\"#46039f\"],[0.2222222222222222,\"#7201a8\"],[0.3333333333333333,\"#9c179e\"],[0.4444444444444444,\"#bd3786\"],[0.5555555555555556,\"#d8576b\"],[0.6666666666666666,\"#ed7953\"],[0.7777777777777778,\"#fb9f3a\"],[0.8888888888888888,\"#fdca26\"],[1.0,\"#f0f921\"]]}],\"mesh3d\":[{\"type\":\"mesh3d\",\"colorbar\":{\"outlinewidth\":0,\"ticks\":\"\"}}],\"scatter\":[{\"fillpattern\":{\"fillmode\":\"overlay\",\"size\":10,\"solidity\":0.2},\"type\":\"scatter\"}],\"parcoords\":[{\"type\":\"parcoords\",\"line\":{\"colorbar\":{\"outlinewidth\":0,\"ticks\":\"\"}}}],\"scatterpolargl\":[{\"type\":\"scatterpolargl\",\"marker\":{\"colorbar\":{\"outlinewidth\":0,\"ticks\":\"\"}}}],\"bar\":[{\"error_x\":{\"color\":\"#2a3f5f\"},\"error_y\":{\"color\":\"#2a3f5f\"},\"marker\":{\"line\":{\"color\":\"#E5ECF6\",\"width\":0.5},\"pattern\":{\"fillmode\":\"overlay\",\"size\":10,\"solidity\":0.2}},\"type\":\"bar\"}],\"scattergeo\":[{\"type\":\"scattergeo\",\"marker\":{\"colorbar\":{\"outlinewidth\":0,\"ticks\":\"\"}}}],\"scatterpolar\":[{\"type\":\"scatterpolar\",\"marker\":{\"colorbar\":{\"outlinewidth\":0,\"ticks\":\"\"}}}],\"histogram\":[{\"marker\":{\"pattern\":{\"fillmode\":\"overlay\",\"size\":10,\"solidity\":0.2}},\"type\":\"histogram\"}],\"scattergl\":[{\"type\":\"scattergl\",\"marker\":{\"colorbar\":{\"outlinewidth\":0,\"ticks\":\"\"}}}],\"scatter3d\":[{\"type\":\"scatter3d\",\"line\":{\"colorbar\":{\"outlinewidth\":0,\"ticks\":\"\"}},\"marker\":{\"colorbar\":{\"outlinewidth\":0,\"ticks\":\"\"}}}],\"scattermapbox\":[{\"type\":\"scattermapbox\",\"marker\":{\"colorbar\":{\"outlinewidth\":0,\"ticks\":\"\"}}}],\"scatterternary\":[{\"type\":\"scatterternary\",\"marker\":{\"colorbar\":{\"outlinewidth\":0,\"ticks\":\"\"}}}],\"scattercarpet\":[{\"type\":\"scattercarpet\",\"marker\":{\"colorbar\":{\"outlinewidth\":0,\"ticks\":\"\"}}}],\"carpet\":[{\"aaxis\":{\"endlinecolor\":\"#2a3f5f\",\"gridcolor\":\"white\",\"linecolor\":\"white\",\"minorgridcolor\":\"white\",\"startlinecolor\":\"#2a3f5f\"},\"baxis\":{\"endlinecolor\":\"#2a3f5f\",\"gridcolor\":\"white\",\"linecolor\":\"white\",\"minorgridcolor\":\"white\",\"startlinecolor\":\"#2a3f5f\"},\"type\":\"carpet\"}],\"table\":[{\"cells\":{\"fill\":{\"color\":\"#EBF0F8\"},\"line\":{\"color\":\"white\"}},\"header\":{\"fill\":{\"color\":\"#C8D4E3\"},\"line\":{\"color\":\"white\"}},\"type\":\"table\"}],\"barpolar\":[{\"marker\":{\"line\":{\"color\":\"#E5ECF6\",\"width\":0.5},\"pattern\":{\"fillmode\":\"overlay\",\"size\":10,\"solidity\":0.2}},\"type\":\"barpolar\"}],\"pie\":[{\"automargin\":true,\"type\":\"pie\"}]},\"layout\":{\"autotypenumbers\":\"strict\",\"colorway\":[\"#636efa\",\"#EF553B\",\"#00cc96\",\"#ab63fa\",\"#FFA15A\",\"#19d3f3\",\"#FF6692\",\"#B6E880\",\"#FF97FF\",\"#FECB52\"],\"font\":{\"color\":\"#2a3f5f\"},\"hovermode\":\"closest\",\"hoverlabel\":{\"align\":\"left\"},\"paper_bgcolor\":\"white\",\"plot_bgcolor\":\"#E5ECF6\",\"polar\":{\"bgcolor\":\"#E5ECF6\",\"angularaxis\":{\"gridcolor\":\"white\",\"linecolor\":\"white\",\"ticks\":\"\"},\"radialaxis\":{\"gridcolor\":\"white\",\"linecolor\":\"white\",\"ticks\":\"\"}},\"ternary\":{\"bgcolor\":\"#E5ECF6\",\"aaxis\":{\"gridcolor\":\"white\",\"linecolor\":\"white\",\"ticks\":\"\"},\"baxis\":{\"gridcolor\":\"white\",\"linecolor\":\"white\",\"ticks\":\"\"},\"caxis\":{\"gridcolor\":\"white\",\"linecolor\":\"white\",\"ticks\":\"\"}},\"coloraxis\":{\"colorbar\":{\"outlinewidth\":0,\"ticks\":\"\"}},\"colorscale\":{\"sequential\":[[0.0,\"#0d0887\"],[0.1111111111111111,\"#46039f\"],[0.2222222222222222,\"#7201a8\"],[0.3333333333333333,\"#9c179e\"],[0.4444444444444444,\"#bd3786\"],[0.5555555555555556,\"#d8576b\"],[0.6666666666666666,\"#ed7953\"],[0.7777777777777778,\"#fb9f3a\"],[0.8888888888888888,\"#fdca26\"],[1.0,\"#f0f921\"]],\"sequentialminus\":[[0.0,\"#0d0887\"],[0.1111111111111111,\"#46039f\"],[0.2222222222222222,\"#7201a8\"],[0.3333333333333333,\"#9c179e\"],[0.4444444444444444,\"#bd3786\"],[0.5555555555555556,\"#d8576b\"],[0.6666666666666666,\"#ed7953\"],[0.7777777777777778,\"#fb9f3a\"],[0.8888888888888888,\"#fdca26\"],[1.0,\"#f0f921\"]],\"diverging\":[[0,\"#8e0152\"],[0.1,\"#c51b7d\"],[0.2,\"#de77ae\"],[0.3,\"#f1b6da\"],[0.4,\"#fde0ef\"],[0.5,\"#f7f7f7\"],[0.6,\"#e6f5d0\"],[0.7,\"#b8e186\"],[0.8,\"#7fbc41\"],[0.9,\"#4d9221\"],[1,\"#276419\"]]},\"xaxis\":{\"gridcolor\":\"white\",\"linecolor\":\"white\",\"ticks\":\"\",\"title\":{\"standoff\":15},\"zerolinecolor\":\"white\",\"automargin\":true,\"zerolinewidth\":2},\"yaxis\":{\"gridcolor\":\"white\",\"linecolor\":\"white\",\"ticks\":\"\",\"title\":{\"standoff\":15},\"zerolinecolor\":\"white\",\"automargin\":true,\"zerolinewidth\":2},\"scene\":{\"xaxis\":{\"backgroundcolor\":\"#E5ECF6\",\"gridcolor\":\"white\",\"linecolor\":\"white\",\"showbackground\":true,\"ticks\":\"\",\"zerolinecolor\":\"white\",\"gridwidth\":2},\"yaxis\":{\"backgroundcolor\":\"#E5ECF6\",\"gridcolor\":\"white\",\"linecolor\":\"white\",\"showbackground\":true,\"ticks\":\"\",\"zerolinecolor\":\"white\",\"gridwidth\":2},\"zaxis\":{\"backgroundcolor\":\"#E5ECF6\",\"gridcolor\":\"white\",\"linecolor\":\"white\",\"showbackground\":true,\"ticks\":\"\",\"zerolinecolor\":\"white\",\"gridwidth\":2}},\"shapedefaults\":{\"line\":{\"color\":\"#2a3f5f\"}},\"annotationdefaults\":{\"arrowcolor\":\"#2a3f5f\",\"arrowhead\":0,\"arrowwidth\":1},\"geo\":{\"bgcolor\":\"white\",\"landcolor\":\"#E5ECF6\",\"subunitcolor\":\"white\",\"showland\":true,\"showlakes\":true,\"lakecolor\":\"white\"},\"title\":{\"x\":0.05},\"mapbox\":{\"style\":\"light\"}}},\"xaxis\":{\"anchor\":\"y\",\"domain\":[0.0,1.0],\"title\":{\"text\":\"Total shot\"}},\"yaxis\":{\"anchor\":\"x\",\"domain\":[0.0,1.0],\"title\":{\"text\":\"Gun safety ranking\"},\"range\":[-1,10]},\"legend\":{\"title\":{\"text\":\"State\"},\"tracegroupgap\":0},\"margin\":{\"t\":60}},                        {\"responsive\": true}                    ).then(function(){\n",
       "                            \n",
       "var gd = document.getElementById('e993a8b9-a82d-4d17-9442-5302eece0a24');\n",
       "var x = new MutationObserver(function (mutations, observer) {{\n",
       "        var display = window.getComputedStyle(gd).display;\n",
       "        if (!display || display === 'none') {{\n",
       "            console.log([gd, 'removed!']);\n",
       "            Plotly.purge(gd);\n",
       "            observer.disconnect();\n",
       "        }}\n",
       "}});\n",
       "\n",
       "// Listen for the removal of the full notebook cells\n",
       "var notebookContainer = gd.closest('#notebook-container');\n",
       "if (notebookContainer) {{\n",
       "    x.observe(notebookContainer, {childList: true});\n",
       "}}\n",
       "\n",
       "// Listen for the clearing of the current output cell\n",
       "var outputEl = gd.closest('.output');\n",
       "if (outputEl) {{\n",
       "    x.observe(outputEl, {childList: true});\n",
       "}}\n",
       "\n",
       "                        })                };                });            </script>        </div>"
      ]
     },
     "metadata": {},
     "output_type": "display_data"
    }
   ],
   "source": [
    "# Plot the scatterplot with plotly\n",
    "fig = px.scatter(clean_df3, x=\"Total shot\", y=\"Gun safety ranking\", color=\"State\", trendline=\"ols\")\n",
    "fig.update_layout(yaxis_range=[-1,10])\n",
    "\n",
    "# Show the plot\n",
    "fig.show()"
   ]
  },
  {
   "cell_type": "code",
   "execution_count": 92,
   "id": "d4505d13",
   "metadata": {},
   "outputs": [
    {
     "name": "stderr",
     "output_type": "stream",
     "text": [
      "C:\\Users\\Chris\\anaconda3\\lib\\site-packages\\seaborn\\_decorators.py:36: FutureWarning:\n",
      "\n",
      "Pass the following variables as keyword args: x, y. From version 0.12, the only valid positional argument will be `data`, and passing other arguments without an explicit keyword will result in an error or misinterpretation.\n",
      "\n"
     ]
    },
    {
     "data": {
      "text/plain": [
       "<AxesSubplot:xlabel='Gun safety ranking', ylabel='Total shot'>"
      ]
     },
     "execution_count": 92,
     "metadata": {},
     "output_type": "execute_result"
    },
    {
     "data": {
      "image/png": "[encoded data removed]",
      "text/plain": [
       "<Figure size 640x480 with 1 Axes>"
      ]
     },
     "metadata": {},
     "output_type": "display_data"
    }
   ],
   "source": [
    "sns.regplot(clean_df3['Gun safety ranking'], clean_df3['Total shot'])"
   ]
  },
  {
   "cell_type": "code",
   "execution_count": 69,
   "id": "924413e8",
   "metadata": {},
   "outputs": [
    {
     "data": {
      "text/html": [
       "<div>\n",
       "<style scoped>\n",
       "    .dataframe tbody tr th:only-of-type {\n",
       "        vertical-align: middle;\n",
       "    }\n",
       "\n",
       "    .dataframe tbody tr th {\n",
       "        vertical-align: top;\n",
       "    }\n",
       "\n",
       "    .dataframe thead th {\n",
       "        text-align: right;\n",
       "    }\n",
       "</style>\n",
       "<table border=\"1\" class=\"dataframe\">\n",
       "  <thead>\n",
       "    <tr style=\"text-align: right;\">\n",
       "      <th></th>\n",
       "      <th>SUMLEV</th>\n",
       "      <th>REGION</th>\n",
       "      <th>DIVISION</th>\n",
       "      <th>STATEID</th>\n",
       "      <th>State</th>\n",
       "      <th>ESTIMATESBASE2020</th>\n",
       "      <th>POPESTIMATE2020</th>\n",
       "      <th>POPESTIMATE2021</th>\n",
       "      <th>POPESTIMATE2022</th>\n",
       "      <th>NPOPCHG_2020</th>\n",
       "      <th>...</th>\n",
       "      <th>RDEATH2021</th>\n",
       "      <th>RDEATH2022</th>\n",
       "      <th>RNATURALCHG2021</th>\n",
       "      <th>RNATURALCHG2022</th>\n",
       "      <th>RINTERNATIONALMIG2021</th>\n",
       "      <th>RINTERNATIONALMIG2022</th>\n",
       "      <th>RDOMESTICMIG2021</th>\n",
       "      <th>RDOMESTICMIG2022</th>\n",
       "      <th>RNETMIG2021</th>\n",
       "      <th>RNETMIG2022</th>\n",
       "    </tr>\n",
       "  </thead>\n",
       "  <tbody>\n",
       "    <tr>\n",
       "      <th>0</th>\n",
       "      <td>10</td>\n",
       "      <td>0</td>\n",
       "      <td>0</td>\n",
       "      <td>0</td>\n",
       "      <td>United States</td>\n",
       "      <td>331449520</td>\n",
       "      <td>331511512</td>\n",
       "      <td>332031554</td>\n",
       "      <td>333287557</td>\n",
       "      <td>61992</td>\n",
       "      <td>...</td>\n",
       "      <td>10.363828</td>\n",
       "      <td>10.350218</td>\n",
       "      <td>0.434073</td>\n",
       "      <td>0.736729</td>\n",
       "      <td>1.133397</td>\n",
       "      <td>3.038912</td>\n",
       "      <td>0.000000</td>\n",
       "      <td>0.000000</td>\n",
       "      <td>1.133397</td>\n",
       "      <td>3.038912</td>\n",
       "    </tr>\n",
       "    <tr>\n",
       "      <th>1</th>\n",
       "      <td>20</td>\n",
       "      <td>1</td>\n",
       "      <td>0</td>\n",
       "      <td>0</td>\n",
       "      <td>Northeast Region</td>\n",
       "      <td>57609156</td>\n",
       "      <td>57448898</td>\n",
       "      <td>57259257</td>\n",
       "      <td>57040406</td>\n",
       "      <td>-160258</td>\n",
       "      <td>...</td>\n",
       "      <td>9.780142</td>\n",
       "      <td>9.868918</td>\n",
       "      <td>0.206629</td>\n",
       "      <td>0.511200</td>\n",
       "      <td>1.402708</td>\n",
       "      <td>3.752662</td>\n",
       "      <td>-4.855348</td>\n",
       "      <td>-8.061896</td>\n",
       "      <td>-3.452640</td>\n",
       "      <td>-4.309234</td>\n",
       "    </tr>\n",
       "    <tr>\n",
       "      <th>2</th>\n",
       "      <td>30</td>\n",
       "      <td>1</td>\n",
       "      <td>1</td>\n",
       "      <td>0</td>\n",
       "      <td>New England</td>\n",
       "      <td>15116206</td>\n",
       "      <td>15074473</td>\n",
       "      <td>15121745</td>\n",
       "      <td>15129548</td>\n",
       "      <td>-41733</td>\n",
       "      <td>...</td>\n",
       "      <td>9.530598</td>\n",
       "      <td>9.887115</td>\n",
       "      <td>-0.310502</td>\n",
       "      <td>-0.206669</td>\n",
       "      <td>1.770752</td>\n",
       "      <td>4.655140</td>\n",
       "      <td>1.546021</td>\n",
       "      <td>-3.767839</td>\n",
       "      <td>3.316773</td>\n",
       "      <td>0.887301</td>\n",
       "    </tr>\n",
       "    <tr>\n",
       "      <th>3</th>\n",
       "      <td>30</td>\n",
       "      <td>1</td>\n",
       "      <td>2</td>\n",
       "      <td>0</td>\n",
       "      <td>Middle Atlantic</td>\n",
       "      <td>42492950</td>\n",
       "      <td>42374425</td>\n",
       "      <td>42137512</td>\n",
       "      <td>41910858</td>\n",
       "      <td>-118525</td>\n",
       "      <td>...</td>\n",
       "      <td>9.869304</td>\n",
       "      <td>9.862369</td>\n",
       "      <td>0.391400</td>\n",
       "      <td>0.769581</td>\n",
       "      <td>1.271205</td>\n",
       "      <td>3.427836</td>\n",
       "      <td>-7.142565</td>\n",
       "      <td>-9.607444</td>\n",
       "      <td>-5.871360</td>\n",
       "      <td>-6.179608</td>\n",
       "    </tr>\n",
       "    <tr>\n",
       "      <th>4</th>\n",
       "      <td>20</td>\n",
       "      <td>2</td>\n",
       "      <td>0</td>\n",
       "      <td>0</td>\n",
       "      <td>Midwest Region</td>\n",
       "      <td>68985537</td>\n",
       "      <td>68961043</td>\n",
       "      <td>68836505</td>\n",
       "      <td>68787595</td>\n",
       "      <td>-24494</td>\n",
       "      <td>...</td>\n",
       "      <td>11.059195</td>\n",
       "      <td>11.169148</td>\n",
       "      <td>-0.207043</td>\n",
       "      <td>-0.125530</td>\n",
       "      <td>0.802714</td>\n",
       "      <td>2.111084</td>\n",
       "      <td>-2.645374</td>\n",
       "      <td>-2.529339</td>\n",
       "      <td>-1.842660</td>\n",
       "      <td>-0.418255</td>\n",
       "    </tr>\n",
       "  </tbody>\n",
       "</table>\n",
       "<p>5 rows × 45 columns</p>\n",
       "</div>"
      ],
      "text/plain": [
       "   SUMLEV REGION DIVISION  STATEID             State  ESTIMATESBASE2020  \\\n",
       "0      10      0        0        0     United States          331449520   \n",
       "1      20      1        0        0  Northeast Region           57609156   \n",
       "2      30      1        1        0       New England           15116206   \n",
       "3      30      1        2        0   Middle Atlantic           42492950   \n",
       "4      20      2        0        0    Midwest Region           68985537   \n",
       "\n",
       "   POPESTIMATE2020  POPESTIMATE2021  POPESTIMATE2022  NPOPCHG_2020  ...  \\\n",
       "0        331511512        332031554        333287557         61992  ...   \n",
       "1         57448898         57259257         57040406       -160258  ...   \n",
       "2         15074473         15121745         15129548        -41733  ...   \n",
       "3         42374425         42137512         41910858       -118525  ...   \n",
       "4         68961043         68836505         68787595        -24494  ...   \n",
       "\n",
       "   RDEATH2021  RDEATH2022  RNATURALCHG2021  RNATURALCHG2022  \\\n",
       "0   10.363828   10.350218         0.434073         0.736729   \n",
       "1    9.780142    9.868918         0.206629         0.511200   \n",
       "2    9.530598    9.887115        -0.310502        -0.206669   \n",
       "3    9.869304    9.862369         0.391400         0.769581   \n",
       "4   11.059195   11.169148        -0.207043        -0.125530   \n",
       "\n",
       "   RINTERNATIONALMIG2021  RINTERNATIONALMIG2022  RDOMESTICMIG2021  \\\n",
       "0               1.133397               3.038912          0.000000   \n",
       "1               1.402708               3.752662         -4.855348   \n",
       "2               1.770752               4.655140          1.546021   \n",
       "3               1.271205               3.427836         -7.142565   \n",
       "4               0.802714               2.111084         -2.645374   \n",
       "\n",
       "   RDOMESTICMIG2022  RNETMIG2021  RNETMIG2022  \n",
       "0          0.000000     1.133397     3.038912  \n",
       "1         -8.061896    -3.452640    -4.309234  \n",
       "2         -3.767839     3.316773     0.887301  \n",
       "3         -9.607444    -5.871360    -6.179608  \n",
       "4         -2.529339    -1.842660    -0.418255  \n",
       "\n",
       "[5 rows x 45 columns]"
      ]
     },
     "execution_count": 69,
     "metadata": {},
     "output_type": "execute_result"
    }
   ],
   "source": [
    "df3 = pd.read_csv('NST-EST2022-ALLDATA.csv')\n",
    "df3.head()"
   ]
  },
  {
   "cell_type": "code",
   "execution_count": 71,
   "id": "dbd00b4c",
   "metadata": {},
   "outputs": [
    {
     "data": {
      "text/plain": [
       "State\n",
       "Alabama        5074296\n",
       "Alaska          733583\n",
       "Arizona        7359197\n",
       "Arkansas       3045637\n",
       "California    39029342\n",
       "Name: POPESTIMATE2022, dtype: int64"
      ]
     },
     "execution_count": 71,
     "metadata": {},
     "output_type": "execute_result"
    }
   ],
   "source": [
    "dff3 = df3.groupby('State')['POPESTIMATE2022'].sum()\n",
    "dff3.head()"
   ]
  },
  {
   "cell_type": "code",
   "execution_count": 79,
   "id": "e86fdb40",
   "metadata": {},
   "outputs": [
    {
     "data": {
      "text/html": [
       "<div>\n",
       "<style scoped>\n",
       "    .dataframe tbody tr th:only-of-type {\n",
       "        vertical-align: middle;\n",
       "    }\n",
       "\n",
       "    .dataframe tbody tr th {\n",
       "        vertical-align: top;\n",
       "    }\n",
       "\n",
       "    .dataframe thead th {\n",
       "        text-align: right;\n",
       "    }\n",
       "</style>\n",
       "<table border=\"1\" class=\"dataframe\">\n",
       "  <thead>\n",
       "    <tr style=\"text-align: right;\">\n",
       "      <th></th>\n",
       "      <th>State</th>\n",
       "      <th>Asslt weap law?</th>\n",
       "      <th>Bckgrd checks?</th>\n",
       "      <th>Firearm regis?</th>\n",
       "      <th>Mag cap restrict?</th>\n",
       "      <th>NFA weap restrict?</th>\n",
       "      <th>Open carry?</th>\n",
       "      <th>Owner license?</th>\n",
       "      <th>Conceal carry permit?</th>\n",
       "      <th>Open carry permit?</th>\n",
       "      <th>Purch permit?</th>\n",
       "      <th>Gun safety ranking</th>\n",
       "      <th>Total shot</th>\n",
       "      <th>POPESTIMATE2022</th>\n",
       "    </tr>\n",
       "  </thead>\n",
       "  <tbody>\n",
       "    <tr>\n",
       "      <th>0</th>\n",
       "      <td>Alabama</td>\n",
       "      <td>0.0</td>\n",
       "      <td>0.0</td>\n",
       "      <td>0.0</td>\n",
       "      <td>0.0</td>\n",
       "      <td>0.0</td>\n",
       "      <td>NaN</td>\n",
       "      <td>0.0</td>\n",
       "      <td>0.0</td>\n",
       "      <td>0.0</td>\n",
       "      <td>0.0</td>\n",
       "      <td>0.0</td>\n",
       "      <td>35.0</td>\n",
       "      <td>5074296.0</td>\n",
       "    </tr>\n",
       "    <tr>\n",
       "      <th>1</th>\n",
       "      <td>Alaska</td>\n",
       "      <td>0.0</td>\n",
       "      <td>0.0</td>\n",
       "      <td>0.0</td>\n",
       "      <td>0.0</td>\n",
       "      <td>0.0</td>\n",
       "      <td>NaN</td>\n",
       "      <td>0.0</td>\n",
       "      <td>0.0</td>\n",
       "      <td>0.0</td>\n",
       "      <td>0.0</td>\n",
       "      <td>0.0</td>\n",
       "      <td>4.0</td>\n",
       "      <td>733583.0</td>\n",
       "    </tr>\n",
       "    <tr>\n",
       "      <th>2</th>\n",
       "      <td>Arizona</td>\n",
       "      <td>0.0</td>\n",
       "      <td>0.0</td>\n",
       "      <td>0.0</td>\n",
       "      <td>0.0</td>\n",
       "      <td>0.0</td>\n",
       "      <td>NaN</td>\n",
       "      <td>0.0</td>\n",
       "      <td>0.0</td>\n",
       "      <td>0.0</td>\n",
       "      <td>0.0</td>\n",
       "      <td>0.0</td>\n",
       "      <td>54.0</td>\n",
       "      <td>7359197.0</td>\n",
       "    </tr>\n",
       "    <tr>\n",
       "      <th>3</th>\n",
       "      <td>Arkansas</td>\n",
       "      <td>0.0</td>\n",
       "      <td>0.0</td>\n",
       "      <td>0.0</td>\n",
       "      <td>0.0</td>\n",
       "      <td>0.0</td>\n",
       "      <td>NaN</td>\n",
       "      <td>0.0</td>\n",
       "      <td>0.0</td>\n",
       "      <td>0.0</td>\n",
       "      <td>0.0</td>\n",
       "      <td>0.0</td>\n",
       "      <td>13.0</td>\n",
       "      <td>3045637.0</td>\n",
       "    </tr>\n",
       "    <tr>\n",
       "      <th>4</th>\n",
       "      <td>California</td>\n",
       "      <td>1.0</td>\n",
       "      <td>1.0</td>\n",
       "      <td>1.0</td>\n",
       "      <td>1.0</td>\n",
       "      <td>1.0</td>\n",
       "      <td>1.0</td>\n",
       "      <td>0.0</td>\n",
       "      <td>1.0</td>\n",
       "      <td>NaN</td>\n",
       "      <td>0.5</td>\n",
       "      <td>7.5</td>\n",
       "      <td>273.0</td>\n",
       "      <td>39029342.0</td>\n",
       "    </tr>\n",
       "  </tbody>\n",
       "</table>\n",
       "</div>"
      ],
      "text/plain": [
       "        State  Asslt weap law?  Bckgrd checks?  Firearm regis?  \\\n",
       "0     Alabama              0.0             0.0             0.0   \n",
       "1      Alaska              0.0             0.0             0.0   \n",
       "2     Arizona              0.0             0.0             0.0   \n",
       "3    Arkansas              0.0             0.0             0.0   \n",
       "4  California              1.0             1.0             1.0   \n",
       "\n",
       "   Mag cap restrict?  NFA weap restrict?  Open carry?  Owner license?  \\\n",
       "0                0.0                 0.0          NaN             0.0   \n",
       "1                0.0                 0.0          NaN             0.0   \n",
       "2                0.0                 0.0          NaN             0.0   \n",
       "3                0.0                 0.0          NaN             0.0   \n",
       "4                1.0                 1.0          1.0             0.0   \n",
       "\n",
       "   Conceal carry permit?  Open carry permit?  Purch permit?  \\\n",
       "0                    0.0                 0.0            0.0   \n",
       "1                    0.0                 0.0            0.0   \n",
       "2                    0.0                 0.0            0.0   \n",
       "3                    0.0                 0.0            0.0   \n",
       "4                    1.0                 NaN            0.5   \n",
       "\n",
       "   Gun safety ranking  Total shot  POPESTIMATE2022  \n",
       "0                 0.0        35.0        5074296.0  \n",
       "1                 0.0         4.0         733583.0  \n",
       "2                 0.0        54.0        7359197.0  \n",
       "3                 0.0        13.0        3045637.0  \n",
       "4                 7.5       273.0       39029342.0  "
      ]
     },
     "execution_count": 79,
     "metadata": {},
     "output_type": "execute_result"
    }
   ],
   "source": [
    "left_df2 = clean_df\n",
    "right_df2 = dff3\n",
    "merge_df2 = left_df2.merge(right_df2, on='State', how='left')\n",
    "merge_df2.head()"
   ]
  },
  {
   "cell_type": "code",
   "execution_count": 80,
   "id": "f8288e91",
   "metadata": {},
   "outputs": [
    {
     "data": {
      "text/html": [
       "<div>\n",
       "<style scoped>\n",
       "    .dataframe tbody tr th:only-of-type {\n",
       "        vertical-align: middle;\n",
       "    }\n",
       "\n",
       "    .dataframe tbody tr th {\n",
       "        vertical-align: top;\n",
       "    }\n",
       "\n",
       "    .dataframe thead th {\n",
       "        text-align: right;\n",
       "    }\n",
       "</style>\n",
       "<table border=\"1\" class=\"dataframe\">\n",
       "  <thead>\n",
       "    <tr style=\"text-align: right;\">\n",
       "      <th></th>\n",
       "      <th>State</th>\n",
       "      <th>Asslt weap law?</th>\n",
       "      <th>Bckgrd checks?</th>\n",
       "      <th>Firearm regis?</th>\n",
       "      <th>Mag cap restrict?</th>\n",
       "      <th>NFA weap restrict?</th>\n",
       "      <th>Open carry?</th>\n",
       "      <th>Owner license?</th>\n",
       "      <th>Conceal carry permit?</th>\n",
       "      <th>Open carry permit?</th>\n",
       "      <th>Purch permit?</th>\n",
       "      <th>Gun safety ranking</th>\n",
       "      <th>Total shot</th>\n",
       "      <th>POPESTIMATE2022</th>\n",
       "      <th>Total shot / 2022 state pop</th>\n",
       "    </tr>\n",
       "  </thead>\n",
       "  <tbody>\n",
       "    <tr>\n",
       "      <th>0</th>\n",
       "      <td>Alabama</td>\n",
       "      <td>0.0</td>\n",
       "      <td>0.0</td>\n",
       "      <td>0.0</td>\n",
       "      <td>0.0</td>\n",
       "      <td>0.0</td>\n",
       "      <td>NaN</td>\n",
       "      <td>0.0</td>\n",
       "      <td>0.0</td>\n",
       "      <td>0.0</td>\n",
       "      <td>0.0</td>\n",
       "      <td>0.0</td>\n",
       "      <td>35.0</td>\n",
       "      <td>5074296.0</td>\n",
       "      <td>0.000690</td>\n",
       "    </tr>\n",
       "    <tr>\n",
       "      <th>1</th>\n",
       "      <td>Alaska</td>\n",
       "      <td>0.0</td>\n",
       "      <td>0.0</td>\n",
       "      <td>0.0</td>\n",
       "      <td>0.0</td>\n",
       "      <td>0.0</td>\n",
       "      <td>NaN</td>\n",
       "      <td>0.0</td>\n",
       "      <td>0.0</td>\n",
       "      <td>0.0</td>\n",
       "      <td>0.0</td>\n",
       "      <td>0.0</td>\n",
       "      <td>4.0</td>\n",
       "      <td>733583.0</td>\n",
       "      <td>0.000545</td>\n",
       "    </tr>\n",
       "    <tr>\n",
       "      <th>2</th>\n",
       "      <td>Arizona</td>\n",
       "      <td>0.0</td>\n",
       "      <td>0.0</td>\n",
       "      <td>0.0</td>\n",
       "      <td>0.0</td>\n",
       "      <td>0.0</td>\n",
       "      <td>NaN</td>\n",
       "      <td>0.0</td>\n",
       "      <td>0.0</td>\n",
       "      <td>0.0</td>\n",
       "      <td>0.0</td>\n",
       "      <td>0.0</td>\n",
       "      <td>54.0</td>\n",
       "      <td>7359197.0</td>\n",
       "      <td>0.000734</td>\n",
       "    </tr>\n",
       "    <tr>\n",
       "      <th>3</th>\n",
       "      <td>Arkansas</td>\n",
       "      <td>0.0</td>\n",
       "      <td>0.0</td>\n",
       "      <td>0.0</td>\n",
       "      <td>0.0</td>\n",
       "      <td>0.0</td>\n",
       "      <td>NaN</td>\n",
       "      <td>0.0</td>\n",
       "      <td>0.0</td>\n",
       "      <td>0.0</td>\n",
       "      <td>0.0</td>\n",
       "      <td>0.0</td>\n",
       "      <td>13.0</td>\n",
       "      <td>3045637.0</td>\n",
       "      <td>0.000427</td>\n",
       "    </tr>\n",
       "    <tr>\n",
       "      <th>4</th>\n",
       "      <td>California</td>\n",
       "      <td>1.0</td>\n",
       "      <td>1.0</td>\n",
       "      <td>1.0</td>\n",
       "      <td>1.0</td>\n",
       "      <td>1.0</td>\n",
       "      <td>1.0</td>\n",
       "      <td>0.0</td>\n",
       "      <td>1.0</td>\n",
       "      <td>NaN</td>\n",
       "      <td>0.5</td>\n",
       "      <td>7.5</td>\n",
       "      <td>273.0</td>\n",
       "      <td>39029342.0</td>\n",
       "      <td>0.000699</td>\n",
       "    </tr>\n",
       "    <tr>\n",
       "      <th>5</th>\n",
       "      <td>Colorado</td>\n",
       "      <td>0.0</td>\n",
       "      <td>1.0</td>\n",
       "      <td>0.0</td>\n",
       "      <td>1.0</td>\n",
       "      <td>0.0</td>\n",
       "      <td>NaN</td>\n",
       "      <td>0.0</td>\n",
       "      <td>1.0</td>\n",
       "      <td>0.0</td>\n",
       "      <td>0.0</td>\n",
       "      <td>3.0</td>\n",
       "      <td>131.0</td>\n",
       "      <td>5839926.0</td>\n",
       "      <td>0.002243</td>\n",
       "    </tr>\n",
       "    <tr>\n",
       "      <th>6</th>\n",
       "      <td>Connecticut</td>\n",
       "      <td>1.0</td>\n",
       "      <td>1.0</td>\n",
       "      <td>0.5</td>\n",
       "      <td>1.0</td>\n",
       "      <td>0.0</td>\n",
       "      <td>NaN</td>\n",
       "      <td>1.0</td>\n",
       "      <td>1.0</td>\n",
       "      <td>1.0</td>\n",
       "      <td>1.0</td>\n",
       "      <td>7.5</td>\n",
       "      <td>39.0</td>\n",
       "      <td>3626205.0</td>\n",
       "      <td>0.001076</td>\n",
       "    </tr>\n",
       "    <tr>\n",
       "      <th>7</th>\n",
       "      <td>Delaware</td>\n",
       "      <td>1.0</td>\n",
       "      <td>1.0</td>\n",
       "      <td>0.0</td>\n",
       "      <td>1.0</td>\n",
       "      <td>1.0</td>\n",
       "      <td>NaN</td>\n",
       "      <td>0.0</td>\n",
       "      <td>1.0</td>\n",
       "      <td>0.0</td>\n",
       "      <td>0.0</td>\n",
       "      <td>5.0</td>\n",
       "      <td>4.0</td>\n",
       "      <td>1018396.0</td>\n",
       "      <td>0.000393</td>\n",
       "    </tr>\n",
       "    <tr>\n",
       "      <th>8</th>\n",
       "      <td>District of Columbia</td>\n",
       "      <td>1.0</td>\n",
       "      <td>1.0</td>\n",
       "      <td>1.0</td>\n",
       "      <td>1.0</td>\n",
       "      <td>1.0</td>\n",
       "      <td>1.0</td>\n",
       "      <td>1.0</td>\n",
       "      <td>1.0</td>\n",
       "      <td>NaN</td>\n",
       "      <td>1.0</td>\n",
       "      <td>9.0</td>\n",
       "      <td>25.0</td>\n",
       "      <td>671803.0</td>\n",
       "      <td>0.003721</td>\n",
       "    </tr>\n",
       "    <tr>\n",
       "      <th>9</th>\n",
       "      <td>Florida</td>\n",
       "      <td>0.0</td>\n",
       "      <td>0.0</td>\n",
       "      <td>0.0</td>\n",
       "      <td>0.0</td>\n",
       "      <td>0.0</td>\n",
       "      <td>NaN</td>\n",
       "      <td>0.0</td>\n",
       "      <td>1.0</td>\n",
       "      <td>0.0</td>\n",
       "      <td>0.0</td>\n",
       "      <td>1.0</td>\n",
       "      <td>224.0</td>\n",
       "      <td>22244823.0</td>\n",
       "      <td>0.001007</td>\n",
       "    </tr>\n",
       "    <tr>\n",
       "      <th>10</th>\n",
       "      <td>Georgia</td>\n",
       "      <td>0.0</td>\n",
       "      <td>0.0</td>\n",
       "      <td>0.0</td>\n",
       "      <td>0.0</td>\n",
       "      <td>0.0</td>\n",
       "      <td>NaN</td>\n",
       "      <td>0.0</td>\n",
       "      <td>0.0</td>\n",
       "      <td>0.0</td>\n",
       "      <td>0.0</td>\n",
       "      <td>0.0</td>\n",
       "      <td>42.0</td>\n",
       "      <td>10912876.0</td>\n",
       "      <td>0.000385</td>\n",
       "    </tr>\n",
       "    <tr>\n",
       "      <th>11</th>\n",
       "      <td>Hawaii</td>\n",
       "      <td>1.0</td>\n",
       "      <td>1.0</td>\n",
       "      <td>1.0</td>\n",
       "      <td>1.0</td>\n",
       "      <td>1.0</td>\n",
       "      <td>NaN</td>\n",
       "      <td>0.0</td>\n",
       "      <td>1.0</td>\n",
       "      <td>1.0</td>\n",
       "      <td>1.0</td>\n",
       "      <td>8.0</td>\n",
       "      <td>NaN</td>\n",
       "      <td>1440196.0</td>\n",
       "      <td>NaN</td>\n",
       "    </tr>\n",
       "    <tr>\n",
       "      <th>12</th>\n",
       "      <td>Idaho</td>\n",
       "      <td>0.0</td>\n",
       "      <td>0.0</td>\n",
       "      <td>0.0</td>\n",
       "      <td>0.0</td>\n",
       "      <td>0.0</td>\n",
       "      <td>NaN</td>\n",
       "      <td>0.0</td>\n",
       "      <td>0.0</td>\n",
       "      <td>0.0</td>\n",
       "      <td>0.0</td>\n",
       "      <td>0.0</td>\n",
       "      <td>4.0</td>\n",
       "      <td>1939033.0</td>\n",
       "      <td>0.000206</td>\n",
       "    </tr>\n",
       "    <tr>\n",
       "      <th>13</th>\n",
       "      <td>Illinois</td>\n",
       "      <td>1.0</td>\n",
       "      <td>1.0</td>\n",
       "      <td>0.0</td>\n",
       "      <td>1.0</td>\n",
       "      <td>1.0</td>\n",
       "      <td>1.0</td>\n",
       "      <td>1.0</td>\n",
       "      <td>1.0</td>\n",
       "      <td>NaN</td>\n",
       "      <td>1.0</td>\n",
       "      <td>8.0</td>\n",
       "      <td>135.0</td>\n",
       "      <td>12582032.0</td>\n",
       "      <td>0.001073</td>\n",
       "    </tr>\n",
       "    <tr>\n",
       "      <th>14</th>\n",
       "      <td>Indiana</td>\n",
       "      <td>0.0</td>\n",
       "      <td>0.0</td>\n",
       "      <td>0.0</td>\n",
       "      <td>0.0</td>\n",
       "      <td>0.0</td>\n",
       "      <td>NaN</td>\n",
       "      <td>0.0</td>\n",
       "      <td>0.0</td>\n",
       "      <td>0.0</td>\n",
       "      <td>0.0</td>\n",
       "      <td>0.0</td>\n",
       "      <td>45.0</td>\n",
       "      <td>6833037.0</td>\n",
       "      <td>0.000659</td>\n",
       "    </tr>\n",
       "    <tr>\n",
       "      <th>15</th>\n",
       "      <td>Iowa</td>\n",
       "      <td>0.0</td>\n",
       "      <td>0.0</td>\n",
       "      <td>0.0</td>\n",
       "      <td>0.0</td>\n",
       "      <td>1.0</td>\n",
       "      <td>NaN</td>\n",
       "      <td>0.0</td>\n",
       "      <td>0.0</td>\n",
       "      <td>0.0</td>\n",
       "      <td>0.0</td>\n",
       "      <td>1.0</td>\n",
       "      <td>NaN</td>\n",
       "      <td>3200517.0</td>\n",
       "      <td>NaN</td>\n",
       "    </tr>\n",
       "    <tr>\n",
       "      <th>16</th>\n",
       "      <td>Kansas</td>\n",
       "      <td>0.0</td>\n",
       "      <td>0.0</td>\n",
       "      <td>0.0</td>\n",
       "      <td>0.0</td>\n",
       "      <td>0.0</td>\n",
       "      <td>NaN</td>\n",
       "      <td>0.0</td>\n",
       "      <td>0.0</td>\n",
       "      <td>0.0</td>\n",
       "      <td>0.0</td>\n",
       "      <td>0.0</td>\n",
       "      <td>30.0</td>\n",
       "      <td>2937150.0</td>\n",
       "      <td>0.001021</td>\n",
       "    </tr>\n",
       "    <tr>\n",
       "      <th>17</th>\n",
       "      <td>Kentucky</td>\n",
       "      <td>0.0</td>\n",
       "      <td>0.0</td>\n",
       "      <td>0.0</td>\n",
       "      <td>0.0</td>\n",
       "      <td>0.0</td>\n",
       "      <td>NaN</td>\n",
       "      <td>0.0</td>\n",
       "      <td>0.0</td>\n",
       "      <td>0.0</td>\n",
       "      <td>0.0</td>\n",
       "      <td>0.0</td>\n",
       "      <td>9.0</td>\n",
       "      <td>4512310.0</td>\n",
       "      <td>0.000199</td>\n",
       "    </tr>\n",
       "    <tr>\n",
       "      <th>18</th>\n",
       "      <td>Lousiana</td>\n",
       "      <td>0.0</td>\n",
       "      <td>0.0</td>\n",
       "      <td>0.0</td>\n",
       "      <td>0.0</td>\n",
       "      <td>0.0</td>\n",
       "      <td>NaN</td>\n",
       "      <td>0.0</td>\n",
       "      <td>1.0</td>\n",
       "      <td>0.0</td>\n",
       "      <td>0.0</td>\n",
       "      <td>1.0</td>\n",
       "      <td>NaN</td>\n",
       "      <td>NaN</td>\n",
       "      <td>NaN</td>\n",
       "    </tr>\n",
       "    <tr>\n",
       "      <th>19</th>\n",
       "      <td>Maine</td>\n",
       "      <td>0.0</td>\n",
       "      <td>0.0</td>\n",
       "      <td>0.0</td>\n",
       "      <td>0.0</td>\n",
       "      <td>0.0</td>\n",
       "      <td>NaN</td>\n",
       "      <td>0.0</td>\n",
       "      <td>0.0</td>\n",
       "      <td>0.0</td>\n",
       "      <td>0.0</td>\n",
       "      <td>0.0</td>\n",
       "      <td>4.0</td>\n",
       "      <td>1385340.0</td>\n",
       "      <td>0.000289</td>\n",
       "    </tr>\n",
       "    <tr>\n",
       "      <th>20</th>\n",
       "      <td>Maryland</td>\n",
       "      <td>1.0</td>\n",
       "      <td>1.0</td>\n",
       "      <td>1.0</td>\n",
       "      <td>1.0</td>\n",
       "      <td>0.0</td>\n",
       "      <td>NaN</td>\n",
       "      <td>0.0</td>\n",
       "      <td>1.0</td>\n",
       "      <td>1.0</td>\n",
       "      <td>1.0</td>\n",
       "      <td>7.0</td>\n",
       "      <td>24.0</td>\n",
       "      <td>6164660.0</td>\n",
       "      <td>0.000389</td>\n",
       "    </tr>\n",
       "    <tr>\n",
       "      <th>21</th>\n",
       "      <td>Massachusetts</td>\n",
       "      <td>1.0</td>\n",
       "      <td>1.0</td>\n",
       "      <td>0.0</td>\n",
       "      <td>1.0</td>\n",
       "      <td>1.0</td>\n",
       "      <td>NaN</td>\n",
       "      <td>1.0</td>\n",
       "      <td>1.0</td>\n",
       "      <td>1.0</td>\n",
       "      <td>1.0</td>\n",
       "      <td>8.0</td>\n",
       "      <td>9.0</td>\n",
       "      <td>6981974.0</td>\n",
       "      <td>0.000129</td>\n",
       "    </tr>\n",
       "    <tr>\n",
       "      <th>22</th>\n",
       "      <td>Michigan</td>\n",
       "      <td>0.0</td>\n",
       "      <td>1.0</td>\n",
       "      <td>1.0</td>\n",
       "      <td>0.0</td>\n",
       "      <td>0.0</td>\n",
       "      <td>NaN</td>\n",
       "      <td>0.0</td>\n",
       "      <td>1.0</td>\n",
       "      <td>0.0</td>\n",
       "      <td>1.0</td>\n",
       "      <td>4.0</td>\n",
       "      <td>48.0</td>\n",
       "      <td>10034113.0</td>\n",
       "      <td>0.000478</td>\n",
       "    </tr>\n",
       "    <tr>\n",
       "      <th>23</th>\n",
       "      <td>Minnesota</td>\n",
       "      <td>0.0</td>\n",
       "      <td>0.0</td>\n",
       "      <td>0.0</td>\n",
       "      <td>0.0</td>\n",
       "      <td>1.0</td>\n",
       "      <td>NaN</td>\n",
       "      <td>0.0</td>\n",
       "      <td>1.0</td>\n",
       "      <td>1.0</td>\n",
       "      <td>1.0</td>\n",
       "      <td>4.0</td>\n",
       "      <td>20.0</td>\n",
       "      <td>5717184.0</td>\n",
       "      <td>0.000350</td>\n",
       "    </tr>\n",
       "    <tr>\n",
       "      <th>24</th>\n",
       "      <td>Mississippi</td>\n",
       "      <td>0.0</td>\n",
       "      <td>0.0</td>\n",
       "      <td>0.0</td>\n",
       "      <td>0.0</td>\n",
       "      <td>0.0</td>\n",
       "      <td>NaN</td>\n",
       "      <td>0.0</td>\n",
       "      <td>0.0</td>\n",
       "      <td>0.0</td>\n",
       "      <td>0.0</td>\n",
       "      <td>0.0</td>\n",
       "      <td>20.0</td>\n",
       "      <td>2940057.0</td>\n",
       "      <td>0.000680</td>\n",
       "    </tr>\n",
       "    <tr>\n",
       "      <th>25</th>\n",
       "      <td>Missouri</td>\n",
       "      <td>0.0</td>\n",
       "      <td>0.0</td>\n",
       "      <td>0.0</td>\n",
       "      <td>0.0</td>\n",
       "      <td>0.0</td>\n",
       "      <td>NaN</td>\n",
       "      <td>0.0</td>\n",
       "      <td>0.0</td>\n",
       "      <td>0.0</td>\n",
       "      <td>0.0</td>\n",
       "      <td>0.0</td>\n",
       "      <td>36.0</td>\n",
       "      <td>6177957.0</td>\n",
       "      <td>0.000583</td>\n",
       "    </tr>\n",
       "    <tr>\n",
       "      <th>26</th>\n",
       "      <td>Montana</td>\n",
       "      <td>0.0</td>\n",
       "      <td>0.0</td>\n",
       "      <td>0.0</td>\n",
       "      <td>0.0</td>\n",
       "      <td>0.0</td>\n",
       "      <td>NaN</td>\n",
       "      <td>0.0</td>\n",
       "      <td>0.0</td>\n",
       "      <td>0.0</td>\n",
       "      <td>0.0</td>\n",
       "      <td>0.0</td>\n",
       "      <td>4.0</td>\n",
       "      <td>1122867.0</td>\n",
       "      <td>0.000356</td>\n",
       "    </tr>\n",
       "    <tr>\n",
       "      <th>27</th>\n",
       "      <td>Nebraska</td>\n",
       "      <td>0.0</td>\n",
       "      <td>1.0</td>\n",
       "      <td>1.0</td>\n",
       "      <td>0.0</td>\n",
       "      <td>0.0</td>\n",
       "      <td>NaN</td>\n",
       "      <td>0.0</td>\n",
       "      <td>1.0</td>\n",
       "      <td>0.0</td>\n",
       "      <td>1.0</td>\n",
       "      <td>4.0</td>\n",
       "      <td>NaN</td>\n",
       "      <td>1967923.0</td>\n",
       "      <td>NaN</td>\n",
       "    </tr>\n",
       "    <tr>\n",
       "      <th>28</th>\n",
       "      <td>Nevada</td>\n",
       "      <td>0.0</td>\n",
       "      <td>1.0</td>\n",
       "      <td>0.0</td>\n",
       "      <td>0.0</td>\n",
       "      <td>0.0</td>\n",
       "      <td>NaN</td>\n",
       "      <td>0.0</td>\n",
       "      <td>1.0</td>\n",
       "      <td>0.0</td>\n",
       "      <td>0.0</td>\n",
       "      <td>2.0</td>\n",
       "      <td>491.0</td>\n",
       "      <td>3177772.0</td>\n",
       "      <td>0.015451</td>\n",
       "    </tr>\n",
       "    <tr>\n",
       "      <th>29</th>\n",
       "      <td>New Hampshire</td>\n",
       "      <td>0.0</td>\n",
       "      <td>0.0</td>\n",
       "      <td>0.0</td>\n",
       "      <td>0.0</td>\n",
       "      <td>0.0</td>\n",
       "      <td>NaN</td>\n",
       "      <td>0.0</td>\n",
       "      <td>0.0</td>\n",
       "      <td>0.0</td>\n",
       "      <td>0.0</td>\n",
       "      <td>0.0</td>\n",
       "      <td>NaN</td>\n",
       "      <td>1395231.0</td>\n",
       "      <td>NaN</td>\n",
       "    </tr>\n",
       "    <tr>\n",
       "      <th>30</th>\n",
       "      <td>New Jersey</td>\n",
       "      <td>1.0</td>\n",
       "      <td>1.0</td>\n",
       "      <td>1.0</td>\n",
       "      <td>1.0</td>\n",
       "      <td>1.0</td>\n",
       "      <td>NaN</td>\n",
       "      <td>0.0</td>\n",
       "      <td>1.0</td>\n",
       "      <td>1.0</td>\n",
       "      <td>1.0</td>\n",
       "      <td>8.0</td>\n",
       "      <td>18.0</td>\n",
       "      <td>9261699.0</td>\n",
       "      <td>0.000194</td>\n",
       "    </tr>\n",
       "    <tr>\n",
       "      <th>31</th>\n",
       "      <td>New Mexico</td>\n",
       "      <td>0.0</td>\n",
       "      <td>1.0</td>\n",
       "      <td>0.0</td>\n",
       "      <td>0.0</td>\n",
       "      <td>0.0</td>\n",
       "      <td>NaN</td>\n",
       "      <td>0.0</td>\n",
       "      <td>1.0</td>\n",
       "      <td>0.0</td>\n",
       "      <td>0.0</td>\n",
       "      <td>2.0</td>\n",
       "      <td>21.0</td>\n",
       "      <td>2113344.0</td>\n",
       "      <td>0.000994</td>\n",
       "    </tr>\n",
       "    <tr>\n",
       "      <th>32</th>\n",
       "      <td>New York</td>\n",
       "      <td>1.0</td>\n",
       "      <td>1.0</td>\n",
       "      <td>1.0</td>\n",
       "      <td>1.0</td>\n",
       "      <td>1.0</td>\n",
       "      <td>1.0</td>\n",
       "      <td>1.0</td>\n",
       "      <td>1.0</td>\n",
       "      <td>NaN</td>\n",
       "      <td>1.0</td>\n",
       "      <td>9.0</td>\n",
       "      <td>53.0</td>\n",
       "      <td>19677151.0</td>\n",
       "      <td>0.000269</td>\n",
       "    </tr>\n",
       "    <tr>\n",
       "      <th>33</th>\n",
       "      <td>North Carolina</td>\n",
       "      <td>0.0</td>\n",
       "      <td>1.0</td>\n",
       "      <td>0.0</td>\n",
       "      <td>0.0</td>\n",
       "      <td>0.0</td>\n",
       "      <td>NaN</td>\n",
       "      <td>0.0</td>\n",
       "      <td>1.0</td>\n",
       "      <td>0.0</td>\n",
       "      <td>1.0</td>\n",
       "      <td>3.0</td>\n",
       "      <td>54.0</td>\n",
       "      <td>10698973.0</td>\n",
       "      <td>0.000505</td>\n",
       "    </tr>\n",
       "    <tr>\n",
       "      <th>34</th>\n",
       "      <td>North Dakota</td>\n",
       "      <td>0.0</td>\n",
       "      <td>0.0</td>\n",
       "      <td>0.0</td>\n",
       "      <td>0.0</td>\n",
       "      <td>0.0</td>\n",
       "      <td>NaN</td>\n",
       "      <td>0.0</td>\n",
       "      <td>0.0</td>\n",
       "      <td>1.0</td>\n",
       "      <td>0.0</td>\n",
       "      <td>1.0</td>\n",
       "      <td>8.0</td>\n",
       "      <td>779261.0</td>\n",
       "      <td>0.001027</td>\n",
       "    </tr>\n",
       "    <tr>\n",
       "      <th>35</th>\n",
       "      <td>Ohio</td>\n",
       "      <td>0.0</td>\n",
       "      <td>0.0</td>\n",
       "      <td>0.0</td>\n",
       "      <td>0.0</td>\n",
       "      <td>0.0</td>\n",
       "      <td>NaN</td>\n",
       "      <td>0.0</td>\n",
       "      <td>0.0</td>\n",
       "      <td>0.0</td>\n",
       "      <td>0.0</td>\n",
       "      <td>0.0</td>\n",
       "      <td>95.0</td>\n",
       "      <td>11756058.0</td>\n",
       "      <td>0.000808</td>\n",
       "    </tr>\n",
       "    <tr>\n",
       "      <th>36</th>\n",
       "      <td>Oklahoma</td>\n",
       "      <td>0.0</td>\n",
       "      <td>0.0</td>\n",
       "      <td>0.0</td>\n",
       "      <td>0.0</td>\n",
       "      <td>0.0</td>\n",
       "      <td>NaN</td>\n",
       "      <td>0.0</td>\n",
       "      <td>0.0</td>\n",
       "      <td>0.0</td>\n",
       "      <td>0.0</td>\n",
       "      <td>0.0</td>\n",
       "      <td>37.0</td>\n",
       "      <td>4019800.0</td>\n",
       "      <td>0.000920</td>\n",
       "    </tr>\n",
       "    <tr>\n",
       "      <th>37</th>\n",
       "      <td>Oregon</td>\n",
       "      <td>0.0</td>\n",
       "      <td>1.0</td>\n",
       "      <td>0.0</td>\n",
       "      <td>0.0</td>\n",
       "      <td>0.0</td>\n",
       "      <td>NaN</td>\n",
       "      <td>0.0</td>\n",
       "      <td>1.0</td>\n",
       "      <td>0.0</td>\n",
       "      <td>0.0</td>\n",
       "      <td>2.0</td>\n",
       "      <td>18.0</td>\n",
       "      <td>4240137.0</td>\n",
       "      <td>0.000425</td>\n",
       "    </tr>\n",
       "    <tr>\n",
       "      <th>38</th>\n",
       "      <td>Pennsylvania</td>\n",
       "      <td>0.0</td>\n",
       "      <td>1.0</td>\n",
       "      <td>0.0</td>\n",
       "      <td>0.0</td>\n",
       "      <td>0.0</td>\n",
       "      <td>NaN</td>\n",
       "      <td>0.0</td>\n",
       "      <td>1.0</td>\n",
       "      <td>0.0</td>\n",
       "      <td>0.0</td>\n",
       "      <td>2.0</td>\n",
       "      <td>50.0</td>\n",
       "      <td>12972008.0</td>\n",
       "      <td>0.000385</td>\n",
       "    </tr>\n",
       "    <tr>\n",
       "      <th>39</th>\n",
       "      <td>Rhode Island</td>\n",
       "      <td>0.0</td>\n",
       "      <td>1.0</td>\n",
       "      <td>0.0</td>\n",
       "      <td>0.0</td>\n",
       "      <td>1.0</td>\n",
       "      <td>NaN</td>\n",
       "      <td>0.0</td>\n",
       "      <td>1.0</td>\n",
       "      <td>1.0</td>\n",
       "      <td>1.0</td>\n",
       "      <td>5.0</td>\n",
       "      <td>NaN</td>\n",
       "      <td>1093734.0</td>\n",
       "      <td>NaN</td>\n",
       "    </tr>\n",
       "    <tr>\n",
       "      <th>40</th>\n",
       "      <td>South Carolina</td>\n",
       "      <td>0.0</td>\n",
       "      <td>0.0</td>\n",
       "      <td>0.0</td>\n",
       "      <td>0.0</td>\n",
       "      <td>0.0</td>\n",
       "      <td>NaN</td>\n",
       "      <td>0.0</td>\n",
       "      <td>1.0</td>\n",
       "      <td>1.0</td>\n",
       "      <td>0.0</td>\n",
       "      <td>2.0</td>\n",
       "      <td>42.0</td>\n",
       "      <td>5282634.0</td>\n",
       "      <td>0.000795</td>\n",
       "    </tr>\n",
       "    <tr>\n",
       "      <th>41</th>\n",
       "      <td>South Dakota</td>\n",
       "      <td>0.0</td>\n",
       "      <td>0.0</td>\n",
       "      <td>0.0</td>\n",
       "      <td>0.0</td>\n",
       "      <td>0.0</td>\n",
       "      <td>NaN</td>\n",
       "      <td>0.0</td>\n",
       "      <td>0.0</td>\n",
       "      <td>0.0</td>\n",
       "      <td>0.0</td>\n",
       "      <td>0.0</td>\n",
       "      <td>5.0</td>\n",
       "      <td>909824.0</td>\n",
       "      <td>0.000550</td>\n",
       "    </tr>\n",
       "    <tr>\n",
       "      <th>42</th>\n",
       "      <td>Tennessee</td>\n",
       "      <td>0.0</td>\n",
       "      <td>0.0</td>\n",
       "      <td>0.0</td>\n",
       "      <td>0.0</td>\n",
       "      <td>0.0</td>\n",
       "      <td>NaN</td>\n",
       "      <td>0.0</td>\n",
       "      <td>0.0</td>\n",
       "      <td>0.0</td>\n",
       "      <td>0.0</td>\n",
       "      <td>0.0</td>\n",
       "      <td>27.0</td>\n",
       "      <td>7051339.0</td>\n",
       "      <td>0.000383</td>\n",
       "    </tr>\n",
       "    <tr>\n",
       "      <th>43</th>\n",
       "      <td>Texas</td>\n",
       "      <td>0.0</td>\n",
       "      <td>0.0</td>\n",
       "      <td>0.0</td>\n",
       "      <td>0.0</td>\n",
       "      <td>0.0</td>\n",
       "      <td>NaN</td>\n",
       "      <td>0.0</td>\n",
       "      <td>0.0</td>\n",
       "      <td>0.0</td>\n",
       "      <td>0.0</td>\n",
       "      <td>0.0</td>\n",
       "      <td>402.0</td>\n",
       "      <td>30029572.0</td>\n",
       "      <td>0.001339</td>\n",
       "    </tr>\n",
       "    <tr>\n",
       "      <th>44</th>\n",
       "      <td>Utah</td>\n",
       "      <td>0.0</td>\n",
       "      <td>0.0</td>\n",
       "      <td>0.0</td>\n",
       "      <td>0.0</td>\n",
       "      <td>0.0</td>\n",
       "      <td>NaN</td>\n",
       "      <td>0.0</td>\n",
       "      <td>0.0</td>\n",
       "      <td>0.0</td>\n",
       "      <td>0.0</td>\n",
       "      <td>0.0</td>\n",
       "      <td>16.0</td>\n",
       "      <td>3380800.0</td>\n",
       "      <td>0.000473</td>\n",
       "    </tr>\n",
       "    <tr>\n",
       "      <th>45</th>\n",
       "      <td>Vermont</td>\n",
       "      <td>0.0</td>\n",
       "      <td>1.0</td>\n",
       "      <td>0.0</td>\n",
       "      <td>1.0</td>\n",
       "      <td>0.0</td>\n",
       "      <td>NaN</td>\n",
       "      <td>0.0</td>\n",
       "      <td>0.0</td>\n",
       "      <td>0.0</td>\n",
       "      <td>0.0</td>\n",
       "      <td>2.0</td>\n",
       "      <td>4.0</td>\n",
       "      <td>647064.0</td>\n",
       "      <td>0.000618</td>\n",
       "    </tr>\n",
       "    <tr>\n",
       "      <th>46</th>\n",
       "      <td>Virginia</td>\n",
       "      <td>1.0</td>\n",
       "      <td>1.0</td>\n",
       "      <td>0.0</td>\n",
       "      <td>0.0</td>\n",
       "      <td>0.0</td>\n",
       "      <td>NaN</td>\n",
       "      <td>0.0</td>\n",
       "      <td>1.0</td>\n",
       "      <td>0.0</td>\n",
       "      <td>0.0</td>\n",
       "      <td>3.0</td>\n",
       "      <td>63.0</td>\n",
       "      <td>8683619.0</td>\n",
       "      <td>0.000726</td>\n",
       "    </tr>\n",
       "    <tr>\n",
       "      <th>47</th>\n",
       "      <td>Washington</td>\n",
       "      <td>1.0</td>\n",
       "      <td>1.0</td>\n",
       "      <td>0.5</td>\n",
       "      <td>1.0</td>\n",
       "      <td>0.5</td>\n",
       "      <td>NaN</td>\n",
       "      <td>0.0</td>\n",
       "      <td>1.0</td>\n",
       "      <td>0.0</td>\n",
       "      <td>0.0</td>\n",
       "      <td>5.0</td>\n",
       "      <td>48.0</td>\n",
       "      <td>7785786.0</td>\n",
       "      <td>0.000617</td>\n",
       "    </tr>\n",
       "    <tr>\n",
       "      <th>48</th>\n",
       "      <td>West Virginia</td>\n",
       "      <td>0.0</td>\n",
       "      <td>0.0</td>\n",
       "      <td>0.0</td>\n",
       "      <td>0.0</td>\n",
       "      <td>0.0</td>\n",
       "      <td>NaN</td>\n",
       "      <td>0.0</td>\n",
       "      <td>0.0</td>\n",
       "      <td>0.0</td>\n",
       "      <td>0.0</td>\n",
       "      <td>0.0</td>\n",
       "      <td>22.0</td>\n",
       "      <td>1775156.0</td>\n",
       "      <td>0.001239</td>\n",
       "    </tr>\n",
       "    <tr>\n",
       "      <th>49</th>\n",
       "      <td>Wisconsin</td>\n",
       "      <td>0.0</td>\n",
       "      <td>0.0</td>\n",
       "      <td>0.0</td>\n",
       "      <td>0.0</td>\n",
       "      <td>0.0</td>\n",
       "      <td>NaN</td>\n",
       "      <td>0.0</td>\n",
       "      <td>1.0</td>\n",
       "      <td>0.0</td>\n",
       "      <td>1.0</td>\n",
       "      <td>2.0</td>\n",
       "      <td>40.0</td>\n",
       "      <td>5892539.0</td>\n",
       "      <td>0.000679</td>\n",
       "    </tr>\n",
       "    <tr>\n",
       "      <th>50</th>\n",
       "      <td>Wyoming</td>\n",
       "      <td>0.0</td>\n",
       "      <td>0.0</td>\n",
       "      <td>0.0</td>\n",
       "      <td>0.0</td>\n",
       "      <td>0.0</td>\n",
       "      <td>NaN</td>\n",
       "      <td>0.0</td>\n",
       "      <td>0.0</td>\n",
       "      <td>0.0</td>\n",
       "      <td>0.0</td>\n",
       "      <td>0.0</td>\n",
       "      <td>5.0</td>\n",
       "      <td>581381.0</td>\n",
       "      <td>0.000860</td>\n",
       "    </tr>\n",
       "    <tr>\n",
       "      <th>51</th>\n",
       "      <td>Gun safety ranking</td>\n",
       "      <td>12.0</td>\n",
       "      <td>22.0</td>\n",
       "      <td>9.0</td>\n",
       "      <td>13.0</td>\n",
       "      <td>11.5</td>\n",
       "      <td>4.0</td>\n",
       "      <td>5.0</td>\n",
       "      <td>26.0</td>\n",
       "      <td>9.0</td>\n",
       "      <td>14.5</td>\n",
       "      <td>126.0</td>\n",
       "      <td>NaN</td>\n",
       "      <td>NaN</td>\n",
       "      <td>NaN</td>\n",
       "    </tr>\n",
       "  </tbody>\n",
       "</table>\n",
       "</div>"
      ],
      "text/plain": [
       "                   State  Asslt weap law?  Bckgrd checks?  Firearm regis?  \\\n",
       "0                Alabama              0.0             0.0             0.0   \n",
       "1                 Alaska              0.0             0.0             0.0   \n",
       "2                Arizona              0.0             0.0             0.0   \n",
       "3               Arkansas              0.0             0.0             0.0   \n",
       "4             California              1.0             1.0             1.0   \n",
       "5               Colorado              0.0             1.0             0.0   \n",
       "6            Connecticut              1.0             1.0             0.5   \n",
       "7               Delaware              1.0             1.0             0.0   \n",
       "8   District of Columbia              1.0             1.0             1.0   \n",
       "9                Florida              0.0             0.0             0.0   \n",
       "10               Georgia              0.0             0.0             0.0   \n",
       "11                Hawaii              1.0             1.0             1.0   \n",
       "12                 Idaho              0.0             0.0             0.0   \n",
       "13              Illinois              1.0             1.0             0.0   \n",
       "14               Indiana              0.0             0.0             0.0   \n",
       "15                  Iowa              0.0             0.0             0.0   \n",
       "16                Kansas              0.0             0.0             0.0   \n",
       "17              Kentucky              0.0             0.0             0.0   \n",
       "18              Lousiana              0.0             0.0             0.0   \n",
       "19                 Maine              0.0             0.0             0.0   \n",
       "20              Maryland              1.0             1.0             1.0   \n",
       "21         Massachusetts              1.0             1.0             0.0   \n",
       "22              Michigan              0.0             1.0             1.0   \n",
       "23             Minnesota              0.0             0.0             0.0   \n",
       "24           Mississippi              0.0             0.0             0.0   \n",
       "25              Missouri              0.0             0.0             0.0   \n",
       "26               Montana              0.0             0.0             0.0   \n",
       "27              Nebraska              0.0             1.0             1.0   \n",
       "28                Nevada              0.0             1.0             0.0   \n",
       "29         New Hampshire              0.0             0.0             0.0   \n",
       "30            New Jersey              1.0             1.0             1.0   \n",
       "31            New Mexico              0.0             1.0             0.0   \n",
       "32              New York              1.0             1.0             1.0   \n",
       "33        North Carolina              0.0             1.0             0.0   \n",
       "34          North Dakota              0.0             0.0             0.0   \n",
       "35                  Ohio              0.0             0.0             0.0   \n",
       "36              Oklahoma              0.0             0.0             0.0   \n",
       "37                Oregon              0.0             1.0             0.0   \n",
       "38          Pennsylvania              0.0             1.0             0.0   \n",
       "39          Rhode Island              0.0             1.0             0.0   \n",
       "40        South Carolina              0.0             0.0             0.0   \n",
       "41          South Dakota              0.0             0.0             0.0   \n",
       "42             Tennessee              0.0             0.0             0.0   \n",
       "43                 Texas              0.0             0.0             0.0   \n",
       "44                  Utah              0.0             0.0             0.0   \n",
       "45               Vermont              0.0             1.0             0.0   \n",
       "46              Virginia              1.0             1.0             0.0   \n",
       "47            Washington              1.0             1.0             0.5   \n",
       "48         West Virginia              0.0             0.0             0.0   \n",
       "49             Wisconsin              0.0             0.0             0.0   \n",
       "50               Wyoming              0.0             0.0             0.0   \n",
       "51    Gun safety ranking             12.0            22.0             9.0   \n",
       "\n",
       "    Mag cap restrict?  NFA weap restrict?  Open carry?  Owner license?  \\\n",
       "0                 0.0                 0.0          NaN             0.0   \n",
       "1                 0.0                 0.0          NaN             0.0   \n",
       "2                 0.0                 0.0          NaN             0.0   \n",
       "3                 0.0                 0.0          NaN             0.0   \n",
       "4                 1.0                 1.0          1.0             0.0   \n",
       "5                 1.0                 0.0          NaN             0.0   \n",
       "6                 1.0                 0.0          NaN             1.0   \n",
       "7                 1.0                 1.0          NaN             0.0   \n",
       "8                 1.0                 1.0          1.0             1.0   \n",
       "9                 0.0                 0.0          NaN             0.0   \n",
       "10                0.0                 0.0          NaN             0.0   \n",
       "11                1.0                 1.0          NaN             0.0   \n",
       "12                0.0                 0.0          NaN             0.0   \n",
       "13                1.0                 1.0          1.0             1.0   \n",
       "14                0.0                 0.0          NaN             0.0   \n",
       "15                0.0                 1.0          NaN             0.0   \n",
       "16                0.0                 0.0          NaN             0.0   \n",
       "17                0.0                 0.0          NaN             0.0   \n",
       "18                0.0                 0.0          NaN             0.0   \n",
       "19                0.0                 0.0          NaN             0.0   \n",
       "20                1.0                 0.0          NaN             0.0   \n",
       "21                1.0                 1.0          NaN             1.0   \n",
       "22                0.0                 0.0          NaN             0.0   \n",
       "23                0.0                 1.0          NaN             0.0   \n",
       "24                0.0                 0.0          NaN             0.0   \n",
       "25                0.0                 0.0          NaN             0.0   \n",
       "26                0.0                 0.0          NaN             0.0   \n",
       "27                0.0                 0.0          NaN             0.0   \n",
       "28                0.0                 0.0          NaN             0.0   \n",
       "29                0.0                 0.0          NaN             0.0   \n",
       "30                1.0                 1.0          NaN             0.0   \n",
       "31                0.0                 0.0          NaN             0.0   \n",
       "32                1.0                 1.0          1.0             1.0   \n",
       "33                0.0                 0.0          NaN             0.0   \n",
       "34                0.0                 0.0          NaN             0.0   \n",
       "35                0.0                 0.0          NaN             0.0   \n",
       "36                0.0                 0.0          NaN             0.0   \n",
       "37                0.0                 0.0          NaN             0.0   \n",
       "38                0.0                 0.0          NaN             0.0   \n",
       "39                0.0                 1.0          NaN             0.0   \n",
       "40                0.0                 0.0          NaN             0.0   \n",
       "41                0.0                 0.0          NaN             0.0   \n",
       "42                0.0                 0.0          NaN             0.0   \n",
       "43                0.0                 0.0          NaN             0.0   \n",
       "44                0.0                 0.0          NaN             0.0   \n",
       "45                1.0                 0.0          NaN             0.0   \n",
       "46                0.0                 0.0          NaN             0.0   \n",
       "47                1.0                 0.5          NaN             0.0   \n",
       "48                0.0                 0.0          NaN             0.0   \n",
       "49                0.0                 0.0          NaN             0.0   \n",
       "50                0.0                 0.0          NaN             0.0   \n",
       "51               13.0                11.5          4.0             5.0   \n",
       "\n",
       "    Conceal carry permit?  Open carry permit?  Purch permit?  \\\n",
       "0                     0.0                 0.0            0.0   \n",
       "1                     0.0                 0.0            0.0   \n",
       "2                     0.0                 0.0            0.0   \n",
       "3                     0.0                 0.0            0.0   \n",
       "4                     1.0                 NaN            0.5   \n",
       "5                     1.0                 0.0            0.0   \n",
       "6                     1.0                 1.0            1.0   \n",
       "7                     1.0                 0.0            0.0   \n",
       "8                     1.0                 NaN            1.0   \n",
       "9                     1.0                 0.0            0.0   \n",
       "10                    0.0                 0.0            0.0   \n",
       "11                    1.0                 1.0            1.0   \n",
       "12                    0.0                 0.0            0.0   \n",
       "13                    1.0                 NaN            1.0   \n",
       "14                    0.0                 0.0            0.0   \n",
       "15                    0.0                 0.0            0.0   \n",
       "16                    0.0                 0.0            0.0   \n",
       "17                    0.0                 0.0            0.0   \n",
       "18                    1.0                 0.0            0.0   \n",
       "19                    0.0                 0.0            0.0   \n",
       "20                    1.0                 1.0            1.0   \n",
       "21                    1.0                 1.0            1.0   \n",
       "22                    1.0                 0.0            1.0   \n",
       "23                    1.0                 1.0            1.0   \n",
       "24                    0.0                 0.0            0.0   \n",
       "25                    0.0                 0.0            0.0   \n",
       "26                    0.0                 0.0            0.0   \n",
       "27                    1.0                 0.0            1.0   \n",
       "28                    1.0                 0.0            0.0   \n",
       "29                    0.0                 0.0            0.0   \n",
       "30                    1.0                 1.0            1.0   \n",
       "31                    1.0                 0.0            0.0   \n",
       "32                    1.0                 NaN            1.0   \n",
       "33                    1.0                 0.0            1.0   \n",
       "34                    0.0                 1.0            0.0   \n",
       "35                    0.0                 0.0            0.0   \n",
       "36                    0.0                 0.0            0.0   \n",
       "37                    1.0                 0.0            0.0   \n",
       "38                    1.0                 0.0            0.0   \n",
       "39                    1.0                 1.0            1.0   \n",
       "40                    1.0                 1.0            0.0   \n",
       "41                    0.0                 0.0            0.0   \n",
       "42                    0.0                 0.0            0.0   \n",
       "43                    0.0                 0.0            0.0   \n",
       "44                    0.0                 0.0            0.0   \n",
       "45                    0.0                 0.0            0.0   \n",
       "46                    1.0                 0.0            0.0   \n",
       "47                    1.0                 0.0            0.0   \n",
       "48                    0.0                 0.0            0.0   \n",
       "49                    1.0                 0.0            1.0   \n",
       "50                    0.0                 0.0            0.0   \n",
       "51                   26.0                 9.0           14.5   \n",
       "\n",
       "    Gun safety ranking  Total shot  POPESTIMATE2022  \\\n",
       "0                  0.0        35.0        5074296.0   \n",
       "1                  0.0         4.0         733583.0   \n",
       "2                  0.0        54.0        7359197.0   \n",
       "3                  0.0        13.0        3045637.0   \n",
       "4                  7.5       273.0       39029342.0   \n",
       "5                  3.0       131.0        5839926.0   \n",
       "6                  7.5        39.0        3626205.0   \n",
       "7                  5.0         4.0        1018396.0   \n",
       "8                  9.0        25.0         671803.0   \n",
       "9                  1.0       224.0       22244823.0   \n",
       "10                 0.0        42.0       10912876.0   \n",
       "11                 8.0         NaN        1440196.0   \n",
       "12                 0.0         4.0        1939033.0   \n",
       "13                 8.0       135.0       12582032.0   \n",
       "14                 0.0        45.0        6833037.0   \n",
       "15                 1.0         NaN        3200517.0   \n",
       "16                 0.0        30.0        2937150.0   \n",
       "17                 0.0         9.0        4512310.0   \n",
       "18                 1.0         NaN              NaN   \n",
       "19                 0.0         4.0        1385340.0   \n",
       "20                 7.0        24.0        6164660.0   \n",
       "21                 8.0         9.0        6981974.0   \n",
       "22                 4.0        48.0       10034113.0   \n",
       "23                 4.0        20.0        5717184.0   \n",
       "24                 0.0        20.0        2940057.0   \n",
       "25                 0.0        36.0        6177957.0   \n",
       "26                 0.0         4.0        1122867.0   \n",
       "27                 4.0         NaN        1967923.0   \n",
       "28                 2.0       491.0        3177772.0   \n",
       "29                 0.0         NaN        1395231.0   \n",
       "30                 8.0        18.0        9261699.0   \n",
       "31                 2.0        21.0        2113344.0   \n",
       "32                 9.0        53.0       19677151.0   \n",
       "33                 3.0        54.0       10698973.0   \n",
       "34                 1.0         8.0         779261.0   \n",
       "35                 0.0        95.0       11756058.0   \n",
       "36                 0.0        37.0        4019800.0   \n",
       "37                 2.0        18.0        4240137.0   \n",
       "38                 2.0        50.0       12972008.0   \n",
       "39                 5.0         NaN        1093734.0   \n",
       "40                 2.0        42.0        5282634.0   \n",
       "41                 0.0         5.0         909824.0   \n",
       "42                 0.0        27.0        7051339.0   \n",
       "43                 0.0       402.0       30029572.0   \n",
       "44                 0.0        16.0        3380800.0   \n",
       "45                 2.0         4.0         647064.0   \n",
       "46                 3.0        63.0        8683619.0   \n",
       "47                 5.0        48.0        7785786.0   \n",
       "48                 0.0        22.0        1775156.0   \n",
       "49                 2.0        40.0        5892539.0   \n",
       "50                 0.0         5.0         581381.0   \n",
       "51               126.0         NaN              NaN   \n",
       "\n",
       "    Total shot / 2022 state pop  \n",
       "0                      0.000690  \n",
       "1                      0.000545  \n",
       "2                      0.000734  \n",
       "3                      0.000427  \n",
       "4                      0.000699  \n",
       "5                      0.002243  \n",
       "6                      0.001076  \n",
       "7                      0.000393  \n",
       "8                      0.003721  \n",
       "9                      0.001007  \n",
       "10                     0.000385  \n",
       "11                          NaN  \n",
       "12                     0.000206  \n",
       "13                     0.001073  \n",
       "14                     0.000659  \n",
       "15                          NaN  \n",
       "16                     0.001021  \n",
       "17                     0.000199  \n",
       "18                          NaN  \n",
       "19                     0.000289  \n",
       "20                     0.000389  \n",
       "21                     0.000129  \n",
       "22                     0.000478  \n",
       "23                     0.000350  \n",
       "24                     0.000680  \n",
       "25                     0.000583  \n",
       "26                     0.000356  \n",
       "27                          NaN  \n",
       "28                     0.015451  \n",
       "29                          NaN  \n",
       "30                     0.000194  \n",
       "31                     0.000994  \n",
       "32                     0.000269  \n",
       "33                     0.000505  \n",
       "34                     0.001027  \n",
       "35                     0.000808  \n",
       "36                     0.000920  \n",
       "37                     0.000425  \n",
       "38                     0.000385  \n",
       "39                          NaN  \n",
       "40                     0.000795  \n",
       "41                     0.000550  \n",
       "42                     0.000383  \n",
       "43                     0.001339  \n",
       "44                     0.000473  \n",
       "45                     0.000618  \n",
       "46                     0.000726  \n",
       "47                     0.000617  \n",
       "48                     0.001239  \n",
       "49                     0.000679  \n",
       "50                     0.000860  \n",
       "51                          NaN  "
      ]
     },
     "execution_count": 80,
     "metadata": {},
     "output_type": "execute_result"
    }
   ],
   "source": [
    "merge_df2['Total shot / 2022 state pop'] = merge_df2['Total shot'] / merge_df2['POPESTIMATE2022'] * 100\n",
    "merge_df2"
   ]
  },
  {
   "cell_type": "code",
   "execution_count": 81,
   "id": "6a605880",
   "metadata": {},
   "outputs": [
    {
     "data": {
      "application/vnd.plotly.v1+json": {
       "config": {
        "plotlyServerURL": "https://plot.ly"
       },
       "data": [
        {
         "hovertemplate": "State=Alabama<br>Gun safety ranking=%{x}<br>Total shot / 2022 state pop=%{y}<extra></extra>",
         "legendgroup": "Alabama",
         "marker": {
          "color": "#636efa",
          "symbol": "circle"
         },
         "mode": "markers",
         "name": "Alabama",
         "orientation": "v",
         "showlegend": true,
         "type": "scatter",
         "x": [
          0
         ],
         "xaxis": "x",
         "y": [
          0.000689750854108629
         ],
         "yaxis": "y"
        },
        {
         "hovertemplate": "State=Alabama<extra></extra>",
         "legendgroup": "Alabama",
         "marker": {
          "color": "#636efa",
          "symbol": "circle"
         },
         "mode": "lines",
         "name": "Alabama",
         "showlegend": false,
         "type": "scatter",
         "xaxis": "x",
         "yaxis": "y"
        },
        {
         "hovertemplate": "State=Alaska<br>Gun safety ranking=%{x}<br>Total shot / 2022 state pop=%{y}<extra></extra>",
         "legendgroup": "Alaska",
         "marker": {
          "color": "#EF553B",
          "symbol": "circle"
         },
         "mode": "markers",
         "name": "Alaska",
         "orientation": "v",
         "showlegend": true,
         "type": "scatter",
         "x": [
          0
         ],
         "xaxis": "x",
         "y": [
          0.0005452689061769425
         ],
         "yaxis": "y"
        },
        {
         "hovertemplate": "State=Alaska<extra></extra>",
         "legendgroup": "Alaska",
         "marker": {
          "color": "#EF553B",
          "symbol": "circle"
         },
         "mode": "lines",
         "name": "Alaska",
         "showlegend": false,
         "type": "scatter",
         "xaxis": "x",
         "yaxis": "y"
        },
        {
         "hovertemplate": "State=Arizona<br>Gun safety ranking=%{x}<br>Total shot / 2022 state pop=%{y}<extra></extra>",
         "legendgroup": "Arizona",
         "marker": {
          "color": "#00cc96",
          "symbol": "circle"
         },
         "mode": "markers",
         "name": "Arizona",
         "orientation": "v",
         "showlegend": true,
         "type": "scatter",
         "x": [
          0
         ],
         "xaxis": "x",
         "y": [
          0.000733775709496566
         ],
         "yaxis": "y"
        },
        {
         "hovertemplate": "State=Arizona<extra></extra>",
         "legendgroup": "Arizona",
         "marker": {
          "color": "#00cc96",
          "symbol": "circle"
         },
         "mode": "lines",
         "name": "Arizona",
         "showlegend": false,
         "type": "scatter",
         "xaxis": "x",
         "yaxis": "y"
        },
        {
         "hovertemplate": "State=Arkansas<br>Gun safety ranking=%{x}<br>Total shot / 2022 state pop=%{y}<extra></extra>",
         "legendgroup": "Arkansas",
         "marker": {
          "color": "#ab63fa",
          "symbol": "circle"
         },
         "mode": "markers",
         "name": "Arkansas",
         "orientation": "v",
         "showlegend": true,
         "type": "scatter",
         "x": [
          0
         ],
         "xaxis": "x",
         "y": [
          0.00042684009946031
         ],
         "yaxis": "y"
        },
        {
         "hovertemplate": "State=Arkansas<extra></extra>",
         "legendgroup": "Arkansas",
         "marker": {
          "color": "#ab63fa",
          "symbol": "circle"
         },
         "mode": "lines",
         "name": "Arkansas",
         "showlegend": false,
         "type": "scatter",
         "xaxis": "x",
         "yaxis": "y"
        },
        {
         "hovertemplate": "State=California<br>Gun safety ranking=%{x}<br>Total shot / 2022 state pop=%{y}<extra></extra>",
         "legendgroup": "California",
         "marker": {
          "color": "#FFA15A",
          "symbol": "circle"
         },
         "mode": "markers",
         "name": "California",
         "orientation": "v",
         "showlegend": true,
         "type": "scatter",
         "x": [
          7.5
         ],
         "xaxis": "x",
         "y": [
          0.0006994737446508834
         ],
         "yaxis": "y"
        },
        {
         "hovertemplate": "State=California<extra></extra>",
         "legendgroup": "California",
         "marker": {
          "color": "#FFA15A",
          "symbol": "circle"
         },
         "mode": "lines",
         "name": "California",
         "showlegend": false,
         "type": "scatter",
         "xaxis": "x",
         "yaxis": "y"
        },
        {
         "hovertemplate": "State=Colorado<br>Gun safety ranking=%{x}<br>Total shot / 2022 state pop=%{y}<extra></extra>",
         "legendgroup": "Colorado",
         "marker": {
          "color": "#19d3f3",
          "symbol": "circle"
         },
         "mode": "markers",
         "name": "Colorado",
         "orientation": "v",
         "showlegend": true,
         "type": "scatter",
         "x": [
          3
         ],
         "xaxis": "x",
         "y": [
          0.002243179108776378
         ],
         "yaxis": "y"
        },
        {
         "hovertemplate": "State=Colorado<extra></extra>",
         "legendgroup": "Colorado",
         "marker": {
          "color": "#19d3f3",
          "symbol": "circle"
         },
         "mode": "lines",
         "name": "Colorado",
         "showlegend": false,
         "type": "scatter",
         "xaxis": "x",
         "yaxis": "y"
        },
        {
         "hovertemplate": "State=Connecticut<br>Gun safety ranking=%{x}<br>Total shot / 2022 state pop=%{y}<extra></extra>",
         "legendgroup": "Connecticut",
         "marker": {
          "color": "#FF6692",
          "symbol": "circle"
         },
         "mode": "markers",
         "name": "Connecticut",
         "orientation": "v",
         "showlegend": true,
         "type": "scatter",
         "x": [
          7.5
         ],
         "xaxis": "x",
         "y": [
          0.0010755045564164187
         ],
         "yaxis": "y"
        },
        {
         "hovertemplate": "State=Connecticut<extra></extra>",
         "legendgroup": "Connecticut",
         "marker": {
          "color": "#FF6692",
          "symbol": "circle"
         },
         "mode": "lines",
         "name": "Connecticut",
         "showlegend": false,
         "type": "scatter",
         "xaxis": "x",
         "yaxis": "y"
        },
        {
         "hovertemplate": "State=Delaware<br>Gun safety ranking=%{x}<br>Total shot / 2022 state pop=%{y}<extra></extra>",
         "legendgroup": "Delaware",
         "marker": {
          "color": "#B6E880",
          "symbol": "circle"
         },
         "mode": "markers",
         "name": "Delaware",
         "orientation": "v",
         "showlegend": true,
         "type": "scatter",
         "x": [
          5
         ],
         "xaxis": "x",
         "y": [
          0.000392774519931343
         ],
         "yaxis": "y"
        },
        {
         "hovertemplate": "State=Delaware<extra></extra>",
         "legendgroup": "Delaware",
         "marker": {
          "color": "#B6E880",
          "symbol": "circle"
         },
         "mode": "lines",
         "name": "Delaware",
         "showlegend": false,
         "type": "scatter",
         "xaxis": "x",
         "yaxis": "y"
        },
        {
         "hovertemplate": "State=District of Columbia<br>Gun safety ranking=%{x}<br>Total shot / 2022 state pop=%{y}<extra></extra>",
         "legendgroup": "District of Columbia",
         "marker": {
          "color": "#FF97FF",
          "symbol": "circle"
         },
         "mode": "markers",
         "name": "District of Columbia",
         "orientation": "v",
         "showlegend": true,
         "type": "scatter",
         "x": [
          9
         ],
         "xaxis": "x",
         "y": [
          0.003721329020561087
         ],
         "yaxis": "y"
        },
        {
         "hovertemplate": "State=District of Columbia<extra></extra>",
         "legendgroup": "District of Columbia",
         "marker": {
          "color": "#FF97FF",
          "symbol": "circle"
         },
         "mode": "lines",
         "name": "District of Columbia",
         "showlegend": false,
         "type": "scatter",
         "xaxis": "x",
         "yaxis": "y"
        },
        {
         "hovertemplate": "State=Florida<br>Gun safety ranking=%{x}<br>Total shot / 2022 state pop=%{y}<extra></extra>",
         "legendgroup": "Florida",
         "marker": {
          "color": "#FECB52",
          "symbol": "circle"
         },
         "mode": "markers",
         "name": "Florida",
         "orientation": "v",
         "showlegend": true,
         "type": "scatter",
         "x": [
          1
         ],
         "xaxis": "x",
         "y": [
          0.0010069758702957537
         ],
         "yaxis": "y"
        },
        {
         "hovertemplate": "State=Florida<extra></extra>",
         "legendgroup": "Florida",
         "marker": {
          "color": "#FECB52",
          "symbol": "circle"
         },
         "mode": "lines",
         "name": "Florida",
         "showlegend": false,
         "type": "scatter",
         "xaxis": "x",
         "yaxis": "y"
        },
        {
         "hovertemplate": "State=Georgia<br>Gun safety ranking=%{x}<br>Total shot / 2022 state pop=%{y}<extra></extra>",
         "legendgroup": "Georgia",
         "marker": {
          "color": "#636efa",
          "symbol": "circle"
         },
         "mode": "markers",
         "name": "Georgia",
         "orientation": "v",
         "showlegend": true,
         "type": "scatter",
         "x": [
          0
         ],
         "xaxis": "x",
         "y": [
          0.0003848664641658166
         ],
         "yaxis": "y"
        },
        {
         "hovertemplate": "State=Georgia<extra></extra>",
         "legendgroup": "Georgia",
         "marker": {
          "color": "#636efa",
          "symbol": "circle"
         },
         "mode": "lines",
         "name": "Georgia",
         "showlegend": false,
         "type": "scatter",
         "xaxis": "x",
         "yaxis": "y"
        },
        {
         "hovertemplate": "State=Hawaii<br>Gun safety ranking=%{x}<br>Total shot / 2022 state pop=%{y}<extra></extra>",
         "legendgroup": "Hawaii",
         "marker": {
          "color": "#EF553B",
          "symbol": "circle"
         },
         "mode": "markers",
         "name": "Hawaii",
         "orientation": "v",
         "showlegend": true,
         "type": "scatter",
         "x": [
          8
         ],
         "xaxis": "x",
         "y": [
          null
         ],
         "yaxis": "y"
        },
        {
         "hovertemplate": "State=Hawaii<extra></extra>",
         "legendgroup": "Hawaii",
         "marker": {
          "color": "#EF553B",
          "symbol": "circle"
         },
         "mode": "lines",
         "name": "Hawaii",
         "showlegend": false,
         "type": "scatter",
         "xaxis": "x",
         "yaxis": "y"
        },
        {
         "hovertemplate": "State=Idaho<br>Gun safety ranking=%{x}<br>Total shot / 2022 state pop=%{y}<extra></extra>",
         "legendgroup": "Idaho",
         "marker": {
          "color": "#00cc96",
          "symbol": "circle"
         },
         "mode": "markers",
         "name": "Idaho",
         "orientation": "v",
         "showlegend": true,
         "type": "scatter",
         "x": [
          0
         ],
         "xaxis": "x",
         "y": [
          0.0002062883922037428
         ],
         "yaxis": "y"
        },
        {
         "hovertemplate": "State=Idaho<extra></extra>",
         "legendgroup": "Idaho",
         "marker": {
          "color": "#00cc96",
          "symbol": "circle"
         },
         "mode": "lines",
         "name": "Idaho",
         "showlegend": false,
         "type": "scatter",
         "xaxis": "x",
         "yaxis": "y"
        },
        {
         "hovertemplate": "State=Illinois<br>Gun safety ranking=%{x}<br>Total shot / 2022 state pop=%{y}<extra></extra>",
         "legendgroup": "Illinois",
         "marker": {
          "color": "#ab63fa",
          "symbol": "circle"
         },
         "mode": "markers",
         "name": "Illinois",
         "orientation": "v",
         "showlegend": true,
         "type": "scatter",
         "x": [
          8
         ],
         "xaxis": "x",
         "y": [
          0.001072958644517833
         ],
         "yaxis": "y"
        },
        {
         "hovertemplate": "State=Illinois<extra></extra>",
         "legendgroup": "Illinois",
         "marker": {
          "color": "#ab63fa",
          "symbol": "circle"
         },
         "mode": "lines",
         "name": "Illinois",
         "showlegend": false,
         "type": "scatter",
         "xaxis": "x",
         "yaxis": "y"
        },
        {
         "hovertemplate": "State=Indiana<br>Gun safety ranking=%{x}<br>Total shot / 2022 state pop=%{y}<extra></extra>",
         "legendgroup": "Indiana",
         "marker": {
          "color": "#FFA15A",
          "symbol": "circle"
         },
         "mode": "markers",
         "name": "Indiana",
         "orientation": "v",
         "showlegend": true,
         "type": "scatter",
         "x": [
          0
         ],
         "xaxis": "x",
         "y": [
          0.0006585651446055392
         ],
         "yaxis": "y"
        },
        {
         "hovertemplate": "State=Indiana<extra></extra>",
         "legendgroup": "Indiana",
         "marker": {
          "color": "#FFA15A",
          "symbol": "circle"
         },
         "mode": "lines",
         "name": "Indiana",
         "showlegend": false,
         "type": "scatter",
         "xaxis": "x",
         "yaxis": "y"
        },
        {
         "hovertemplate": "State=Iowa<br>Gun safety ranking=%{x}<br>Total shot / 2022 state pop=%{y}<extra></extra>",
         "legendgroup": "Iowa",
         "marker": {
          "color": "#19d3f3",
          "symbol": "circle"
         },
         "mode": "markers",
         "name": "Iowa",
         "orientation": "v",
         "showlegend": true,
         "type": "scatter",
         "x": [
          1
         ],
         "xaxis": "x",
         "y": [
          null
         ],
         "yaxis": "y"
        },
        {
         "hovertemplate": "State=Iowa<extra></extra>",
         "legendgroup": "Iowa",
         "marker": {
          "color": "#19d3f3",
          "symbol": "circle"
         },
         "mode": "lines",
         "name": "Iowa",
         "showlegend": false,
         "type": "scatter",
         "xaxis": "x",
         "yaxis": "y"
        },
        {
         "hovertemplate": "State=Kansas<br>Gun safety ranking=%{x}<br>Total shot / 2022 state pop=%{y}<extra></extra>",
         "legendgroup": "Kansas",
         "marker": {
          "color": "#FF6692",
          "symbol": "circle"
         },
         "mode": "markers",
         "name": "Kansas",
         "orientation": "v",
         "showlegend": true,
         "type": "scatter",
         "x": [
          0
         ],
         "xaxis": "x",
         "y": [
          0.0010213982942648486
         ],
         "yaxis": "y"
        },
        {
         "hovertemplate": "State=Kansas<extra></extra>",
         "legendgroup": "Kansas",
         "marker": {
          "color": "#FF6692",
          "symbol": "circle"
         },
         "mode": "lines",
         "name": "Kansas",
         "showlegend": false,
         "type": "scatter",
         "xaxis": "x",
         "yaxis": "y"
        },
        {
         "hovertemplate": "State=Kentucky<br>Gun safety ranking=%{x}<br>Total shot / 2022 state pop=%{y}<extra></extra>",
         "legendgroup": "Kentucky",
         "marker": {
          "color": "#B6E880",
          "symbol": "circle"
         },
         "mode": "markers",
         "name": "Kentucky",
         "orientation": "v",
         "showlegend": true,
         "type": "scatter",
         "x": [
          0
         ],
         "xaxis": "x",
         "y": [
          0.00019945438145872068
         ],
         "yaxis": "y"
        },
        {
         "hovertemplate": "State=Kentucky<extra></extra>",
         "legendgroup": "Kentucky",
         "marker": {
          "color": "#B6E880",
          "symbol": "circle"
         },
         "mode": "lines",
         "name": "Kentucky",
         "showlegend": false,
         "type": "scatter",
         "xaxis": "x",
         "yaxis": "y"
        },
        {
         "hovertemplate": "State=Lousiana<br>Gun safety ranking=%{x}<br>Total shot / 2022 state pop=%{y}<extra></extra>",
         "legendgroup": "Lousiana",
         "marker": {
          "color": "#FF97FF",
          "symbol": "circle"
         },
         "mode": "markers",
         "name": "Lousiana",
         "orientation": "v",
         "showlegend": true,
         "type": "scatter",
         "x": [
          1
         ],
         "xaxis": "x",
         "y": [
          null
         ],
         "yaxis": "y"
        },
        {
         "hovertemplate": "State=Lousiana<extra></extra>",
         "legendgroup": "Lousiana",
         "marker": {
          "color": "#FF97FF",
          "symbol": "circle"
         },
         "mode": "lines",
         "name": "Lousiana",
         "showlegend": false,
         "type": "scatter",
         "xaxis": "x",
         "yaxis": "y"
        },
        {
         "hovertemplate": "State=Maine<br>Gun safety ranking=%{x}<br>Total shot / 2022 state pop=%{y}<extra></extra>",
         "legendgroup": "Maine",
         "marker": {
          "color": "#FECB52",
          "symbol": "circle"
         },
         "mode": "markers",
         "name": "Maine",
         "orientation": "v",
         "showlegend": true,
         "type": "scatter",
         "x": [
          0
         ],
         "xaxis": "x",
         "y": [
          0.000288737782782566
         ],
         "yaxis": "y"
        },
        {
         "hovertemplate": "State=Maine<extra></extra>",
         "legendgroup": "Maine",
         "marker": {
          "color": "#FECB52",
          "symbol": "circle"
         },
         "mode": "lines",
         "name": "Maine",
         "showlegend": false,
         "type": "scatter",
         "xaxis": "x",
         "yaxis": "y"
        },
        {
         "hovertemplate": "State=Maryland<br>Gun safety ranking=%{x}<br>Total shot / 2022 state pop=%{y}<extra></extra>",
         "legendgroup": "Maryland",
         "marker": {
          "color": "#636efa",
          "symbol": "circle"
         },
         "mode": "markers",
         "name": "Maryland",
         "orientation": "v",
         "showlegend": true,
         "type": "scatter",
         "x": [
          7
         ],
         "xaxis": "x",
         "y": [
          0.00038931587467922
         ],
         "yaxis": "y"
        },
        {
         "hovertemplate": "State=Maryland<extra></extra>",
         "legendgroup": "Maryland",
         "marker": {
          "color": "#636efa",
          "symbol": "circle"
         },
         "mode": "lines",
         "name": "Maryland",
         "showlegend": false,
         "type": "scatter",
         "xaxis": "x",
         "yaxis": "y"
        },
        {
         "hovertemplate": "State=Massachusetts<br>Gun safety ranking=%{x}<br>Total shot / 2022 state pop=%{y}<extra></extra>",
         "legendgroup": "Massachusetts",
         "marker": {
          "color": "#EF553B",
          "symbol": "circle"
         },
         "mode": "markers",
         "name": "Massachusetts",
         "orientation": "v",
         "showlegend": true,
         "type": "scatter",
         "x": [
          8
         ],
         "xaxis": "x",
         "y": [
          0.00012890337317211437
         ],
         "yaxis": "y"
        },
        {
         "hovertemplate": "State=Massachusetts<extra></extra>",
         "legendgroup": "Massachusetts",
         "marker": {
          "color": "#EF553B",
          "symbol": "circle"
         },
         "mode": "lines",
         "name": "Massachusetts",
         "showlegend": false,
         "type": "scatter",
         "xaxis": "x",
         "yaxis": "y"
        },
        {
         "hovertemplate": "State=Michigan<br>Gun safety ranking=%{x}<br>Total shot / 2022 state pop=%{y}<extra></extra>",
         "legendgroup": "Michigan",
         "marker": {
          "color": "#00cc96",
          "symbol": "circle"
         },
         "mode": "markers",
         "name": "Michigan",
         "orientation": "v",
         "showlegend": true,
         "type": "scatter",
         "x": [
          4
         ],
         "xaxis": "x",
         "y": [
          0.0004783681427546212
         ],
         "yaxis": "y"
        },
        {
         "hovertemplate": "State=Michigan<extra></extra>",
         "legendgroup": "Michigan",
         "marker": {
          "color": "#00cc96",
          "symbol": "circle"
         },
         "mode": "lines",
         "name": "Michigan",
         "showlegend": false,
         "type": "scatter",
         "xaxis": "x",
         "yaxis": "y"
        },
        {
         "hovertemplate": "State=Minnesota<br>Gun safety ranking=%{x}<br>Total shot / 2022 state pop=%{y}<extra></extra>",
         "legendgroup": "Minnesota",
         "marker": {
          "color": "#ab63fa",
          "symbol": "circle"
         },
         "mode": "markers",
         "name": "Minnesota",
         "orientation": "v",
         "showlegend": true,
         "type": "scatter",
         "x": [
          4
         ],
         "xaxis": "x",
         "y": [
          0.0003498225699924998
         ],
         "yaxis": "y"
        },
        {
         "hovertemplate": "State=Minnesota<extra></extra>",
         "legendgroup": "Minnesota",
         "marker": {
          "color": "#ab63fa",
          "symbol": "circle"
         },
         "mode": "lines",
         "name": "Minnesota",
         "showlegend": false,
         "type": "scatter",
         "xaxis": "x",
         "yaxis": "y"
        },
        {
         "hovertemplate": "State=Mississippi<br>Gun safety ranking=%{x}<br>Total shot / 2022 state pop=%{y}<extra></extra>",
         "legendgroup": "Mississippi",
         "marker": {
          "color": "#FFA15A",
          "symbol": "circle"
         },
         "mode": "markers",
         "name": "Mississippi",
         "orientation": "v",
         "showlegend": true,
         "type": "scatter",
         "x": [
          0
         ],
         "xaxis": "x",
         "y": [
          0.0006802589201501876
         ],
         "yaxis": "y"
        },
        {
         "hovertemplate": "State=Mississippi<extra></extra>",
         "legendgroup": "Mississippi",
         "marker": {
          "color": "#FFA15A",
          "symbol": "circle"
         },
         "mode": "lines",
         "name": "Mississippi",
         "showlegend": false,
         "type": "scatter",
         "xaxis": "x",
         "yaxis": "y"
        },
        {
         "hovertemplate": "State=Missouri<br>Gun safety ranking=%{x}<br>Total shot / 2022 state pop=%{y}<extra></extra>",
         "legendgroup": "Missouri",
         "marker": {
          "color": "#19d3f3",
          "symbol": "circle"
         },
         "mode": "markers",
         "name": "Missouri",
         "orientation": "v",
         "showlegend": true,
         "type": "scatter",
         "x": [
          0
         ],
         "xaxis": "x",
         "y": [
          0.000582716907871
         ],
         "yaxis": "y"
        },
        {
         "hovertemplate": "State=Missouri<extra></extra>",
         "legendgroup": "Missouri",
         "marker": {
          "color": "#19d3f3",
          "symbol": "circle"
         },
         "mode": "lines",
         "name": "Missouri",
         "showlegend": false,
         "type": "scatter",
         "xaxis": "x",
         "yaxis": "y"
        },
        {
         "hovertemplate": "State=Montana<br>Gun safety ranking=%{x}<br>Total shot / 2022 state pop=%{y}<extra></extra>",
         "legendgroup": "Montana",
         "marker": {
          "color": "#FF6692",
          "symbol": "circle"
         },
         "mode": "markers",
         "name": "Montana",
         "orientation": "v",
         "showlegend": true,
         "type": "scatter",
         "x": [
          0
         ],
         "xaxis": "x",
         "y": [
          0.00035623096947367763
         ],
         "yaxis": "y"
        },
        {
         "hovertemplate": "State=Montana<extra></extra>",
         "legendgroup": "Montana",
         "marker": {
          "color": "#FF6692",
          "symbol": "circle"
         },
         "mode": "lines",
         "name": "Montana",
         "showlegend": false,
         "type": "scatter",
         "xaxis": "x",
         "yaxis": "y"
        },
        {
         "hovertemplate": "State=Nebraska<br>Gun safety ranking=%{x}<br>Total shot / 2022 state pop=%{y}<extra></extra>",
         "legendgroup": "Nebraska",
         "marker": {
          "color": "#B6E880",
          "symbol": "circle"
         },
         "mode": "markers",
         "name": "Nebraska",
         "orientation": "v",
         "showlegend": true,
         "type": "scatter",
         "x": [
          4
         ],
         "xaxis": "x",
         "y": [
          null
         ],
         "yaxis": "y"
        },
        {
         "hovertemplate": "State=Nebraska<extra></extra>",
         "legendgroup": "Nebraska",
         "marker": {
          "color": "#B6E880",
          "symbol": "circle"
         },
         "mode": "lines",
         "name": "Nebraska",
         "showlegend": false,
         "type": "scatter",
         "xaxis": "x",
         "yaxis": "y"
        },
        {
         "hovertemplate": "State=Nevada<br>Gun safety ranking=%{x}<br>Total shot / 2022 state pop=%{y}<extra></extra>",
         "legendgroup": "Nevada",
         "marker": {
          "color": "#FF97FF",
          "symbol": "circle"
         },
         "mode": "markers",
         "name": "Nevada",
         "orientation": "v",
         "showlegend": true,
         "type": "scatter",
         "x": [
          2
         ],
         "xaxis": "x",
         "y": [
          0.015451077043916302
         ],
         "yaxis": "y"
        },
        {
         "hovertemplate": "State=Nevada<extra></extra>",
         "legendgroup": "Nevada",
         "marker": {
          "color": "#FF97FF",
          "symbol": "circle"
         },
         "mode": "lines",
         "name": "Nevada",
         "showlegend": false,
         "type": "scatter",
         "xaxis": "x",
         "yaxis": "y"
        },
        {
         "hovertemplate": "State=New Hampshire<br>Gun safety ranking=%{x}<br>Total shot / 2022 state pop=%{y}<extra></extra>",
         "legendgroup": "New Hampshire",
         "marker": {
          "color": "#FECB52",
          "symbol": "circle"
         },
         "mode": "markers",
         "name": "New Hampshire",
         "orientation": "v",
         "showlegend": true,
         "type": "scatter",
         "x": [
          0
         ],
         "xaxis": "x",
         "y": [
          null
         ],
         "yaxis": "y"
        },
        {
         "hovertemplate": "State=New Hampshire<extra></extra>",
         "legendgroup": "New Hampshire",
         "marker": {
          "color": "#FECB52",
          "symbol": "circle"
         },
         "mode": "lines",
         "name": "New Hampshire",
         "showlegend": false,
         "type": "scatter",
         "xaxis": "x",
         "yaxis": "y"
        },
        {
         "hovertemplate": "State=New Jersey<br>Gun safety ranking=%{x}<br>Total shot / 2022 state pop=%{y}<extra></extra>",
         "legendgroup": "New Jersey",
         "marker": {
          "color": "#636efa",
          "symbol": "circle"
         },
         "mode": "markers",
         "name": "New Jersey",
         "orientation": "v",
         "showlegend": true,
         "type": "scatter",
         "x": [
          8
         ],
         "xaxis": "x",
         "y": [
          0.00019434879064845445
         ],
         "yaxis": "y"
        },
        {
         "hovertemplate": "State=New Jersey<extra></extra>",
         "legendgroup": "New Jersey",
         "marker": {
          "color": "#636efa",
          "symbol": "circle"
         },
         "mode": "lines",
         "name": "New Jersey",
         "showlegend": false,
         "type": "scatter",
         "xaxis": "x",
         "yaxis": "y"
        },
        {
         "hovertemplate": "State=New Mexico<br>Gun safety ranking=%{x}<br>Total shot / 2022 state pop=%{y}<extra></extra>",
         "legendgroup": "New Mexico",
         "marker": {
          "color": "#EF553B",
          "symbol": "circle"
         },
         "mode": "markers",
         "name": "New Mexico",
         "orientation": "v",
         "showlegend": true,
         "type": "scatter",
         "x": [
          2
         ],
         "xaxis": "x",
         "y": [
          0.0009936858362859999
         ],
         "yaxis": "y"
        },
        {
         "hovertemplate": "State=New Mexico<extra></extra>",
         "legendgroup": "New Mexico",
         "marker": {
          "color": "#EF553B",
          "symbol": "circle"
         },
         "mode": "lines",
         "name": "New Mexico",
         "showlegend": false,
         "type": "scatter",
         "xaxis": "x",
         "yaxis": "y"
        },
        {
         "hovertemplate": "State=New York<br>Gun safety ranking=%{x}<br>Total shot / 2022 state pop=%{y}<extra></extra>",
         "legendgroup": "New York",
         "marker": {
          "color": "#00cc96",
          "symbol": "circle"
         },
         "mode": "markers",
         "name": "New York",
         "orientation": "v",
         "showlegend": true,
         "type": "scatter",
         "x": [
          9
         ],
         "xaxis": "x",
         "y": [
          0.00026934793558274774
         ],
         "yaxis": "y"
        },
        {
         "hovertemplate": "State=New York<extra></extra>",
         "legendgroup": "New York",
         "marker": {
          "color": "#00cc96",
          "symbol": "circle"
         },
         "mode": "lines",
         "name": "New York",
         "showlegend": false,
         "type": "scatter",
         "xaxis": "x",
         "yaxis": "y"
        },
        {
         "hovertemplate": "State=North Carolina<br>Gun safety ranking=%{x}<br>Total shot / 2022 state pop=%{y}<extra></extra>",
         "legendgroup": "North Carolina",
         "marker": {
          "color": "#ab63fa",
          "symbol": "circle"
         },
         "mode": "markers",
         "name": "North Carolina",
         "orientation": "v",
         "showlegend": true,
         "type": "scatter",
         "x": [
          3
         ],
         "xaxis": "x",
         "y": [
          0.000504721341010955
         ],
         "yaxis": "y"
        },
        {
         "hovertemplate": "State=North Carolina<extra></extra>",
         "legendgroup": "North Carolina",
         "marker": {
          "color": "#ab63fa",
          "symbol": "circle"
         },
         "mode": "lines",
         "name": "North Carolina",
         "showlegend": false,
         "type": "scatter",
         "xaxis": "x",
         "yaxis": "y"
        },
        {
         "hovertemplate": "State=North Dakota<br>Gun safety ranking=%{x}<br>Total shot / 2022 state pop=%{y}<extra></extra>",
         "legendgroup": "North Dakota",
         "marker": {
          "color": "#FFA15A",
          "symbol": "circle"
         },
         "mode": "markers",
         "name": "North Dakota",
         "orientation": "v",
         "showlegend": true,
         "type": "scatter",
         "x": [
          1
         ],
         "xaxis": "x",
         "y": [
          0.001026613676290742
         ],
         "yaxis": "y"
        },
        {
         "hovertemplate": "State=North Dakota<extra></extra>",
         "legendgroup": "North Dakota",
         "marker": {
          "color": "#FFA15A",
          "symbol": "circle"
         },
         "mode": "lines",
         "name": "North Dakota",
         "showlegend": false,
         "type": "scatter",
         "xaxis": "x",
         "yaxis": "y"
        },
        {
         "hovertemplate": "State=Ohio<br>Gun safety ranking=%{x}<br>Total shot / 2022 state pop=%{y}<extra></extra>",
         "legendgroup": "Ohio",
         "marker": {
          "color": "#19d3f3",
          "symbol": "circle"
         },
         "mode": "markers",
         "name": "Ohio",
         "orientation": "v",
         "showlegend": true,
         "type": "scatter",
         "x": [
          0
         ],
         "xaxis": "x",
         "y": [
          0.0008080940056607411
         ],
         "yaxis": "y"
        },
        {
         "hovertemplate": "State=Ohio<extra></extra>",
         "legendgroup": "Ohio",
         "marker": {
          "color": "#19d3f3",
          "symbol": "circle"
         },
         "mode": "lines",
         "name": "Ohio",
         "showlegend": false,
         "type": "scatter",
         "xaxis": "x",
         "yaxis": "y"
        },
        {
         "hovertemplate": "State=Oklahoma<br>Gun safety ranking=%{x}<br>Total shot / 2022 state pop=%{y}<extra></extra>",
         "legendgroup": "Oklahoma",
         "marker": {
          "color": "#FF6692",
          "symbol": "circle"
         },
         "mode": "markers",
         "name": "Oklahoma",
         "orientation": "v",
         "showlegend": true,
         "type": "scatter",
         "x": [
          0
         ],
         "xaxis": "x",
         "y": [
          0.0009204438031742873
         ],
         "yaxis": "y"
        },
        {
         "hovertemplate": "State=Oklahoma<extra></extra>",
         "legendgroup": "Oklahoma",
         "marker": {
          "color": "#FF6692",
          "symbol": "circle"
         },
         "mode": "lines",
         "name": "Oklahoma",
         "showlegend": false,
         "type": "scatter",
         "xaxis": "x",
         "yaxis": "y"
        },
        {
         "hovertemplate": "State=Oregon<br>Gun safety ranking=%{x}<br>Total shot / 2022 state pop=%{y}<extra></extra>",
         "legendgroup": "Oregon",
         "marker": {
          "color": "#B6E880",
          "symbol": "circle"
         },
         "mode": "markers",
         "name": "Oregon",
         "orientation": "v",
         "showlegend": true,
         "type": "scatter",
         "x": [
          2
         ],
         "xaxis": "x",
         "y": [
          0.00042451458525986306
         ],
         "yaxis": "y"
        },
        {
         "hovertemplate": "State=Oregon<extra></extra>",
         "legendgroup": "Oregon",
         "marker": {
          "color": "#B6E880",
          "symbol": "circle"
         },
         "mode": "lines",
         "name": "Oregon",
         "showlegend": false,
         "type": "scatter",
         "xaxis": "x",
         "yaxis": "y"
        },
        {
         "hovertemplate": "State=Pennsylvania<br>Gun safety ranking=%{x}<br>Total shot / 2022 state pop=%{y}<extra></extra>",
         "legendgroup": "Pennsylvania",
         "marker": {
          "color": "#FF97FF",
          "symbol": "circle"
         },
         "mode": "markers",
         "name": "Pennsylvania",
         "orientation": "v",
         "showlegend": true,
         "type": "scatter",
         "x": [
          2
         ],
         "xaxis": "x",
         "y": [
          0.00038544533737567844
         ],
         "yaxis": "y"
        },
        {
         "hovertemplate": "State=Pennsylvania<extra></extra>",
         "legendgroup": "Pennsylvania",
         "marker": {
          "color": "#FF97FF",
          "symbol": "circle"
         },
         "mode": "lines",
         "name": "Pennsylvania",
         "showlegend": false,
         "type": "scatter",
         "xaxis": "x",
         "yaxis": "y"
        },
        {
         "hovertemplate": "State=Rhode Island<br>Gun safety ranking=%{x}<br>Total shot / 2022 state pop=%{y}<extra></extra>",
         "legendgroup": "Rhode Island",
         "marker": {
          "color": "#FECB52",
          "symbol": "circle"
         },
         "mode": "markers",
         "name": "Rhode Island",
         "orientation": "v",
         "showlegend": true,
         "type": "scatter",
         "x": [
          5
         ],
         "xaxis": "x",
         "y": [
          null
         ],
         "yaxis": "y"
        },
        {
         "hovertemplate": "State=Rhode Island<extra></extra>",
         "legendgroup": "Rhode Island",
         "marker": {
          "color": "#FECB52",
          "symbol": "circle"
         },
         "mode": "lines",
         "name": "Rhode Island",
         "showlegend": false,
         "type": "scatter",
         "xaxis": "x",
         "yaxis": "y"
        },
        {
         "hovertemplate": "State=South Carolina<br>Gun safety ranking=%{x}<br>Total shot / 2022 state pop=%{y}<extra></extra>",
         "legendgroup": "South Carolina",
         "marker": {
          "color": "#636efa",
          "symbol": "circle"
         },
         "mode": "markers",
         "name": "South Carolina",
         "orientation": "v",
         "showlegend": true,
         "type": "scatter",
         "x": [
          2
         ],
         "xaxis": "x",
         "y": [
          0.0007950579199694698
         ],
         "yaxis": "y"
        },
        {
         "hovertemplate": "State=South Carolina<extra></extra>",
         "legendgroup": "South Carolina",
         "marker": {
          "color": "#636efa",
          "symbol": "circle"
         },
         "mode": "lines",
         "name": "South Carolina",
         "showlegend": false,
         "type": "scatter",
         "xaxis": "x",
         "yaxis": "y"
        },
        {
         "hovertemplate": "State=South Dakota<br>Gun safety ranking=%{x}<br>Total shot / 2022 state pop=%{y}<extra></extra>",
         "legendgroup": "South Dakota",
         "marker": {
          "color": "#EF553B",
          "symbol": "circle"
         },
         "mode": "markers",
         "name": "South Dakota",
         "orientation": "v",
         "showlegend": true,
         "type": "scatter",
         "x": [
          0
         ],
         "xaxis": "x",
         "y": [
          0.0005495568373663478
         ],
         "yaxis": "y"
        },
        {
         "hovertemplate": "State=South Dakota<extra></extra>",
         "legendgroup": "South Dakota",
         "marker": {
          "color": "#EF553B",
          "symbol": "circle"
         },
         "mode": "lines",
         "name": "South Dakota",
         "showlegend": false,
         "type": "scatter",
         "xaxis": "x",
         "yaxis": "y"
        },
        {
         "hovertemplate": "State=Tennessee<br>Gun safety ranking=%{x}<br>Total shot / 2022 state pop=%{y}<extra></extra>",
         "legendgroup": "Tennessee",
         "marker": {
          "color": "#00cc96",
          "symbol": "circle"
         },
         "mode": "markers",
         "name": "Tennessee",
         "orientation": "v",
         "showlegend": true,
         "type": "scatter",
         "x": [
          0
         ],
         "xaxis": "x",
         "y": [
          0.0003829059984210091
         ],
         "yaxis": "y"
        },
        {
         "hovertemplate": "State=Tennessee<extra></extra>",
         "legendgroup": "Tennessee",
         "marker": {
          "color": "#00cc96",
          "symbol": "circle"
         },
         "mode": "lines",
         "name": "Tennessee",
         "showlegend": false,
         "type": "scatter",
         "xaxis": "x",
         "yaxis": "y"
        },
        {
         "hovertemplate": "State=Texas<br>Gun safety ranking=%{x}<br>Total shot / 2022 state pop=%{y}<extra></extra>",
         "legendgroup": "Texas",
         "marker": {
          "color": "#ab63fa",
          "symbol": "circle"
         },
         "mode": "markers",
         "name": "Texas",
         "orientation": "v",
         "showlegend": true,
         "type": "scatter",
         "x": [
          0
         ],
         "xaxis": "x",
         "y": [
          0.0013386804180892087
         ],
         "yaxis": "y"
        },
        {
         "hovertemplate": "State=Texas<extra></extra>",
         "legendgroup": "Texas",
         "marker": {
          "color": "#ab63fa",
          "symbol": "circle"
         },
         "mode": "lines",
         "name": "Texas",
         "showlegend": false,
         "type": "scatter",
         "xaxis": "x",
         "yaxis": "y"
        },
        {
         "hovertemplate": "State=Utah<br>Gun safety ranking=%{x}<br>Total shot / 2022 state pop=%{y}<extra></extra>",
         "legendgroup": "Utah",
         "marker": {
          "color": "#FFA15A",
          "symbol": "circle"
         },
         "mode": "markers",
         "name": "Utah",
         "orientation": "v",
         "showlegend": true,
         "type": "scatter",
         "x": [
          0
         ],
         "xaxis": "x",
         "y": [
          0.00047326076668244207
         ],
         "yaxis": "y"
        },
        {
         "hovertemplate": "State=Utah<extra></extra>",
         "legendgroup": "Utah",
         "marker": {
          "color": "#FFA15A",
          "symbol": "circle"
         },
         "mode": "lines",
         "name": "Utah",
         "showlegend": false,
         "type": "scatter",
         "xaxis": "x",
         "yaxis": "y"
        },
        {
         "hovertemplate": "State=Vermont<br>Gun safety ranking=%{x}<br>Total shot / 2022 state pop=%{y}<extra></extra>",
         "legendgroup": "Vermont",
         "marker": {
          "color": "#19d3f3",
          "symbol": "circle"
         },
         "mode": "markers",
         "name": "Vermont",
         "orientation": "v",
         "showlegend": true,
         "type": "scatter",
         "x": [
          2
         ],
         "xaxis": "x",
         "y": [
          0.000618176872766836
         ],
         "yaxis": "y"
        },
        {
         "hovertemplate": "State=Vermont<extra></extra>",
         "legendgroup": "Vermont",
         "marker": {
          "color": "#19d3f3",
          "symbol": "circle"
         },
         "mode": "lines",
         "name": "Vermont",
         "showlegend": false,
         "type": "scatter",
         "xaxis": "x",
         "yaxis": "y"
        },
        {
         "hovertemplate": "State=Virginia<br>Gun safety ranking=%{x}<br>Total shot / 2022 state pop=%{y}<extra></extra>",
         "legendgroup": "Virginia",
         "marker": {
          "color": "#FF6692",
          "symbol": "circle"
         },
         "mode": "markers",
         "name": "Virginia",
         "orientation": "v",
         "showlegend": true,
         "type": "scatter",
         "x": [
          3
         ],
         "xaxis": "x",
         "y": [
          0.0007255039632669282
         ],
         "yaxis": "y"
        },
        {
         "hovertemplate": "State=Virginia<extra></extra>",
         "legendgroup": "Virginia",
         "marker": {
          "color": "#FF6692",
          "symbol": "circle"
         },
         "mode": "lines",
         "name": "Virginia",
         "showlegend": false,
         "type": "scatter",
         "xaxis": "x",
         "yaxis": "y"
        },
        {
         "hovertemplate": "State=Washington<br>Gun safety ranking=%{x}<br>Total shot / 2022 state pop=%{y}<extra></extra>",
         "legendgroup": "Washington",
         "marker": {
          "color": "#B6E880",
          "symbol": "circle"
         },
         "mode": "markers",
         "name": "Washington",
         "orientation": "v",
         "showlegend": true,
         "type": "scatter",
         "x": [
          5
         ],
         "xaxis": "x",
         "y": [
          0.0006165080828062831
         ],
         "yaxis": "y"
        },
        {
         "hovertemplate": "State=Washington<extra></extra>",
         "legendgroup": "Washington",
         "marker": {
          "color": "#B6E880",
          "symbol": "circle"
         },
         "mode": "lines",
         "name": "Washington",
         "showlegend": false,
         "type": "scatter",
         "xaxis": "x",
         "yaxis": "y"
        },
        {
         "hovertemplate": "State=West Virginia<br>Gun safety ranking=%{x}<br>Total shot / 2022 state pop=%{y}<extra></extra>",
         "legendgroup": "West Virginia",
         "marker": {
          "color": "#FF97FF",
          "symbol": "circle"
         },
         "mode": "markers",
         "name": "West Virginia",
         "orientation": "v",
         "showlegend": true,
         "type": "scatter",
         "x": [
          0
         ],
         "xaxis": "x",
         "y": [
          0.0012393276985233975
         ],
         "yaxis": "y"
        },
        {
         "hovertemplate": "State=West Virginia<extra></extra>",
         "legendgroup": "West Virginia",
         "marker": {
          "color": "#FF97FF",
          "symbol": "circle"
         },
         "mode": "lines",
         "name": "West Virginia",
         "showlegend": false,
         "type": "scatter",
         "xaxis": "x",
         "yaxis": "y"
        },
        {
         "hovertemplate": "State=Wisconsin<br>Gun safety ranking=%{x}<br>Total shot / 2022 state pop=%{y}<extra></extra>",
         "legendgroup": "Wisconsin",
         "marker": {
          "color": "#FECB52",
          "symbol": "circle"
         },
         "mode": "markers",
         "name": "Wisconsin",
         "orientation": "v",
         "showlegend": true,
         "type": "scatter",
         "x": [
          2
         ],
         "xaxis": "x",
         "y": [
          0.0006788245270841652
         ],
         "yaxis": "y"
        },
        {
         "hovertemplate": "State=Wisconsin<extra></extra>",
         "legendgroup": "Wisconsin",
         "marker": {
          "color": "#FECB52",
          "symbol": "circle"
         },
         "mode": "lines",
         "name": "Wisconsin",
         "showlegend": false,
         "type": "scatter",
         "xaxis": "x",
         "yaxis": "y"
        },
        {
         "hovertemplate": "State=Wyoming<br>Gun safety ranking=%{x}<br>Total shot / 2022 state pop=%{y}<extra></extra>",
         "legendgroup": "Wyoming",
         "marker": {
          "color": "#636efa",
          "symbol": "circle"
         },
         "mode": "markers",
         "name": "Wyoming",
         "orientation": "v",
         "showlegend": true,
         "type": "scatter",
         "x": [
          0
         ],
         "xaxis": "x",
         "y": [
          0.000860021225323841
         ],
         "yaxis": "y"
        },
        {
         "hovertemplate": "State=Wyoming<extra></extra>",
         "legendgroup": "Wyoming",
         "marker": {
          "color": "#636efa",
          "symbol": "circle"
         },
         "mode": "lines",
         "name": "Wyoming",
         "showlegend": false,
         "type": "scatter",
         "xaxis": "x",
         "yaxis": "y"
        },
        {
         "hovertemplate": "State=Gun safety ranking<br>Gun safety ranking=%{x}<br>Total shot / 2022 state pop=%{y}<extra></extra>",
         "legendgroup": "Gun safety ranking",
         "marker": {
          "color": "#EF553B",
          "symbol": "circle"
         },
         "mode": "markers",
         "name": "Gun safety ranking",
         "orientation": "v",
         "showlegend": true,
         "type": "scatter",
         "x": [
          126
         ],
         "xaxis": "x",
         "y": [
          null
         ],
         "yaxis": "y"
        },
        {
         "hovertemplate": "State=Gun safety ranking<extra></extra>",
         "legendgroup": "Gun safety ranking",
         "marker": {
          "color": "#EF553B",
          "symbol": "circle"
         },
         "mode": "lines",
         "name": "Gun safety ranking",
         "showlegend": false,
         "type": "scatter",
         "xaxis": "x",
         "yaxis": "y"
        }
       ],
       "layout": {
        "legend": {
         "title": {
          "text": "State"
         },
         "tracegroupgap": 0
        },
        "margin": {
         "t": 60
        },
        "template": {
         "data": {
          "bar": [
           {
            "error_x": {
             "color": "#2a3f5f"
            },
            "error_y": {
             "color": "#2a3f5f"
            },
            "marker": {
             "line": {
              "color": "#E5ECF6",
              "width": 0.5
             },
             "pattern": {
              "fillmode": "overlay",
              "size": 10,
              "solidity": 0.2
             }
            },
            "type": "bar"
           }
          ],
          "barpolar": [
           {
            "marker": {
             "line": {
              "color": "#E5ECF6",
              "width": 0.5
             },
             "pattern": {
              "fillmode": "overlay",
              "size": 10,
              "solidity": 0.2
             }
            },
            "type": "barpolar"
           }
          ],
          "carpet": [
           {
            "aaxis": {
             "endlinecolor": "#2a3f5f",
             "gridcolor": "white",
             "linecolor": "white",
             "minorgridcolor": "white",
             "startlinecolor": "#2a3f5f"
            },
            "baxis": {
             "endlinecolor": "#2a3f5f",
             "gridcolor": "white",
             "linecolor": "white",
             "minorgridcolor": "white",
             "startlinecolor": "#2a3f5f"
            },
            "type": "carpet"
           }
          ],
          "choropleth": [
           {
            "colorbar": {
             "outlinewidth": 0,
             "ticks": ""
            },
            "type": "choropleth"
           }
          ],
          "contour": [
           {
            "colorbar": {
             "outlinewidth": 0,
             "ticks": ""
            },
            "colorscale": [
             [
              0,
              "#0d0887"
             ],
             [
              0.1111111111111111,
              "#46039f"
             ],
             [
              0.2222222222222222,
              "#7201a8"
             ],
             [
              0.3333333333333333,
              "#9c179e"
             ],
             [
              0.4444444444444444,
              "#bd3786"
             ],
             [
              0.5555555555555556,
              "#d8576b"
             ],
             [
              0.6666666666666666,
              "#ed7953"
             ],
             [
              0.7777777777777778,
              "#fb9f3a"
             ],
             [
              0.8888888888888888,
              "#fdca26"
             ],
             [
              1,
              "#f0f921"
             ]
            ],
            "type": "contour"
           }
          ],
          "contourcarpet": [
           {
            "colorbar": {
             "outlinewidth": 0,
             "ticks": ""
            },
            "type": "contourcarpet"
           }
          ],
          "heatmap": [
           {
            "colorbar": {
             "outlinewidth": 0,
             "ticks": ""
            },
            "colorscale": [
             [
              0,
              "#0d0887"
             ],
             [
              0.1111111111111111,
              "#46039f"
             ],
             [
              0.2222222222222222,
              "#7201a8"
             ],
             [
              0.3333333333333333,
              "#9c179e"
             ],
             [
              0.4444444444444444,
              "#bd3786"
             ],
             [
              0.5555555555555556,
              "#d8576b"
             ],
             [
              0.6666666666666666,
              "#ed7953"
             ],
             [
              0.7777777777777778,
              "#fb9f3a"
             ],
             [
              0.8888888888888888,
              "#fdca26"
             ],
             [
              1,
              "#f0f921"
             ]
            ],
            "type": "heatmap"
           }
          ],
          "heatmapgl": [
           {
            "colorbar": {
             "outlinewidth": 0,
             "ticks": ""
            },
            "colorscale": [
             [
              0,
              "#0d0887"
             ],
             [
              0.1111111111111111,
              "#46039f"
             ],
             [
              0.2222222222222222,
              "#7201a8"
             ],
             [
              0.3333333333333333,
              "#9c179e"
             ],
             [
              0.4444444444444444,
              "#bd3786"
             ],
             [
              0.5555555555555556,
              "#d8576b"
             ],
             [
              0.6666666666666666,
              "#ed7953"
             ],
             [
              0.7777777777777778,
              "#fb9f3a"
             ],
             [
              0.8888888888888888,
              "#fdca26"
             ],
             [
              1,
              "#f0f921"
             ]
            ],
            "type": "heatmapgl"
           }
          ],
          "histogram": [
           {
            "marker": {
             "pattern": {
              "fillmode": "overlay",
              "size": 10,
              "solidity": 0.2
             }
            },
            "type": "histogram"
           }
          ],
          "histogram2d": [
           {
            "colorbar": {
             "outlinewidth": 0,
             "ticks": ""
            },
            "colorscale": [
             [
              0,
              "#0d0887"
             ],
             [
              0.1111111111111111,
              "#46039f"
             ],
             [
              0.2222222222222222,
              "#7201a8"
             ],
             [
              0.3333333333333333,
              "#9c179e"
             ],
             [
              0.4444444444444444,
              "#bd3786"
             ],
             [
              0.5555555555555556,
              "#d8576b"
             ],
             [
              0.6666666666666666,
              "#ed7953"
             ],
             [
              0.7777777777777778,
              "#fb9f3a"
             ],
             [
              0.8888888888888888,
              "#fdca26"
             ],
             [
              1,
              "#f0f921"
             ]
            ],
            "type": "histogram2d"
           }
          ],
          "histogram2dcontour": [
           {
            "colorbar": {
             "outlinewidth": 0,
             "ticks": ""
            },
            "colorscale": [
             [
              0,
              "#0d0887"
             ],
             [
              0.1111111111111111,
              "#46039f"
             ],
             [
              0.2222222222222222,
              "#7201a8"
             ],
             [
              0.3333333333333333,
              "#9c179e"
             ],
             [
              0.4444444444444444,
              "#bd3786"
             ],
             [
              0.5555555555555556,
              "#d8576b"
             ],
             [
              0.6666666666666666,
              "#ed7953"
             ],
             [
              0.7777777777777778,
              "#fb9f3a"
             ],
             [
              0.8888888888888888,
              "#fdca26"
             ],
             [
              1,
              "#f0f921"
             ]
            ],
            "type": "histogram2dcontour"
           }
          ],
          "mesh3d": [
           {
            "colorbar": {
             "outlinewidth": 0,
             "ticks": ""
            },
            "type": "mesh3d"
           }
          ],
          "parcoords": [
           {
            "line": {
             "colorbar": {
              "outlinewidth": 0,
              "ticks": ""
             }
            },
            "type": "parcoords"
           }
          ],
          "pie": [
           {
            "automargin": true,
            "type": "pie"
           }
          ],
          "scatter": [
           {
            "fillpattern": {
             "fillmode": "overlay",
             "size": 10,
             "solidity": 0.2
            },
            "type": "scatter"
           }
          ],
          "scatter3d": [
           {
            "line": {
             "colorbar": {
              "outlinewidth": 0,
              "ticks": ""
             }
            },
            "marker": {
             "colorbar": {
              "outlinewidth": 0,
              "ticks": ""
             }
            },
            "type": "scatter3d"
           }
          ],
          "scattercarpet": [
           {
            "marker": {
             "colorbar": {
              "outlinewidth": 0,
              "ticks": ""
             }
            },
            "type": "scattercarpet"
           }
          ],
          "scattergeo": [
           {
            "marker": {
             "colorbar": {
              "outlinewidth": 0,
              "ticks": ""
             }
            },
            "type": "scattergeo"
           }
          ],
          "scattergl": [
           {
            "marker": {
             "colorbar": {
              "outlinewidth": 0,
              "ticks": ""
             }
            },
            "type": "scattergl"
           }
          ],
          "scattermapbox": [
           {
            "marker": {
             "colorbar": {
              "outlinewidth": 0,
              "ticks": ""
             }
            },
            "type": "scattermapbox"
           }
          ],
          "scatterpolar": [
           {
            "marker": {
             "colorbar": {
              "outlinewidth": 0,
              "ticks": ""
             }
            },
            "type": "scatterpolar"
           }
          ],
          "scatterpolargl": [
           {
            "marker": {
             "colorbar": {
              "outlinewidth": 0,
              "ticks": ""
             }
            },
            "type": "scatterpolargl"
           }
          ],
          "scatterternary": [
           {
            "marker": {
             "colorbar": {
              "outlinewidth": 0,
              "ticks": ""
             }
            },
            "type": "scatterternary"
           }
          ],
          "surface": [
           {
            "colorbar": {
             "outlinewidth": 0,
             "ticks": ""
            },
            "colorscale": [
             [
              0,
              "#0d0887"
             ],
             [
              0.1111111111111111,
              "#46039f"
             ],
             [
              0.2222222222222222,
              "#7201a8"
             ],
             [
              0.3333333333333333,
              "#9c179e"
             ],
             [
              0.4444444444444444,
              "#bd3786"
             ],
             [
              0.5555555555555556,
              "#d8576b"
             ],
             [
              0.6666666666666666,
              "#ed7953"
             ],
             [
              0.7777777777777778,
              "#fb9f3a"
             ],
             [
              0.8888888888888888,
              "#fdca26"
             ],
             [
              1,
              "#f0f921"
             ]
            ],
            "type": "surface"
           }
          ],
          "table": [
           {
            "cells": {
             "fill": {
              "color": "#EBF0F8"
             },
             "line": {
              "color": "white"
             }
            },
            "header": {
             "fill": {
              "color": "#C8D4E3"
             },
             "line": {
              "color": "white"
             }
            },
            "type": "table"
           }
          ]
         },
         "layout": {
          "annotationdefaults": {
           "arrowcolor": "#2a3f5f",
           "arrowhead": 0,
           "arrowwidth": 1
          },
          "autotypenumbers": "strict",
          "coloraxis": {
           "colorbar": {
            "outlinewidth": 0,
            "ticks": ""
           }
          },
          "colorscale": {
           "diverging": [
            [
             0,
             "#8e0152"
            ],
            [
             0.1,
             "#c51b7d"
            ],
            [
             0.2,
             "#de77ae"
            ],
            [
             0.3,
             "#f1b6da"
            ],
            [
             0.4,
             "#fde0ef"
            ],
            [
             0.5,
             "#f7f7f7"
            ],
            [
             0.6,
             "#e6f5d0"
            ],
            [
             0.7,
             "#b8e186"
            ],
            [
             0.8,
             "#7fbc41"
            ],
            [
             0.9,
             "#4d9221"
            ],
            [
             1,
             "#276419"
            ]
           ],
           "sequential": [
            [
             0,
             "#0d0887"
            ],
            [
             0.1111111111111111,
             "#46039f"
            ],
            [
             0.2222222222222222,
             "#7201a8"
            ],
            [
             0.3333333333333333,
             "#9c179e"
            ],
            [
             0.4444444444444444,
             "#bd3786"
            ],
            [
             0.5555555555555556,
             "#d8576b"
            ],
            [
             0.6666666666666666,
             "#ed7953"
            ],
            [
             0.7777777777777778,
             "#fb9f3a"
            ],
            [
             0.8888888888888888,
             "#fdca26"
            ],
            [
             1,
             "#f0f921"
            ]
           ],
           "sequentialminus": [
            [
             0,
             "#0d0887"
            ],
            [
             0.1111111111111111,
             "#46039f"
            ],
            [
             0.2222222222222222,
             "#7201a8"
            ],
            [
             0.3333333333333333,
             "#9c179e"
            ],
            [
             0.4444444444444444,
             "#bd3786"
            ],
            [
             0.5555555555555556,
             "#d8576b"
            ],
            [
             0.6666666666666666,
             "#ed7953"
            ],
            [
             0.7777777777777778,
             "#fb9f3a"
            ],
            [
             0.8888888888888888,
             "#fdca26"
            ],
            [
             1,
             "#f0f921"
            ]
           ]
          },
          "colorway": [
           "#636efa",
           "#EF553B",
           "#00cc96",
           "#ab63fa",
           "#FFA15A",
           "#19d3f3",
           "#FF6692",
           "#B6E880",
           "#FF97FF",
           "#FECB52"
          ],
          "font": {
           "color": "#2a3f5f"
          },
          "geo": {
           "bgcolor": "white",
           "lakecolor": "white",
           "landcolor": "#E5ECF6",
           "showlakes": true,
           "showland": true,
           "subunitcolor": "white"
          },
          "hoverlabel": {
           "align": "left"
          },
          "hovermode": "closest",
          "mapbox": {
           "style": "light"
          },
          "paper_bgcolor": "white",
          "plot_bgcolor": "#E5ECF6",
          "polar": {
           "angularaxis": {
            "gridcolor": "white",
            "linecolor": "white",
            "ticks": ""
           },
           "bgcolor": "#E5ECF6",
           "radialaxis": {
            "gridcolor": "white",
            "linecolor": "white",
            "ticks": ""
           }
          },
          "scene": {
           "xaxis": {
            "backgroundcolor": "#E5ECF6",
            "gridcolor": "white",
            "gridwidth": 2,
            "linecolor": "white",
            "showbackground": true,
            "ticks": "",
            "zerolinecolor": "white"
           },
           "yaxis": {
            "backgroundcolor": "#E5ECF6",
            "gridcolor": "white",
            "gridwidth": 2,
            "linecolor": "white",
            "showbackground": true,
            "ticks": "",
            "zerolinecolor": "white"
           },
           "zaxis": {
            "backgroundcolor": "#E5ECF6",
            "gridcolor": "white",
            "gridwidth": 2,
            "linecolor": "white",
            "showbackground": true,
            "ticks": "",
            "zerolinecolor": "white"
           }
          },
          "shapedefaults": {
           "line": {
            "color": "#2a3f5f"
           }
          },
          "ternary": {
           "aaxis": {
            "gridcolor": "white",
            "linecolor": "white",
            "ticks": ""
           },
           "baxis": {
            "gridcolor": "white",
            "linecolor": "white",
            "ticks": ""
           },
           "bgcolor": "#E5ECF6",
           "caxis": {
            "gridcolor": "white",
            "linecolor": "white",
            "ticks": ""
           }
          },
          "title": {
           "x": 0.05
          },
          "xaxis": {
           "automargin": true,
           "gridcolor": "white",
           "linecolor": "white",
           "ticks": "",
           "title": {
            "standoff": 15
           },
           "zerolinecolor": "white",
           "zerolinewidth": 2
          },
          "yaxis": {
           "automargin": true,
           "gridcolor": "white",
           "linecolor": "white",
           "ticks": "",
           "title": {
            "standoff": 15
           },
           "zerolinecolor": "white",
           "zerolinewidth": 2
          }
         }
        },
        "xaxis": {
         "anchor": "y",
         "domain": [
          0,
          1
         ],
         "range": [
          -1,
          10
         ],
         "title": {
          "text": "Gun safety ranking"
         }
        },
        "yaxis": {
         "anchor": "x",
         "domain": [
          0,
          1
         ],
         "title": {
          "text": "Total shot / 2022 state pop"
         }
        }
       }
      },
      "text/html": [
       "<div>                            <div id=\"28f24f29-4c77-48e0-9716-a62e967d4f48\" class=\"plotly-graph-div\" style=\"height:525px; width:100%;\"></div>            <script type=\"text/javascript\">                require([\"plotly\"], function(Plotly) {                    window.PLOTLYENV=window.PLOTLYENV || {};                                    if (document.getElementById(\"28f24f29-4c77-48e0-9716-a62e967d4f48\")) {                    Plotly.newPlot(                        \"28f24f29-4c77-48e0-9716-a62e967d4f48\",                        [{\"hovertemplate\":\"State=Alabama<br>Gun safety ranking=%{x}<br>Total shot / 2022 state pop=%{y}<extra></extra>\",\"legendgroup\":\"Alabama\",\"marker\":{\"color\":\"#636efa\",\"symbol\":\"circle\"},\"mode\":\"markers\",\"name\":\"Alabama\",\"orientation\":\"v\",\"showlegend\":true,\"x\":[0.0],\"xaxis\":\"x\",\"y\":[0.000689750854108629],\"yaxis\":\"y\",\"type\":\"scatter\"},{\"hovertemplate\":\"State=Alabama<extra></extra>\",\"legendgroup\":\"Alabama\",\"marker\":{\"color\":\"#636efa\",\"symbol\":\"circle\"},\"mode\":\"lines\",\"name\":\"Alabama\",\"showlegend\":false,\"xaxis\":\"x\",\"yaxis\":\"y\",\"type\":\"scatter\"},{\"hovertemplate\":\"State=Alaska<br>Gun safety ranking=%{x}<br>Total shot / 2022 state pop=%{y}<extra></extra>\",\"legendgroup\":\"Alaska\",\"marker\":{\"color\":\"#EF553B\",\"symbol\":\"circle\"},\"mode\":\"markers\",\"name\":\"Alaska\",\"orientation\":\"v\",\"showlegend\":true,\"x\":[0.0],\"xaxis\":\"x\",\"y\":[0.0005452689061769425],\"yaxis\":\"y\",\"type\":\"scatter\"},{\"hovertemplate\":\"State=Alaska<extra></extra>\",\"legendgroup\":\"Alaska\",\"marker\":{\"color\":\"#EF553B\",\"symbol\":\"circle\"},\"mode\":\"lines\",\"name\":\"Alaska\",\"showlegend\":false,\"xaxis\":\"x\",\"yaxis\":\"y\",\"type\":\"scatter\"},{\"hovertemplate\":\"State=Arizona<br>Gun safety ranking=%{x}<br>Total shot / 2022 state pop=%{y}<extra></extra>\",\"legendgroup\":\"Arizona\",\"marker\":{\"color\":\"#00cc96\",\"symbol\":\"circle\"},\"mode\":\"markers\",\"name\":\"Arizona\",\"orientation\":\"v\",\"showlegend\":true,\"x\":[0.0],\"xaxis\":\"x\",\"y\":[0.000733775709496566],\"yaxis\":\"y\",\"type\":\"scatter\"},{\"hovertemplate\":\"State=Arizona<extra></extra>\",\"legendgroup\":\"Arizona\",\"marker\":{\"color\":\"#00cc96\",\"symbol\":\"circle\"},\"mode\":\"lines\",\"name\":\"Arizona\",\"showlegend\":false,\"xaxis\":\"x\",\"yaxis\":\"y\",\"type\":\"scatter\"},{\"hovertemplate\":\"State=Arkansas<br>Gun safety ranking=%{x}<br>Total shot / 2022 state pop=%{y}<extra></extra>\",\"legendgroup\":\"Arkansas\",\"marker\":{\"color\":\"#ab63fa\",\"symbol\":\"circle\"},\"mode\":\"markers\",\"name\":\"Arkansas\",\"orientation\":\"v\",\"showlegend\":true,\"x\":[0.0],\"xaxis\":\"x\",\"y\":[0.00042684009946031],\"yaxis\":\"y\",\"type\":\"scatter\"},{\"hovertemplate\":\"State=Arkansas<extra></extra>\",\"legendgroup\":\"Arkansas\",\"marker\":{\"color\":\"#ab63fa\",\"symbol\":\"circle\"},\"mode\":\"lines\",\"name\":\"Arkansas\",\"showlegend\":false,\"xaxis\":\"x\",\"yaxis\":\"y\",\"type\":\"scatter\"},{\"hovertemplate\":\"State=California<br>Gun safety ranking=%{x}<br>Total shot / 2022 state pop=%{y}<extra></extra>\",\"legendgroup\":\"California\",\"marker\":{\"color\":\"#FFA15A\",\"symbol\":\"circle\"},\"mode\":\"markers\",\"name\":\"California\",\"orientation\":\"v\",\"showlegend\":true,\"x\":[7.5],\"xaxis\":\"x\",\"y\":[0.0006994737446508834],\"yaxis\":\"y\",\"type\":\"scatter\"},{\"hovertemplate\":\"State=California<extra></extra>\",\"legendgroup\":\"California\",\"marker\":{\"color\":\"#FFA15A\",\"symbol\":\"circle\"},\"mode\":\"lines\",\"name\":\"California\",\"showlegend\":false,\"xaxis\":\"x\",\"yaxis\":\"y\",\"type\":\"scatter\"},{\"hovertemplate\":\"State=Colorado<br>Gun safety ranking=%{x}<br>Total shot / 2022 state pop=%{y}<extra></extra>\",\"legendgroup\":\"Colorado\",\"marker\":{\"color\":\"#19d3f3\",\"symbol\":\"circle\"},\"mode\":\"markers\",\"name\":\"Colorado\",\"orientation\":\"v\",\"showlegend\":true,\"x\":[3.0],\"xaxis\":\"x\",\"y\":[0.002243179108776378],\"yaxis\":\"y\",\"type\":\"scatter\"},{\"hovertemplate\":\"State=Colorado<extra></extra>\",\"legendgroup\":\"Colorado\",\"marker\":{\"color\":\"#19d3f3\",\"symbol\":\"circle\"},\"mode\":\"lines\",\"name\":\"Colorado\",\"showlegend\":false,\"xaxis\":\"x\",\"yaxis\":\"y\",\"type\":\"scatter\"},{\"hovertemplate\":\"State=Connecticut<br>Gun safety ranking=%{x}<br>Total shot / 2022 state pop=%{y}<extra></extra>\",\"legendgroup\":\"Connecticut\",\"marker\":{\"color\":\"#FF6692\",\"symbol\":\"circle\"},\"mode\":\"markers\",\"name\":\"Connecticut\",\"orientation\":\"v\",\"showlegend\":true,\"x\":[7.5],\"xaxis\":\"x\",\"y\":[0.0010755045564164187],\"yaxis\":\"y\",\"type\":\"scatter\"},{\"hovertemplate\":\"State=Connecticut<extra></extra>\",\"legendgroup\":\"Connecticut\",\"marker\":{\"color\":\"#FF6692\",\"symbol\":\"circle\"},\"mode\":\"lines\",\"name\":\"Connecticut\",\"showlegend\":false,\"xaxis\":\"x\",\"yaxis\":\"y\",\"type\":\"scatter\"},{\"hovertemplate\":\"State=Delaware<br>Gun safety ranking=%{x}<br>Total shot / 2022 state pop=%{y}<extra></extra>\",\"legendgroup\":\"Delaware\",\"marker\":{\"color\":\"#B6E880\",\"symbol\":\"circle\"},\"mode\":\"markers\",\"name\":\"Delaware\",\"orientation\":\"v\",\"showlegend\":true,\"x\":[5.0],\"xaxis\":\"x\",\"y\":[0.000392774519931343],\"yaxis\":\"y\",\"type\":\"scatter\"},{\"hovertemplate\":\"State=Delaware<extra></extra>\",\"legendgroup\":\"Delaware\",\"marker\":{\"color\":\"#B6E880\",\"symbol\":\"circle\"},\"mode\":\"lines\",\"name\":\"Delaware\",\"showlegend\":false,\"xaxis\":\"x\",\"yaxis\":\"y\",\"type\":\"scatter\"},{\"hovertemplate\":\"State=District of Columbia<br>Gun safety ranking=%{x}<br>Total shot / 2022 state pop=%{y}<extra></extra>\",\"legendgroup\":\"District of Columbia\",\"marker\":{\"color\":\"#FF97FF\",\"symbol\":\"circle\"},\"mode\":\"markers\",\"name\":\"District of Columbia\",\"orientation\":\"v\",\"showlegend\":true,\"x\":[9.0],\"xaxis\":\"x\",\"y\":[0.003721329020561087],\"yaxis\":\"y\",\"type\":\"scatter\"},{\"hovertemplate\":\"State=District of Columbia<extra></extra>\",\"legendgroup\":\"District of Columbia\",\"marker\":{\"color\":\"#FF97FF\",\"symbol\":\"circle\"},\"mode\":\"lines\",\"name\":\"District of Columbia\",\"showlegend\":false,\"xaxis\":\"x\",\"yaxis\":\"y\",\"type\":\"scatter\"},{\"hovertemplate\":\"State=Florida<br>Gun safety ranking=%{x}<br>Total shot / 2022 state pop=%{y}<extra></extra>\",\"legendgroup\":\"Florida\",\"marker\":{\"color\":\"#FECB52\",\"symbol\":\"circle\"},\"mode\":\"markers\",\"name\":\"Florida\",\"orientation\":\"v\",\"showlegend\":true,\"x\":[1.0],\"xaxis\":\"x\",\"y\":[0.0010069758702957537],\"yaxis\":\"y\",\"type\":\"scatter\"},{\"hovertemplate\":\"State=Florida<extra></extra>\",\"legendgroup\":\"Florida\",\"marker\":{\"color\":\"#FECB52\",\"symbol\":\"circle\"},\"mode\":\"lines\",\"name\":\"Florida\",\"showlegend\":false,\"xaxis\":\"x\",\"yaxis\":\"y\",\"type\":\"scatter\"},{\"hovertemplate\":\"State=Georgia<br>Gun safety ranking=%{x}<br>Total shot / 2022 state pop=%{y}<extra></extra>\",\"legendgroup\":\"Georgia\",\"marker\":{\"color\":\"#636efa\",\"symbol\":\"circle\"},\"mode\":\"markers\",\"name\":\"Georgia\",\"orientation\":\"v\",\"showlegend\":true,\"x\":[0.0],\"xaxis\":\"x\",\"y\":[0.0003848664641658166],\"yaxis\":\"y\",\"type\":\"scatter\"},{\"hovertemplate\":\"State=Georgia<extra></extra>\",\"legendgroup\":\"Georgia\",\"marker\":{\"color\":\"#636efa\",\"symbol\":\"circle\"},\"mode\":\"lines\",\"name\":\"Georgia\",\"showlegend\":false,\"xaxis\":\"x\",\"yaxis\":\"y\",\"type\":\"scatter\"},{\"hovertemplate\":\"State=Hawaii<br>Gun safety ranking=%{x}<br>Total shot / 2022 state pop=%{y}<extra></extra>\",\"legendgroup\":\"Hawaii\",\"marker\":{\"color\":\"#EF553B\",\"symbol\":\"circle\"},\"mode\":\"markers\",\"name\":\"Hawaii\",\"orientation\":\"v\",\"showlegend\":true,\"x\":[8.0],\"xaxis\":\"x\",\"y\":[null],\"yaxis\":\"y\",\"type\":\"scatter\"},{\"hovertemplate\":\"State=Hawaii<extra></extra>\",\"legendgroup\":\"Hawaii\",\"marker\":{\"color\":\"#EF553B\",\"symbol\":\"circle\"},\"mode\":\"lines\",\"name\":\"Hawaii\",\"showlegend\":false,\"xaxis\":\"x\",\"yaxis\":\"y\",\"type\":\"scatter\"},{\"hovertemplate\":\"State=Idaho<br>Gun safety ranking=%{x}<br>Total shot / 2022 state pop=%{y}<extra></extra>\",\"legendgroup\":\"Idaho\",\"marker\":{\"color\":\"#00cc96\",\"symbol\":\"circle\"},\"mode\":\"markers\",\"name\":\"Idaho\",\"orientation\":\"v\",\"showlegend\":true,\"x\":[0.0],\"xaxis\":\"x\",\"y\":[0.0002062883922037428],\"yaxis\":\"y\",\"type\":\"scatter\"},{\"hovertemplate\":\"State=Idaho<extra></extra>\",\"legendgroup\":\"Idaho\",\"marker\":{\"color\":\"#00cc96\",\"symbol\":\"circle\"},\"mode\":\"lines\",\"name\":\"Idaho\",\"showlegend\":false,\"xaxis\":\"x\",\"yaxis\":\"y\",\"type\":\"scatter\"},{\"hovertemplate\":\"State=Illinois<br>Gun safety ranking=%{x}<br>Total shot / 2022 state pop=%{y}<extra></extra>\",\"legendgroup\":\"Illinois\",\"marker\":{\"color\":\"#ab63fa\",\"symbol\":\"circle\"},\"mode\":\"markers\",\"name\":\"Illinois\",\"orientation\":\"v\",\"showlegend\":true,\"x\":[8.0],\"xaxis\":\"x\",\"y\":[0.001072958644517833],\"yaxis\":\"y\",\"type\":\"scatter\"},{\"hovertemplate\":\"State=Illinois<extra></extra>\",\"legendgroup\":\"Illinois\",\"marker\":{\"color\":\"#ab63fa\",\"symbol\":\"circle\"},\"mode\":\"lines\",\"name\":\"Illinois\",\"showlegend\":false,\"xaxis\":\"x\",\"yaxis\":\"y\",\"type\":\"scatter\"},{\"hovertemplate\":\"State=Indiana<br>Gun safety ranking=%{x}<br>Total shot / 2022 state pop=%{y}<extra></extra>\",\"legendgroup\":\"Indiana\",\"marker\":{\"color\":\"#FFA15A\",\"symbol\":\"circle\"},\"mode\":\"markers\",\"name\":\"Indiana\",\"orientation\":\"v\",\"showlegend\":true,\"x\":[0.0],\"xaxis\":\"x\",\"y\":[0.0006585651446055392],\"yaxis\":\"y\",\"type\":\"scatter\"},{\"hovertemplate\":\"State=Indiana<extra></extra>\",\"legendgroup\":\"Indiana\",\"marker\":{\"color\":\"#FFA15A\",\"symbol\":\"circle\"},\"mode\":\"lines\",\"name\":\"Indiana\",\"showlegend\":false,\"xaxis\":\"x\",\"yaxis\":\"y\",\"type\":\"scatter\"},{\"hovertemplate\":\"State=Iowa<br>Gun safety ranking=%{x}<br>Total shot / 2022 state pop=%{y}<extra></extra>\",\"legendgroup\":\"Iowa\",\"marker\":{\"color\":\"#19d3f3\",\"symbol\":\"circle\"},\"mode\":\"markers\",\"name\":\"Iowa\",\"orientation\":\"v\",\"showlegend\":true,\"x\":[1.0],\"xaxis\":\"x\",\"y\":[null],\"yaxis\":\"y\",\"type\":\"scatter\"},{\"hovertemplate\":\"State=Iowa<extra></extra>\",\"legendgroup\":\"Iowa\",\"marker\":{\"color\":\"#19d3f3\",\"symbol\":\"circle\"},\"mode\":\"lines\",\"name\":\"Iowa\",\"showlegend\":false,\"xaxis\":\"x\",\"yaxis\":\"y\",\"type\":\"scatter\"},{\"hovertemplate\":\"State=Kansas<br>Gun safety ranking=%{x}<br>Total shot / 2022 state pop=%{y}<extra></extra>\",\"legendgroup\":\"Kansas\",\"marker\":{\"color\":\"#FF6692\",\"symbol\":\"circle\"},\"mode\":\"markers\",\"name\":\"Kansas\",\"orientation\":\"v\",\"showlegend\":true,\"x\":[0.0],\"xaxis\":\"x\",\"y\":[0.0010213982942648486],\"yaxis\":\"y\",\"type\":\"scatter\"},{\"hovertemplate\":\"State=Kansas<extra></extra>\",\"legendgroup\":\"Kansas\",\"marker\":{\"color\":\"#FF6692\",\"symbol\":\"circle\"},\"mode\":\"lines\",\"name\":\"Kansas\",\"showlegend\":false,\"xaxis\":\"x\",\"yaxis\":\"y\",\"type\":\"scatter\"},{\"hovertemplate\":\"State=Kentucky<br>Gun safety ranking=%{x}<br>Total shot / 2022 state pop=%{y}<extra></extra>\",\"legendgroup\":\"Kentucky\",\"marker\":{\"color\":\"#B6E880\",\"symbol\":\"circle\"},\"mode\":\"markers\",\"name\":\"Kentucky\",\"orientation\":\"v\",\"showlegend\":true,\"x\":[0.0],\"xaxis\":\"x\",\"y\":[0.00019945438145872068],\"yaxis\":\"y\",\"type\":\"scatter\"},{\"hovertemplate\":\"State=Kentucky<extra></extra>\",\"legendgroup\":\"Kentucky\",\"marker\":{\"color\":\"#B6E880\",\"symbol\":\"circle\"},\"mode\":\"lines\",\"name\":\"Kentucky\",\"showlegend\":false,\"xaxis\":\"x\",\"yaxis\":\"y\",\"type\":\"scatter\"},{\"hovertemplate\":\"State=Lousiana<br>Gun safety ranking=%{x}<br>Total shot / 2022 state pop=%{y}<extra></extra>\",\"legendgroup\":\"Lousiana\",\"marker\":{\"color\":\"#FF97FF\",\"symbol\":\"circle\"},\"mode\":\"markers\",\"name\":\"Lousiana\",\"orientation\":\"v\",\"showlegend\":true,\"x\":[1.0],\"xaxis\":\"x\",\"y\":[null],\"yaxis\":\"y\",\"type\":\"scatter\"},{\"hovertemplate\":\"State=Lousiana<extra></extra>\",\"legendgroup\":\"Lousiana\",\"marker\":{\"color\":\"#FF97FF\",\"symbol\":\"circle\"},\"mode\":\"lines\",\"name\":\"Lousiana\",\"showlegend\":false,\"xaxis\":\"x\",\"yaxis\":\"y\",\"type\":\"scatter\"},{\"hovertemplate\":\"State=Maine<br>Gun safety ranking=%{x}<br>Total shot / 2022 state pop=%{y}<extra></extra>\",\"legendgroup\":\"Maine\",\"marker\":{\"color\":\"#FECB52\",\"symbol\":\"circle\"},\"mode\":\"markers\",\"name\":\"Maine\",\"orientation\":\"v\",\"showlegend\":true,\"x\":[0.0],\"xaxis\":\"x\",\"y\":[0.000288737782782566],\"yaxis\":\"y\",\"type\":\"scatter\"},{\"hovertemplate\":\"State=Maine<extra></extra>\",\"legendgroup\":\"Maine\",\"marker\":{\"color\":\"#FECB52\",\"symbol\":\"circle\"},\"mode\":\"lines\",\"name\":\"Maine\",\"showlegend\":false,\"xaxis\":\"x\",\"yaxis\":\"y\",\"type\":\"scatter\"},{\"hovertemplate\":\"State=Maryland<br>Gun safety ranking=%{x}<br>Total shot / 2022 state pop=%{y}<extra></extra>\",\"legendgroup\":\"Maryland\",\"marker\":{\"color\":\"#636efa\",\"symbol\":\"circle\"},\"mode\":\"markers\",\"name\":\"Maryland\",\"orientation\":\"v\",\"showlegend\":true,\"x\":[7.0],\"xaxis\":\"x\",\"y\":[0.00038931587467922],\"yaxis\":\"y\",\"type\":\"scatter\"},{\"hovertemplate\":\"State=Maryland<extra></extra>\",\"legendgroup\":\"Maryland\",\"marker\":{\"color\":\"#636efa\",\"symbol\":\"circle\"},\"mode\":\"lines\",\"name\":\"Maryland\",\"showlegend\":false,\"xaxis\":\"x\",\"yaxis\":\"y\",\"type\":\"scatter\"},{\"hovertemplate\":\"State=Massachusetts<br>Gun safety ranking=%{x}<br>Total shot / 2022 state pop=%{y}<extra></extra>\",\"legendgroup\":\"Massachusetts\",\"marker\":{\"color\":\"#EF553B\",\"symbol\":\"circle\"},\"mode\":\"markers\",\"name\":\"Massachusetts\",\"orientation\":\"v\",\"showlegend\":true,\"x\":[8.0],\"xaxis\":\"x\",\"y\":[0.00012890337317211437],\"yaxis\":\"y\",\"type\":\"scatter\"},{\"hovertemplate\":\"State=Massachusetts<extra></extra>\",\"legendgroup\":\"Massachusetts\",\"marker\":{\"color\":\"#EF553B\",\"symbol\":\"circle\"},\"mode\":\"lines\",\"name\":\"Massachusetts\",\"showlegend\":false,\"xaxis\":\"x\",\"yaxis\":\"y\",\"type\":\"scatter\"},{\"hovertemplate\":\"State=Michigan<br>Gun safety ranking=%{x}<br>Total shot / 2022 state pop=%{y}<extra></extra>\",\"legendgroup\":\"Michigan\",\"marker\":{\"color\":\"#00cc96\",\"symbol\":\"circle\"},\"mode\":\"markers\",\"name\":\"Michigan\",\"orientation\":\"v\",\"showlegend\":true,\"x\":[4.0],\"xaxis\":\"x\",\"y\":[0.0004783681427546212],\"yaxis\":\"y\",\"type\":\"scatter\"},{\"hovertemplate\":\"State=Michigan<extra></extra>\",\"legendgroup\":\"Michigan\",\"marker\":{\"color\":\"#00cc96\",\"symbol\":\"circle\"},\"mode\":\"lines\",\"name\":\"Michigan\",\"showlegend\":false,\"xaxis\":\"x\",\"yaxis\":\"y\",\"type\":\"scatter\"},{\"hovertemplate\":\"State=Minnesota<br>Gun safety ranking=%{x}<br>Total shot / 2022 state pop=%{y}<extra></extra>\",\"legendgroup\":\"Minnesota\",\"marker\":{\"color\":\"#ab63fa\",\"symbol\":\"circle\"},\"mode\":\"markers\",\"name\":\"Minnesota\",\"orientation\":\"v\",\"showlegend\":true,\"x\":[4.0],\"xaxis\":\"x\",\"y\":[0.0003498225699924998],\"yaxis\":\"y\",\"type\":\"scatter\"},{\"hovertemplate\":\"State=Minnesota<extra></extra>\",\"legendgroup\":\"Minnesota\",\"marker\":{\"color\":\"#ab63fa\",\"symbol\":\"circle\"},\"mode\":\"lines\",\"name\":\"Minnesota\",\"showlegend\":false,\"xaxis\":\"x\",\"yaxis\":\"y\",\"type\":\"scatter\"},{\"hovertemplate\":\"State=Mississippi<br>Gun safety ranking=%{x}<br>Total shot / 2022 state pop=%{y}<extra></extra>\",\"legendgroup\":\"Mississippi\",\"marker\":{\"color\":\"#FFA15A\",\"symbol\":\"circle\"},\"mode\":\"markers\",\"name\":\"Mississippi\",\"orientation\":\"v\",\"showlegend\":true,\"x\":[0.0],\"xaxis\":\"x\",\"y\":[0.0006802589201501876],\"yaxis\":\"y\",\"type\":\"scatter\"},{\"hovertemplate\":\"State=Mississippi<extra></extra>\",\"legendgroup\":\"Mississippi\",\"marker\":{\"color\":\"#FFA15A\",\"symbol\":\"circle\"},\"mode\":\"lines\",\"name\":\"Mississippi\",\"showlegend\":false,\"xaxis\":\"x\",\"yaxis\":\"y\",\"type\":\"scatter\"},{\"hovertemplate\":\"State=Missouri<br>Gun safety ranking=%{x}<br>Total shot / 2022 state pop=%{y}<extra></extra>\",\"legendgroup\":\"Missouri\",\"marker\":{\"color\":\"#19d3f3\",\"symbol\":\"circle\"},\"mode\":\"markers\",\"name\":\"Missouri\",\"orientation\":\"v\",\"showlegend\":true,\"x\":[0.0],\"xaxis\":\"x\",\"y\":[0.000582716907871],\"yaxis\":\"y\",\"type\":\"scatter\"},{\"hovertemplate\":\"State=Missouri<extra></extra>\",\"legendgroup\":\"Missouri\",\"marker\":{\"color\":\"#19d3f3\",\"symbol\":\"circle\"},\"mode\":\"lines\",\"name\":\"Missouri\",\"showlegend\":false,\"xaxis\":\"x\",\"yaxis\":\"y\",\"type\":\"scatter\"},{\"hovertemplate\":\"State=Montana<br>Gun safety ranking=%{x}<br>Total shot / 2022 state pop=%{y}<extra></extra>\",\"legendgroup\":\"Montana\",\"marker\":{\"color\":\"#FF6692\",\"symbol\":\"circle\"},\"mode\":\"markers\",\"name\":\"Montana\",\"orientation\":\"v\",\"showlegend\":true,\"x\":[0.0],\"xaxis\":\"x\",\"y\":[0.00035623096947367763],\"yaxis\":\"y\",\"type\":\"scatter\"},{\"hovertemplate\":\"State=Montana<extra></extra>\",\"legendgroup\":\"Montana\",\"marker\":{\"color\":\"#FF6692\",\"symbol\":\"circle\"},\"mode\":\"lines\",\"name\":\"Montana\",\"showlegend\":false,\"xaxis\":\"x\",\"yaxis\":\"y\",\"type\":\"scatter\"},{\"hovertemplate\":\"State=Nebraska<br>Gun safety ranking=%{x}<br>Total shot / 2022 state pop=%{y}<extra></extra>\",\"legendgroup\":\"Nebraska\",\"marker\":{\"color\":\"#B6E880\",\"symbol\":\"circle\"},\"mode\":\"markers\",\"name\":\"Nebraska\",\"orientation\":\"v\",\"showlegend\":true,\"x\":[4.0],\"xaxis\":\"x\",\"y\":[null],\"yaxis\":\"y\",\"type\":\"scatter\"},{\"hovertemplate\":\"State=Nebraska<extra></extra>\",\"legendgroup\":\"Nebraska\",\"marker\":{\"color\":\"#B6E880\",\"symbol\":\"circle\"},\"mode\":\"lines\",\"name\":\"Nebraska\",\"showlegend\":false,\"xaxis\":\"x\",\"yaxis\":\"y\",\"type\":\"scatter\"},{\"hovertemplate\":\"State=Nevada<br>Gun safety ranking=%{x}<br>Total shot / 2022 state pop=%{y}<extra></extra>\",\"legendgroup\":\"Nevada\",\"marker\":{\"color\":\"#FF97FF\",\"symbol\":\"circle\"},\"mode\":\"markers\",\"name\":\"Nevada\",\"orientation\":\"v\",\"showlegend\":true,\"x\":[2.0],\"xaxis\":\"x\",\"y\":[0.015451077043916302],\"yaxis\":\"y\",\"type\":\"scatter\"},{\"hovertemplate\":\"State=Nevada<extra></extra>\",\"legendgroup\":\"Nevada\",\"marker\":{\"color\":\"#FF97FF\",\"symbol\":\"circle\"},\"mode\":\"lines\",\"name\":\"Nevada\",\"showlegend\":false,\"xaxis\":\"x\",\"yaxis\":\"y\",\"type\":\"scatter\"},{\"hovertemplate\":\"State=New Hampshire<br>Gun safety ranking=%{x}<br>Total shot / 2022 state pop=%{y}<extra></extra>\",\"legendgroup\":\"New Hampshire\",\"marker\":{\"color\":\"#FECB52\",\"symbol\":\"circle\"},\"mode\":\"markers\",\"name\":\"New Hampshire\",\"orientation\":\"v\",\"showlegend\":true,\"x\":[0.0],\"xaxis\":\"x\",\"y\":[null],\"yaxis\":\"y\",\"type\":\"scatter\"},{\"hovertemplate\":\"State=New Hampshire<extra></extra>\",\"legendgroup\":\"New Hampshire\",\"marker\":{\"color\":\"#FECB52\",\"symbol\":\"circle\"},\"mode\":\"lines\",\"name\":\"New Hampshire\",\"showlegend\":false,\"xaxis\":\"x\",\"yaxis\":\"y\",\"type\":\"scatter\"},{\"hovertemplate\":\"State=New Jersey<br>Gun safety ranking=%{x}<br>Total shot / 2022 state pop=%{y}<extra></extra>\",\"legendgroup\":\"New Jersey\",\"marker\":{\"color\":\"#636efa\",\"symbol\":\"circle\"},\"mode\":\"markers\",\"name\":\"New Jersey\",\"orientation\":\"v\",\"showlegend\":true,\"x\":[8.0],\"xaxis\":\"x\",\"y\":[0.00019434879064845445],\"yaxis\":\"y\",\"type\":\"scatter\"},{\"hovertemplate\":\"State=New Jersey<extra></extra>\",\"legendgroup\":\"New Jersey\",\"marker\":{\"color\":\"#636efa\",\"symbol\":\"circle\"},\"mode\":\"lines\",\"name\":\"New Jersey\",\"showlegend\":false,\"xaxis\":\"x\",\"yaxis\":\"y\",\"type\":\"scatter\"},{\"hovertemplate\":\"State=New Mexico<br>Gun safety ranking=%{x}<br>Total shot / 2022 state pop=%{y}<extra></extra>\",\"legendgroup\":\"New Mexico\",\"marker\":{\"color\":\"#EF553B\",\"symbol\":\"circle\"},\"mode\":\"markers\",\"name\":\"New Mexico\",\"orientation\":\"v\",\"showlegend\":true,\"x\":[2.0],\"xaxis\":\"x\",\"y\":[0.0009936858362859999],\"yaxis\":\"y\",\"type\":\"scatter\"},{\"hovertemplate\":\"State=New Mexico<extra></extra>\",\"legendgroup\":\"New Mexico\",\"marker\":{\"color\":\"#EF553B\",\"symbol\":\"circle\"},\"mode\":\"lines\",\"name\":\"New Mexico\",\"showlegend\":false,\"xaxis\":\"x\",\"yaxis\":\"y\",\"type\":\"scatter\"},{\"hovertemplate\":\"State=New York<br>Gun safety ranking=%{x}<br>Total shot / 2022 state pop=%{y}<extra></extra>\",\"legendgroup\":\"New York\",\"marker\":{\"color\":\"#00cc96\",\"symbol\":\"circle\"},\"mode\":\"markers\",\"name\":\"New York\",\"orientation\":\"v\",\"showlegend\":true,\"x\":[9.0],\"xaxis\":\"x\",\"y\":[0.00026934793558274774],\"yaxis\":\"y\",\"type\":\"scatter\"},{\"hovertemplate\":\"State=New York<extra></extra>\",\"legendgroup\":\"New York\",\"marker\":{\"color\":\"#00cc96\",\"symbol\":\"circle\"},\"mode\":\"lines\",\"name\":\"New York\",\"showlegend\":false,\"xaxis\":\"x\",\"yaxis\":\"y\",\"type\":\"scatter\"},{\"hovertemplate\":\"State=North Carolina<br>Gun safety ranking=%{x}<br>Total shot / 2022 state pop=%{y}<extra></extra>\",\"legendgroup\":\"North Carolina\",\"marker\":{\"color\":\"#ab63fa\",\"symbol\":\"circle\"},\"mode\":\"markers\",\"name\":\"North Carolina\",\"orientation\":\"v\",\"showlegend\":true,\"x\":[3.0],\"xaxis\":\"x\",\"y\":[0.000504721341010955],\"yaxis\":\"y\",\"type\":\"scatter\"},{\"hovertemplate\":\"State=North Carolina<extra></extra>\",\"legendgroup\":\"North Carolina\",\"marker\":{\"color\":\"#ab63fa\",\"symbol\":\"circle\"},\"mode\":\"lines\",\"name\":\"North Carolina\",\"showlegend\":false,\"xaxis\":\"x\",\"yaxis\":\"y\",\"type\":\"scatter\"},{\"hovertemplate\":\"State=North Dakota<br>Gun safety ranking=%{x}<br>Total shot / 2022 state pop=%{y}<extra></extra>\",\"legendgroup\":\"North Dakota\",\"marker\":{\"color\":\"#FFA15A\",\"symbol\":\"circle\"},\"mode\":\"markers\",\"name\":\"North Dakota\",\"orientation\":\"v\",\"showlegend\":true,\"x\":[1.0],\"xaxis\":\"x\",\"y\":[0.001026613676290742],\"yaxis\":\"y\",\"type\":\"scatter\"},{\"hovertemplate\":\"State=North Dakota<extra></extra>\",\"legendgroup\":\"North Dakota\",\"marker\":{\"color\":\"#FFA15A\",\"symbol\":\"circle\"},\"mode\":\"lines\",\"name\":\"North Dakota\",\"showlegend\":false,\"xaxis\":\"x\",\"yaxis\":\"y\",\"type\":\"scatter\"},{\"hovertemplate\":\"State=Ohio<br>Gun safety ranking=%{x}<br>Total shot / 2022 state pop=%{y}<extra></extra>\",\"legendgroup\":\"Ohio\",\"marker\":{\"color\":\"#19d3f3\",\"symbol\":\"circle\"},\"mode\":\"markers\",\"name\":\"Ohio\",\"orientation\":\"v\",\"showlegend\":true,\"x\":[0.0],\"xaxis\":\"x\",\"y\":[0.0008080940056607411],\"yaxis\":\"y\",\"type\":\"scatter\"},{\"hovertemplate\":\"State=Ohio<extra></extra>\",\"legendgroup\":\"Ohio\",\"marker\":{\"color\":\"#19d3f3\",\"symbol\":\"circle\"},\"mode\":\"lines\",\"name\":\"Ohio\",\"showlegend\":false,\"xaxis\":\"x\",\"yaxis\":\"y\",\"type\":\"scatter\"},{\"hovertemplate\":\"State=Oklahoma<br>Gun safety ranking=%{x}<br>Total shot / 2022 state pop=%{y}<extra></extra>\",\"legendgroup\":\"Oklahoma\",\"marker\":{\"color\":\"#FF6692\",\"symbol\":\"circle\"},\"mode\":\"markers\",\"name\":\"Oklahoma\",\"orientation\":\"v\",\"showlegend\":true,\"x\":[0.0],\"xaxis\":\"x\",\"y\":[0.0009204438031742873],\"yaxis\":\"y\",\"type\":\"scatter\"},{\"hovertemplate\":\"State=Oklahoma<extra></extra>\",\"legendgroup\":\"Oklahoma\",\"marker\":{\"color\":\"#FF6692\",\"symbol\":\"circle\"},\"mode\":\"lines\",\"name\":\"Oklahoma\",\"showlegend\":false,\"xaxis\":\"x\",\"yaxis\":\"y\",\"type\":\"scatter\"},{\"hovertemplate\":\"State=Oregon<br>Gun safety ranking=%{x}<br>Total shot / 2022 state pop=%{y}<extra></extra>\",\"legendgroup\":\"Oregon\",\"marker\":{\"color\":\"#B6E880\",\"symbol\":\"circle\"},\"mode\":\"markers\",\"name\":\"Oregon\",\"orientation\":\"v\",\"showlegend\":true,\"x\":[2.0],\"xaxis\":\"x\",\"y\":[0.00042451458525986306],\"yaxis\":\"y\",\"type\":\"scatter\"},{\"hovertemplate\":\"State=Oregon<extra></extra>\",\"legendgroup\":\"Oregon\",\"marker\":{\"color\":\"#B6E880\",\"symbol\":\"circle\"},\"mode\":\"lines\",\"name\":\"Oregon\",\"showlegend\":false,\"xaxis\":\"x\",\"yaxis\":\"y\",\"type\":\"scatter\"},{\"hovertemplate\":\"State=Pennsylvania<br>Gun safety ranking=%{x}<br>Total shot / 2022 state pop=%{y}<extra></extra>\",\"legendgroup\":\"Pennsylvania\",\"marker\":{\"color\":\"#FF97FF\",\"symbol\":\"circle\"},\"mode\":\"markers\",\"name\":\"Pennsylvania\",\"orientation\":\"v\",\"showlegend\":true,\"x\":[2.0],\"xaxis\":\"x\",\"y\":[0.00038544533737567844],\"yaxis\":\"y\",\"type\":\"scatter\"},{\"hovertemplate\":\"State=Pennsylvania<extra></extra>\",\"legendgroup\":\"Pennsylvania\",\"marker\":{\"color\":\"#FF97FF\",\"symbol\":\"circle\"},\"mode\":\"lines\",\"name\":\"Pennsylvania\",\"showlegend\":false,\"xaxis\":\"x\",\"yaxis\":\"y\",\"type\":\"scatter\"},{\"hovertemplate\":\"State=Rhode Island<br>Gun safety ranking=%{x}<br>Total shot / 2022 state pop=%{y}<extra></extra>\",\"legendgroup\":\"Rhode Island\",\"marker\":{\"color\":\"#FECB52\",\"symbol\":\"circle\"},\"mode\":\"markers\",\"name\":\"Rhode Island\",\"orientation\":\"v\",\"showlegend\":true,\"x\":[5.0],\"xaxis\":\"x\",\"y\":[null],\"yaxis\":\"y\",\"type\":\"scatter\"},{\"hovertemplate\":\"State=Rhode Island<extra></extra>\",\"legendgroup\":\"Rhode Island\",\"marker\":{\"color\":\"#FECB52\",\"symbol\":\"circle\"},\"mode\":\"lines\",\"name\":\"Rhode Island\",\"showlegend\":false,\"xaxis\":\"x\",\"yaxis\":\"y\",\"type\":\"scatter\"},{\"hovertemplate\":\"State=South Carolina<br>Gun safety ranking=%{x}<br>Total shot / 2022 state pop=%{y}<extra></extra>\",\"legendgroup\":\"South Carolina\",\"marker\":{\"color\":\"#636efa\",\"symbol\":\"circle\"},\"mode\":\"markers\",\"name\":\"South Carolina\",\"orientation\":\"v\",\"showlegend\":true,\"x\":[2.0],\"xaxis\":\"x\",\"y\":[0.0007950579199694698],\"yaxis\":\"y\",\"type\":\"scatter\"},{\"hovertemplate\":\"State=South Carolina<extra></extra>\",\"legendgroup\":\"South Carolina\",\"marker\":{\"color\":\"#636efa\",\"symbol\":\"circle\"},\"mode\":\"lines\",\"name\":\"South Carolina\",\"showlegend\":false,\"xaxis\":\"x\",\"yaxis\":\"y\",\"type\":\"scatter\"},{\"hovertemplate\":\"State=South Dakota<br>Gun safety ranking=%{x}<br>Total shot / 2022 state pop=%{y}<extra></extra>\",\"legendgroup\":\"South Dakota\",\"marker\":{\"color\":\"#EF553B\",\"symbol\":\"circle\"},\"mode\":\"markers\",\"name\":\"South Dakota\",\"orientation\":\"v\",\"showlegend\":true,\"x\":[0.0],\"xaxis\":\"x\",\"y\":[0.0005495568373663478],\"yaxis\":\"y\",\"type\":\"scatter\"},{\"hovertemplate\":\"State=South Dakota<extra></extra>\",\"legendgroup\":\"South Dakota\",\"marker\":{\"color\":\"#EF553B\",\"symbol\":\"circle\"},\"mode\":\"lines\",\"name\":\"South Dakota\",\"showlegend\":false,\"xaxis\":\"x\",\"yaxis\":\"y\",\"type\":\"scatter\"},{\"hovertemplate\":\"State=Tennessee<br>Gun safety ranking=%{x}<br>Total shot / 2022 state pop=%{y}<extra></extra>\",\"legendgroup\":\"Tennessee\",\"marker\":{\"color\":\"#00cc96\",\"symbol\":\"circle\"},\"mode\":\"markers\",\"name\":\"Tennessee\",\"orientation\":\"v\",\"showlegend\":true,\"x\":[0.0],\"xaxis\":\"x\",\"y\":[0.0003829059984210091],\"yaxis\":\"y\",\"type\":\"scatter\"},{\"hovertemplate\":\"State=Tennessee<extra></extra>\",\"legendgroup\":\"Tennessee\",\"marker\":{\"color\":\"#00cc96\",\"symbol\":\"circle\"},\"mode\":\"lines\",\"name\":\"Tennessee\",\"showlegend\":false,\"xaxis\":\"x\",\"yaxis\":\"y\",\"type\":\"scatter\"},{\"hovertemplate\":\"State=Texas<br>Gun safety ranking=%{x}<br>Total shot / 2022 state pop=%{y}<extra></extra>\",\"legendgroup\":\"Texas\",\"marker\":{\"color\":\"#ab63fa\",\"symbol\":\"circle\"},\"mode\":\"markers\",\"name\":\"Texas\",\"orientation\":\"v\",\"showlegend\":true,\"x\":[0.0],\"xaxis\":\"x\",\"y\":[0.0013386804180892087],\"yaxis\":\"y\",\"type\":\"scatter\"},{\"hovertemplate\":\"State=Texas<extra></extra>\",\"legendgroup\":\"Texas\",\"marker\":{\"color\":\"#ab63fa\",\"symbol\":\"circle\"},\"mode\":\"lines\",\"name\":\"Texas\",\"showlegend\":false,\"xaxis\":\"x\",\"yaxis\":\"y\",\"type\":\"scatter\"},{\"hovertemplate\":\"State=Utah<br>Gun safety ranking=%{x}<br>Total shot / 2022 state pop=%{y}<extra></extra>\",\"legendgroup\":\"Utah\",\"marker\":{\"color\":\"#FFA15A\",\"symbol\":\"circle\"},\"mode\":\"markers\",\"name\":\"Utah\",\"orientation\":\"v\",\"showlegend\":true,\"x\":[0.0],\"xaxis\":\"x\",\"y\":[0.00047326076668244207],\"yaxis\":\"y\",\"type\":\"scatter\"},{\"hovertemplate\":\"State=Utah<extra></extra>\",\"legendgroup\":\"Utah\",\"marker\":{\"color\":\"#FFA15A\",\"symbol\":\"circle\"},\"mode\":\"lines\",\"name\":\"Utah\",\"showlegend\":false,\"xaxis\":\"x\",\"yaxis\":\"y\",\"type\":\"scatter\"},{\"hovertemplate\":\"State=Vermont<br>Gun safety ranking=%{x}<br>Total shot / 2022 state pop=%{y}<extra></extra>\",\"legendgroup\":\"Vermont\",\"marker\":{\"color\":\"#19d3f3\",\"symbol\":\"circle\"},\"mode\":\"markers\",\"name\":\"Vermont\",\"orientation\":\"v\",\"showlegend\":true,\"x\":[2.0],\"xaxis\":\"x\",\"y\":[0.000618176872766836],\"yaxis\":\"y\",\"type\":\"scatter\"},{\"hovertemplate\":\"State=Vermont<extra></extra>\",\"legendgroup\":\"Vermont\",\"marker\":{\"color\":\"#19d3f3\",\"symbol\":\"circle\"},\"mode\":\"lines\",\"name\":\"Vermont\",\"showlegend\":false,\"xaxis\":\"x\",\"yaxis\":\"y\",\"type\":\"scatter\"},{\"hovertemplate\":\"State=Virginia<br>Gun safety ranking=%{x}<br>Total shot / 2022 state pop=%{y}<extra></extra>\",\"legendgroup\":\"Virginia\",\"marker\":{\"color\":\"#FF6692\",\"symbol\":\"circle\"},\"mode\":\"markers\",\"name\":\"Virginia\",\"orientation\":\"v\",\"showlegend\":true,\"x\":[3.0],\"xaxis\":\"x\",\"y\":[0.0007255039632669282],\"yaxis\":\"y\",\"type\":\"scatter\"},{\"hovertemplate\":\"State=Virginia<extra></extra>\",\"legendgroup\":\"Virginia\",\"marker\":{\"color\":\"#FF6692\",\"symbol\":\"circle\"},\"mode\":\"lines\",\"name\":\"Virginia\",\"showlegend\":false,\"xaxis\":\"x\",\"yaxis\":\"y\",\"type\":\"scatter\"},{\"hovertemplate\":\"State=Washington<br>Gun safety ranking=%{x}<br>Total shot / 2022 state pop=%{y}<extra></extra>\",\"legendgroup\":\"Washington\",\"marker\":{\"color\":\"#B6E880\",\"symbol\":\"circle\"},\"mode\":\"markers\",\"name\":\"Washington\",\"orientation\":\"v\",\"showlegend\":true,\"x\":[5.0],\"xaxis\":\"x\",\"y\":[0.0006165080828062831],\"yaxis\":\"y\",\"type\":\"scatter\"},{\"hovertemplate\":\"State=Washington<extra></extra>\",\"legendgroup\":\"Washington\",\"marker\":{\"color\":\"#B6E880\",\"symbol\":\"circle\"},\"mode\":\"lines\",\"name\":\"Washington\",\"showlegend\":false,\"xaxis\":\"x\",\"yaxis\":\"y\",\"type\":\"scatter\"},{\"hovertemplate\":\"State=West Virginia<br>Gun safety ranking=%{x}<br>Total shot / 2022 state pop=%{y}<extra></extra>\",\"legendgroup\":\"West Virginia\",\"marker\":{\"color\":\"#FF97FF\",\"symbol\":\"circle\"},\"mode\":\"markers\",\"name\":\"West Virginia\",\"orientation\":\"v\",\"showlegend\":true,\"x\":[0.0],\"xaxis\":\"x\",\"y\":[0.0012393276985233975],\"yaxis\":\"y\",\"type\":\"scatter\"},{\"hovertemplate\":\"State=West Virginia<extra></extra>\",\"legendgroup\":\"West Virginia\",\"marker\":{\"color\":\"#FF97FF\",\"symbol\":\"circle\"},\"mode\":\"lines\",\"name\":\"West Virginia\",\"showlegend\":false,\"xaxis\":\"x\",\"yaxis\":\"y\",\"type\":\"scatter\"},{\"hovertemplate\":\"State=Wisconsin<br>Gun safety ranking=%{x}<br>Total shot / 2022 state pop=%{y}<extra></extra>\",\"legendgroup\":\"Wisconsin\",\"marker\":{\"color\":\"#FECB52\",\"symbol\":\"circle\"},\"mode\":\"markers\",\"name\":\"Wisconsin\",\"orientation\":\"v\",\"showlegend\":true,\"x\":[2.0],\"xaxis\":\"x\",\"y\":[0.0006788245270841652],\"yaxis\":\"y\",\"type\":\"scatter\"},{\"hovertemplate\":\"State=Wisconsin<extra></extra>\",\"legendgroup\":\"Wisconsin\",\"marker\":{\"color\":\"#FECB52\",\"symbol\":\"circle\"},\"mode\":\"lines\",\"name\":\"Wisconsin\",\"showlegend\":false,\"xaxis\":\"x\",\"yaxis\":\"y\",\"type\":\"scatter\"},{\"hovertemplate\":\"State=Wyoming<br>Gun safety ranking=%{x}<br>Total shot / 2022 state pop=%{y}<extra></extra>\",\"legendgroup\":\"Wyoming\",\"marker\":{\"color\":\"#636efa\",\"symbol\":\"circle\"},\"mode\":\"markers\",\"name\":\"Wyoming\",\"orientation\":\"v\",\"showlegend\":true,\"x\":[0.0],\"xaxis\":\"x\",\"y\":[0.000860021225323841],\"yaxis\":\"y\",\"type\":\"scatter\"},{\"hovertemplate\":\"State=Wyoming<extra></extra>\",\"legendgroup\":\"Wyoming\",\"marker\":{\"color\":\"#636efa\",\"symbol\":\"circle\"},\"mode\":\"lines\",\"name\":\"Wyoming\",\"showlegend\":false,\"xaxis\":\"x\",\"yaxis\":\"y\",\"type\":\"scatter\"},{\"hovertemplate\":\"State=Gun safety ranking<br>Gun safety ranking=%{x}<br>Total shot / 2022 state pop=%{y}<extra></extra>\",\"legendgroup\":\"Gun safety ranking\",\"marker\":{\"color\":\"#EF553B\",\"symbol\":\"circle\"},\"mode\":\"markers\",\"name\":\"Gun safety ranking\",\"orientation\":\"v\",\"showlegend\":true,\"x\":[126.0],\"xaxis\":\"x\",\"y\":[null],\"yaxis\":\"y\",\"type\":\"scatter\"},{\"hovertemplate\":\"State=Gun safety ranking<extra></extra>\",\"legendgroup\":\"Gun safety ranking\",\"marker\":{\"color\":\"#EF553B\",\"symbol\":\"circle\"},\"mode\":\"lines\",\"name\":\"Gun safety ranking\",\"showlegend\":false,\"xaxis\":\"x\",\"yaxis\":\"y\",\"type\":\"scatter\"}],                        {\"template\":{\"data\":{\"histogram2dcontour\":[{\"type\":\"histogram2dcontour\",\"colorbar\":{\"outlinewidth\":0,\"ticks\":\"\"},\"colorscale\":[[0.0,\"#0d0887\"],[0.1111111111111111,\"#46039f\"],[0.2222222222222222,\"#7201a8\"],[0.3333333333333333,\"#9c179e\"],[0.4444444444444444,\"#bd3786\"],[0.5555555555555556,\"#d8576b\"],[0.6666666666666666,\"#ed7953\"],[0.7777777777777778,\"#fb9f3a\"],[0.8888888888888888,\"#fdca26\"],[1.0,\"#f0f921\"]]}],\"choropleth\":[{\"type\":\"choropleth\",\"colorbar\":{\"outlinewidth\":0,\"ticks\":\"\"}}],\"histogram2d\":[{\"type\":\"histogram2d\",\"colorbar\":{\"outlinewidth\":0,\"ticks\":\"\"},\"colorscale\":[[0.0,\"#0d0887\"],[0.1111111111111111,\"#46039f\"],[0.2222222222222222,\"#7201a8\"],[0.3333333333333333,\"#9c179e\"],[0.4444444444444444,\"#bd3786\"],[0.5555555555555556,\"#d8576b\"],[0.6666666666666666,\"#ed7953\"],[0.7777777777777778,\"#fb9f3a\"],[0.8888888888888888,\"#fdca26\"],[1.0,\"#f0f921\"]]}],\"heatmap\":[{\"type\":\"heatmap\",\"colorbar\":{\"outlinewidth\":0,\"ticks\":\"\"},\"colorscale\":[[0.0,\"#0d0887\"],[0.1111111111111111,\"#46039f\"],[0.2222222222222222,\"#7201a8\"],[0.3333333333333333,\"#9c179e\"],[0.4444444444444444,\"#bd3786\"],[0.5555555555555556,\"#d8576b\"],[0.6666666666666666,\"#ed7953\"],[0.7777777777777778,\"#fb9f3a\"],[0.8888888888888888,\"#fdca26\"],[1.0,\"#f0f921\"]]}],\"heatmapgl\":[{\"type\":\"heatmapgl\",\"colorbar\":{\"outlinewidth\":0,\"ticks\":\"\"},\"colorscale\":[[0.0,\"#0d0887\"],[0.1111111111111111,\"#46039f\"],[0.2222222222222222,\"#7201a8\"],[0.3333333333333333,\"#9c179e\"],[0.4444444444444444,\"#bd3786\"],[0.5555555555555556,\"#d8576b\"],[0.6666666666666666,\"#ed7953\"],[0.7777777777777778,\"#fb9f3a\"],[0.8888888888888888,\"#fdca26\"],[1.0,\"#f0f921\"]]}],\"contourcarpet\":[{\"type\":\"contourcarpet\",\"colorbar\":{\"outlinewidth\":0,\"ticks\":\"\"}}],\"contour\":[{\"type\":\"contour\",\"colorbar\":{\"outlinewidth\":0,\"ticks\":\"\"},\"colorscale\":[[0.0,\"#0d0887\"],[0.1111111111111111,\"#46039f\"],[0.2222222222222222,\"#7201a8\"],[0.3333333333333333,\"#9c179e\"],[0.4444444444444444,\"#bd3786\"],[0.5555555555555556,\"#d8576b\"],[0.6666666666666666,\"#ed7953\"],[0.7777777777777778,\"#fb9f3a\"],[0.8888888888888888,\"#fdca26\"],[1.0,\"#f0f921\"]]}],\"surface\":[{\"type\":\"surface\",\"colorbar\":{\"outlinewidth\":0,\"ticks\":\"\"},\"colorscale\":[[0.0,\"#0d0887\"],[0.1111111111111111,\"#46039f\"],[0.2222222222222222,\"#7201a8\"],[0.3333333333333333,\"#9c179e\"],[0.4444444444444444,\"#bd3786\"],[0.5555555555555556,\"#d8576b\"],[0.6666666666666666,\"#ed7953\"],[0.7777777777777778,\"#fb9f3a\"],[0.8888888888888888,\"#fdca26\"],[1.0,\"#f0f921\"]]}],\"mesh3d\":[{\"type\":\"mesh3d\",\"colorbar\":{\"outlinewidth\":0,\"ticks\":\"\"}}],\"scatter\":[{\"fillpattern\":{\"fillmode\":\"overlay\",\"size\":10,\"solidity\":0.2},\"type\":\"scatter\"}],\"parcoords\":[{\"type\":\"parcoords\",\"line\":{\"colorbar\":{\"outlinewidth\":0,\"ticks\":\"\"}}}],\"scatterpolargl\":[{\"type\":\"scatterpolargl\",\"marker\":{\"colorbar\":{\"outlinewidth\":0,\"ticks\":\"\"}}}],\"bar\":[{\"error_x\":{\"color\":\"#2a3f5f\"},\"error_y\":{\"color\":\"#2a3f5f\"},\"marker\":{\"line\":{\"color\":\"#E5ECF6\",\"width\":0.5},\"pattern\":{\"fillmode\":\"overlay\",\"size\":10,\"solidity\":0.2}},\"type\":\"bar\"}],\"scattergeo\":[{\"type\":\"scattergeo\",\"marker\":{\"colorbar\":{\"outlinewidth\":0,\"ticks\":\"\"}}}],\"scatterpolar\":[{\"type\":\"scatterpolar\",\"marker\":{\"colorbar\":{\"outlinewidth\":0,\"ticks\":\"\"}}}],\"histogram\":[{\"marker\":{\"pattern\":{\"fillmode\":\"overlay\",\"size\":10,\"solidity\":0.2}},\"type\":\"histogram\"}],\"scattergl\":[{\"type\":\"scattergl\",\"marker\":{\"colorbar\":{\"outlinewidth\":0,\"ticks\":\"\"}}}],\"scatter3d\":[{\"type\":\"scatter3d\",\"line\":{\"colorbar\":{\"outlinewidth\":0,\"ticks\":\"\"}},\"marker\":{\"colorbar\":{\"outlinewidth\":0,\"ticks\":\"\"}}}],\"scattermapbox\":[{\"type\":\"scattermapbox\",\"marker\":{\"colorbar\":{\"outlinewidth\":0,\"ticks\":\"\"}}}],\"scatterternary\":[{\"type\":\"scatterternary\",\"marker\":{\"colorbar\":{\"outlinewidth\":0,\"ticks\":\"\"}}}],\"scattercarpet\":[{\"type\":\"scattercarpet\",\"marker\":{\"colorbar\":{\"outlinewidth\":0,\"ticks\":\"\"}}}],\"carpet\":[{\"aaxis\":{\"endlinecolor\":\"#2a3f5f\",\"gridcolor\":\"white\",\"linecolor\":\"white\",\"minorgridcolor\":\"white\",\"startlinecolor\":\"#2a3f5f\"},\"baxis\":{\"endlinecolor\":\"#2a3f5f\",\"gridcolor\":\"white\",\"linecolor\":\"white\",\"minorgridcolor\":\"white\",\"startlinecolor\":\"#2a3f5f\"},\"type\":\"carpet\"}],\"table\":[{\"cells\":{\"fill\":{\"color\":\"#EBF0F8\"},\"line\":{\"color\":\"white\"}},\"header\":{\"fill\":{\"color\":\"#C8D4E3\"},\"line\":{\"color\":\"white\"}},\"type\":\"table\"}],\"barpolar\":[{\"marker\":{\"line\":{\"color\":\"#E5ECF6\",\"width\":0.5},\"pattern\":{\"fillmode\":\"overlay\",\"size\":10,\"solidity\":0.2}},\"type\":\"barpolar\"}],\"pie\":[{\"automargin\":true,\"type\":\"pie\"}]},\"layout\":{\"autotypenumbers\":\"strict\",\"colorway\":[\"#636efa\",\"#EF553B\",\"#00cc96\",\"#ab63fa\",\"#FFA15A\",\"#19d3f3\",\"#FF6692\",\"#B6E880\",\"#FF97FF\",\"#FECB52\"],\"font\":{\"color\":\"#2a3f5f\"},\"hovermode\":\"closest\",\"hoverlabel\":{\"align\":\"left\"},\"paper_bgcolor\":\"white\",\"plot_bgcolor\":\"#E5ECF6\",\"polar\":{\"bgcolor\":\"#E5ECF6\",\"angularaxis\":{\"gridcolor\":\"white\",\"linecolor\":\"white\",\"ticks\":\"\"},\"radialaxis\":{\"gridcolor\":\"white\",\"linecolor\":\"white\",\"ticks\":\"\"}},\"ternary\":{\"bgcolor\":\"#E5ECF6\",\"aaxis\":{\"gridcolor\":\"white\",\"linecolor\":\"white\",\"ticks\":\"\"},\"baxis\":{\"gridcolor\":\"white\",\"linecolor\":\"white\",\"ticks\":\"\"},\"caxis\":{\"gridcolor\":\"white\",\"linecolor\":\"white\",\"ticks\":\"\"}},\"coloraxis\":{\"colorbar\":{\"outlinewidth\":0,\"ticks\":\"\"}},\"colorscale\":{\"sequential\":[[0.0,\"#0d0887\"],[0.1111111111111111,\"#46039f\"],[0.2222222222222222,\"#7201a8\"],[0.3333333333333333,\"#9c179e\"],[0.4444444444444444,\"#bd3786\"],[0.5555555555555556,\"#d8576b\"],[0.6666666666666666,\"#ed7953\"],[0.7777777777777778,\"#fb9f3a\"],[0.8888888888888888,\"#fdca26\"],[1.0,\"#f0f921\"]],\"sequentialminus\":[[0.0,\"#0d0887\"],[0.1111111111111111,\"#46039f\"],[0.2222222222222222,\"#7201a8\"],[0.3333333333333333,\"#9c179e\"],[0.4444444444444444,\"#bd3786\"],[0.5555555555555556,\"#d8576b\"],[0.6666666666666666,\"#ed7953\"],[0.7777777777777778,\"#fb9f3a\"],[0.8888888888888888,\"#fdca26\"],[1.0,\"#f0f921\"]],\"diverging\":[[0,\"#8e0152\"],[0.1,\"#c51b7d\"],[0.2,\"#de77ae\"],[0.3,\"#f1b6da\"],[0.4,\"#fde0ef\"],[0.5,\"#f7f7f7\"],[0.6,\"#e6f5d0\"],[0.7,\"#b8e186\"],[0.8,\"#7fbc41\"],[0.9,\"#4d9221\"],[1,\"#276419\"]]},\"xaxis\":{\"gridcolor\":\"white\",\"linecolor\":\"white\",\"ticks\":\"\",\"title\":{\"standoff\":15},\"zerolinecolor\":\"white\",\"automargin\":true,\"zerolinewidth\":2},\"yaxis\":{\"gridcolor\":\"white\",\"linecolor\":\"white\",\"ticks\":\"\",\"title\":{\"standoff\":15},\"zerolinecolor\":\"white\",\"automargin\":true,\"zerolinewidth\":2},\"scene\":{\"xaxis\":{\"backgroundcolor\":\"#E5ECF6\",\"gridcolor\":\"white\",\"linecolor\":\"white\",\"showbackground\":true,\"ticks\":\"\",\"zerolinecolor\":\"white\",\"gridwidth\":2},\"yaxis\":{\"backgroundcolor\":\"#E5ECF6\",\"gridcolor\":\"white\",\"linecolor\":\"white\",\"showbackground\":true,\"ticks\":\"\",\"zerolinecolor\":\"white\",\"gridwidth\":2},\"zaxis\":{\"backgroundcolor\":\"#E5ECF6\",\"gridcolor\":\"white\",\"linecolor\":\"white\",\"showbackground\":true,\"ticks\":\"\",\"zerolinecolor\":\"white\",\"gridwidth\":2}},\"shapedefaults\":{\"line\":{\"color\":\"#2a3f5f\"}},\"annotationdefaults\":{\"arrowcolor\":\"#2a3f5f\",\"arrowhead\":0,\"arrowwidth\":1},\"geo\":{\"bgcolor\":\"white\",\"landcolor\":\"#E5ECF6\",\"subunitcolor\":\"white\",\"showland\":true,\"showlakes\":true,\"lakecolor\":\"white\"},\"title\":{\"x\":0.05},\"mapbox\":{\"style\":\"light\"}}},\"xaxis\":{\"anchor\":\"y\",\"domain\":[0.0,1.0],\"title\":{\"text\":\"Gun safety ranking\"},\"range\":[-1,10]},\"yaxis\":{\"anchor\":\"x\",\"domain\":[0.0,1.0],\"title\":{\"text\":\"Total shot / 2022 state pop\"}},\"legend\":{\"title\":{\"text\":\"State\"},\"tracegroupgap\":0},\"margin\":{\"t\":60}},                        {\"responsive\": true}                    ).then(function(){\n",
       "                            \n",
       "var gd = document.getElementById('28f24f29-4c77-48e0-9716-a62e967d4f48');\n",
       "var x = new MutationObserver(function (mutations, observer) {{\n",
       "        var display = window.getComputedStyle(gd).display;\n",
       "        if (!display || display === 'none') {{\n",
       "            console.log([gd, 'removed!']);\n",
       "            Plotly.purge(gd);\n",
       "            observer.disconnect();\n",
       "        }}\n",
       "}});\n",
       "\n",
       "// Listen for the removal of the full notebook cells\n",
       "var notebookContainer = gd.closest('#notebook-container');\n",
       "if (notebookContainer) {{\n",
       "    x.observe(notebookContainer, {childList: true});\n",
       "}}\n",
       "\n",
       "// Listen for the clearing of the current output cell\n",
       "var outputEl = gd.closest('.output');\n",
       "if (outputEl) {{\n",
       "    x.observe(outputEl, {childList: true});\n",
       "}}\n",
       "\n",
       "                        })                };                });            </script>        </div>"
      ]
     },
     "metadata": {},
     "output_type": "display_data"
    }
   ],
   "source": [
    "# Plot the scatterplot with plotly\n",
    "fig = px.scatter(merge_df2, x=\"Gun safety ranking\", y=\"Total shot / 2022 state pop\", color=\"State\", trendline=\"ols\")\n",
    "fig.update_layout(xaxis_range=[0,0.002])\n",
    "fig.update_layout(xaxis_range=[-1,10])\n",
    "\n",
    "# Show the plot\n",
    "fig.show()"
   ]
  }
 ],
 "metadata": {
  "kernelspec": {
   "display_name": "Python 3 (ipykernel)",
   "language": "python",
   "name": "python3"
  },
  "language_info": {
   "codemirror_mode": {
    "name": "ipython",
    "version": 3
   },
   "file_extension": ".py",
   "mimetype": "text/x-python",
   "name": "python",
   "nbconvert_exporter": "python",
   "pygments_lexer": "ipython3",
   "version": "3.9.13"
  }
 },
 "nbformat": 4,
 "nbformat_minor": 5
}
